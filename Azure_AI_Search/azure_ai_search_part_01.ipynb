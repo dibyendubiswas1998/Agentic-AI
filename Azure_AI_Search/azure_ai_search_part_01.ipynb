{
 "cells": [
  {
   "cell_type": "markdown",
   "id": "97a92f45",
   "metadata": {},
   "source": [
    "# **Azure AI Search:**"
   ]
  },
  {
   "cell_type": "markdown",
   "id": "5be372e7",
   "metadata": {},
   "source": [
    "## **Definition:**\n",
    "\n",
    "**Azure AI Search** is a **cloud-based search service** from Microsoft that allows developers to integrate **intelligent, full-text, vector, and hybrid search** into applications. It is designed to support modern **AI-powered experiences**, such as **chatbots, copilots**, and **Retrieval-Augmented Generation (RAG)** systems. <br>\n",
    "\n",
    "\n",
    "\n",
    "\n",
    "### **Key Features:**\n",
    "\n",
    "* **Full-text search** for keyword-based queries.\n",
    "* **Vector search** to support semantic similarity and LLMs.\n",
    "* **Hybrid search** combining keyword + vector for best accuracy.\n",
    "* **AI enrichment** like OCR, summarization, and entity recognition during indexing.\n",
    "* **Security** with granular document-level access control.\n",
    "\n",
    "You can index data from **Azure Blob, Cosmos DB, SQL**, or custom sources, and query it via **REST APIs, SDKs**, or **Azure OpenAI**. It's highly **scalable, secure, and customizable**, making it ideal for enterprise-grade AI search experiences.\n",
    "\n",
    "**Use Case Example:** Powering a chatbot that provides accurate answers from your PDF documents using vector + keyword search.\n"
   ]
  },
  {
   "cell_type": "markdown",
   "id": "bd9c9e31",
   "metadata": {},
   "source": [
    "## **How Azure AI Search Work:**\n",
    "\n",
    "\n",
    "* **Step 1:** \n",
    "\n",
    "* **Step 2:**\n",
    "\n",
    "* **Step 3:**\n",
    "\n",
    "* **Step 4:**\n",
    "\n",
    "* **Step 5:**\n"
   ]
  },
  {
   "cell_type": "markdown",
   "id": "07c5efc0",
   "metadata": {},
   "source": []
  }
 ],
 "metadata": {
  "kernelspec": {
   "display_name": "base",
   "language": "python",
   "name": "python3"
  },
  "language_info": {
   "name": "python",
   "version": "3.12.4"
  }
 },
 "nbformat": 4,
 "nbformat_minor": 5
}
