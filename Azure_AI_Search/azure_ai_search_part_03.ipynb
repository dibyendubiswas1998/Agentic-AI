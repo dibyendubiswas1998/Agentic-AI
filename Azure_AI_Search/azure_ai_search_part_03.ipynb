{
 "cells": [
  {
   "cell_type": "markdown",
   "id": "b667254e",
   "metadata": {},
   "source": [
    "# **AZURE AI SEARCH PART-02:**"
   ]
  },
  {
   "cell_type": "code",
   "execution_count": null,
   "id": "8ac63475",
   "metadata": {},
   "outputs": [],
   "source": []
  },
  {
   "cell_type": "markdown",
   "id": "65537173",
   "metadata": {},
   "source": []
  }
 ],
 "metadata": {
  "language_info": {
   "name": "python"
  }
 },
 "nbformat": 4,
 "nbformat_minor": 5
}
