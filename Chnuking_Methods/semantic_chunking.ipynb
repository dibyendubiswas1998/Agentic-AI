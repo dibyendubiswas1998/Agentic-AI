{
 "cells": [
  {
   "cell_type": "markdown",
   "id": "9bf11c0a",
   "metadata": {},
   "source": [
    "# **Semantic Chunking:**\n",
    "\n",
    "**Semantic Chunking** is a method of breaking down a document into smaller, meaningful units by grouping text segments that share a similar meaning or topic, rather than by fixed-size or simple sentence boundaries. <br>\n",
    "\n",
    "\n",
    "\n",
    "## **What is Semantic Chunking:**\n",
    "\n",
    "*Semantic chunking* is a method to split (or segment) a long text into smaller “chunks” (segments) not just by raw size (fixed number of tokens/characters) but by **semantic similarity/boundaries**. The goal is to make each chunk relatively coherent in meaning, so that each is more “self-contained” in terms of topic, idea, or sense.\n",
    "\n",
    "In contrast to simpler split strategies (e.g. splitting every *n* sentences or *n* tokens), semantic chunking tries to find *natural breakpoints* based on how meaning shifts in the text, using embeddings (vector representations) to detect those shifts.\n",
    "\n",
    "\n",
    "\n",
    "## **How LangChain’s `SemanticChunker` works:**\n",
    "\n",
    "LangChain has an experimental component `SemanticChunker` (in `langchain_experimental.text_splitter`) which implements semantic chunking. \n",
    "\n",
    "Here are its main characteristics, parameters, and algorithm:\n",
    "\n",
    "\n",
    "\n",
    "### **Key Steps / Algorithm:**\n",
    "\n",
    "1. **Sentence splitting**\n",
    "   First, the text is split into sentences using a regex (default: splittings after `.`, `?`, `!` followed by whitespace). \n",
    "\n",
    "2. **Create embeddings**\n",
    "   Each sentence (or maybe each small group) is converted into embeddings (vector form) using a provided embeddings model. This lets the algorithm measure “semantic distance” between sentences. \n",
    "\n",
    "3. **Initial grouping**\n",
    "   There is a grouping step: for example, grouping every 3 sentences as a base chunk. This is a starting point.\n",
    "\n",
    "4. **Detect “breakpoints” where meaning shifts**\n",
    "   After having sentences (or initial small chunks) with embeddings, it measures distances (or differences) between neighbouring sentences / chunks. If the distance is *large enough* (more than some threshold), that indicates a semantic “break” — that is, a good place to split. \n",
    "\n",
    "5. **Merge or adjust chunks**\n",
    "   Depending on how close neighbouring chunks are, some may be merged; also other constraints like minimum chunk size or buffer size may influence the final segmentation. \n",
    "\n",
    "6. **Thresholding strategy**\n",
    "   There are different strategies to decide what “large enough” means. `SemanticChunker` supports multiple types:\n",
    "\n",
    "   * `Percentile`: e.g., take all pairwise distances, find the X-th percentile (default 95%), use that as threshold. \n",
    "   * `Standard Deviation`: threshold based on number of standard deviations above mean difference. \n",
    "   * `Interquartile`: using IQR (interquartile range) to define threshold. \n",
    "   * `Gradient`: detect anomalies in gradients of distances (i.e. sudden jumps) to find natural split points. \n",
    "\n",
    "7. **Other parameters / constraints**\n",
    "   There are other knobs:\n",
    "\n",
    "   * `buffer_size` (int): controls some kind of overlapping / buffer of context around splits. \n",
    "   * `min_chunk_size`: minimum size (in terms of something, e.g. number of sentences) a chunk must have. Prevents overly small chunks. [1])\n",
    "   * `sentence_split_regex`: custom regex to split into sentences. \n",
    "   * `add_start_index`: whether to store some start index metadata. \n",
    "   * `number_of_chunks`: possibly limit desired number of chunks. \n",
    "\n",
    "\n",
    "\n",
    "### Example (from LangChain docs)\n",
    "\n",
    "* They load a long document (“State of the Union”) and invoke `SemanticChunker(OpenAIEmbeddings())` to split. \n",
    "* With the default settings, this creates many chunks (e.g. 26) for the document.\n",
    "* Changing the `breakpoint_threshold_type` from `percentile` to `standard_deviation` or `interquartile` results in different chunking (fewer or more, depending on how strict the threshold is). \n",
    "\n",
    "\n",
    "\n",
    "## Benefits and Trade-offs\n",
    "\n",
    "**Benefits:**\n",
    "\n",
    "* Chunks align more closely to shifts in topic or meaning → better for downstream tasks like summarization, question answering, retrieval, etc., since each chunk is more semantically coherent.\n",
    "* Can reduce noise: avoids cutting off in the middle of a topic just because of a token limit or fixed chunk size.\n",
    "* More adaptive: documents with different structures will be chunked differently based on content, not just length.\n",
    "\n",
    "**Trade-offs / challenges:**\n",
    "\n",
    "* **Computational cost**: embedding every sentence, computing distances etc. can be more expensive than simpler fixed splits.\n",
    "* **Parameter sensitivity**: thresholds (percentile / std dev / IQR etc.), minimum sizes etc. need tuning. If threshold too low, too many splits → many small chunks, maybe too fragmented. If too high, you may miss meaningful topic shifts.\n",
    "* **Dependence on embedding quality**: If embeddings aren’t good, semantic similarity/distance estimates may be noisy, leading to weird splits.\n",
    "* **Not always perfect**: sudden shifts in writing style or rhetorical devices may mislead; some “semantic shifts” may not align with what a human would want as a chunk break.\n",
    "\n",
    "\n",
    "\n",
    "## When to use Semantic Chunking\n",
    "\n",
    "You might prefer semantic chunking when:\n",
    "\n",
    "* The text is long, varied, covers multiple topics or subtopics.\n",
    "* You will perform downstream tasks like semantic search, retrieval, QA, summarization etc. where coherent sub-units help.\n",
    "* You want chunk sizes to reflect meaning rather than arbitrary lengths.\n",
    "\n",
    "\n",
    "---\n",
    "\n",
    "## **Understand the Different types of Breakpoints:**\n",
    "\n",
    "### 1. **Percentile Breakpoint**\n",
    "\n",
    "* **How it works:**\n",
    "\n",
    "  * Compute the semantic distance between consecutive sentences (using embeddings).\n",
    "  * Collect all these distances.\n",
    "  * Choose a threshold = the *X-th percentile* of all distances (default: 95th).\n",
    "  * A distance bigger than that threshold → mark it as a breakpoint.\n",
    "\n",
    "* **Example:**\n",
    "  Distances between 8 sentence pairs:\n",
    "\n",
    "  ```\n",
    "  [0.1, 0.15, 0.12, 0.55, 0.18, 0.2, 0.9, 0.16]\n",
    "  ```\n",
    "\n",
    "  * 95th percentile ≈ 0.87.\n",
    "  * Distances above 0.87 → `[0.9]`.\n",
    "  * Breakpoint occurs before the last pair.\n",
    "\n",
    "* **Effect:** Splits only at the largest “semantic jumps.”\n",
    "  → Good for long documents with few big topic shifts.\n",
    "\n",
    "\n",
    "\n",
    "### 2. **Standard Deviation Breakpoint**\n",
    "\n",
    "* **How it works:**\n",
    "\n",
    "  * Compute mean and standard deviation of all distances.\n",
    "  * Breakpoints = distances above **mean + N×std** (N is configurable, e.g. 2).\n",
    "\n",
    "* **Example:**\n",
    "  Distances:\n",
    "\n",
    "  ```\n",
    "  [0.1, 0.15, 0.12, 0.55, 0.18, 0.2, 0.9, 0.16]\n",
    "  ```\n",
    "\n",
    "  * Mean ≈ 0.29\n",
    "  * Std ≈ 0.27\n",
    "  * Threshold = 0.29 + 2×0.27 = 0.83\n",
    "  * Distances above 0.83 → `[0.9]`\n",
    "  * Breakpoint at the same spot as Percentile in this case.\n",
    "\n",
    "* **Effect:** Adapts to overall variance. Works well if distances are normally distributed.\n",
    "\n",
    "\n",
    "\n",
    "### 3. **Interquartile Breakpoint (IQR method)**\n",
    "\n",
    "* **How it works:**\n",
    "\n",
    "  * Compute 25th percentile (Q1) and 75th percentile (Q3).\n",
    "  * IQR = Q3 - Q1.\n",
    "  * Threshold = Q3 + k×IQR (usually k=1.5).\n",
    "  * Breakpoints = distances above this threshold.\n",
    "\n",
    "* **Example:**\n",
    "  Distances:\n",
    "\n",
    "  ```\n",
    "  [0.1, 0.15, 0.12, 0.55, 0.18, 0.2, 0.9, 0.16]\n",
    "  ```\n",
    "\n",
    "  * Sorted: `[0.1, 0.12, 0.15, 0.16, 0.18, 0.2, 0.55, 0.9]`\n",
    "  * Q1 = 0.14, Q3 = 0.375 → IQR = 0.235\n",
    "  * Threshold = 0.375 + 1.5×0.235 = 0.727\n",
    "  * Distances above 0.727 → `[0.9]`\n",
    "  * Breakpoint at last pair.\n",
    "\n",
    "* **Effect:** Robust to outliers. Works well if a few jumps are much larger than the rest.\n",
    "\n",
    "\n",
    "\n",
    "### 4. **Gradient Breakpoint**\n",
    "\n",
    "* **How it works:**\n",
    "\n",
    "  * Look at the *change in distances* between consecutive pairs (the gradient).\n",
    "  * If the gradient suddenly spikes, mark as breakpoint.\n",
    "\n",
    "* **Example:**\n",
    "  Distances:\n",
    "\n",
    "  ```\n",
    "  [0.1, 0.15, 0.12, 0.55, 0.18, 0.2, 0.9, 0.16]\n",
    "  ```\n",
    "\n",
    "  * Gradients:\n",
    "\n",
    "    * 0.1 → 0.15 = +0.05\n",
    "    * 0.15 → 0.12 = -0.03\n",
    "    * 0.12 → 0.55 = +0.43 ← **big jump**\n",
    "    * 0.55 → 0.18 = -0.37\n",
    "    * 0.18 → 0.2 = +0.02\n",
    "    * 0.2 → 0.9 = +0.7 ← **big jump**\n",
    "    * 0.9 → 0.16 = -0.74\n",
    "  * Breakpoints at jumps `+0.43` and `+0.7`.\n",
    "\n",
    "* **Effect:** Finds *sudden shifts* in topic even if absolute distance isn’t extreme. Good for detecting subtle turning points.\n",
    "\n",
    "\n",
    "\n",
    "### 🔑 Summary Table\n",
    "\n",
    "| Method             | Threshold Rule                        | Best For                    |\n",
    "| ------------------ | ------------------------------------- | --------------------------- |\n",
    "| Percentile         | Top X% of distances                   | Large, obvious topic shifts |\n",
    "| Standard Deviation | Mean + N×std deviation                | Normal-like distributions   |\n",
    "| Interquartile      | Q3 + 1.5×IQR                          | Robust against outliers     |\n",
    "| Gradient           | Sudden spikes in distance differences | Capturing subtle shifts     |\n",
    "\n",
    "---\n",
    "\n",
    "## **Example - How Semantic Chunking Works:**\n",
    "\n",
    "1. **Compute distances → decide breakpoints**\n",
    "2. **Use breakpoints to slice the text into chunks**\n",
    "\n",
    "Let’s go step by step.\n",
    "\n",
    "\n",
    "\n",
    "### 🔹 Step 1: Start with Sentences\n",
    "\n",
    "Semantic chunking begins with splitting the document into **sentences** (or very small segments).\n",
    "\n",
    "Example text (6 sentences):\n",
    "\n",
    "```\n",
    "S1: The U.S. President delivered a speech on healthcare reform.  \n",
    "S2: He emphasized the importance of affordable coverage.  \n",
    "S3: Later, he shifted to foreign policy and national security.  \n",
    "S4: He discussed recent diplomatic talks with allies.  \n",
    "S5: The speech ended with remarks about climate change.  \n",
    "S6: New funding was announced for renewable energy projects.\n",
    "```\n",
    "\n",
    "\n",
    "\n",
    "### 🔹 Step 2: Breakpoints from Distances\n",
    "\n",
    "Suppose we computed embedding distances between consecutive sentences:\n",
    "\n",
    "```\n",
    "S1–S2: 0.1\n",
    "S2–S3: 0.65   ← Breakpoint (topic shift: healthcare → foreign policy)\n",
    "S3–S4: 0.15\n",
    "S4–S5: 0.7    ← Breakpoint (foreign policy → climate change)\n",
    "S5–S6: 0.2\n",
    "```\n",
    "\n",
    "Depending on the chosen method (Percentile, Std Dev, IQR, Gradient), we got **breakpoints at S2–S3 and S4–S5**.\n",
    "\n",
    "\n",
    "\n",
    "### 🔹 Step 3: Select the Chunks\n",
    "\n",
    "Now we **cut** the text at those breakpoints:\n",
    "\n",
    "* **Chunk 1:** `[S1, S2]` → Healthcare\n",
    "* **Chunk 2:** `[S3, S4]` → Foreign policy\n",
    "* **Chunk 3:** `[S5, S6]` → Climate change\n",
    "\n",
    "\n",
    "\n",
    "### 🔹 Step 4: Adjust with Constraints\n",
    "\n",
    "LangChain’s `SemanticChunker` allows tuning:\n",
    "\n",
    "* **min\\_chunk\\_size** → ensures you don’t end up with too tiny chunks (e.g., at least 3 sentences).\n",
    "* **buffer\\_size** → allows overlap (carry over context across boundaries).\n",
    "* **number\\_of\\_chunks** → limit max chunks (force merging if needed).\n",
    "\n",
    "Example:\n",
    "If `min_chunk_size = 3`, then instead of splitting into 3 small chunks, the algorithm might merge Chunk 2 and 3 → `[S3, S4, S5, S6]`.\n",
    "\n"
   ]
  },
  {
   "cell_type": "markdown",
   "id": "80799079",
   "metadata": {},
   "source": [
    "## **SemanticChunker Method's Arguments:**\n",
    "\n",
    "\n",
    "* **buffer\\_size (int)**\n",
    "  * **What it is:** adds a small amount of **overlap** around every breakpoint so adjacent chunks keep a bit of shared context.\n",
    "  * **How it works:** after splitting, the chunker copies `buffer_size` sentences from the *end* of chunk *i* to the *beginning* of chunk *i+1*.\n",
    "  * **Example:** if a split lands between S2 and S3 and `buffer_size=1`\n",
    "    * Chunk A: `[S1, S2]`\n",
    "    * Chunk B (with buffer): `[S2, S3, S4, …]`\n",
    "      This helps downstream QA avoid losing pronoun references or definitions at boundaries. \n",
    "\n",
    "\n",
    "* **add\\_start\\_index (bool)**\n",
    "  * **What it is:** stores the **character start index** (in the original text) for each produced chunk in metadata.\n",
    "  * **Why it’s useful:** lets you map chunks back to the original document for highlighting, citations, or UI offsets.\n",
    "  * **Example:** a returned `Document` may have `metadata={\"start_index\": 1423}` so you can jump the user to that exact spot. \n",
    "\n",
    "\n",
    "* **number\\_of\\_chunks (int | None)**\n",
    "  * **What it is:** an optional **target count** of chunks to produce.\n",
    "  * **How it works:** the splitter adjusts its breakpoints (e.g., by relaxing/tightening the threshold) or merges/splits to land near this number.\n",
    "  * **When to use:** you want predictable paging—for instance, “give me \\~12 chunks for this chapter so I can show one per screen.”\n",
    "  * **Example:** if natural breaks would yield 20 chunks but `number_of_chunks=12`, nearby boundaries are softened/merged to approach 12 coherent segments. \n",
    "\n",
    "\n",
    "* **sentence\\_split\\_regex (str)**\n",
    "  * **What it is:** the **regex** used for the very first pass of splitting into sentences before any semantic logic. Default: `r\"(?<=[.?!])\\s+\"` (split on `.?!` followed by whitespace).\n",
    "  * **Why it matters:** better sentence detection → better embeddings → better breakpoint detection.\n",
    "  * **Example tweaks:**\n",
    "    * Include colons/semicolons for technical prose: `r\"(?<=[.?!;:])\\s+\"`\n",
    "    * Keep abbreviations from splitting (e.g., “U.S.”) by using a more careful regex/tokenizer. \n",
    "\n",
    "* **min\\_chunk\\_size (int | None)**\n",
    "  * **What it is:** a **floor** on how small a chunk can be (in sentences).\n",
    "  * **How it works:** after finding breakpoints, if a candidate chunk would have fewer than `min_chunk_size` sentences, it gets **merged** with a neighbor to avoid tiny, low-signal chunks.\n",
    "  * **Example:** natural breaks yield `[S1,S2] | [S3] | [S4,S5,S6]`. With `min_chunk_size=2`, the middle singleton `[S3]` merges with a neighbor → `[S1,S2,S3] | [S4,S5,S6]`. \n",
    "\n",
    "\n",
    "\n",
    "#### **Putting it all together (mini scenario)**\n",
    "\n",
    "Text of 9 sentences (S1…S9). Semantic distances suggest breaks after S3 and S6.\n",
    "\n",
    "* **Raw splits:** `[S1–S3] | [S4–S6] | [S7–S9]`\n",
    "* **With `buffer_size=1`:**\n",
    "\n",
    "  * Chunk 1: `[S1,S2,S3]`\n",
    "  * Chunk 2: `[S3,S4,S5,S6]` (S3 buffered)\n",
    "  * Chunk 3: `[S6,S7,S8,S9]` (S6 buffered)\n",
    "* **With `min_chunk_size=4`:** merge to avoid short chunks → `[S1–S6] | [S7–S9]` (and then apply buffer if set).\n",
    "* **With `number_of_chunks=2`:** the algorithm will similarly favor two coherent groups, even if raw splits suggested three.\n",
    "\n"
   ]
  },
  {
   "cell_type": "markdown",
   "id": "7b187658",
   "metadata": {},
   "source": []
  },
  {
   "cell_type": "code",
   "execution_count": null,
   "id": "03b21959",
   "metadata": {},
   "outputs": [],
   "source": []
  },
  {
   "cell_type": "markdown",
   "id": "ad046767",
   "metadata": {},
   "source": [
    "## **Load Documents:**"
   ]
  },
  {
   "cell_type": "code",
   "execution_count": 3,
   "id": "de2e7dca",
   "metadata": {},
   "outputs": [
    {
     "name": "stderr",
     "output_type": "stream",
     "text": [
      "e:\\Dibyendu\\1. Programms\\2. AL & ML & GenAI\\1. NLP & GenAI\\Agentic-AI\\.venv\\Lib\\site-packages\\tqdm\\auto.py:21: TqdmWarning: IProgress not found. Please update jupyter and ipywidgets. See https://ipywidgets.readthedocs.io/en/stable/user_install.html\n",
      "  from .autonotebook import tqdm as notebook_tqdm\n"
     ]
    }
   ],
   "source": [
    "# Read the PDf:\n",
    "\n",
    "from langchain_pymupdf4llm import PyMuPDF4LLMLoader\n",
    "from langchain_community.document_loaders.parsers import TesseractBlobParser, LLMImageBlobParser\n",
    "from IPython.display import Markdown, display\n",
    "\n",
    "\n",
    "\n",
    "\n",
    "loader = PyMuPDF4LLMLoader(\n",
    "    file_path=\"Data/36206.pdf\",\n",
    "    mode='single',\n",
    "    # extract_images=True,\n",
    "    # images_parser=LLMImageBlobParser(\n",
    "    #     model=llm\n",
    "    # ),\n",
    "    table_strategy='lines'\n",
    ")\n",
    "\n",
    "\n",
    "docs = loader.load()"
   ]
  },
  {
   "cell_type": "code",
   "execution_count": 7,
   "id": "d5eb204b",
   "metadata": {},
   "outputs": [
    {
     "data": {
      "text/plain": [
       "45845"
      ]
     },
     "execution_count": 7,
     "metadata": {},
     "output_type": "execute_result"
    }
   ],
   "source": [
    "# display(Markdown(docs[0].page_content))\n",
    "len(docs[0].page_content)"
   ]
  },
  {
   "cell_type": "markdown",
   "id": "624f59cc",
   "metadata": {},
   "source": [
    "## **Load Embeddings:**"
   ]
  },
  {
   "cell_type": "code",
   "execution_count": 14,
   "id": "1df2156e",
   "metadata": {},
   "outputs": [],
   "source": [
    "from langchain_openai.embeddings import AzureOpenAIEmbeddings\n",
    "from dotenv import load_dotenv\n",
    "import os\n",
    "\n",
    "# Load environment variables from .env file\n",
    "load_dotenv()\n",
    "\n",
    "AZURE_OPENAI_ENDPOINT = os.getenv(\"AZURE_OPENAI_ENDPOINT\")\n",
    "AZURE_OPENAI_API_KEY = os.getenv(\"AZURE_OPENAI_API_KEY\")\n",
    "AZURE_API_VERSION = os.getenv(\"AZURE_API_VERSION\")\n",
    "\n",
    "AZURE_OPENAI_ENDPOINT = os.environ[\"AZURE_OPENAI_ENDPOINT\"]\n",
    "\n",
    "\n",
    "embeddings = AzureOpenAIEmbeddings(\n",
    "    api_key=AZURE_OPENAI_API_KEY,\n",
    "    api_version=AZURE_API_VERSION,\n",
    "    azure_deployment=\"text-embedding-3-small\"\n",
    ")"
   ]
  },
  {
   "cell_type": "markdown",
   "id": "7880cf42",
   "metadata": {},
   "source": [
    "## **Implementation 01:**\n",
    "\n",
    "* **`Breakpoints`**:\n",
    "\n",
    "  * This chunker works by determining when to \"break\" apart sentences. This is done by looking for differences in embeddings between any two sentences. When that difference is past some threshold, then they are split.\n",
    "\n",
    "  * There are a few ways to determine what that threshold is, which are controlled by the `breakpoint_threshold_type` kwarg.\n",
    "\n",
    "  * Note: if the resulting chunk sizes are too small/big, the additional kwargs `breakpoint_threshold_amount` and `min_chunk_size` can be used for adjustments.\n",
    "\n",
    "\n",
    "* **`Breakpoint Type:`**  **Percentile**\n",
    "  \n",
    "  * The default way to split is based on percentile. In this method, all differences between sentences are calculated, and then any difference greater than the X percentile is split. The default value for X is `95.0` and can be adjusted by the keyword argument `breakpoint_threshold_amount` which expects a number between `0.0` and `100.0`."
   ]
  },
  {
   "cell_type": "code",
   "execution_count": 23,
   "id": "8a3d4ada",
   "metadata": {},
   "outputs": [],
   "source": [
    "from langchain_experimental.text_splitter import SemanticChunker\n",
    "\n",
    "\n",
    "# Semantic Chunker -- Percentile\n",
    "text_splitter_percentile = SemanticChunker(\n",
    "    embeddings=embeddings,\n",
    "    breakpoint_threshold_type=\"percentile\",\n",
    "    breakpoint_threshold_amount=95.0,\n",
    "    min_chunk_size=10,\n",
    ")\n",
    "\n",
    "\n",
    "chunks = text_splitter_percentile.create_documents(texts=[docs[0].page_content])\n"
   ]
  },
  {
   "cell_type": "code",
   "execution_count": 25,
   "id": "1e41b26b",
   "metadata": {},
   "outputs": [
    {
     "data": {
      "text/plain": [
       "17"
      ]
     },
     "execution_count": 25,
     "metadata": {},
     "output_type": "execute_result"
    }
   ],
   "source": [
    "len(chunks)"
   ]
  },
  {
   "cell_type": "code",
   "execution_count": 21,
   "id": "6fca5d9a",
   "metadata": {},
   "outputs": [
    {
     "data": {
      "text/plain": [
       "\"Received: 19 July 2022\\n\\n\\n## **-**\\n\\n\\n\\nRevised: 13 September 2022\\n\\n\\n## **-**\\n\\n\\n\\nAccepted: 17 October 2022\\n\\n\\n\\n[DOI: 10.1002/cncr.34687](https://doi.org/10.1002/cncr.34687)\\n\\n\\n**O R I G I N A L A R T I C L E**\\n\\n# **Quality of life with cemiplimab plus chemotherapy for** **first‐line treatment of advanced non–small cell lung cancer:** **Patient‐reported outcomes from phase 3 EMPOWER‐Lung 3**\\n\\n\\n**Tamta Makharadze MD** **[1]** | **Ruben G. W. Quek PhD** **[2]** | **Tamar Melkadze MD** **[3]** |\\n**Miranda Gogishvili MD** **[4]** | **Cristina Ivanescu PhD** **[5]** | **Davit Giorgadze MD** **[6]** |\\n**Mikhail Dvorkin MD** **[7]** | **Konstantin Penkov MD** **[8]** | **Konstantin Laktionov MD** **[9]** |\\n\\n**Gia Nemsadze MD** **[10]** | **Marina Nechaeva MD** **[11]** | **Irina Rozhkova MD** **[12]** |\\n**Ewa Kalinka MD** **[13]** | **Christian Gessner MD** **[14]** | **Brizio Moreno‐Jaime MD** **[15]** |\\n**Rodolfo Passalacqua MD** **[16]** | **Gerasimos Konidaris MSc** **[17]** | **Petra Rietschel MD, PhD** **[2]** |\\n\\n**Giuseppe Gullo MD** **[2]**\\n\\n\\n1 LTD High Technology Hospital Med Center, Batumi, Georgia\\n\\n\\n2 Regeneron Pharmaceuticals, Inc, Tarrytown, New York, USA\\n\\n\\n3 Acad. F. Todua Medical Center, Tbilisi, Georgia\\n\\n\\n4 High Technology Medical Centre, University Clinic, Ltd, Tbilisi, Georgia\\n\\n\\n5 Patient Centered Endpoints, IQVIA, Amsterdam, Netherlands\\n\\n\\n6 David Tvildiani Medical University, Tbilisi, Georgia\\n\\n\\n7 State Budgetary Healthcare Institution of Omsk Region, Omsk, Russia\\n\\n\\n8 Private Medical Institution Euromedservice, St Petersburg, Russia\\n\\n\\n9 Federal State Budgetary Institution “N.N. Blokhin National Medical Research Center of Oncology” of the Ministry of Health of the Russian Federation, Moscow,\\n\\nRussia\\n\\n\\n10 The Institute of Clinical Oncology, Tbilisi, Georgia\\n\\n\\n11 Chelyabinsk Regional Clinical Oncology Center, Chelyabinsk, Russia\\n\\n\\n12 State Budgetary Healthcare Institution of Kaluga Region, Kaluga, Russia\\n\\n\\n13 Polish Mother's Memorial Hospital Research Institute, Łódź, Poland\\n\\n\\n14 POIS Leipzig GbR Steffi Geßner, Leipzig, Germany\\n\\n\\n15 Hospital Regional ISSSTE, Leon, Mexico\\n\\n\\n16 Istituti Ospitalieri Di Cremona, Cremona, Italy\\n\\n\\n17 Sanofi, Reading, UK\\n\\n\\n**Correspondence**\\n\\n\\n\\nTamta Makharadze, LTD High Technology\\n\\nHospital Med Center, 118 Pushkini str,\\n\\nBatumi 6000, Georgia. [Email: tamta.makharadze@gmail.com](mailto:tamta.makharadze@gmail.com)\\n\\n\\nThe trial registration is ClincalTrials.gov NCT03409614. **Abstract**\\n\\n\\n**Background:** EMPOWER‐Lung 3, a randomized 2:1 phase 3 trial, showed clinically\\n\\n\\nmeaningful and statistically significant overall survival improvement with cemipli\\n\\nmab plus platinum‐doublet chemotherapy versus placebo plus chemotherapy for\\n\\n\\n\\n[This is an open access article under the terms of the Creative Commons Attribution‐NonCommercial‐NoDerivs License, which permits use and distribution in any](http://creativecommons.org/licenses/by-nc-nd/4.0/)\\nmedium, provided the original work is properly cited, the use is non‐commercial and no modifications or adaptations are made. © 2023 The Authors. Cancer published by Wiley Periodicals LLC on behalf of American Cancer Society. _Cancer._ 2023;129:2256–2265. [wileyonlinelibrary.com/journal/cncr](http://wileyonlinelibrary.com/journal/cncr)\\n\\n\\n\\n**2256**\\n\\n\\n### ~~**-**~~\\n\\n\\n\\n-----\\n\\nMAKHARADZE ET AL . - **2257**\\n\\n\\n\\n**Funding information**\\n\\nRegeneron Pharmaceuticals, Inc.; Sanofi first‐line treatment of advanced non–small cell lung cancer. This study evaluated\\n\\npatient‐reported outcomes (PROs). **Methods:** PROs were assessed at day 1 (baseline), the start of each treatment cycle\\n\\n\\n(every 3 weeks) for the first six doses, and then at start of every three cycles, using\\n\\n\\nthe European Organisation for Research and Treatment of Cancer (EORTC) Quality\\n\\n\\nof Life‐Core 30 (QLQ‐C30) and Quality of Life‐Lung Cancer Module (QLQ‐LC13)\\n\\n\\nquestionnaires. Prespecified analyses included a longitudinal mixed‐effect model\\n\\n\\ncomparing treatment arms and a time to definitive clinically meaningful deteriora\\n\\ntion (TTD) analysis performed for global health status/quality of life (GHS/QoL) and\\n\\n\\nall scales from the questionnaires. Between‐arm TTD comparisons were made using\\n\\n\\na stratified log‐rank test and proportional hazards model. **Results:** A total of 312 patients were assigned to receive cemiplimab plus platinum‐\\n\\n\\ndoublet chemotherapy and 154 to receive placebo plus chemotherapy; 391 (83.9%)\\n\\n\\nwere male and the median age was 63.0 years (range, 25–84). For pain symptoms\\n\\n\\n−\\n(EORTC QLQ‐C30), a statistically significant overall improvement from baseline ( 4.98,\\n\\n\\n95% confidence interval [CI] −8.36 to −1.60, _p_ = .004) and a statistically significant\\n\\n\\ndelay in TTD (hazard ratio, 0.39; 95% CI, 0.26–0.60, _p_ < .0001) favoring cemipli\\n\\nmab plus chemotherapy were observed. Statistically significant delays in TTD, all\\n\\n\\nfavoring cemiplimab plus chemotherapy, were also observed in functioning and symp\\n\\ntom scales. A significant overall improvement from baseline in GHS/QoL was seen for\\n\\n\\ncemiplimab plus chemotherapy compared with nonsignificant overall change from\\n\\n\\nbaseline for placebo plus chemotherapy (1.69, 95% CI, 0.20–3.19 vs. 1.08, 95% CI, –1.34\\n\\n\\nto 3.51; between arms, _p_ = .673). No analyses yielded statistically significant PRO\\n\\n\\nresults favoring placebo plus chemotherapy for any QLQ‐C30 or QLQ‐LC13 scale. **Conclusion:** Cemiplimab plus chemotherapy resulted in significant overall\\n\\n\\nimprovement in pain symptoms and delayed TTD in cancer‐related and lung cancer–\\n\\n\\nspecific symptoms and functions. **K E Y W O R D S**\\n\\nadvanced non–small cell lung cancer, cemiplimab, non–small cell lung cancer, patient‐reported\\n\\noutcome, quality of life\\n\\n\\n\\n**INTRODUCTION**\\n\\n\\nIn the EMPOWER‐Lung 3 trial (NCT03409614), the efficacy and\\n\\n\\nsafety of cemiplimab—a human immunoglobulin G4 monoclonal\\n\\n\\nantibody to the programmed cell death‐1 (PD‐1) receptor—plus in\\n\\nvestigator's choice of platinum‐doublet chemotherapy were\\n\\n\\ncompared with placebo plus chemotherapy for the first‐line treat\\n\\nment of patients with advanced squamous or nonsquamous non–\\n\\n\\nsmall cell lung cancer (NSCLC) regardless of PD‐ligand 1 (PD‐L1)\\n\\n\\nexpression and with no anaplastic lymphoma kinase ( _ALK_ ), epidermal\\n\\n\\ngrowth factor receptor ( _EGFR_ ), or c‐Ros oncogene 1 ( _ROS1_ ) aberra\\n\\ntions. Primary results showed clinically meaningful and statistically\\n\\n\\nsignificant improvement in overall survival (OS) and progression‐free\\n\\nsurvival versus placebo plus chemotherapy. [1]\\n\\n\\nTreatments often intend to extend OS and maintain or improve\\n\\n\\nquality of life (QoL); however, treatment‐related toxicity can\\n\\n\\n\\ndeteriorate QoL among patients with advanced NSCLC. [2] The\\n\\n\\nimprovement, maintenance, or delay in deterioration in QoL is an\\n\\n\\nimportant goal in advanced NSCLC, for which treatment is palliative. Disease‐related symptoms of pain, dyspnea, and cough are reported\\n\\nto have a substantial negative effect on lung cancer–specific QoL. [3,4]\\n\\n\\nWhen assessing novel therapies, it is therefore necessary to consider\\n\\n\\npatient‐reported outcomes (PROs) as a key component of benefit‐\\n\\n\\nrisk profile evaluation. Such measurements are important when\\n\\n\\ndetermining the quality of the time gained by delaying cancer pro\\n\\ngression and improving survival. Cemiplimab monotherapy was\\n\\n\\nshown in the EMPOWER‐Lung 1 trial to significantly improve QoL,\\n\\n\\nfunctioning, and most symptoms versus platinum‐doublet chemo\\n\\ntherapy in patients with advanced NSCLC and PD‐L1 expression\\n\\n≥50%. [5] Top‐level PRO results of EMPOWER‐Lung 3 were recently\\n\\npresented. [6] This study reports detailed cancer‐related and lung\\n\\n\\ncancer–specific PROs from the EMPOWER‐Lung 3 trial. -----\\n\\n**2258**\\n\\n\\n\\n- PROS OF 1L CEMIPLIMAB + CHEMOTHERAPY IN ANSCLC\\n\\n\\n\\n**MATERIALS AND METHODS**\\n\\n\\n**Study design and participants**\\n\\n\\nThe EMPOWER‐Lung 3 study [7] was a multicenter, multinational,\\n\\n\\nrandomized, placebo‐controlled, double‐blind, phase 3 trial\\n\\n\\ncomparing the efficacy, safety, and PROs of cemiplimab (350 mg)\\n\\n\\nevery 3 weeks intravenous plus investigator's choice of platinum‐\\n\\n\\ndoublet chemotherapy (paclitaxel plus carboplatin or cisplatin,\\n\\n\\npemetrexed plus carboplatin or cisplatin) versus placebo plus\\n\\n\\nchemotherapy using 2:1 randomization in patients with stage IIIB,\\n\\n\\nIIIC, or stage IV nonsquamous or squamous NSCLC with no _EGFR_\\n\\n\\nmutation, _ALK_ mutation, or _ROS1_ fusion (Figure S1). **PRO assessments**\\n\\n\\nPROs were assessed as secondary end points using the European\\n\\n\\nOrganisation for Research and Treatment of Cancer Quality of Life‐\\n\\n\\nCore 30 (EORTC QLQ‐C30, version 3.0) questionnaire and its Lung\\n\\n\\nCancer Module (QLQ‐LC13) using patient self‐administered paper\\n\\n\\nforms at day 1 (baseline), the start of each treatment cycle (every\\n\\n\\n3 weeks) for the first six doses, then at the start of every three cycles,\\n\\n\\nand at the end of treatment, or end of study for patients who dis\\n\\ncontinued treatment due to progressive disease. The EORTC QLQ‐C30 is a clinically validated measure of QoL\\n\\n\\ncomprising five multi‐item functioning subscales, three multi‐item\\n\\n\\nsymptom scales, a global health status (GHS)/QoL subscale, and six\\n\\n\\nsingle‐item symptom scales assessing other disease‐ and treatment‐\\n\\nrelated symptoms. [8] The EORTC QLQ‐LC13 is a clinically validated\\n\\n\\nlung cancer–specific module comprising multi‐item and single‐item\\n\\n\\nmeasures of lung cancer–associated symptoms (i.e., coughing, he\\n\\nmoptysis, dyspnea, site‐specific pain) and side‐effects from therapy\\n\\n(i.e., hair loss, neuropathy, sore mouth, dysphagia). [9] All responses to\\n\\n\\nitems are normalized to a 0–100 scale using a standard scoring al\\ngorithm. [10] For functioning and GHS/QoL scales, higher scores\\n\\n\\ncorrespond to a better level of functioning and QoL. For symptom\\n\\n\\nscales, a higher score corresponds to a higher level of symptom\\n\\n\\nseverity. Thus, a negative change from baseline in symptom scales\\n\\n\\ncorresponds to an improvement and a positive change corresponds\\n\\n\\nto deterioration. Conversely, a negative change from baseline in\\n\\n\\nfunctioning and GHS/QoL scales corresponds to deterioration, and a\\n\\n\\npositive change corresponds to improvement. **Statistical analysis**\\n\\n\\nAll PRO analyses presented are prespecified and used the full analysis\\n\\n\\nset (FAS), defined as all patients to whom study treatment was assigned\\n\\n\\nby randomization. Time‐to‐event analyses were performed on the FAS. The longitudinal change‐from‐baseline analyses were done on the FAS\\n\\n\\nwith patients who had a baseline PRO assessment and at least one PRO\\n\\n\\nassessment after baseline. Completion rates were summarized. To estimate longitudinal changes from baseline in EORTC QLQ‐\\n\\n\\nC30 and QLQ‐LC13 scales, we used a longitudinal mixed‐effects\\n\\n\\nmodel for repeated measures (MMRM) with time, therapy, therapy\\n\\n\\nby time, histology (nonsquamous, squamous), PD‐L1 expression level\\n\\n\\n(<1%, 1–49%, ≥50%), baseline, and baseline by time as covariates. This MMRM analysis was performed on the changes from baseline\\n\\n\\nfor EORTC QLQ‐C30 and QLQ‐LC13 scales; overall change from\\n\\n\\nbaseline was estimated using least square means across time points. We also performed an analysis of time to definitive clinically mean\\n\\ningful deterioration (TTD) in all functioning and symptom scales. We\\n\\n\\ndefined definitive clinically meaningful deterioration in GHS/QoL and\\n\\n\\nfunctioning scales as the time from randomization to the first\\n\\n\\nobservation with a greater than or equal to 10‐point decrease and no\\n\\n\\nsubsequent observations with a less than 10‐point decrease from\\n\\n\\nbaseline or until patient drop‐out resulting in missing data. In the\\n\\n\\ncase of missing items, the scores were calculated as indicated in the\\n\\n\\nscoring manuals for each of the PRO instruments. No imputation of\\n\\n\\nthe items was performed. We defined definitive clinically meaningful deterioration in the\\n\\n\\nsymptom scales as the time from randomization to the first\\n\\n\\nobservation with a greater than or equal to 10‐point increase and\\n\\n\\nno subsequent observations with a less than 10‐point increase\\n\\n\\nfrom baseline or until patient drop‐out resulting in missing data. Established 10‐point threshold value for minimally important dif\\nferences from the patient perspective were used. [11] Patients who\\n\\n\\ndid not satisfy the deterioration criteria were censored at the time\\n\\n\\nof last available PRO assessment. Survival analysis methods used\\n\\n\\nthe Kaplan–Meier approach for estimating medians and percen\\n\\ntiles, the Brookmeyer and Crowley method for computing 95%\\n\\n\\nconfidence intervals (CIs), the stratified Cox proportional hazards\\n\\n\\nmodel assuming proportional hazards for computing hazard ratio\\n\\n\\n(HR), and the stratified log‐rank test in comparing TTD between\\n\\n\\ntreatment arms. The same stratification factors used for random\\n\\nization (Figure S1) were applied to both the stratified log‐rank test\\n\\n\\nand the stratified Cox model. Statistical comparisons were made at\\n\\n\\nα = 0.05, and two‐sided _p_ values were calculated with no multi\\n\\nplicity adjustments made.\""
      ]
     },
     "execution_count": 21,
     "metadata": {},
     "output_type": "execute_result"
    }
   ],
   "source": [
    "chunks[0].page_content"
   ]
  },
  {
   "cell_type": "markdown",
   "id": "f8b83de7",
   "metadata": {},
   "source": [
    "## **Implementation 02:**\n",
    "\n",
    "* **`Breakpoint Type:` Standard Deviation** \n",
    "  * In this method, any difference greater than X standard deviations is split. The default value for X is `3.0` and can be adjusted by the keyword argument `breakpoint_threshold_amount`."
   ]
  },
  {
   "cell_type": "code",
   "execution_count": 26,
   "id": "c0ec9097",
   "metadata": {},
   "outputs": [],
   "source": [
    "text_splitter_standard_deviation = SemanticChunker(\n",
    "    embeddings=embeddings, \n",
    "    breakpoint_threshold_amount=3.0, # default\n",
    "    breakpoint_threshold_type=\"standard_deviation\",\n",
    "    min_chunk_size=10,\n",
    ")\n",
    "\n",
    "chunks = text_splitter_standard_deviation.create_documents(texts=[docs[0].page_content])\n"
   ]
  },
  {
   "cell_type": "code",
   "execution_count": 27,
   "id": "7c570e83",
   "metadata": {},
   "outputs": [
    {
     "data": {
      "text/plain": [
       "1"
      ]
     },
     "execution_count": 27,
     "metadata": {},
     "output_type": "execute_result"
    }
   ],
   "source": [
    "len(chunks)"
   ]
  },
  {
   "cell_type": "code",
   "execution_count": 28,
   "id": "d15be1c3",
   "metadata": {},
   "outputs": [
    {
     "data": {
      "text/plain": [
       "\"Received: 19 July 2022\\n\\n\\n## **-**\\n\\n\\n\\nRevised: 13 September 2022\\n\\n\\n## **-**\\n\\n\\n\\nAccepted: 17 October 2022\\n\\n\\n\\n[DOI: 10.1002/cncr.34687](https://doi.org/10.1002/cncr.34687)\\n\\n\\n**O R I G I N A L A R T I C L E**\\n\\n# **Quality of life with cemiplimab plus chemotherapy for** **first‐line treatment of advanced non–small cell lung cancer:** **Patient‐reported outcomes from phase 3 EMPOWER‐Lung 3**\\n\\n\\n**Tamta Makharadze MD** **[1]** | **Ruben G. W. Quek PhD** **[2]** | **Tamar Melkadze MD** **[3]** |\\n**Miranda Gogishvili MD** **[4]** | **Cristina Ivanescu PhD** **[5]** | **Davit Giorgadze MD** **[6]** |\\n**Mikhail Dvorkin MD** **[7]** | **Konstantin Penkov MD** **[8]** | **Konstantin Laktionov MD** **[9]** |\\n\\n**Gia Nemsadze MD** **[10]** | **Marina Nechaeva MD** **[11]** | **Irina Rozhkova MD** **[12]** |\\n**Ewa Kalinka MD** **[13]** | **Christian Gessner MD** **[14]** | **Brizio Moreno‐Jaime MD** **[15]** |\\n**Rodolfo Passalacqua MD** **[16]** | **Gerasimos Konidaris MSc** **[17]** | **Petra Rietschel MD, PhD** **[2]** |\\n\\n**Giuseppe Gullo MD** **[2]**\\n\\n\\n1 LTD High Technology Hospital Med Center, Batumi, Georgia\\n\\n\\n2 Regeneron Pharmaceuticals, Inc, Tarrytown, New York, USA\\n\\n\\n3 Acad. F. Todua Medical Center, Tbilisi, Georgia\\n\\n\\n4 High Technology Medical Centre, University Clinic, Ltd, Tbilisi, Georgia\\n\\n\\n5 Patient Centered Endpoints, IQVIA, Amsterdam, Netherlands\\n\\n\\n6 David Tvildiani Medical University, Tbilisi, Georgia\\n\\n\\n7 State Budgetary Healthcare Institution of Omsk Region, Omsk, Russia\\n\\n\\n8 Private Medical Institution Euromedservice, St Petersburg, Russia\\n\\n\\n9 Federal State Budgetary Institution “N.N. Blokhin National Medical Research Center of Oncology” of the Ministry of Health of the Russian Federation, Moscow,\\n\\nRussia\\n\\n\\n10 The Institute of Clinical Oncology, Tbilisi, Georgia\\n\\n\\n11 Chelyabinsk Regional Clinical Oncology Center, Chelyabinsk, Russia\\n\\n\\n12 State Budgetary Healthcare Institution of Kaluga Region, Kaluga, Russia\\n\\n\\n13 Polish Mother's Memorial Hospital Research Institute, Łódź, Poland\\n\\n\\n14 POIS Leipzig GbR Steffi Geßner, Leipzig, Germany\\n\\n\\n15 Hospital Regional ISSSTE, Leon, Mexico\\n\\n\\n16 Istituti Ospitalieri Di Cremona, Cremona, Italy\\n\\n\\n17 Sanofi, Reading, UK\\n\\n\\n**Correspondence**\\n\\n\\n\\nTamta Makharadze, LTD High Technology\\n\\nHospital Med Center, 118 Pushkini str,\\n\\nBatumi 6000, Georgia. [Email: tamta.makharadze@gmail.com](mailto:tamta.makharadze@gmail.com)\\n\\n\\nThe trial registration is ClincalTrials.gov NCT03409614. **Abstract**\\n\\n\\n**Background:** EMPOWER‐Lung 3, a randomized 2:1 phase 3 trial, showed clinically\\n\\n\\nmeaningful and statistically significant overall survival improvement with cemipli\\n\\nmab plus platinum‐doublet chemotherapy versus placebo plus chemotherapy for\\n\\n\\n\\n[This is an open access article under the terms of the Creative Commons Attribution‐NonCommercial‐NoDerivs License, which permits use and distribution in any](http://creativecommons.org/licenses/by-nc-nd/4.0/)\\nmedium, provided the original work is properly cited, the use is non‐commercial and no modifications or adaptations are made. © 2023 The Authors. Cancer published by Wiley Periodicals LLC on behalf of American Cancer Society. _Cancer._ 2023;129:2256–2265. [wileyonlinelibrary.com/journal/cncr](http://wileyonlinelibrary.com/journal/cncr)\\n\\n\\n\\n**2256**\\n\\n\\n### ~~**-**~~\\n\\n\\n\\n-----\\n\\nMAKHARADZE ET AL . - **2257**\\n\\n\\n\\n**Funding information**\\n\\nRegeneron Pharmaceuticals, Inc.; Sanofi first‐line treatment of advanced non–small cell lung cancer. This study evaluated\\n\\npatient‐reported outcomes (PROs). **Methods:** PROs were assessed at day 1 (baseline), the start of each treatment cycle\\n\\n\\n(every 3 weeks) for the first six doses, and then at start of every three cycles, using\\n\\n\\nthe European Organisation for Research and Treatment of Cancer (EORTC) Quality\\n\\n\\nof Life‐Core 30 (QLQ‐C30) and Quality of Life‐Lung Cancer Module (QLQ‐LC13)\\n\\n\\nquestionnaires. Prespecified analyses included a longitudinal mixed‐effect model\\n\\n\\ncomparing treatment arms and a time to definitive clinically meaningful deteriora\\n\\ntion (TTD) analysis performed for global health status/quality of life (GHS/QoL) and\\n\\n\\nall scales from the questionnaires. Between‐arm TTD comparisons were made using\\n\\n\\na stratified log‐rank test and proportional hazards model. **Results:** A total of 312 patients were assigned to receive cemiplimab plus platinum‐\\n\\n\\ndoublet chemotherapy and 154 to receive placebo plus chemotherapy; 391 (83.9%)\\n\\n\\nwere male and the median age was 63.0 years (range, 25–84). For pain symptoms\\n\\n\\n−\\n(EORTC QLQ‐C30), a statistically significant overall improvement from baseline ( 4.98,\\n\\n\\n95% confidence interval [CI] −8.36 to −1.60, _p_ = .004) and a statistically significant\\n\\n\\ndelay in TTD (hazard ratio, 0.39; 95% CI, 0.26–0.60, _p_ < .0001) favoring cemipli\\n\\nmab plus chemotherapy were observed. Statistically significant delays in TTD, all\\n\\n\\nfavoring cemiplimab plus chemotherapy, were also observed in functioning and symp\\n\\ntom scales. A significant overall improvement from baseline in GHS/QoL was seen for\\n\\n\\ncemiplimab plus chemotherapy compared with nonsignificant overall change from\\n\\n\\nbaseline for placebo plus chemotherapy (1.69, 95% CI, 0.20–3.19 vs. 1.08, 95% CI, –1.34\\n\\n\\nto 3.51; between arms, _p_ = .673). No analyses yielded statistically significant PRO\\n\\n\\nresults favoring placebo plus chemotherapy for any QLQ‐C30 or QLQ‐LC13 scale. **Conclusion:** Cemiplimab plus chemotherapy resulted in significant overall\\n\\n\\nimprovement in pain symptoms and delayed TTD in cancer‐related and lung cancer–\\n\\n\\nspecific symptoms and functions. **K E Y W O R D S**\\n\\nadvanced non–small cell lung cancer, cemiplimab, non–small cell lung cancer, patient‐reported\\n\\noutcome, quality of life\\n\\n\\n\\n**INTRODUCTION**\\n\\n\\nIn the EMPOWER‐Lung 3 trial (NCT03409614), the efficacy and\\n\\n\\nsafety of cemiplimab—a human immunoglobulin G4 monoclonal\\n\\n\\nantibody to the programmed cell death‐1 (PD‐1) receptor—plus in\\n\\nvestigator's choice of platinum‐doublet chemotherapy were\\n\\n\\ncompared with placebo plus chemotherapy for the first‐line treat\\n\\nment of patients with advanced squamous or nonsquamous non–\\n\\n\\nsmall cell lung cancer (NSCLC) regardless of PD‐ligand 1 (PD‐L1)\\n\\n\\nexpression and with no anaplastic lymphoma kinase ( _ALK_ ), epidermal\\n\\n\\ngrowth factor receptor ( _EGFR_ ), or c‐Ros oncogene 1 ( _ROS1_ ) aberra\\n\\ntions. Primary results showed clinically meaningful and statistically\\n\\n\\nsignificant improvement in overall survival (OS) and progression‐free\\n\\nsurvival versus placebo plus chemotherapy. [1]\\n\\n\\nTreatments often intend to extend OS and maintain or improve\\n\\n\\nquality of life (QoL); however, treatment‐related toxicity can\\n\\n\\n\\ndeteriorate QoL among patients with advanced NSCLC. [2] The\\n\\n\\nimprovement, maintenance, or delay in deterioration in QoL is an\\n\\n\\nimportant goal in advanced NSCLC, for which treatment is palliative. Disease‐related symptoms of pain, dyspnea, and cough are reported\\n\\nto have a substantial negative effect on lung cancer–specific QoL. [3,4]\\n\\n\\nWhen assessing novel therapies, it is therefore necessary to consider\\n\\n\\npatient‐reported outcomes (PROs) as a key component of benefit‐\\n\\n\\nrisk profile evaluation. Such measurements are important when\\n\\n\\ndetermining the quality of the time gained by delaying cancer pro\\n\\ngression and improving survival. Cemiplimab monotherapy was\\n\\n\\nshown in the EMPOWER‐Lung 1 trial to significantly improve QoL,\\n\\n\\nfunctioning, and most symptoms versus platinum‐doublet chemo\\n\\ntherapy in patients with advanced NSCLC and PD‐L1 expression\\n\\n≥50%. [5] Top‐level PRO results of EMPOWER‐Lung 3 were recently\\n\\npresented. [6] This study reports detailed cancer‐related and lung\\n\\n\\ncancer–specific PROs from the EMPOWER‐Lung 3 trial. -----\\n\\n**2258**\\n\\n\\n\\n- PROS OF 1L CEMIPLIMAB + CHEMOTHERAPY IN ANSCLC\\n\\n\\n\\n**MATERIALS AND METHODS**\\n\\n\\n**Study design and participants**\\n\\n\\nThe EMPOWER‐Lung 3 study [7] was a multicenter, multinational,\\n\\n\\nrandomized, placebo‐controlled, double‐blind, phase 3 trial\\n\\n\\ncomparing the efficacy, safety, and PROs of cemiplimab (350 mg)\\n\\n\\nevery 3 weeks intravenous plus investigator's choice of platinum‐\\n\\n\\ndoublet chemotherapy (paclitaxel plus carboplatin or cisplatin,\\n\\n\\npemetrexed plus carboplatin or cisplatin) versus placebo plus\\n\\n\\nchemotherapy using 2:1 randomization in patients with stage IIIB,\\n\\n\\nIIIC, or stage IV nonsquamous or squamous NSCLC with no _EGFR_\\n\\n\\nmutation, _ALK_ mutation, or _ROS1_ fusion (Figure S1). **PRO assessments**\\n\\n\\nPROs were assessed as secondary end points using the European\\n\\n\\nOrganisation for Research and Treatment of Cancer Quality of Life‐\\n\\n\\nCore 30 (EORTC QLQ‐C30, version 3.0) questionnaire and its Lung\\n\\n\\nCancer Module (QLQ‐LC13) using patient self‐administered paper\\n\\n\\nforms at day 1 (baseline), the start of each treatment cycle (every\\n\\n\\n3 weeks) for the first six doses, then at the start of every three cycles,\\n\\n\\nand at the end of treatment, or end of study for patients who dis\\n\\ncontinued treatment due to progressive disease. The EORTC QLQ‐C30 is a clinically validated measure of QoL\\n\\n\\ncomprising five multi‐item functioning subscales, three multi‐item\\n\\n\\nsymptom scales, a global health status (GHS)/QoL subscale, and six\\n\\n\\nsingle‐item symptom scales assessing other disease‐ and treatment‐\\n\\nrelated symptoms. [8] The EORTC QLQ‐LC13 is a clinically validated\\n\\n\\nlung cancer–specific module comprising multi‐item and single‐item\\n\\n\\nmeasures of lung cancer–associated symptoms (i.e., coughing, he\\n\\nmoptysis, dyspnea, site‐specific pain) and side‐effects from therapy\\n\\n(i.e., hair loss, neuropathy, sore mouth, dysphagia). [9] All responses to\\n\\n\\nitems are normalized to a 0–100 scale using a standard scoring al\\ngorithm. [10] For functioning and GHS/QoL scales, higher scores\\n\\n\\ncorrespond to a better level of functioning and QoL. For symptom\\n\\n\\nscales, a higher score corresponds to a higher level of symptom\\n\\n\\nseverity. Thus, a negative change from baseline in symptom scales\\n\\n\\ncorresponds to an improvement and a positive change corresponds\\n\\n\\nto deterioration. Conversely, a negative change from baseline in\\n\\n\\nfunctioning and GHS/QoL scales corresponds to deterioration, and a\\n\\n\\npositive change corresponds to improvement. **Statistical analysis**\\n\\n\\nAll PRO analyses presented are prespecified and used the full analysis\\n\\n\\nset (FAS), defined as all patients to whom study treatment was assigned\\n\\n\\nby randomization. Time‐to‐event analyses were performed on the FAS. The longitudinal change‐from‐baseline analyses were done on the FAS\\n\\n\\nwith patients who had a baseline PRO assessment and at least one PRO\\n\\n\\nassessment after baseline. Completion rates were summarized. To estimate longitudinal changes from baseline in EORTC QLQ‐\\n\\n\\nC30 and QLQ‐LC13 scales, we used a longitudinal mixed‐effects\\n\\n\\nmodel for repeated measures (MMRM) with time, therapy, therapy\\n\\n\\nby time, histology (nonsquamous, squamous), PD‐L1 expression level\\n\\n\\n(<1%, 1–49%, ≥50%), baseline, and baseline by time as covariates. This MMRM analysis was performed on the changes from baseline\\n\\n\\nfor EORTC QLQ‐C30 and QLQ‐LC13 scales; overall change from\\n\\n\\nbaseline was estimated using least square means across time points. We also performed an analysis of time to definitive clinically mean\\n\\ningful deterioration (TTD) in all functioning and symptom scales. We\\n\\n\\ndefined definitive clinically meaningful deterioration in GHS/QoL and\\n\\n\\nfunctioning scales as the time from randomization to the first\\n\\n\\nobservation with a greater than or equal to 10‐point decrease and no\\n\\n\\nsubsequent observations with a less than 10‐point decrease from\\n\\n\\nbaseline or until patient drop‐out resulting in missing data. In the\\n\\n\\ncase of missing items, the scores were calculated as indicated in the\\n\\n\\nscoring manuals for each of the PRO instruments. No imputation of\\n\\n\\nthe items was performed. We defined definitive clinically meaningful deterioration in the\\n\\n\\nsymptom scales as the time from randomization to the first\\n\\n\\nobservation with a greater than or equal to 10‐point increase and\\n\\n\\nno subsequent observations with a less than 10‐point increase\\n\\n\\nfrom baseline or until patient drop‐out resulting in missing data. Established 10‐point threshold value for minimally important dif\\nferences from the patient perspective were used. [11] Patients who\\n\\n\\ndid not satisfy the deterioration criteria were censored at the time\\n\\n\\nof last available PRO assessment. Survival analysis methods used\\n\\n\\nthe Kaplan–Meier approach for estimating medians and percen\\n\\ntiles, the Brookmeyer and Crowley method for computing 95%\\n\\n\\nconfidence intervals (CIs), the stratified Cox proportional hazards\\n\\n\\nmodel assuming proportional hazards for computing hazard ratio\\n\\n\\n(HR), and the stratified log‐rank test in comparing TTD between\\n\\n\\ntreatment arms. The same stratification factors used for random\\n\\nization (Figure S1) were applied to both the stratified log‐rank test\\n\\n\\nand the stratified Cox model. Statistical comparisons were made at\\n\\n\\nα = 0.05, and two‐sided _p_ values were calculated with no multi\\n\\nplicity adjustments made. All analyses were conducted using Sta\\n\\ntistical Analysis System 9.4 software (SAS Institute, Cary, North\\n\\n\\nCarolina). **RESULTS**\\n\\n\\nThe FAS population comprised 466 patients: 312 were assigned to\\n\\n\\nreceive cemiplimab plus chemotherapy and 154 to receive placebo\\n\\n\\nplus chemotherapy. In the cemiplimab plus chemotherapy arm, 154\\n\\n\\npatients received paclitaxel plus carboplatin, 117 pemetrexed plus\\n\\n\\ncarboplatin, 24 pemetrexed plus cisplatin, and 17 paclitaxel plus\\n\\n\\ncisplatin. In the placebo plus chemotherapy arm, those who received\\n\\n\\nthese therapies were 83, 45, 17, and 8, respectively (Figure S2). One\\n\\n\\n(0.7%) patient who was randomized to receive placebo plus chemo\\n\\ntherapy withdrew consent before being treated (Table S1, Figure S2). In EMPOWER‐Lung 3, 84.3% and 14.8% of patients had Eastern\\n\\n\\n\\n-----\\n\\nMAKHARADZE ET AL . Cooperative Oncology Group (ECOG) performance status of 1 and 0,\\n\\n\\nrespectively (Table S1). For every cycle from baseline to cycle 21, ≥92% of patients in\\n\\n\\nthe cemiplimab plus chemotherapy arm and ≥91% in the placebo plus\\n\\n\\nchemotherapy arm completed at least one question on the EORTC\\n\\n\\nQLQ‐C30; similarly, ≥92% and ≥91% of patients, respectively,\\n\\n\\ncompleted at least one question on the EORTC QLQ‐LC13 (Tables S2\\n\\n\\nand 3); additional information regarding completion rates of patients\\n\\n\\nwho completed at least one question at each time point can be found\\n\\n\\nin Tables S2 and S3. **Patient‐Reported QLQ‐C30 GHS/QoL**\\n\\n\\nBaseline mean scores for GHS/QoL were broadly similar in the\\n\\n\\ncemiplimab plus chemotherapy and placebo plus chemotherapy arms\\n\\n\\n(59.4, 95% CI, 57.4–61.4 vs. 58.7, 95% CI, 56.0–61.4, respectively). Baseline scores in the study were within the range of reference\\n\\nvalues published previously [12] in patients with NSCLC (Table 1). The between‐treatment comparison of GHS/QoL scores based\\n\\n\\non MMRM analyses showed a non–statistically significant overall\\n\\n\\ndifference from baseline between the two treatment arms (differ\\n\\nence, 0.61; 95% CI, –2.23 to 3.45, _p_ = .673) (Figure 1A). In Figure 2A, based on the 95% CIs, a statistically significant\\n\\n\\noverall improvement from baseline was observed in the cemiplimab\\n\\n\\nplus chemotherapy arm (1.69; 95% CI, 0.20–3.19) whereas no sig\\n\\nnificant overall change from baseline was observed in the placebo\\n\\n\\nplus chemotherapy arm (1.08; 95% CI, –1.34 to 3.51). We observed a trend toward a delay in TTD of GHS/QoL in the\\n\\n\\ncemiplimab plus chemotherapy arm versus the placebo plus chemo\\n\\ntherapy arm (medians not reached), with an HR of 0.78 (95% CI,\\n\\n\\n0.51–1.19, _p_ = .248) (Figure 3A). **Patient‐reported QLQ‐C30 functioning scales**\\n\\n\\nBaseline scores for QLQ‐C30 functioning scales were broadly similar\\n\\n\\nbetween treatment arms, with higher functioning levels in both arms\\n\\n\\nexcept physical functioning, role functioning, emotional functioning,\\n\\n\\nand cognitive functioning, when compared with reference values\\n\\n\\n(Table 1). No significant differences in any function scales were observed\\n\\n\\nbetween‐treatment comparisons of the overall change from baseline\\n\\n\\nscores (Figure 1A). Based on the 95% CIs, the overall change from baseline within\\n\\n\\neach treatment arm indicated a statistically significant overall\\n\\n\\nimprovement for cemiplimab plus chemotherapy in emotional func\\n\\ntioning (3.82; 95% CI, 2.36–5.29), and statistically significant overall\\n\\n\\nworsening in cognitive functioning (−1.47; 95% CI, –2.78 to −0.16)\\n\\n\\nand social functioning (−2.29; 95% CI, –4.31 to −0.28) (Figure 2A). In\\n\\n\\nthe placebo plus chemotherapy arm, a statistically significant overall\\n\\n\\nimprovement from baseline in emotional functioning (2.51; 95% CI,\\n\\n\\n0.10–4.92) and a statistically significant overall worsening from\\n\\n\\n\\n                                                                                                                                                 - **2259**\\n\\n\\nbaseline in physical functioning (−2.99; 95% CI, –5.61 to −0.37) were\\n\\n\\nobserved (Figure 2A). Treatment with cemiplimab plus chemotherapy also significantly\\n\\n\\ndelayed TTD in physical functioning (HR, 0.62; 95% CI, 0.42–0.91,\\n\\n\\n_p_ = .014) (Figure 3B), role functioning (HR, 0.52; 95% CI, 0.36–0.76,\\n\\n\\n_p_ = .0005), and emotional functioning (HR, 0.52; 95% CI, 0.31–0.88,\\n\\n\\n_p_ = .013) (Figure S3) compared with the overall placebo plus\\n\\n\\nchemotherapy arm. **Patient‐reported QLQ‐C30 symptom scales**\\n\\n\\nAcross all EORTC QLQ‐C30 symptom scales in both treatment arms,\\n\\n\\nmean baseline scores were broadly similar. Compared with reference\\n\\n\\nvalues, baseline scores for the symptoms indicated low symptom\\n\\n\\nseverity in both treatment arms (Table 1). Between‐treatment comparison in overall change from baseline\\n\\n\\nscores indicated a statistically significant difference in favor of\\n\\n\\ncemiplimab plus chemotherapy for pain (−4.98; 95% CI, –8.36 to\\n\\n\\n−1.60, _p_ = .004) (Figure 1B). No statistically significant between‐\\n\\n\\ntreatment overall difference from baseline was observed for all\\n\\n\\nother QLQ‐C30 symptom scales (Figure 1B). The 95% CIs indicated a statistically significant improvement in\\n\\n\\nthe overall change from baseline within each treatment arm; in the\\n\\n\\ncemiplimab plus chemotherapy arm in pain (−4.52; 95% CI, –6.32 to\\n\\n\\n−2.73), dyspnea (−6.64; 95% CI, –8.68 to −4.60), and insomnia\\n\\n\\n(−4.08; 95% CI, –6.07 to −2.10), and a statistically significant wors\\n\\nening from baseline in nausea/vomiting (1.75; 95% CI, 0.71–2.80). In\\n\\n\\nthe placebo plus chemotherapy arm, a statistically significant overall\\n\\n\\nimprovement from baseline in dyspnea (−5.02; 95% CI, –8.33 to\\n\\n\\n−1.72) and insomnia (−4.31; 95% CI, –7.51 to −1.10), and a statis\\n\\ntically significant overall worsening from baseline in constipation\\n\\n\\n(2.70; 95% CI, 0.11–5.29) were observed (Figure 2B). Compared with placebo plus chemotherapy, treatment with\\n\\n\\ncemiplimab plus chemotherapy significantly delayed TTD in the\\n\\n\\nfollowing QLQ‐C30 symptoms: pain (HR, 0.39; 95% CI, 0.26–0.60,\\n\\n\\n_p_ < .0001) (Figure 3C), dyspnea (HR, 0.54; 95% CI, 0.33–0.90, _p_ = .017)\\n\\n\\n(Figure 3D), nausea/vomiting (HR, 0.39; 95% CI, 0.22–0.67, _p_ = .001),\\n\\n\\nand constipation (HR, 0.48; 95% CI, 0.27–0.87, _p_ = .013) (Figure S4). **Patient‐reported QLQ‐LC13 symptom scales**\\n\\n\\nMean baseline QLQ‐LC13 symptom scores for both treatment arms\\n\\n\\nwere broadly similar. Baseline values from both treatment arms were\\n\\n\\ngenerally lower compared with the reference values. No significant differences in overall change from baseline scores\\n\\n\\nwere observed between treatment arms across all QLQ‐LC13\\n\\n\\nsymptom scales (Figure 1C). A significant improvement from baseline in the cemiplimab plus\\n\\n\\nchemotherapy arm was observed for the following symptoms: dyspnea\\n\\n\\n(−2.31; 95% CI, –4.15 to −0.47), coughing (−12.78; 95% CI, –14.78 to\\n\\n\\n−10.79), hemoptysis (−1.81; 95% CI, –2.49 to −1.13), pain in arm or\\n\\n\\n\\n-----\\n\\n**2260**\\n\\n\\n\\n- PROS OF 1L CEMIPLIMAB + CHEMOTHERAPY IN ANSCLC\\n\\n\\n\\n**T A B L E 1** Baseline EORTC QLQ‐C30 and QLQ‐LC13 scores and reference values (full analysis set) [a]\\n\\n\\n**Cemiplimab + chemotherapy**\\n**(** _**n**_ **= 312)** **Placebo + chemotherapy (** _**n**_ **= 154)**\\n**Reference values** **[b]**\\n\\n\\n\\n**Domain/scale**\\n\\n\\n\\n**No.** **Mean** **95% CI** **No.** **Mean** **95% CI** **Mean (SD)**\\n\\n\\n\\nEORTC QLQ‐C30 GHS/QoL [c] 311 59.4 (57.4–61.4) 151 58.7 (56.0–61.3) 58.8 (22.5)\\n\\n\\nEORTC QLQ‐C30 functioning scales [c]\\n\\n\\nPhysical functioning 310 74.5 (72.5–76.6) 151 76.3 (73.8–78.8) 78.4 (19.3)\\n\\n\\nRole functioning 310 71.2 (68.4–74.0) 151 74.1 (70.5–77.6) 60.7 (33.1)\\n\\n\\nEmotional functioning 311 79.8 (77.8–81.9) 151 78.5 (75.6–81.4) 68.1 (24.2)\\n\\n\\nCognitive functioning 311 90.1 (88.3–92.0) 151 90.2 (87.9–92.5) 84.0 (21.1)\\n\\n\\nSocial functioning 310 78.5 (75.9–81.0) 151 75.4 (71.5–79.3) 73.6 (28.9)\\n\\n\\nEORTC QLQ‐C30 symptom scales [d]\\n\\n\\nFatigue 310 35.9 (33.6–38.3) 151 36.1 (32.8–39.4) 40.4 (27)\\n\\n\\nNausea/vomiting 310 5.11 (3.6–6.6) 151 3.42 (2.0–4.8) 9.7 (18.3)\\n\\n\\nPain 311 23.0 (20.2–25.7) 151 21.63 (17.7–25.5) 29.7 (30.3)\\n\\n\\nDyspnea 310 33.2 (30.3–36.1) 151 26.0 (22.2–29.2) 38.5 (31.7)\\n\\n\\nInsomnia 310 25.3 (22.3–28.3) 151 25.0 (20.6–29.3) 32.4 (32.7)\\n\\n\\nAppetite loss 310 16.4 (13.8–19.1) 151 17.4 (13.2–21.7) 27.9 (33.5)\\n\\n\\nConstipation 311 10.2 (7.8–12.5) 151 10.15 (6.9–13.4) 17.4 (27.9)\\n\\n\\nDiarrhea 311 4.1 (2.6–5.5) 151 3.53 (1.7–5.4) 6.8 (17.4)\\n\\n\\nEORTC QLQ‐LC13 [d]\\n\\n\\nDyspnea 310 28.0 (25.6–30.4) 151 25.7 (22.7–28.8) 29.9 (24.2)\\n\\n\\nCoughing 310 40.4 (37.6–43.2) 151 35.5 (31.4–39.7) 38.4 (26.6)\\n\\n\\nHemoptysis 310 4.2 (2.8–5.6) 151 3.1 (1.2–5.0) 7.6 (16.7)\\n\\n\\nSore mouth 311 3.6 (2.2–5.0) 151 2.2 (0.9–3.5) 5.2 (15.1)\\n\\n\\nDysphagia 311 4.9 (3.3–6.6) 151 3.3 (1.6–5.0) 6.5 (17.4)\\n\\n\\nPeripheral neuropathy 310 7.1 (5.2–8.9) 151 6.0 (3.5–8.4) 9.0 (19.8)\\n\\n\\nAlopecia 311 4.5 (2.7–6.3) 151 2.2 (0.5–3.9) 7.3 (22.9)\\n\\n\\nPain in chest 311 20.3 (17.4–23.1) 151 20.3 (15.5–23.8) 19.5 (25.6)\\n\\n\\nPain in arm or shoulder 310 14.6 (11.9–17.4) 151 14.6 (10.9–18.2) 21.4 (29.4)\\n\\n\\nPain in other parts 308 14.2 (11.4–16.9) 151 14.2 (10.4–18.1) 23.1 (30.3)\\n\\n\\nAbbreviations: CI, confidence interval; EORTC, European Organisation for Research and Treatment of Cancer, GHS, global health status; NSCLC, non–\\n\\nsmall cell lung cancer; QLQ‐C30, Quality of Life‐Core 30; QLQ‐LC13, Quality of Life‐Lung Cancer Module; QoL, quality of life; SD, standard deviation. a The full analysis set is defined as all patients to whom study treatment was assigned by randomization. b Reference values for patients with NSCLC are shown. 12\\n\\n\\nc Larger values are better. d Larger values are worse. shoulder (−1.96; 95% CI, –3.71 to −0.22), and pain in chest (−6.15; 95%\\n\\n\\nCI, –7.85 to −4.46), but a significant overall worsening from baseline in\\n\\n\\nsore mouth (1.23; 95% CI, 0.19–2.27), peripheral neuropathy (11.36;\\n\\n\\n95% CI, 8.99–13.72), and alopecia (15.52; 95% CI, 13.31–17.73). In the placebo plus chemotherapy arm, a statistically significant\\n\\n\\noverall improvement from baseline in coughing (−12.27; 95% CI, –\\n\\n\\n15.50 to −9.04) and pain in chest (−3.39; 95% CI, –6.14 to −0.64),\\n\\n\\nand a statistically significant overall worsening from baseline in\\n\\n\\n\\nperipheral neuropathy (9.30; 95% CI, 5.58–13.03) and alopecia\\n\\n\\n(18.74; 95% CI, 15.21–22.27) were observed (Figure 2C). Cemiplimab plus chemotherapy significantly delayed TTD in\\n\\n\\nmost of the QLQ‐LC13 symptom scales, specifically coughing (HR,\\n\\n\\n0.50; 95% CI, 0.27–0.92, _p_ = .024), hemoptysis (HR, 0.26; 95% CI,\\n\\n\\n0.09–0.75, _p_ = .007), sore mouth (HR, 0.46; 95% CI, 0.23–0.95,\\n\\n\\n_p_ = .033), dysphagia (HR, 0.43; 95% CI, 0.20–0.93, _p_ = .027), alopecia\\n\\n\\n(HR, 0.36; 95% CI, 0.25–0.53, _p_ < .0001), and pain in chest (HR, 0.55;\\n\\n\\n\\n-----\\n\\nMAKHARADZE ET AL . **F I G U R E 1** Forest plot model of estimated difference\\n(cemiplimab plus chemotherapy and placebo plus chemotherapy) in\\noverall change from baseline (MMRM) in full analysis set. (A) EORTC\\nQLQ‐C30 GHS/QoL and functioning scales. (B) EORTC QLQ‐C30\\nsymptom scales. (C) EORTC QLQ‐LC13 symptom scales. CEMI\\n\\nindicates cemiplimab; CHEMO, chemotherapy; EORTC, European\\n\\nOrganisation for Research and Treatment of Cancer; GHS, global\\n\\nhealth status; MMRM, mixed‐effects model for repeated measures;\\n\\nPBO, placebo; QLQ‐C30, Quality of Life‐Core 30; QLQ‐LC13,\\n\\nQuality of Life‐Lung Cancer Module; QoL, quality of life. 95% CI, 0.30–1.00, _p_ = .046) compared with the placebo plus\\n\\n\\nchemotherapy arm (Figure S5). Unless otherwise noted, all within‐arm and between‐arm dif\\n\\nferences in PROs were not statistically significant. - **2261**\\n\\n\\n**DISCUSSION**\\n\\n\\nMaintaining QoL in patients with advanced NSCLC is important,\\n\\n\\nespecially when evaluating the efficacy of new combination therapy\\n\\n\\nregimens with potential added toxicities. Recently published Amer\\n\\nican Society of Clinical Oncology Value Framework in the advanced\\n\\n\\ndisease setting and the European Society for Medical Oncology\\n\\n\\nMagnitude of Clinical Benefit Scale guidance highlighted the impor\\n\\ntance of a comprehensive assessment of the value of medicine that\\n\\nincludes not only efficacy and safety but also PROs. [13,14] Data pre\\n\\nsented here are, to the best of our knowledge, the first ever detailed\\n\\n\\ncancer‐related and lung cancer–specific PROs in patients receiving\\n\\n\\nfirst‐line cemiplimab plus chemotherapy who have advanced NSCLC\\n\\n\\nregardless of histology or PD‐L1 expression. We show that the\\n\\n\\nfavorable efficacy achieved with cemiplimab plus chemotherapy over\\n\\n\\nplacebo plus chemotherapy is accompanied by significant overall\\n\\n\\nimprovement in pain and significant delay in TTD in multiple patient‐\\n\\n\\nreported cancer‐related and lung cancer–specific functions and\\n\\n\\nsymptoms. When comparing between treatment arms, none of the\\n\\n\\nanalyses yielded statistically significant PRO results favoring the\\n\\n\\nplacebo plus chemotherapy arm. Systemic therapy with platinum‐based doublet chemotherapy\\n\\n\\nregimens, with or without maintenance therapy, was until recently\\n\\n\\nthe standard of care for first‐line treatment of patients with\\n\\n\\nadvanced NSCLC whose tumors do not have an _EGFR_ mutation, an\\n\\n\\n_ALK_ mutation, or an _ROS1_ fusion. [15–17] The introduction of immuno\\n\\ntherapy in combination with chemotherapy in metastatic NSCLC has\\n\\nimproved OS, progression‐free survival, [18–20] and QoL. [21,22] Our re\\n\\nsults further support the positive benefit‐risk profile of cemiplimab\\n\\n\\nplus chemotherapy combination therapy and show that cemiplimab\\n\\n\\nplus platinum‐based doublet chemotherapy may not impose toxicities\\n\\n\\nthat interfere with QoL in patients with advanced NSCLC. Although for every cycle from baseline to cycle 30, >85% and\\n\\n\\n>87% of patients in the cemiplimab plus chemotherapy and placebo\\n\\n\\nplus chemotherapy arms, respectively, completed at least one ques\\n\\ntion (baseline and post baseline) on each of the EORTC question\\n\\nnaires, the results may have overrepresented the patients who did\\n\\n\\nwell in both treatment arms because patients who progressed no\\n\\n\\nlonger completed the questionnaires. Future studies should also\\n\\n\\nincorporate the reasons for noncompletion of these questionnaires. Another limitation was that differences in baseline EORTC QLQ‐C30\\n\\n\\nand QLQ‐LC13 scores were compared to published EORTC refer\\n\\nence values, which may limit the generalizability of these results to\\n\\n\\nreal‐world patients with NSCLC; no adjustments were made for\\n\\n\\nmultiplicity. Patients receiving treatment for advanced NSCLC may be\\n\\n\\nsymptomatic, with significant impairment in daily activity and work\\n\\nproductivity. [4,23] Moreover, substantial burden on QoL from lung\\n\\ncancer–associated symptoms including pain, dyspnea, and cough [3,4]\\n\\nhave been associated with changes in ECOG performance status. [9]\\n\\n\\nDespite 84.3% and 14.8% of patients in EMPOWER‐Lung 3 having\\n\\n\\nECOG performance status of 1 and 0, respectively, the significant\\n\\n\\ndelay in TTD in these symptoms observed in EMPOWER‐Lung 3\\n\\n\\n\\n-----\\n\\n**2262**\\n\\n\\n\\n- PROS OF 1L CEMIPLIMAB + CHEMOTHERAPY IN ANSCLC\\n\\n\\n\\n**F I G U R E 2** Estimated overall change from baseline (MMRM) in full analysis set. (A) EORTC QLQ‐C30 GHS/QoL and functioning scales. (B) EORTC QLQ‐C30 symptom scales. (C) EORTC QLQ‐LC13 symptom scales. Arrow denotes direction of improved outcome. CEMI indicates\\ncemiplimab; CHEMO, chemotherapy; CI, confidence interval; EORTC, European Organisation for Research and Treatment of Cancer; GHS,\\nglobal health status; MMRM, mixed‐effects model for repeated measures; PBO, placebo; QLQ‐C30, Quality of Life‐Core 30; QLQ‐LC13,\\nQuality of Life‐Lung Cancer Module; QoL, quality of life. -----\\n\\nMAKHARADZE ET AL . - **2263**\\n\\n\\n\\n\\n**F I G U R E 3** TTD in EORTC QLQ‐C30 for the full analysis set: (A) GHS/QoL, (B) physical functioning, (C) pain, and (D) dyspnea. Definitive\\nclinically meaningful deterioration in GHS/QoL was defined as the time from randomization to the first observation with a ≥10‐point decrease\\nand no subsequent observations with a <10‐point decrease from baseline. Definitive clinically meaningful deterioration in the symptom scales\\nwas defined as the time from randomization to the first observation with a ≥10‐point increase and no subsequent observations with a <10‐\\npoint increase from baseline. CEMI indicates cemiplimab; CHEMO, chemotherapy; CI, confidence interval; EORTC QLQ‐C30, European\\nOrganisation for Research and Treatment of Cancer Quality of Life‐Core 30; GHS, global health status; NYR, not yet reached; PBO, placebo;\\nQoL, quality of life; TTD, time to clinically meaningful deterioration. further supports a clinically meaningful QoL benefit with cemipli\\n\\nmab plus chemotherapy. In addition, approximately 39% of patients\\n\\n\\nwith advanced NSCLC have brain metastases [24] with common\\n\\n\\nmanifestations of pain, nausea/vomiting, and headache. [25] Our re\\n\\nsults showed that cemiplimab plus chemotherapy led to a significant\\n\\n\\noverall improvement and a significant delay in TTD in pain symp\\n\\ntoms compared with platinum‐based doublet chemotherapy alone. Treatment with cemiplimab plus chemotherapy also significantly\\n\\n\\ndelayed TTD in physical functioning, role functioning, emotional\\n\\n\\nfunctioning, dyspnea, nausea/vomiting, constipation, and most QLQ‐\\n\\n\\nLC13 symptoms compared with placebo plus chemotherapy. Delay\\n\\n\\nin TTD in physical and role functions are particularly pertinent,\\n\\n\\ngiven the anticipated continued improvements in cancer survivor\\nship among patients with advanced NSCLC. [26,27] Future studies\\n\\n\\nshould also incorporate the collection of PROs pertaining to\\n\\n\\nimmune‐related or symptomatic toxicities related to checkpoint\\n\\n\\ninhibitors. As disease progression may negatively affect QoL, delaying\\n\\n\\nprogression could slow the deterioration in QoL, except for any sig\\n\\nnificant detrimental treatment‐related toxicity. In EMPOWER‐Lung\\n\\n\\n3, we observed low rates of adverse events leading to discontinua\\n\\ntion, and a safety profile generally consistent with those known for\\n\\n\\ncemiplimab and for platinum‐based chemotherapy. The positive PRO\\n\\n\\nresults observed in EMPOWER‐Lung 3 suggest that, overall, the\\n\\n\\nadverse events did not detrimentally affect QoL in patients treated\\n\\n\\n\\nwith cemiplimab plus chemotherapy compared with platinum‐based\\n\\n\\ndoublet chemotherapy alone from a patient's perspective. Favorable PRO results of cemiplimab monotherapy in advanced\\n\\nNSCLC with PD‐L1 expression ≥50% [5] and from pembrolizumab in\\n\\n\\ncombination with chemotherapy among patients with metastatic\\n\\nNSCLC regardless of PD‐L1 expression [21,22] suggest an encouraging\\n\\n\\noutlook with respect to the effects of PD‐1 inhibitors on QoL. Our\\n\\n\\nobserved positive cancer‐related and lung cancer–specific PROs\\n\\n\\nsupport the concept that the superior efficacy and favorable safety\\n\\n\\nprofile of cemiplimab plus chemotherapy translate to better PROs\\n\\n\\ncompared with platinum‐based doublet chemotherapy alone in pa\\n\\ntients with advanced NSCLC regardless of histology and PD‐L1\\n\\n\\nexpression. **AUTHOR CONTRIBUTIONS**\\n\\n\\n**Tamta Makharadze:** Investigation, writing–review and editing, and\\n\\n\\nformal analysis. **Ruben G. W. Quek:** Conceptualization, methodology,\\n\\n\\nwriting–original draft, writing–review and editing, and formal anal\\n\\nysis. **Tamar Melkadze:** Investigation, writing–review and editing, and\\n\\n\\nformal analysis. **Miranda Gogishvili:** Investigation, writing–review\\n\\n\\nand editing, and formal analysis. **Cristina Ivanescu:** Conceptualiza\\n\\ntion, methodology, writing–review and editing, and formal analysis. **Davit Giorgadze:** Investigation, writing–review and editing, and\\n\\n\\nformal analysis. **Mikhail Dvorkin:** Investigation, writing–review and\\n\\n\\nediting, and formal analysis. **Konstantin Penkov:** Investigation,\\n\\n\\n\\n-----\\n\\n**2264**\\n\\n\\n\\n- PROS OF 1L CEMIPLIMAB + CHEMOTHERAPY IN ANSCLC\\n\\n\\n\\nwriting–review and editing, and formal analysis. **Konstantin Laktio-**\\n\\n\\n**nov:** Investigation, writing–review and editing, and formal analysis. **Gia Nemsadze:** Investigation, writing–review and editing, and formal\\n\\n\\nanalysis. **Marina Nechaeva:** Investigation, writing–review and editing,\\n\\n\\nand formal analysis. **Irina Rozhkova:** Investigation, writing–review\\n\\n\\nand editing, and formal analysis. **Ewa** **Kalinka:** Investigation,\\n\\n\\nwriting–review and editing, and formal analysis. **Christian Gessner:**\\n\\n\\nConceptualization, writing–review and editing, and formal analysis. **Brizio Moreno‐Jaime:** Conceptualization, writing–review and editing,\\n\\n\\nand formal analysis. **Rodolfo** **Passalacqua:** Conceptualization,\\n\\n\\nwriting–review and editing, and formal analysis. **Gerasimos Koni-**\\n\\n\\n**daris:** Conceptualization, writing–review and editing, and formal\\n\\n\\nanalysis. **Petra Rietschel:** Conceptualization, writing–review and\\n\\n\\nediting, and formal analysis. **Giuseppe Gullo:** Conceptualization,\\n\\n\\nwriting–review and editing, and formal analysis. **ACKNOWLEDGMENTS**\\n\\n\\nThe authors thank the patients, their families, all other investigators,\\n\\n\\nand all investigational site members involved in this study. Medical\\n\\n\\nwriting support under the direction of the authors was provided by\\n\\n\\nJenna Lee, MSc, of Prime (Knutsford, UK) and funded by Regeneron\\n\\n\\nPharmaceuticals, Inc, according to Good Publication Practice guide\\n\\nlines [(https://www.acpjournals.org/doi/10.7326/M15‐0288).](https://www.acpjournals.org/doi/10.7326/M15-0288) This\\n\\n\\nstudy was sponsored by Regeneron Pharmaceuticals, Inc, and Sanofi. The sponsor was involved in the study design, collection, analysis, and\\n\\n\\ninterpretation of data, as well as data checking of information pro\\n\\nvided in the manuscript. The authors had unrestricted access to study\\n\\n\\ndata, were responsible for all content and editorial decisions, and\\n\\n\\nreceived no honoraria related to the development of this publication. **CONFLICT OF INTEREST STATEMENT**\\n\\n\\nRuben G. W. Quek holds shares and/or stock options in Regeneron\\n\\n\\nPharmaceuticals, Inc. Petra Rietschel holds shares and/or stock op\\n\\ntions in Regeneron Pharmaceuticals, Inc. Giuseppe Gullo holds shares\\n\\n\\nand/or stock options in Regeneron Pharmaceuticals, Inc. Konstantin\\n\\n\\nPenkov reports honoraria from AstraZeneca, Merck Sharp and\\n\\n\\nDohme, Nektar, Pfizer, Regeneron Pharmaceuticals, Inc, and Roche,\\n\\n\\nand serves in a consulting or advisory role with Nektar. Ewa Kalinka\\n\\n\\nreports honoraria from Merck Sharp and Dohme, Bristol‐Myers\\n\\n\\nSquibb, Nektar, Pfizer, Roche, AstraZeneca, Amgen, and Regeneron\\n\\n\\nPharmaceuticals, Inc. Christian Gessner reports advisory board fees\\n\\n\\nor honoraria from GlaxoSmithKline, Pfizer, AstraZeneca, Roche,\\n\\n\\nNovartis, Bristol‐Myers Squibb, Merck Sharp and Dohme, Berlin‐\\n\\n\\nChemie, Chiesi, Boehringer Ingelheim, and Sanofi and consulting or\\n\\n\\nadvisory fees from Regeneron Pharmaceuticals, Inc. Rodolfo Passa\\n\\nlacqua reports advisory board or speaker roles for Astellas, Bristol‐\\n\\n\\nMyers Squibb, Ipsen, Janssen, Merck Sharp & Dohme, Roche, and\\n\\n\\nSanofi‐Aventis, institutional funding for research projects from\\n\\n\\nAmgen, AstraZeneca, Novartis, and Pierre‐Fabre, consulting fees\\n\\n\\nfrom Regeneron Pharmaceuticals, Inc, and travel funding from\\n\\n\\nAstellas Pharma and Novartis. Gerasimos Konidaris holds shares and/\\n\\n\\nor stock options in Sanofi. Cristina Ivanescu reports employment at\\n\\n\\n\\nIQVIA and institutional research funding from Regeneron Pharma\\n\\nceuticals, Inc. The other authors declare no conflicts of interest. **DATA AVAILABILITY STATEMENT**\\n\\n\\nQualified researchers may request access to study documents\\n\\n\\n(including the clinical study report, study protocol with any amend\\n\\nments, blank case report form, and statistical analysis plan) that\\n\\n\\nsupport the methods and findings reported in this manuscript. Indi\\n\\nvidual anonymized participant data will be considered for sharing\\n\\n\\nonce the product and indication has been approved by major health\\n\\n\\nauthorities (e.g., US Food and Drug Administration, European Medi\\n\\ncines Agency, Pharmaceuticals and Medical Devices Agency, etc.), if\\n\\n\\nthere is legal authority to share the data and there is not a reason\\n\\nable likelihood of participant re‐identification. Submit requests to\\n\\n\\n[https://vivli.org/.](https://vivli.org/)\\n\\n\\n**REFERENCES**\\n\\n\\n1. Gogishvili M, Melkadze T, Makharadze T, et al. Cemiplimab plus\\n\\nchemotherapy versus chemotherapy alone in non‐small cell lung\\n\\ncancer: a randomized, controlled, double‐blind phase 3 trial. _Nat_\\n_Med_ [. 2022;28(11):2374‐2380. doi:10.1038/s41591‐022‐01977‐y](https://doi.org/10.1038/s41591-022-01977-y)\\n\\n2. Sjøblom B, Benth J, Grønberg BH, et al. Drug dose per kilogram lean\\n\\nbody mass predicts hematologic toxicity from carboplatin‐doublet\\n\\nchemotherapy in advanced non‐small‐cell lung cancer. _Clin Lung_\\n_Cancer_ [. 2017;18(2):e129‐e136. doi:10.1016/j.cllc.2016.09.008](https://doi.org/10.1016/j.cllc.2016.09.008)\\n\\n3. Iyer S, Roughley A, Rider A, Taylor‐Stokes G. The symptom burden\\n\\nof non‐small cell lung cancer in the USA: a real‐world cross‐sectional\\nstudy. _Support_ _Care_ _Cancer_ . 2014;22(1):181‐187. [doi:10.1007/](https://doi.org/10.1007/s00520-013-1959-4)\\n\\n[s00520‐013‐1959‐4](https://doi.org/10.1007/s00520-013-1959-4)\\n\\n4. Iyer S, Taylor‐Stokes G, Roughley A. Symptom burden and quality of\\n\\nlife in advanced non‐small cell lung cancer patients in France and\\nGermany. _Lung Cancer_ [. 2013;81(2):288‐293. doi:10.1016/j.lungcan.](https://doi.org/10.1016/j.lungcan.2013.03.008)\\n\\n[2013.03.008](https://doi.org/10.1016/j.lungcan.2013.03.008)\\n\\n5. Gumus M, Chen C‐I, Ivanescu C, et al. Patient‐reported symptoms,\\nfunctioning, and quality of life (QoL) in patients treated with cemiplimab monotherapy for first‐line treatment of advanced NSCLC with\\n\\nPD‐L1 ≥ 50%: results from EMPOWER‐Lung 1 study. _J Clin Oncol_ . [2021;39(15_Suppl):9078. doi:10.1200/jco.2021.39.15_suppl.9078](https://doi.org/10.1200/jco.2021.39.15_suppl.9078)\\n\\n6. Makharadze T, Quek RG, Melkadze T, et al. Patient‐reported outcomes (PROs) with cemiplimab or placebo plus platinum‐doublet\\nchemotherapy (chemo) for first‐line (1L) treatment of advanced\\nnon‐small cell lung cancer (aNSCLC): EMPOWER‐Lung 3 trial. _Ann_\\n_Oncol_ . 2021;32(Suppl_5):S1398‐S1427. 7. Gogishvili M, Melkadze T, Makharadze T, et al. EMPOWER‐Lung 3:\\n\\ncemiplimab in combination with platinum doublet chemotherapy for\\nfirst‐line (1L) treatment of advanced non‐small cell lung cancer\\n(NSCLC). _Ann Oncol_ . 2021;32(Suppl_5):S1283‐S1346. 8. Aaronson NK, Ahmedzai S, Bergman B, et al. The European Or\\nganization for Research and Treatment of Cancer QLQ‐C30: a\\n\\nquality‐of‐life instrument for use in international clinical trials in\\noncology. _J Natl Cancer Inst_ [. 1993;85(5):365‐376. doi:10.1093/jnci/](https://doi.org/10.1093/jnci/85.5.365)\\n\\n[85.5.365](https://doi.org/10.1093/jnci/85.5.365)\\n\\n9. Bergman B, Aaronson NK, Ahmedzai S, et al. The EORTC QLQ‐LC13:\\n\\na modular supplement to the EORTC Core Quality of Life Questionnaire (QLQ‐C30) for use in lung cancer clinical trials. EORTC\\nStudy Group on Quality of Life. _Eur J Cancer_ . 1994;30A(5):635‐642. [doi:10.1016/0959‐8049(94)90535‐5](https://doi.org/10.1016/0959-8049(94)90535-5)\\n\\n10. Fayers PM, Aaronson NK, Bjordal K, et al. _The EORTC QLQ‐C30_\\n\\n_scoring manual_ . EORTC Quality of Life Group; 2001. -----\\n\\nMAKHARADZE ET AL . 11. Osoba D, Rodrigues G, Myles J, Zee B, Pater J. Interpreting the\\nsignificance of changes in health‐related quality‐of‐life scores. _J Clin_\\n_Oncol_ [. 1998;16(1):139‐144. doi:10.1200/jco.1998.16.1.139](https://doi.org/10.1200/jco.1998.16.1.139)\\n\\n12. Scott NW, Fayers P, Aaronson NK, et al. _EORTC QLQ‐C30 reference_\\n\\n_values_ . EORTC Quality of Life Group; 2008. 13. Cherny NI, Dafni U, Bogaerts J, et al. ESMO‐Magnitude of Clinical\\nBenefit Scale version 1.1. _Ann Oncol_ . 2017;28(10):2340‐2366. [doi:10.1093/annonc/mdx310](https://doi.org/10.1093/annonc/mdx310)\\n\\n14. American Society of Clinical Oncology. Value framework net health\\n[benefit worksheet: advanced disease setting. https://www.asco.org/](https://www.asco.org/sites/new-www.asco.org/files/content-files/practice-and-guidelines/documents/2020-NHB-advanced-disease-setting-worksheet.pdf)\\n[sites/new‐www.asco.org/files/content‐files/practice‐and‐guidelines/](https://www.asco.org/sites/new-www.asco.org/files/content-files/practice-and-guidelines/documents/2020-NHB-advanced-disease-setting-worksheet.pdf)\\n\\n[documents/2020‐NHB‐advanced‐disease‐setting‐worksheet.pdf.](https://www.asco.org/sites/new-www.asco.org/files/content-files/practice-and-guidelines/documents/2020-NHB-advanced-disease-setting-worksheet.pdf)\\n\\nAccessed May 12, 2022. 15. Besse B, Adjei A, Baas P, et al. 2nd ESMO Consensus Conference on\\nLung Cancer: non‐small‐cell lung cancer first‐line/second and\\n\\nfurther lines of treatment in advanced disease. _Ann_ _Oncol_ . [2014;25(8):1475‐1484. doi:10.1093/annonc/mdu123](https://doi.org/10.1093/annonc/mdu123)\\n\\n16. Ettinger DS, Wood DE, Akerley W, et al. NCCN guidelines insights:\\n\\nnon‐small cell lung cancer, version 4.2016. _J Natl Compr Canc Netw_ . [2016;14(3):255‐264. doi:10.6004/jnccn.2016.0031](https://doi.org/10.6004/jnccn.2016.0031)\\n\\n17. Reck M, Popat S, Reinmuth N, De Ruysscher D, Kerr K, Peters S. Metastatic non‐small‐cell lung cancer (NSCLC): ESMO Clinical\\n\\nPractice Guidelines for diagnosis, treatment and follow‐up. _Ann_\\n_Oncol_ [. 2014;25(Suppl 3):iii27‐iii39. doi:10.1093/annonc/mdu199](https://doi.org/10.1093/annonc/mdu199)\\n\\n18. Gandhi L, Rodriguez‐Abreu D, Gadgeel S, et al. Pembrolizumab plus\\n\\nchemotherapy in metastatic non‐small‐cell lung cancer. _N Engl J Med_ . [2018;378(22):2078‐2092. doi:10.1056/nejmoa1801005](https://doi.org/10.1056/nejmoa1801005)\\n\\n19. Jotte R, Cappuzzo F, Vynnychenko I, et al. Atezolizumab in\\n\\ncombination with carboplatin and nab‐paclitaxel in advanced\\nsquamous NSCLC (IMpower131): results from a randomized phase\\nIII trial. _J Thorac Oncol_ [. 2020;15(8):1351‐1360. doi:10.1016/j.jtho.](https://doi.org/10.1016/j.jtho.2020.03.028)\\n\\n[2020.03.028](https://doi.org/10.1016/j.jtho.2020.03.028)\\n\\n20. Paz‐Ares L, Luft A, Vicente D, et al. Pembrolizumab plus chemo\\ntherapy for squamous non‐small‐cell lung cancer. _N Engl J Med_ . [2018;379(21):2040‐2051. doi:10.1056/nejmoa1810865](https://doi.org/10.1056/nejmoa1810865)\\n\\n21. Garassino MC, Gadgeel S, Esteban E, et al. Patient‐reported out\\ncomes following pembrolizumab or placebo plus pemetrexed and\\n\\nplatinum in patients with previously untreated, metastatic, non‐\\nsquamous non‐small‐cell lung cancer (KEYNOTE‐189): a multi\\ncentre, double‐blind, randomised, placebo‐controlled, phase 3 trial. - **2265**\\n\\n\\n_Lancet_ _Oncol_ . 2020;21(3):387‐397. [doi:10.1016/s1470‐2045(19)](https://doi.org/10.1016/s1470-2045(19)30801-0)\\n\\n[30801‐0](https://doi.org/10.1016/s1470-2045(19)30801-0)\\n\\n22. Mazieres J, Kowalski D, Luft A, et al. Health‐related quality of life\\n\\nwith carboplatin‐paclitaxel or nab‐paclitaxel with or without pem\\nbrolizumab in patients with metastatic squamous non‐small‐cell lung\\ncancer. _J Clin Oncol_ [. 2020;38(3):271‐280. doi:10.1200/jco.19.01348](https://doi.org/10.1200/jco.19.01348)\\n\\n23. Granger CL, McDonald CF, Irving L, et al. Low physical activity levels\\n\\nand functional decline in individuals with lung cancer. _Lung Cancer_ . [2014;83(2):292‐299. doi:10.1016/j.lungcan.2013.11.014](https://doi.org/10.1016/j.lungcan.2013.11.014)\\n\\n24. Bagley SJ, Talento S, Mitra N, et al. Comparative effectiveness of\\n\\ncarboplatin/pemetrexed with versus without bevacizumab for\\n\\nadvanced nonsquamous non‐small cell lung cancer. _J Natl Compr_\\n_Canc Netw_ [. 2019;17(5):469‐477. doi:10.6004/jnccn.2018.7102](https://doi.org/10.6004/jnccn.2018.7102)\\n\\n25. Guérin A, Sasane M, Zhang JF, et al. Brain metastases in patients\\n\\nwith ALK+ non‐small cell lung cancer: clinical symptoms, treatment\\npatterns and economic burden. _J Med Econ_ . 2015;18(4):312‐322. [doi:10.3111/13696998.2014.1003644](https://doi.org/10.3111/13696998.2014.1003644)\\n\\n26. Xia W, Yu X, Mao Q, et al. Improvement of survival for non‐small cell\\n\\nlung cancer over time. _Onco Targets Ther_ . 2017;10:4295‐4303. [doi:10.2147/ott.s145036](https://doi.org/10.2147/ott.s145036)\\n\\n27. Miller KD, Siegel RL, Lin CC, et al. Cancer treatment and survivorship statistics, 2016. _CA Cancer J Clin_ [. 2016;66(4):271‐289. doi:10.](https://doi.org/10.3322/caac.21349)\\n\\n[3322/caac.21349](https://doi.org/10.3322/caac.21349)\\n\\n\\n**SUPPORTING INFORMATION**\\n\\n\\nAdditional supporting information can be found online in the Sup\\n\\nporting Information section at the end of this article. **How to cite this article:** Makharadze T, Quek RGW, Melkadze\\n\\n\\nT, et al. Quality of life with cemiplimab plus chemotherapy for\\n\\n\\nfirst‐line treatment of advanced non–small cell lung cancer:\\n\\n\\npatient‐reported outcomes from phase 3 EMPOWER‐Lung 3. _Cancer_ [. 2023;129(14):2256‐2265. doi:10.1002/cncr.34687](https://doi.org/10.1002/cncr.34687)\\n\\n\\n\""
      ]
     },
     "execution_count": 28,
     "metadata": {},
     "output_type": "execute_result"
    }
   ],
   "source": [
    "chunks[0].page_content"
   ]
  },
  {
   "cell_type": "markdown",
   "id": "8ca1ca1a",
   "metadata": {},
   "source": [
    "## **Implementation 03:**\n",
    "\n",
    "* **`Breakpoint Type:` Interquartile**\n",
    "    * In this method, the interquartile distance is used to split chunks. The interquartile range can be scaled by the keyword argument `breakpoint_threshold_amount`, the default value is `1.5`."
   ]
  },
  {
   "cell_type": "code",
   "execution_count": 29,
   "id": "050421d7",
   "metadata": {},
   "outputs": [],
   "source": [
    "text_splitter_interquantile = SemanticChunker(\n",
    "    embeddings=embeddings,\n",
    "    breakpoint_threshold_type=\"interquartile\",\n",
    "    breakpoint_threshold_amount=1.5, # default\n",
    "    min_chunk_size=10\n",
    ")\n",
    "\n",
    "chunks = text_splitter_interquantile.create_documents(texts=[docs[0].page_content])\n"
   ]
  },
  {
   "cell_type": "code",
   "execution_count": 30,
   "id": "6e00cb0e",
   "metadata": {},
   "outputs": [
    {
     "data": {
      "text/plain": [
       "17"
      ]
     },
     "execution_count": 30,
     "metadata": {},
     "output_type": "execute_result"
    }
   ],
   "source": [
    "len(chunks)"
   ]
  },
  {
   "cell_type": "code",
   "execution_count": 31,
   "id": "9b4496ce",
   "metadata": {},
   "outputs": [
    {
     "data": {
      "text/plain": [
       "\"Received: 19 July 2022\\n\\n\\n## **-**\\n\\n\\n\\nRevised: 13 September 2022\\n\\n\\n## **-**\\n\\n\\n\\nAccepted: 17 October 2022\\n\\n\\n\\n[DOI: 10.1002/cncr.34687](https://doi.org/10.1002/cncr.34687)\\n\\n\\n**O R I G I N A L A R T I C L E**\\n\\n# **Quality of life with cemiplimab plus chemotherapy for** **first‐line treatment of advanced non–small cell lung cancer:** **Patient‐reported outcomes from phase 3 EMPOWER‐Lung 3**\\n\\n\\n**Tamta Makharadze MD** **[1]** | **Ruben G. W. Quek PhD** **[2]** | **Tamar Melkadze MD** **[3]** |\\n**Miranda Gogishvili MD** **[4]** | **Cristina Ivanescu PhD** **[5]** | **Davit Giorgadze MD** **[6]** |\\n**Mikhail Dvorkin MD** **[7]** | **Konstantin Penkov MD** **[8]** | **Konstantin Laktionov MD** **[9]** |\\n\\n**Gia Nemsadze MD** **[10]** | **Marina Nechaeva MD** **[11]** | **Irina Rozhkova MD** **[12]** |\\n**Ewa Kalinka MD** **[13]** | **Christian Gessner MD** **[14]** | **Brizio Moreno‐Jaime MD** **[15]** |\\n**Rodolfo Passalacqua MD** **[16]** | **Gerasimos Konidaris MSc** **[17]** | **Petra Rietschel MD, PhD** **[2]** |\\n\\n**Giuseppe Gullo MD** **[2]**\\n\\n\\n1 LTD High Technology Hospital Med Center, Batumi, Georgia\\n\\n\\n2 Regeneron Pharmaceuticals, Inc, Tarrytown, New York, USA\\n\\n\\n3 Acad. F. Todua Medical Center, Tbilisi, Georgia\\n\\n\\n4 High Technology Medical Centre, University Clinic, Ltd, Tbilisi, Georgia\\n\\n\\n5 Patient Centered Endpoints, IQVIA, Amsterdam, Netherlands\\n\\n\\n6 David Tvildiani Medical University, Tbilisi, Georgia\\n\\n\\n7 State Budgetary Healthcare Institution of Omsk Region, Omsk, Russia\\n\\n\\n8 Private Medical Institution Euromedservice, St Petersburg, Russia\\n\\n\\n9 Federal State Budgetary Institution “N.N. Blokhin National Medical Research Center of Oncology” of the Ministry of Health of the Russian Federation, Moscow,\\n\\nRussia\\n\\n\\n10 The Institute of Clinical Oncology, Tbilisi, Georgia\\n\\n\\n11 Chelyabinsk Regional Clinical Oncology Center, Chelyabinsk, Russia\\n\\n\\n12 State Budgetary Healthcare Institution of Kaluga Region, Kaluga, Russia\\n\\n\\n13 Polish Mother's Memorial Hospital Research Institute, Łódź, Poland\\n\\n\\n14 POIS Leipzig GbR Steffi Geßner, Leipzig, Germany\\n\\n\\n15 Hospital Regional ISSSTE, Leon, Mexico\\n\\n\\n16 Istituti Ospitalieri Di Cremona, Cremona, Italy\\n\\n\\n17 Sanofi, Reading, UK\\n\\n\\n**Correspondence**\\n\\n\\n\\nTamta Makharadze, LTD High Technology\\n\\nHospital Med Center, 118 Pushkini str,\\n\\nBatumi 6000, Georgia. [Email: tamta.makharadze@gmail.com](mailto:tamta.makharadze@gmail.com)\\n\\n\\nThe trial registration is ClincalTrials.gov NCT03409614. **Abstract**\\n\\n\\n**Background:** EMPOWER‐Lung 3, a randomized 2:1 phase 3 trial, showed clinically\\n\\n\\nmeaningful and statistically significant overall survival improvement with cemipli\\n\\nmab plus platinum‐doublet chemotherapy versus placebo plus chemotherapy for\\n\\n\\n\\n[This is an open access article under the terms of the Creative Commons Attribution‐NonCommercial‐NoDerivs License, which permits use and distribution in any](http://creativecommons.org/licenses/by-nc-nd/4.0/)\\nmedium, provided the original work is properly cited, the use is non‐commercial and no modifications or adaptations are made. © 2023 The Authors. Cancer published by Wiley Periodicals LLC on behalf of American Cancer Society. _Cancer._ 2023;129:2256–2265. [wileyonlinelibrary.com/journal/cncr](http://wileyonlinelibrary.com/journal/cncr)\\n\\n\\n\\n**2256**\\n\\n\\n### ~~**-**~~\\n\\n\\n\\n-----\\n\\nMAKHARADZE ET AL . - **2257**\\n\\n\\n\\n**Funding information**\\n\\nRegeneron Pharmaceuticals, Inc.; Sanofi first‐line treatment of advanced non–small cell lung cancer. This study evaluated\\n\\npatient‐reported outcomes (PROs). **Methods:** PROs were assessed at day 1 (baseline), the start of each treatment cycle\\n\\n\\n(every 3 weeks) for the first six doses, and then at start of every three cycles, using\\n\\n\\nthe European Organisation for Research and Treatment of Cancer (EORTC) Quality\\n\\n\\nof Life‐Core 30 (QLQ‐C30) and Quality of Life‐Lung Cancer Module (QLQ‐LC13)\\n\\n\\nquestionnaires. Prespecified analyses included a longitudinal mixed‐effect model\\n\\n\\ncomparing treatment arms and a time to definitive clinically meaningful deteriora\\n\\ntion (TTD) analysis performed for global health status/quality of life (GHS/QoL) and\\n\\n\\nall scales from the questionnaires. Between‐arm TTD comparisons were made using\\n\\n\\na stratified log‐rank test and proportional hazards model. **Results:** A total of 312 patients were assigned to receive cemiplimab plus platinum‐\\n\\n\\ndoublet chemotherapy and 154 to receive placebo plus chemotherapy; 391 (83.9%)\\n\\n\\nwere male and the median age was 63.0 years (range, 25–84). For pain symptoms\\n\\n\\n−\\n(EORTC QLQ‐C30), a statistically significant overall improvement from baseline ( 4.98,\\n\\n\\n95% confidence interval [CI] −8.36 to −1.60, _p_ = .004) and a statistically significant\\n\\n\\ndelay in TTD (hazard ratio, 0.39; 95% CI, 0.26–0.60, _p_ < .0001) favoring cemipli\\n\\nmab plus chemotherapy were observed. Statistically significant delays in TTD, all\\n\\n\\nfavoring cemiplimab plus chemotherapy, were also observed in functioning and symp\\n\\ntom scales. A significant overall improvement from baseline in GHS/QoL was seen for\\n\\n\\ncemiplimab plus chemotherapy compared with nonsignificant overall change from\\n\\n\\nbaseline for placebo plus chemotherapy (1.69, 95% CI, 0.20–3.19 vs. 1.08, 95% CI, –1.34\\n\\n\\nto 3.51; between arms, _p_ = .673). No analyses yielded statistically significant PRO\\n\\n\\nresults favoring placebo plus chemotherapy for any QLQ‐C30 or QLQ‐LC13 scale. **Conclusion:** Cemiplimab plus chemotherapy resulted in significant overall\\n\\n\\nimprovement in pain symptoms and delayed TTD in cancer‐related and lung cancer–\\n\\n\\nspecific symptoms and functions. **K E Y W O R D S**\\n\\nadvanced non–small cell lung cancer, cemiplimab, non–small cell lung cancer, patient‐reported\\n\\noutcome, quality of life\\n\\n\\n\\n**INTRODUCTION**\\n\\n\\nIn the EMPOWER‐Lung 3 trial (NCT03409614), the efficacy and\\n\\n\\nsafety of cemiplimab—a human immunoglobulin G4 monoclonal\\n\\n\\nantibody to the programmed cell death‐1 (PD‐1) receptor—plus in\\n\\nvestigator's choice of platinum‐doublet chemotherapy were\\n\\n\\ncompared with placebo plus chemotherapy for the first‐line treat\\n\\nment of patients with advanced squamous or nonsquamous non–\\n\\n\\nsmall cell lung cancer (NSCLC) regardless of PD‐ligand 1 (PD‐L1)\\n\\n\\nexpression and with no anaplastic lymphoma kinase ( _ALK_ ), epidermal\\n\\n\\ngrowth factor receptor ( _EGFR_ ), or c‐Ros oncogene 1 ( _ROS1_ ) aberra\\n\\ntions. Primary results showed clinically meaningful and statistically\\n\\n\\nsignificant improvement in overall survival (OS) and progression‐free\\n\\nsurvival versus placebo plus chemotherapy. [1]\\n\\n\\nTreatments often intend to extend OS and maintain or improve\\n\\n\\nquality of life (QoL); however, treatment‐related toxicity can\\n\\n\\n\\ndeteriorate QoL among patients with advanced NSCLC. [2] The\\n\\n\\nimprovement, maintenance, or delay in deterioration in QoL is an\\n\\n\\nimportant goal in advanced NSCLC, for which treatment is palliative. Disease‐related symptoms of pain, dyspnea, and cough are reported\\n\\nto have a substantial negative effect on lung cancer–specific QoL. [3,4]\\n\\n\\nWhen assessing novel therapies, it is therefore necessary to consider\\n\\n\\npatient‐reported outcomes (PROs) as a key component of benefit‐\\n\\n\\nrisk profile evaluation. Such measurements are important when\\n\\n\\ndetermining the quality of the time gained by delaying cancer pro\\n\\ngression and improving survival. Cemiplimab monotherapy was\\n\\n\\nshown in the EMPOWER‐Lung 1 trial to significantly improve QoL,\\n\\n\\nfunctioning, and most symptoms versus platinum‐doublet chemo\\n\\ntherapy in patients with advanced NSCLC and PD‐L1 expression\\n\\n≥50%. [5] Top‐level PRO results of EMPOWER‐Lung 3 were recently\\n\\npresented. [6] This study reports detailed cancer‐related and lung\\n\\n\\ncancer–specific PROs from the EMPOWER‐Lung 3 trial. -----\\n\\n**2258**\\n\\n\\n\\n- PROS OF 1L CEMIPLIMAB + CHEMOTHERAPY IN ANSCLC\\n\\n\\n\\n**MATERIALS AND METHODS**\\n\\n\\n**Study design and participants**\\n\\n\\nThe EMPOWER‐Lung 3 study [7] was a multicenter, multinational,\\n\\n\\nrandomized, placebo‐controlled, double‐blind, phase 3 trial\\n\\n\\ncomparing the efficacy, safety, and PROs of cemiplimab (350 mg)\\n\\n\\nevery 3 weeks intravenous plus investigator's choice of platinum‐\\n\\n\\ndoublet chemotherapy (paclitaxel plus carboplatin or cisplatin,\\n\\n\\npemetrexed plus carboplatin or cisplatin) versus placebo plus\\n\\n\\nchemotherapy using 2:1 randomization in patients with stage IIIB,\\n\\n\\nIIIC, or stage IV nonsquamous or squamous NSCLC with no _EGFR_\\n\\n\\nmutation, _ALK_ mutation, or _ROS1_ fusion (Figure S1). **PRO assessments**\\n\\n\\nPROs were assessed as secondary end points using the European\\n\\n\\nOrganisation for Research and Treatment of Cancer Quality of Life‐\\n\\n\\nCore 30 (EORTC QLQ‐C30, version 3.0) questionnaire and its Lung\\n\\n\\nCancer Module (QLQ‐LC13) using patient self‐administered paper\\n\\n\\nforms at day 1 (baseline), the start of each treatment cycle (every\\n\\n\\n3 weeks) for the first six doses, then at the start of every three cycles,\\n\\n\\nand at the end of treatment, or end of study for patients who dis\\n\\ncontinued treatment due to progressive disease. The EORTC QLQ‐C30 is a clinically validated measure of QoL\\n\\n\\ncomprising five multi‐item functioning subscales, three multi‐item\\n\\n\\nsymptom scales, a global health status (GHS)/QoL subscale, and six\\n\\n\\nsingle‐item symptom scales assessing other disease‐ and treatment‐\\n\\nrelated symptoms. [8] The EORTC QLQ‐LC13 is a clinically validated\\n\\n\\nlung cancer–specific module comprising multi‐item and single‐item\\n\\n\\nmeasures of lung cancer–associated symptoms (i.e., coughing, he\\n\\nmoptysis, dyspnea, site‐specific pain) and side‐effects from therapy\\n\\n(i.e., hair loss, neuropathy, sore mouth, dysphagia). [9] All responses to\\n\\n\\nitems are normalized to a 0–100 scale using a standard scoring al\\ngorithm. [10] For functioning and GHS/QoL scales, higher scores\\n\\n\\ncorrespond to a better level of functioning and QoL. For symptom\\n\\n\\nscales, a higher score corresponds to a higher level of symptom\\n\\n\\nseverity. Thus, a negative change from baseline in symptom scales\\n\\n\\ncorresponds to an improvement and a positive change corresponds\\n\\n\\nto deterioration. Conversely, a negative change from baseline in\\n\\n\\nfunctioning and GHS/QoL scales corresponds to deterioration, and a\\n\\n\\npositive change corresponds to improvement. **Statistical analysis**\\n\\n\\nAll PRO analyses presented are prespecified and used the full analysis\\n\\n\\nset (FAS), defined as all patients to whom study treatment was assigned\\n\\n\\nby randomization. Time‐to‐event analyses were performed on the FAS. The longitudinal change‐from‐baseline analyses were done on the FAS\\n\\n\\nwith patients who had a baseline PRO assessment and at least one PRO\\n\\n\\nassessment after baseline. Completion rates were summarized. To estimate longitudinal changes from baseline in EORTC QLQ‐\\n\\n\\nC30 and QLQ‐LC13 scales, we used a longitudinal mixed‐effects\\n\\n\\nmodel for repeated measures (MMRM) with time, therapy, therapy\\n\\n\\nby time, histology (nonsquamous, squamous), PD‐L1 expression level\\n\\n\\n(<1%, 1–49%, ≥50%), baseline, and baseline by time as covariates. This MMRM analysis was performed on the changes from baseline\\n\\n\\nfor EORTC QLQ‐C30 and QLQ‐LC13 scales; overall change from\\n\\n\\nbaseline was estimated using least square means across time points. We also performed an analysis of time to definitive clinically mean\\n\\ningful deterioration (TTD) in all functioning and symptom scales. We\\n\\n\\ndefined definitive clinically meaningful deterioration in GHS/QoL and\\n\\n\\nfunctioning scales as the time from randomization to the first\\n\\n\\nobservation with a greater than or equal to 10‐point decrease and no\\n\\n\\nsubsequent observations with a less than 10‐point decrease from\\n\\n\\nbaseline or until patient drop‐out resulting in missing data. In the\\n\\n\\ncase of missing items, the scores were calculated as indicated in the\\n\\n\\nscoring manuals for each of the PRO instruments. No imputation of\\n\\n\\nthe items was performed. We defined definitive clinically meaningful deterioration in the\\n\\n\\nsymptom scales as the time from randomization to the first\\n\\n\\nobservation with a greater than or equal to 10‐point increase and\\n\\n\\nno subsequent observations with a less than 10‐point increase\\n\\n\\nfrom baseline or until patient drop‐out resulting in missing data. Established 10‐point threshold value for minimally important dif\\nferences from the patient perspective were used. [11] Patients who\\n\\n\\ndid not satisfy the deterioration criteria were censored at the time\\n\\n\\nof last available PRO assessment. Survival analysis methods used\\n\\n\\nthe Kaplan–Meier approach for estimating medians and percen\\n\\ntiles, the Brookmeyer and Crowley method for computing 95%\\n\\n\\nconfidence intervals (CIs), the stratified Cox proportional hazards\\n\\n\\nmodel assuming proportional hazards for computing hazard ratio\\n\\n\\n(HR), and the stratified log‐rank test in comparing TTD between\\n\\n\\ntreatment arms. The same stratification factors used for random\\n\\nization (Figure S1) were applied to both the stratified log‐rank test\\n\\n\\nand the stratified Cox model. Statistical comparisons were made at\\n\\n\\nα = 0.05, and two‐sided _p_ values were calculated with no multi\\n\\nplicity adjustments made.\""
      ]
     },
     "execution_count": 31,
     "metadata": {},
     "output_type": "execute_result"
    }
   ],
   "source": [
    "chunks[0].page_content"
   ]
  },
  {
   "cell_type": "markdown",
   "id": "adfdc5cf",
   "metadata": {},
   "source": [
    "## **Implementation 04:**\n",
    "\n",
    "* **`Breakpoint Type:` Gradient**\n",
    "    * In this method, the gradient of distance is used to split chunks along with the percentile method. This method is useful when chunks are <u>highly correlated with each other or specific to a domain e.g. legal or medical</u>. \n",
    "    * The idea is to apply anomaly detection on gradient array so that the distribution become wider and easy to identify boundaries in highly semantic data. \n",
    "    * Similar to the percentile method, the split can be adjusted by the keyword argument `breakpoint_threshold_amount` which expects a number between `0.0` and `100.0`, the default value is `95.0`."
   ]
  },
  {
   "cell_type": "code",
   "execution_count": 32,
   "id": "cabf9502",
   "metadata": {},
   "outputs": [],
   "source": [
    "text_splitter_gradient = SemanticChunker(\n",
    "    embeddings=embeddings,\n",
    "    breakpoint_threshold_type=\"gradient\",\n",
    "    breakpoint_threshold_amount=95.5,\n",
    "    min_chunk_size=10\n",
    ")\n",
    "\n",
    "\n",
    "chunks = text_splitter_gradient.create_documents(texts=[docs[0].page_content])\n"
   ]
  },
  {
   "cell_type": "code",
   "execution_count": 33,
   "id": "54530edb",
   "metadata": {},
   "outputs": [
    {
     "data": {
      "text/plain": [
       "16"
      ]
     },
     "execution_count": 33,
     "metadata": {},
     "output_type": "execute_result"
    }
   ],
   "source": [
    "len(chunks)"
   ]
  },
  {
   "cell_type": "code",
   "execution_count": 34,
   "id": "bdadf530",
   "metadata": {},
   "outputs": [
    {
     "data": {
      "text/plain": [
       "'Received: 19 July 2022\\n\\n\\n## **-**\\n\\n\\n\\nRevised: 13 September 2022\\n\\n\\n## **-**\\n\\n\\n\\nAccepted: 17 October 2022\\n\\n\\n\\n[DOI: 10.1002/cncr.34687](https://doi.org/10.1002/cncr.34687)\\n\\n\\n**O R I G I N A L A R T I C L E**\\n\\n# **Quality of life with cemiplimab plus chemotherapy for** **first‐line treatment of advanced non–small cell lung cancer:** **Patient‐reported outcomes from phase 3 EMPOWER‐Lung 3**\\n\\n\\n**Tamta Makharadze MD** **[1]** | **Ruben G.'"
      ]
     },
     "execution_count": 34,
     "metadata": {},
     "output_type": "execute_result"
    }
   ],
   "source": [
    "chunks[0].page_content"
   ]
  },
  {
   "cell_type": "markdown",
   "id": "a6f399d2",
   "metadata": {},
   "source": [
    "## **When to Use Each `Breakpoint` Strategy:**\n",
    "\n",
    "### **1.** **Percentile**\n",
    "\n",
    "* **What it does:** Marks splits at the *top X% largest distances*. (default 95th percentile)\n",
    "* **When to use:**\n",
    "\n",
    "  * Documents are long and have **clear, strong topic shifts**.\n",
    "  * You only care about the **biggest jumps** (e.g., chapter changes, section headings).\n",
    "  * You want fewer, bigger chunks.\n",
    "* **Trade-off:** May *miss* subtle shifts if they don’t make it into the top X%.\n",
    "\n",
    "✅ Example: splitting a **book** or **research paper** into high-level thematic chunks.\n",
    "\n",
    "\n",
    "\n",
    "### **2.** **Standard Deviation**\n",
    "\n",
    "* **What it does:** Uses mean + *N×std deviation* as threshold.\n",
    "* **When to use:**\n",
    "\n",
    "  * Distances look roughly **normally distributed** (most are similar, a few are outliers).\n",
    "  * You want a method that adapts to both **average distance** and **variance**.\n",
    "  * Best for **balanced text** where topic shifts aren’t extreme.\n",
    "* **Trade-off:** Sensitive to skewed distributions (if text is uneven, it might misfire).\n",
    "\n",
    "✅ Example: splitting a **report or academic article** where topic transitions are moderate.\n",
    "\n",
    "\n",
    "\n",
    "### **3.** **Interquartile (IQR method)**\n",
    "\n",
    "* **What it does:** Threshold = Q3 + 1.5×IQR (like outlier detection).\n",
    "* **When to use:**\n",
    "\n",
    "  * Text has **a few big jumps and many small ones** (outliers).\n",
    "  * You want robustness against skewed data (IQR ignores extreme small values).\n",
    "  * Works well if you expect **occasional but real topic leaps**.\n",
    "* **Trade-off:** Might under-split if jumps are gradual (no outliers).\n",
    "\n",
    "✅ Example: splitting **news articles** or **blogs** where most sentences flow smoothly, but once in a while a new section starts abruptly.\n",
    "\n",
    "\n",
    "\n",
    "### **4.** **Gradient**\n",
    "\n",
    "* **What it does:** Looks for **sudden spikes** in distance *changes* (derivative), not just absolute values.\n",
    "* **When to use:**\n",
    "\n",
    "  * You want to catch **subtle or relative topic shifts** (e.g., when two similar topics diverge).\n",
    "  * Great when text has **gradual build-ups** but then a sharp turn.\n",
    "  * Useful for **dialogues, transcripts, or essays** where topics bleed into each other.\n",
    "* **Trade-off:** Can be noisier (detects many small jumps if text isn’t smooth).\n",
    "\n",
    "✅ Example: splitting a **podcast transcript** or **meeting notes**, where conversations drift and suddenly pivot.\n",
    "\n",
    "\n",
    "\n",
    "### 🔑 Quick Heuristic\n",
    "\n",
    "| Method        | Best for                  | Think of it as…                   |\n",
    "| ------------- | ------------------------- | --------------------------------- |\n",
    "| Percentile    | Major topic shifts only   | “Give me just the **headlines**.” |\n",
    "| Standard Dev  | Balanced, moderate shifts | “Use a **statistical average**.”  |\n",
    "| Interquartile | Few big outliers          | “Spot the **outlier jumps**.”     |\n",
    "| Gradient      | Subtle pivots in flow     | “Track the **momentum shifts**.”  |\n",
    "\n"
   ]
  },
  {
   "cell_type": "code",
   "execution_count": null,
   "id": "a387c11f",
   "metadata": {},
   "outputs": [],
   "source": []
  },
  {
   "cell_type": "markdown",
   "id": "556cfb1d",
   "metadata": {},
   "source": [
    "## **Recursive Character Splitter Chunking vs. Semantic Chunking:**\n",
    "\n",
    "\n",
    "### 🔹 **1. Recursive Character Splitter Chunking**\n",
    "\n",
    "* **How it works**\n",
    "  * Splits text by **characters** (not meaning), using a **hierarchy of separators**.\n",
    "  * Default separator order: `[\"\\n\\n\", \"\\n\", \" \", \"\"]`\n",
    "    → it tries to split by **paragraph**, then **line**, then **space**, and if none work, finally by raw characters.\n",
    "  * It keeps splitting until chunks fit within `chunk_size`.\n",
    "  * Often used with **overlap** (e.g. `chunk_overlap=50`) so chunks share some context.\n",
    "\n",
    "* **Example**\n",
    "  Text:\n",
    "  ```\n",
    "  LangChain is an open-source framework. \n",
    "  It helps build LLM-powered apps. \n",
    "  It has modules for retrieval, agents, and evaluation.\n",
    "  ```\n",
    "\n",
    "  With `chunk_size=50`:\n",
    "\n",
    "  * Chunk 1: `\"LangChain is an open-source framework. It helps build\"`\n",
    "  * Chunk 2: `\"LLM-powered apps. It has modules for retrieval, agents,\"`\n",
    "  * Chunk 3: `\"and evaluation.\"`\n",
    "\n",
    "  Notice: Splits are based only on length, **not meaning**.\n",
    "\n",
    "* **When to use**\n",
    "  * You just need **guaranteed chunk sizes** for token limits.\n",
    "  * Text is fairly uniform and meaning isn’t critical per chunk (e.g., log files, simple documents).\n",
    "  * It’s **fast and cheap** (no embeddings required).\n",
    "\n",
    "\n",
    "\n",
    "* **2. Semantic Chunking**\n",
    "\n",
    "  * **How it works**\n",
    "    * Splits text into **sentences**.\n",
    "    * Embeds each sentence → measures **semantic distance** between neighbors.\n",
    "    * Uses a **breakpoint strategy** (Percentile, Std Dev, IQR, Gradient) to decide where topics shift.\n",
    "    * Forms chunks that are **coherent in meaning**, not just length.\n",
    "    * Extra options like `buffer_size`, `min_chunk_size`, etc. refine the splits.\n",
    "\n",
    "  * **Example**\n",
    "    Same text:\n",
    "    ```\n",
    "    LangChain is an open-source framework. \n",
    "    It helps build LLM-powered apps. \n",
    "    It has modules for retrieval, agents, and evaluation.\n",
    "    ```\n",
    "\n",
    "    Semantic similarity is high across sentences → **no breakpoints**.\n",
    "    → The whole passage may remain one chunk.\n",
    "\n",
    "    If we add a new sentence:\n",
    "\n",
    "    ```\n",
    "    Recently, NASA announced a new Mars mission.\n",
    "    ```\n",
    "\n",
    "    The distance between “LangChain modules…” and “NASA mission” would be **large**, so a breakpoint is created → 2 chunks:\n",
    "\n",
    "    * Chunk 1: LangChain-related sentences\n",
    "    * Chunk 2: NASA mission\n",
    "\n",
    "  * **When to use**\n",
    "    * You need chunks to be **semantically meaningful** (for retrieval, QA, summarization).\n",
    "    * Works best with **long, topic-rich documents** (reports, articles, transcripts).\n",
    "    * More **expensive** (needs embeddings) and a bit slower.\n",
    "\n",
    "\n",
    "\n",
    "### 🔑 **Key Differences:**\n",
    "\n",
    "| Feature                | Recursive Character Splitter       | Semantic Chunking                     |\n",
    "| ---------------------- | ---------------------------------- | ------------------------------------- |\n",
    "| **Basis of split**     | Character count / separators       | Semantic meaning via embeddings       |\n",
    "| **Dependencies**       | None (just text ops)               | Requires embeddings model             |\n",
    "| **Chunk size control** | Precise (e.g., 1000 tokens each)   | Approximate, depends on topics        |\n",
    "| **Speed/Cost**         | Fast, cheap                        | Slower, embedding cost                |\n",
    "| **Chunk coherence**    | May cut mid-sentence/topic         | Keeps topics together                 |\n",
    "| **Best use case**      | Token-limit control, preprocessing | Semantic retrieval, QA, summarization |\n",
    "\n"
   ]
  },
  {
   "cell_type": "code",
   "execution_count": null,
   "id": "72c0816d",
   "metadata": {},
   "outputs": [],
   "source": []
  },
  {
   "cell_type": "code",
   "execution_count": null,
   "id": "015b7b03",
   "metadata": {},
   "outputs": [],
   "source": []
  },
  {
   "cell_type": "code",
   "execution_count": null,
   "id": "7f4719a1",
   "metadata": {},
   "outputs": [],
   "source": []
  },
  {
   "cell_type": "code",
   "execution_count": null,
   "id": "be063dce",
   "metadata": {},
   "outputs": [],
   "source": []
  },
  {
   "cell_type": "code",
   "execution_count": null,
   "id": "8fdb2343",
   "metadata": {},
   "outputs": [],
   "source": []
  }
 ],
 "metadata": {
  "kernelspec": {
   "display_name": "Agentic-AI",
   "language": "python",
   "name": "python3"
  },
  "language_info": {
   "codemirror_mode": {
    "name": "ipython",
    "version": 3
   },
   "file_extension": ".py",
   "mimetype": "text/x-python",
   "name": "python",
   "nbconvert_exporter": "python",
   "pygments_lexer": "ipython3",
   "version": "3.12.11"
  }
 },
 "nbformat": 4,
 "nbformat_minor": 5
}
