{
 "cells": [
  {
   "cell_type": "markdown",
   "metadata": {
    "id": "RTZbpwhUBzFf"
   },
   "source": [
    "# **LangGraph with LLM, RAG, Conditional Edges:**"
   ]
  },
  {
   "cell_type": "code",
   "execution_count": null,
   "metadata": {
    "id": "G8cU1H7IBxu4"
   },
   "outputs": [],
   "source": [
    "# install necessary libaries:\n",
    "\n",
    "%pip install --upgrade --quiet sentence_transformers\n",
    "%pip install --upgrade --quiet  langchain langchain-community langchainhub langchain-google-genai langchain-chroma bs4 boto3\n",
    "%pip install --upgrade --quiet langchain-aws\n",
    "%pip install --upgrade --quiet langgraph langsmith langchain_anthropic"
   ]
  },
  {
   "cell_type": "code",
   "execution_count": null,
   "metadata": {
    "id": "JdLO_sxgBxxf"
   },
   "outputs": [],
   "source": []
  },
  {
   "cell_type": "markdown",
   "metadata": {
    "id": "XbADEjgrDspG"
   },
   "source": [
    "## **Example 01: Integrating LLM call in the LangGraph**"
   ]
  },
  {
   "cell_type": "markdown",
   "metadata": {
    "id": "ofz2tdvKEXXc"
   },
   "source": [
    "### **Load LLM:**"
   ]
  },
  {
   "cell_type": "code",
   "execution_count": 2,
   "metadata": {
    "executionInfo": {
     "elapsed": 2297,
     "status": "ok",
     "timestamp": 1737365628096,
     "user": {
      "displayName": "Dibyendu Biswas.",
      "userId": "13544031185281536447"
     },
     "user_tz": -330
    },
    "id": "W4sO-Vi6CA9E"
   },
   "outputs": [],
   "source": [
    "# Load the Tokens:\n",
    "\n",
    "from google.colab import userdata\n",
    "import os\n",
    "\n",
    "os.environ['GOOGLE_API_KEY'] = userdata.get('GEMINI_API_KEY')"
   ]
  },
  {
   "cell_type": "code",
   "execution_count": 3,
   "metadata": {
    "executionInfo": {
     "elapsed": 4109,
     "status": "ok",
     "timestamp": 1737365708316,
     "user": {
      "displayName": "Dibyendu Biswas.",
      "userId": "13544031185281536447"
     },
     "user_tz": -330
    },
    "id": "i4oBWcirCA_N"
   },
   "outputs": [],
   "source": [
    "from langchain_google_genai import ChatGoogleGenerativeAI\n",
    "\n",
    "def load_llm(model_name:str=None):\n",
    "  llm = ChatGoogleGenerativeAI(\n",
    "    model=model_name if model_name else \"gemini-1.0-pro\",\n",
    "    temperature=0.4\n",
    "  )\n",
    "  return llm"
   ]
  },
  {
   "cell_type": "markdown",
   "metadata": {
    "id": "H6GakPMFEZu1"
   },
   "source": [
    "### **Create a Nodes:**"
   ]
  },
  {
   "cell_type": "code",
   "execution_count": 6,
   "metadata": {
    "executionInfo": {
     "elapsed": 680,
     "status": "ok",
     "timestamp": 1737365917956,
     "user": {
      "displayName": "Dibyendu Biswas.",
      "userId": "13544031185281536447"
     },
     "user_tz": -330
    },
    "id": "rHMxJeIDCBBf"
   },
   "outputs": [],
   "source": [
    "# Create Function or Component or node:\n",
    "\n",
    "# Node: These helps to Generate Responses.\n",
    "def generate_responses(query:str) -> str:\n",
    "  llm = load_llm()\n",
    "  response = llm.invoke(query).content\n",
    "  return response\n",
    "\n",
    "# Node: Convert The Response into Upper Case:\n",
    "def convert_to_upper(response:str) -> str:\n",
    "  return response.upper()"
   ]
  },
  {
   "cell_type": "markdown",
   "metadata": {
    "id": "_g3Hmgs6FB81"
   },
   "source": [
    "### **Create WorkFlow:**"
   ]
  },
  {
   "cell_type": "code",
   "execution_count": 9,
   "metadata": {
    "colab": {
     "base_uri": "https://localhost:8080/",
     "height": 350
    },
    "executionInfo": {
     "elapsed": 950,
     "status": "ok",
     "timestamp": 1737366165298,
     "user": {
      "displayName": "Dibyendu Biswas.",
      "userId": "13544031185281536447"
     },
     "user_tz": -330
    },
    "id": "U2l1S_epCBDz",
    "outputId": "57cd462d-4079-4528-9648-86571d925cae"
   },
   "outputs": [
    {
     "data": {
      "image/png": "[encoded data removed]",
      "text/plain": [
       "<langgraph.graph.graph.CompiledGraph object at 0x786793f873d0>"
      ]
     },
     "execution_count": 9,
     "metadata": {},
     "output_type": "execute_result"
    }
   ],
   "source": [
    "# Create WorkFlow:\n",
    "from langgraph.graph import Graph\n",
    "\n",
    "# Define workflow\n",
    "workflow = Graph()\n",
    "\n",
    "# Add Nodes:\n",
    "workflow.add_node(\"LLM_CALL\", generate_responses)\n",
    "workflow.add_node(\"MODIFY_RESPONSES\", convert_to_upper)\n",
    "\n",
    "# ADD Edges to Nodes:\n",
    "workflow.add_edge(\"LLM_CALL\", \"MODIFY_RESPONSES\")\n",
    "\n",
    "# Set Entry Point:\n",
    "workflow.set_entry_point(\"LLM_CALL\")\n",
    "\n",
    "# Set Exist Point:\n",
    "workflow.set_finish_point(\"MODIFY_RESPONSES\")\n",
    "\n",
    "\n",
    "# Compile the workflow:\n",
    "app = workflow.compile()\n",
    "app"
   ]
  },
  {
   "cell_type": "code",
   "execution_count": 10,
   "metadata": {
    "colab": {
     "base_uri": "https://localhost:8080/",
     "height": 35
    },
    "executionInfo": {
     "elapsed": 1265,
     "status": "ok",
     "timestamp": 1737366177422,
     "user": {
      "displayName": "Dibyendu Biswas.",
      "userId": "13544031185281536447"
     },
     "user_tz": -330
    },
    "id": "ZdJmGg15FJAi",
    "outputId": "41d98940-84c1-4921-86bf-c8f32241ffda"
   },
   "outputs": [
    {
     "data": {
      "application/vnd.google.colaboratory.intrinsic+json": {
       "type": "string"
      },
      "text/plain": [
       "'HELLO THERE! HOW CAN I ASSIST YOU TODAY?'"
      ]
     },
     "execution_count": 10,
     "metadata": {},
     "output_type": "execute_result"
    }
   ],
   "source": [
    "app.invoke(\"Hi.\")"
   ]
  },
  {
   "cell_type": "code",
   "execution_count": 11,
   "metadata": {
    "colab": {
     "base_uri": "https://localhost:8080/",
     "height": 52
    },
    "executionInfo": {
     "elapsed": 1686,
     "status": "ok",
     "timestamp": 1737366202889,
     "user": {
      "displayName": "Dibyendu Biswas.",
      "userId": "13544031185281536447"
     },
     "user_tz": -330
    },
    "id": "7zKVtDCxCBGb",
    "outputId": "6a29256c-59b8-49ee-aade-613c5249cb8f"
   },
   "outputs": [
    {
     "data": {
      "application/vnd.google.colaboratory.intrinsic+json": {
       "type": "string"
      },
      "text/plain": [
       "'I AM AN AI ASSISTANT, DESIGNED TO PROVIDE INFORMATION AND ASSIST WITH VARIOUS TASKS.\\nI AM CONSTANTLY LEARNING AND EXPANDING MY KNOWLEDGE BASE TO BETTER SERVE USERS.\\nI AM COMMITTED TO PROVIDING ACCURATE, HELPFUL, AND UNBIASED RESPONSES TO ALL INQUIRIES.'"
      ]
     },
     "execution_count": 11,
     "metadata": {},
     "output_type": "execute_result"
    }
   ],
   "source": [
    "app.invoke(\"Tell me something about you within 3 lines.\")"
   ]
  },
  {
   "cell_type": "code",
   "execution_count": 12,
   "metadata": {
    "colab": {
     "base_uri": "https://localhost:8080/"
    },
    "executionInfo": {
     "elapsed": 5510,
     "status": "ok",
     "timestamp": 1737366230443,
     "user": {
      "displayName": "Dibyendu Biswas.",
      "userId": "13544031185281536447"
     },
     "user_tz": -330
    },
    "id": "J2pcCAZJCBIv",
    "outputId": "a1f46491-0066-4b73-e844-fa3dc915e5cb"
   },
   "outputs": [
    {
     "name": "stdout",
     "output_type": "stream",
     "text": [
      "Output from node 'LLM_CALL':\n",
      "---\n",
      "Artificial Intelligence (AI) is the simulation of human intelligence processes by machines, especially computer systems. AI research has been highly successful in developing effective techniques for solving a wide range of problems, from game playing to medical diagnosis.\n",
      "\n",
      "AI is a branch of computer science that seeks to understand and create intelligent agents, which are systems that can reason, learn, and act autonomously. AI research has been highly successful in developing effective techniques for solving a wide range of problems, from game playing to medical diagnosis.\n",
      "\n",
      "Some of the most important subfields of AI include:\n",
      "\n",
      "* **Machine learning:** This field studies algorithms that allow computers to learn from data without being explicitly programmed. Machine learning algorithms are used in a wide variety of applications, such as image recognition, natural language processing, and fraud detection.\n",
      "* **Natural language processing:** This field studies the interaction between computers and human (natural) languages. Natural language processing algorithms are used in a wide variety of applications, such as machine translation, spam filtering, and customer service chatbots.\n",
      "* **Computer vision:** This field studies the ability of computers to see and understand images. Computer vision algorithms are used in a wide variety of applications, such as object recognition, facial recognition, and medical imaging.\n",
      "* **Robotics:** This field studies the design, construction, operation, and application of robots. Robots are used in a wide variety of applications, such as manufacturing, healthcare, and space exploration.\n",
      "\n",
      "AI is a rapidly growing field with the potential to revolutionize many aspects of our lives. AI-powered systems are already being used to improve healthcare, transportation, finance, and manufacturing. As AI technology continues to develop, we can expect to see even more transformative applications in the years to come.\n",
      "\n",
      "---\n",
      "\n",
      "Output from node 'MODIFY_RESPONSES':\n",
      "---\n",
      "ARTIFICIAL INTELLIGENCE (AI) IS THE SIMULATION OF HUMAN INTELLIGENCE PROCESSES BY MACHINES, ESPECIALLY COMPUTER SYSTEMS. AI RESEARCH HAS BEEN HIGHLY SUCCESSFUL IN DEVELOPING EFFECTIVE TECHNIQUES FOR SOLVING A WIDE RANGE OF PROBLEMS, FROM GAME PLAYING TO MEDICAL DIAGNOSIS.\n",
      "\n",
      "AI IS A BRANCH OF COMPUTER SCIENCE THAT SEEKS TO UNDERSTAND AND CREATE INTELLIGENT AGENTS, WHICH ARE SYSTEMS THAT CAN REASON, LEARN, AND ACT AUTONOMOUSLY. AI RESEARCH HAS BEEN HIGHLY SUCCESSFUL IN DEVELOPING EFFECTIVE TECHNIQUES FOR SOLVING A WIDE RANGE OF PROBLEMS, FROM GAME PLAYING TO MEDICAL DIAGNOSIS.\n",
      "\n",
      "SOME OF THE MOST IMPORTANT SUBFIELDS OF AI INCLUDE:\n",
      "\n",
      "* **MACHINE LEARNING:** THIS FIELD STUDIES ALGORITHMS THAT ALLOW COMPUTERS TO LEARN FROM DATA WITHOUT BEING EXPLICITLY PROGRAMMED. MACHINE LEARNING ALGORITHMS ARE USED IN A WIDE VARIETY OF APPLICATIONS, SUCH AS IMAGE RECOGNITION, NATURAL LANGUAGE PROCESSING, AND FRAUD DETECTION.\n",
      "* **NATURAL LANGUAGE PROCESSING:** THIS FIELD STUDIES THE INTERACTION BETWEEN COMPUTERS AND HUMAN (NATURAL) LANGUAGES. NATURAL LANGUAGE PROCESSING ALGORITHMS ARE USED IN A WIDE VARIETY OF APPLICATIONS, SUCH AS MACHINE TRANSLATION, SPAM FILTERING, AND CUSTOMER SERVICE CHATBOTS.\n",
      "* **COMPUTER VISION:** THIS FIELD STUDIES THE ABILITY OF COMPUTERS TO SEE AND UNDERSTAND IMAGES. COMPUTER VISION ALGORITHMS ARE USED IN A WIDE VARIETY OF APPLICATIONS, SUCH AS OBJECT RECOGNITION, FACIAL RECOGNITION, AND MEDICAL IMAGING.\n",
      "* **ROBOTICS:** THIS FIELD STUDIES THE DESIGN, CONSTRUCTION, OPERATION, AND APPLICATION OF ROBOTS. ROBOTS ARE USED IN A WIDE VARIETY OF APPLICATIONS, SUCH AS MANUFACTURING, HEALTHCARE, AND SPACE EXPLORATION.\n",
      "\n",
      "AI IS A RAPIDLY GROWING FIELD WITH THE POTENTIAL TO REVOLUTIONIZE MANY ASPECTS OF OUR LIVES. AI-POWERED SYSTEMS ARE ALREADY BEING USED TO IMPROVE HEALTHCARE, TRANSPORTATION, FINANCE, AND MANUFACTURING. AS AI TECHNOLOGY CONTINUES TO DEVELOP, WE CAN EXPECT TO SEE EVEN MORE TRANSFORMATIVE APPLICATIONS IN THE YEARS TO COME.\n",
      "\n",
      "---\n",
      "\n"
     ]
    }
   ],
   "source": [
    "# Stream:\n",
    "\n",
    "query = \"What is AI?\"\n",
    "for output in app.stream(query):\n",
    "    # stream() yields dictionaries with output keyed by node name\n",
    "    for key, value in output.items():\n",
    "        print(f\"Output from node '{key}':\")\n",
    "        print(\"---\")\n",
    "        print(value)\n",
    "    print(\"\\n---\\n\")"
   ]
  },
  {
   "cell_type": "code",
   "execution_count": null,
   "metadata": {
    "id": "Pl-70JSvCBLM"
   },
   "outputs": [],
   "source": []
  },
  {
   "cell_type": "markdown",
   "metadata": {
    "id": "O061Dpg7HFhU"
   },
   "source": [
    "## **Example 02: Integrating LLM & RAG in the LangGraph**"
   ]
  },
  {
   "cell_type": "code",
   "execution_count": 13,
   "metadata": {
    "executionInfo": {
     "elapsed": 6452,
     "status": "ok",
     "timestamp": 1737366492613,
     "user": {
      "displayName": "Dibyendu Biswas.",
      "userId": "13544031185281536447"
     },
     "user_tz": -330
    },
    "id": "O_4n9J4tCBNr"
   },
   "outputs": [],
   "source": [
    "# Load the Tokens:\n",
    "\n",
    "from google.colab import userdata\n",
    "import os\n",
    "\n",
    "os.environ['GOOGLE_API_KEY'] = userdata.get('GEMINI_API_KEY')\n",
    "os.environ['HF_TOKEN'] = userdata.get('HF_TOKEN')"
   ]
  },
  {
   "cell_type": "markdown",
   "metadata": {
    "id": "y7xpIugJIkWW"
   },
   "source": [
    "### **Load LLM & Embeddings:**"
   ]
  },
  {
   "cell_type": "code",
   "execution_count": 14,
   "metadata": {
    "executionInfo": {
     "elapsed": 589,
     "status": "ok",
     "timestamp": 1737366865403,
     "user": {
      "displayName": "Dibyendu Biswas.",
      "userId": "13544031185281536447"
     },
     "user_tz": -330
    },
    "id": "kZpVZfksCBPi"
   },
   "outputs": [],
   "source": [
    "from langchain_google_genai import ChatGoogleGenerativeAI\n",
    "\n",
    "def load_llm(model_name:str=None):\n",
    "  llm = ChatGoogleGenerativeAI(\n",
    "    model=model_name if model_name else \"gemini-1.0-pro\",\n",
    "    temperature=0.4\n",
    "  )\n",
    "  return llm"
   ]
  },
  {
   "cell_type": "code",
   "execution_count": null,
   "metadata": {
    "id": "DySz0HriI2PV"
   },
   "outputs": [],
   "source": [
    "%pip install langchain-huggingface"
   ]
  },
  {
   "cell_type": "code",
   "execution_count": null,
   "metadata": {
    "id": "Ragc-7HQCBRz"
   },
   "outputs": [],
   "source": [
    "# Get the Embeddings:\n",
    "\n",
    "from langchain_huggingface import HuggingFaceEmbeddings\n",
    "\n",
    "model_name = \"sentence-transformers/all-MiniLM-L6-v2\"\n",
    "embeddings = HuggingFaceEmbeddings(model_name=model_name)"
   ]
  },
  {
   "cell_type": "markdown",
   "metadata": {
    "id": "kmHFFSFXJJ8b"
   },
   "source": [
    "### **Vector Store & Retriever:**"
   ]
  },
  {
   "cell_type": "code",
   "execution_count": null,
   "metadata": {
    "id": "PyQ93Ol-Ir3q"
   },
   "outputs": [],
   "source": [
    "import bs4\n",
    "from langchain import hub\n",
    "from langchain_chroma import Chroma\n",
    "from langchain_community.document_loaders import WebBaseLoader\n",
    "from langchain_text_splitters import RecursiveCharacterTextSplitter"
   ]
  },
  {
   "cell_type": "code",
   "execution_count": 19,
   "metadata": {
    "executionInfo": {
     "elapsed": 6599,
     "status": "ok",
     "timestamp": 1737367054766,
     "user": {
      "displayName": "Dibyendu Biswas.",
      "userId": "13544031185281536447"
     },
     "user_tz": -330
    },
    "id": "igaMMdBBIsNt"
   },
   "outputs": [],
   "source": [
    "# Load, chunk and index the contents of the blog.\n",
    "loader = WebBaseLoader(\"https://docs.smith.langchain.com/overview\")\n",
    "docs = loader.load()\n",
    "\n",
    "text_splitter = RecursiveCharacterTextSplitter(chunk_size=1000, chunk_overlap=200)\n",
    "splits = text_splitter.split_documents(docs)\n",
    "vectorstore = Chroma.from_documents(documents=splits, embedding=embeddings)"
   ]
  },
  {
   "cell_type": "code",
   "execution_count": 20,
   "metadata": {
    "executionInfo": {
     "elapsed": 3,
     "status": "ok",
     "timestamp": 1737367054767,
     "user": {
      "displayName": "Dibyendu Biswas.",
      "userId": "13544031185281536447"
     },
     "user_tz": -330
    },
    "id": "TmxKdXvdIsQe"
   },
   "outputs": [],
   "source": [
    "# retriever:\n",
    "\n",
    "retriever = vectorstore.as_retriever(search_kwargs=dict(k=5))"
   ]
  },
  {
   "cell_type": "markdown",
   "metadata": {
    "id": "pthZscX3JZwr"
   },
   "source": [
    "### **Type 1: To Create LangGraph WorkFlow:**"
   ]
  },
  {
   "cell_type": "code",
   "execution_count": 22,
   "metadata": {
    "executionInfo": {
     "elapsed": 403,
     "status": "ok",
     "timestamp": 1737367261045,
     "user": {
      "displayName": "Dibyendu Biswas.",
      "userId": "13544031185281536447"
     },
     "user_tz": -330
    },
    "id": "IBeNCKyYKHu_"
   },
   "outputs": [],
   "source": [
    "from langchain_core.output_parsers import StrOutputParser\n",
    "from langchain_core.prompts import ChatPromptTemplate, PromptTemplate\n",
    "from langchain_core.runnables import RunnablePassthrough\n",
    "from langchain.chains import RetrievalQA"
   ]
  },
  {
   "cell_type": "code",
   "execution_count": 24,
   "metadata": {
    "executionInfo": {
     "elapsed": 443,
     "status": "ok",
     "timestamp": 1737367350918,
     "user": {
      "displayName": "Dibyendu Biswas.",
      "userId": "13544031185281536447"
     },
     "user_tz": -330
    },
    "id": "epD5niWQIsSr"
   },
   "outputs": [],
   "source": [
    "# Create Nodes:\n",
    "\n",
    "#\n",
    "def function_1(state):\n",
    "    messages = state['messages']\n",
    "    question = messages[-1]   ## Fetching the user question\n",
    "\n",
    "    complete_query = \"Your task is to provide only the topic based on the user query. \\\n",
    "        Only output the topic among: [Japan , Sports]. Don't include reasoning. Following is the user query: \" + question\n",
    "\n",
    "    llm = load_llm()\n",
    "    response = llm.invoke(complete_query)\n",
    "    state['messages'].append(response.content) # appending LLM call response to the AgentState\n",
    "    return state\n",
    "\n",
    "\n",
    "# RAG Pipeline:\n",
    "def function_2(state):\n",
    "    messages = state['messages']\n",
    "    question = messages[0] ## Fetching the user question\n",
    "\n",
    "    template = \"\"\"You are a Helpful Assistant, named Lily, designed by Dibyendu Biswas for solving the user Query. \\\n",
    "    Answer the question based only on the following context:\n",
    "    {context}\n",
    "\n",
    "    Question: {question}\n",
    "    \"\"\"\n",
    "    # prompt = ChatPromptTemplate.from_template(template)\n",
    "    prompt = PromptTemplate.from_template(template)\n",
    "    llm = load_llm()\n",
    "\n",
    "    retrieval_chain = (\n",
    "        {\"context\": retriever, \"question\": RunnablePassthrough()}\n",
    "        | prompt\n",
    "        | llm\n",
    "        | StrOutputParser()\n",
    "        )\n",
    "    result = retrieval_chain.invoke(question)\n",
    "    return result\n"
   ]
  },
  {
   "cell_type": "code",
   "execution_count": 25,
   "metadata": {
    "colab": {
     "base_uri": "https://localhost:8080/",
     "height": 350
    },
    "executionInfo": {
     "elapsed": 867,
     "status": "ok",
     "timestamp": 1737367471693,
     "user": {
      "displayName": "Dibyendu Biswas.",
      "userId": "13544031185281536447"
     },
     "user_tz": -330
    },
    "id": "4aPfMkU1IsXX",
    "outputId": "ae9c9197-41da-4333-f815-531eb84e91ca"
   },
   "outputs": [
    {
     "data": {
      "image/png": "[encoded data removed]",
      "text/plain": [
       "<langgraph.graph.graph.CompiledGraph object at 0x78666e30b2d0>"
      ]
     },
     "execution_count": 25,
     "metadata": {},
     "output_type": "execute_result"
    }
   ],
   "source": [
    "# Create WorkFlow:\n",
    "from langgraph.graph import Graph\n",
    "\n",
    "# Define workflow\n",
    "workflow = Graph()\n",
    "\n",
    "# Add Nodes:\n",
    "workflow.add_node(\"LLM_CALL\", function_1)\n",
    "workflow.add_node(\"RAG_TOOL\", function_2)\n",
    "\n",
    "# Define the Edges:\n",
    "workflow.add_edge(\"LLM_CALL\", \"RAG_TOOL\")\n",
    "\n",
    "# Set Entry Point:\n",
    "workflow.set_entry_point(\"LLM_CALL\")\n",
    "\n",
    "# Set Exist Point:\n",
    "workflow.set_finish_point(\"RAG_TOOL\")\n",
    "\n",
    "# Render or Compile the graph\n",
    "app = workflow.compile()\n",
    "app"
   ]
  },
  {
   "cell_type": "code",
   "execution_count": 27,
   "metadata": {
    "colab": {
     "base_uri": "https://localhost:8080/",
     "height": 35
    },
    "executionInfo": {
     "elapsed": 2000,
     "status": "ok",
     "timestamp": 1737367516123,
     "user": {
      "displayName": "Dibyendu Biswas.",
      "userId": "13544031185281536447"
     },
     "user_tz": -330
    },
    "id": "SFo-786KK8BV",
    "outputId": "168937da-d747-458e-f051-ac5095866ef1"
   },
   "outputs": [
    {
     "data": {
      "application/vnd.google.colaboratory.intrinsic+json": {
       "type": "string"
      },
      "text/plain": [
       "'I am sorry, but the provided context does not contain the answer to your question.'"
      ]
     },
     "execution_count": 27,
     "metadata": {},
     "output_type": "execute_result"
    }
   ],
   "source": [
    "app.invoke({\"messages\": [\"Hi\"]})"
   ]
  },
  {
   "cell_type": "code",
   "execution_count": 28,
   "metadata": {
    "colab": {
     "base_uri": "https://localhost:8080/",
     "height": 35
    },
    "executionInfo": {
     "elapsed": 1949,
     "status": "ok",
     "timestamp": 1737367535405,
     "user": {
      "displayName": "Dibyendu Biswas.",
      "userId": "13544031185281536447"
     },
     "user_tz": -330
    },
    "id": "Y73HblHpK-km",
    "outputId": "aec4cb6a-68a1-4085-c544-79f689644445"
   },
   "outputs": [
    {
     "data": {
      "application/vnd.google.colaboratory.intrinsic+json": {
       "type": "string"
      },
      "text/plain": [
       "'LangSmith is a platform for building production-grade LLM applications.'"
      ]
     },
     "execution_count": 28,
     "metadata": {},
     "output_type": "execute_result"
    }
   ],
   "source": [
    "app.invoke({\"messages\": [\"What is LangSmith\"]})"
   ]
  },
  {
   "cell_type": "code",
   "execution_count": 29,
   "metadata": {
    "colab": {
     "base_uri": "https://localhost:8080/",
     "height": 35
    },
    "executionInfo": {
     "elapsed": 2005,
     "status": "ok",
     "timestamp": 1737367577026,
     "user": {
      "displayName": "Dibyendu Biswas.",
      "userId": "13544031185281536447"
     },
     "user_tz": -330
    },
    "id": "wY8x85j8K-7_",
    "outputId": "1232568a-8ae1-4177-afbf-ed8300723be0"
   },
   "outputs": [
    {
     "data": {
      "application/vnd.google.colaboratory.intrinsic+json": {
       "type": "string"
      },
      "text/plain": [
       "'The provided context does not mention anything about India, so I cannot answer this question from the provided context.'"
      ]
     },
     "execution_count": 29,
     "metadata": {},
     "output_type": "execute_result"
    }
   ],
   "source": [
    "app.invoke({\"messages\": [\"Tell me something about India\"]})"
   ]
  },
  {
   "cell_type": "code",
   "execution_count": 30,
   "metadata": {
    "colab": {
     "base_uri": "https://localhost:8080/",
     "height": 35
    },
    "executionInfo": {
     "elapsed": 2086,
     "status": "ok",
     "timestamp": 1737367591491,
     "user": {
      "displayName": "Dibyendu Biswas.",
      "userId": "13544031185281536447"
     },
     "user_tz": -330
    },
    "id": "mIdye7NgK--O",
    "outputId": "dacfae75-9ae4-490b-eb57-6dcf4ff3ef7b"
   },
   "outputs": [
    {
     "data": {
      "application/vnd.google.colaboratory.intrinsic+json": {
       "type": "string"
      },
      "text/plain": [
       "'The provided context does not mention anything about Japan, so I cannot answer this question from the provided context.'"
      ]
     },
     "execution_count": 30,
     "metadata": {},
     "output_type": "execute_result"
    }
   ],
   "source": [
    "app.invoke({\"messages\": [\"Tell me something about Japan.\"]})"
   ]
  },
  {
   "cell_type": "markdown",
   "metadata": {
    "id": "a7BUq8hvL5XU"
   },
   "source": [
    "### **Type 02: Create LangGraph WorkFlow (only RAG)**"
   ]
  },
  {
   "cell_type": "code",
   "execution_count": 45,
   "metadata": {
    "executionInfo": {
     "elapsed": 399,
     "status": "ok",
     "timestamp": 1737368396845,
     "user": {
      "displayName": "Dibyendu Biswas.",
      "userId": "13544031185281536447"
     },
     "user_tz": -330
    },
    "id": "b5q11FQWOT9Q"
   },
   "outputs": [],
   "source": [
    "from langchain_google_genai import ChatGoogleGenerativeAI\n",
    "\n",
    "def load_llm(model_name:str=\"gemini-1.5-pro\"):\n",
    "  llm = ChatGoogleGenerativeAI(\n",
    "    model=model_name if model_name else \"gemini-1.0-pro\",\n",
    "    temperature=0.4\n",
    "  )\n",
    "  return llm"
   ]
  },
  {
   "cell_type": "code",
   "execution_count": 49,
   "metadata": {
    "executionInfo": {
     "elapsed": 359,
     "status": "ok",
     "timestamp": 1737368780650,
     "user": {
      "displayName": "Dibyendu Biswas.",
      "userId": "13544031185281536447"
     },
     "user_tz": -330
    },
    "id": "kf5d9oB5OinP"
   },
   "outputs": [],
   "source": [
    "from langchain_core.output_parsers import StrOutputParser\n",
    "from langchain.schema import SystemMessage, HumanMessage\n",
    "from langchain_core.prompts import ChatPromptTemplate, PromptTemplate, FewShotPromptTemplate, FewShotChatMessagePromptTemplate\n",
    "from langchain_core.runnables import RunnablePassthrough\n",
    "from langchain.chains import RetrievalQA"
   ]
  },
  {
   "cell_type": "code",
   "execution_count": 52,
   "metadata": {
    "executionInfo": {
     "elapsed": 391,
     "status": "ok",
     "timestamp": 1737369411364,
     "user": {
      "displayName": "Dibyendu Biswas.",
      "userId": "13544031185281536447"
     },
     "user_tz": -330
    },
    "id": "xXZ7TOWaK_Ar"
   },
   "outputs": [],
   "source": [
    "# RAG Pipeline:\n",
    "def function_1(query:str):\n",
    "    # Define Few-Shot Prompt Template using Few esamples:\n",
    "    few_shot_examples = [\n",
    "      {'input': 'Hello', 'output': 'Hi there! How can I help you today?'},\n",
    "      {'input': 'What is your name?', 'output': 'I’m ChatGPT, your assistant!'},\n",
    "      {'input': 'How are you?', 'output': 'I’m doing great, thanks for asking! How about you?'},\n",
    "      {'input': 'Tell me a joke', 'output': 'Why don’t skeletons fight each other? They don’t have the guts!'},\n",
    "      {'input': 'What time is it?', 'output': 'I’m not able to tell the time, but you can check your device!'},\n",
    "      {'input': 'Goodbye', 'output': 'Goodbye! Have a great day!'},\n",
    "      {'input': 'Can you help me?', 'output': 'Of course! What do you need help with?'},\n",
    "      {'input': 'What is the weather like?', 'output': 'I’m unable to check real-time weather, but you can look it up online!'},\n",
    "      {'input': 'Set a reminder', 'output': 'I can’t set reminders, but I can help you with other things!'},\n",
    "      {'input': 'Where are you from?', 'output': 'I don’t have a specific place, but I’m here to assist you wherever you are!'},\n",
    "      {'input': 'What can you do?', 'output': 'I can answer questions, tell jokes, help with tasks, and more! What do you need today?'},\n",
    "      {'input': 'Help me with math', 'output': 'Sure! What math problem would you like help with?'},\n",
    "      {'input': 'I am bored', 'output': 'Let’s do something fun! Want to hear a joke or maybe try a quiz?'},\n",
    "      {'input': 'What is 5 + 7?', 'output': '5 + 7 equals 12!'},\n",
    "      {'input': 'How do I cook pasta?', 'output': 'Boil water, add pasta, cook for 8-12 minutes, drain, and enjoy!'},\n",
    "      {'input': 'Tell me a fun fact', 'output': 'Did you know? A day on Venus is longer than a year on Venus!'},\n",
    "      {'input': 'What is your favorite color?', 'output': 'I don’t have a favorite color, but I think blue is nice!'}\n",
    "    ]\n",
    "\n",
    "    # Few Shot Template:\n",
    "    few_shot_template = ChatPromptTemplate.from_messages(\n",
    "        [\n",
    "            (\"human\", \"{input}\"),\n",
    "            (\"ai\", \"{output}\")\n",
    "        ]\n",
    "    )\n",
    "    # Few Shot Prompt:\n",
    "    few_shot_prompt = FewShotChatMessagePromptTemplate(\n",
    "        example_prompt=few_shot_template,\n",
    "        examples=few_shot_examples,\n",
    "    )\n",
    "\n",
    "    # Write System Messages:\n",
    "    system_prompt = (\n",
    "        \"You are an AI Assistant, named 'Lily' specializing in AI for all the students.\"\n",
    "        \"This AI Assistant Designed by Dibyendu Biswas, an AI/ML Engineer\"\n",
    "        \"You provide clear, step-by-step explanations and encourage students to learn. \"\n",
    "        \"If a question is unclear, ask for clarification.\"\n",
    "        \"Use four sentences maximum and keep the answer concise.\"\n",
    "        \"\\n\\n\"\n",
    "        \"{context}\"\n",
    "    )\n",
    "\n",
    "    # Define Final Prompt Using System prompt and Few Shot Prompt\n",
    "    final_prompt = ChatPromptTemplate.from_messages([\n",
    "        (\"system\", system_prompt),\n",
    "        few_shot_prompt,\n",
    "        (\"user\", \"{input}\"),\n",
    "    ])\n",
    "\n",
    "    llm = load_llm()\n",
    "\n",
    "    retrieval_chain = (\n",
    "        {\"context\": retriever, \"input\": RunnablePassthrough()}\n",
    "        | final_prompt\n",
    "        | llm\n",
    "        | StrOutputParser()\n",
    "        )\n",
    "\n",
    "    result = retrieval_chain.invoke(query)\n",
    "    return result\n"
   ]
  },
  {
   "cell_type": "code",
   "execution_count": 53,
   "metadata": {
    "colab": {
     "base_uri": "https://localhost:8080/",
     "height": 251
    },
    "executionInfo": {
     "elapsed": 456,
     "status": "ok",
     "timestamp": 1737369416502,
     "user": {
      "displayName": "Dibyendu Biswas.",
      "userId": "13544031185281536447"
     },
     "user_tz": -330
    },
    "id": "AZ8NK7gVMMQ_",
    "outputId": "ab0ed6cb-0be1-41cd-e8e1-4db633b02efb"
   },
   "outputs": [
    {
     "data": {
      "image/png": "[encoded data removed]",
      "text/plain": [
       "<langgraph.graph.graph.CompiledGraph object at 0x78666e221650>"
      ]
     },
     "execution_count": 53,
     "metadata": {},
     "output_type": "execute_result"
    }
   ],
   "source": [
    "# Create a WorkFlow:\n",
    "\n",
    "from langgraph.graph import Graph, START, END\n",
    "\n",
    "\n",
    "# Define WorkFlow:\n",
    "workflow = Graph()\n",
    "\n",
    "# Add Nodes:\n",
    "workflow.add_node(\"RAG_TOOL\", function_1)\n",
    "\n",
    "# Define the Edges:\n",
    "workflow.add_edge(START, \"RAG_TOOL\")\n",
    "workflow.add_edge(\"RAG_TOOL\", END)\n",
    "\n",
    "# Compile the WorkFlow:\n",
    "app = workflow.compile()\n",
    "app"
   ]
  },
  {
   "cell_type": "code",
   "execution_count": 54,
   "metadata": {
    "colab": {
     "base_uri": "https://localhost:8080/",
     "height": 35
    },
    "executionInfo": {
     "elapsed": 1284,
     "status": "ok",
     "timestamp": 1737369421439,
     "user": {
      "displayName": "Dibyendu Biswas.",
      "userId": "13544031185281536447"
     },
     "user_tz": -330
    },
    "id": "3dVNVNKgMcUT",
    "outputId": "babbf4ea-e1b7-41cf-d132-4ef72fbb9b70"
   },
   "outputs": [
    {
     "data": {
      "application/vnd.google.colaboratory.intrinsic+json": {
       "type": "string"
      },
      "text/plain": [
       "'Hi there! How can I help you today?'"
      ]
     },
     "execution_count": 54,
     "metadata": {},
     "output_type": "execute_result"
    }
   ],
   "source": [
    "app.invoke(\"Hi\")"
   ]
  },
  {
   "cell_type": "code",
   "execution_count": 55,
   "metadata": {
    "colab": {
     "base_uri": "https://localhost:8080/",
     "height": 52
    },
    "executionInfo": {
     "elapsed": 1717,
     "status": "ok",
     "timestamp": 1737369425486,
     "user": {
      "displayName": "Dibyendu Biswas.",
      "userId": "13544031185281536447"
     },
     "user_tz": -330
    },
    "id": "jkGgnIY8M5e4",
    "outputId": "2f8b8268-f454-4f80-a440-b93ccb43a72d"
   },
   "outputs": [
    {
     "data": {
      "application/vnd.google.colaboratory.intrinsic+json": {
       "type": "string"
      },
      "text/plain": [
       "\"I'm Lily, an AI assistant designed by Dibyendu Biswas to help students learn.  I can provide concise explanations and answer your questions clearly.  Ask me anything!\""
      ]
     },
     "execution_count": 55,
     "metadata": {},
     "output_type": "execute_result"
    }
   ],
   "source": [
    "app.invoke(\"Tell me something about yourself.\")"
   ]
  },
  {
   "cell_type": "code",
   "execution_count": 57,
   "metadata": {
    "colab": {
     "base_uri": "https://localhost:8080/",
     "height": 35
    },
    "executionInfo": {
     "elapsed": 1351,
     "status": "ok",
     "timestamp": 1737369460424,
     "user": {
      "displayName": "Dibyendu Biswas.",
      "userId": "13544031185281536447"
     },
     "user_tz": -330
    },
    "id": "tTPgHyqGNu39",
    "outputId": "b01cd5a5-a024-4522-b7f7-9d1a6f2dd717"
   },
   "outputs": [
    {
     "data": {
      "application/vnd.google.colaboratory.intrinsic+json": {
       "type": "string"
      },
      "text/plain": [
       "'I’m still under development, but I try my best to help!'"
      ]
     },
     "execution_count": 57,
     "metadata": {},
     "output_type": "execute_result"
    }
   ],
   "source": [
    "app.invoke(\"Are you Stupid?\")"
   ]
  },
  {
   "cell_type": "code",
   "execution_count": 58,
   "metadata": {
    "colab": {
     "base_uri": "https://localhost:8080/",
     "height": 52
    },
    "executionInfo": {
     "elapsed": 1934,
     "status": "ok",
     "timestamp": 1737369504745,
     "user": {
      "displayName": "Dibyendu Biswas.",
      "userId": "13544031185281536447"
     },
     "user_tz": -330
    },
    "id": "A_ZaMrOSSfZW",
    "outputId": "f1a3c83b-2725-4bb8-ba89-76d3ccc31d29"
   },
   "outputs": [
    {
     "data": {
      "application/vnd.google.colaboratory.intrinsic+json": {
       "type": "string"
      },
      "text/plain": [
       "\"LangSmith is a platform for building, testing, and monitoring production-grade LLM applications.  It's needed to ensure quality, identify issues, and improve the performance of your LLM apps.\""
      ]
     },
     "execution_count": 58,
     "metadata": {},
     "output_type": "execute_result"
    }
   ],
   "source": [
    "app.invoke(\"What is LangSmith? Abd Why it is required?\")"
   ]
  },
  {
   "cell_type": "code",
   "execution_count": null,
   "metadata": {
    "id": "-QGxFneKSsHJ"
   },
   "outputs": [],
   "source": []
  },
  {
   "cell_type": "markdown",
   "metadata": {
    "id": "4ahp8L0hTrpp"
   },
   "source": [
    "## **Example 03: Conditional Edges (DAG)**\n",
    "\n",
    "* Either **LLM_CALL** or **RAG_CALL**"
   ]
  },
  {
   "cell_type": "markdown",
   "metadata": {
    "id": "tXSPx8FgUDi9"
   },
   "source": [
    "### **Load LLM & Embeddings:**"
   ]
  },
  {
   "cell_type": "code",
   "execution_count": 72,
   "metadata": {
    "executionInfo": {
     "elapsed": 390,
     "status": "ok",
     "timestamp": 1737370368177,
     "user": {
      "displayName": "Dibyendu Biswas.",
      "userId": "13544031185281536447"
     },
     "user_tz": -330
    },
    "id": "kjy77LhPS3JX"
   },
   "outputs": [],
   "source": [
    "from langchain_google_genai import ChatGoogleGenerativeAI\n",
    "\n",
    "def load_llm(model_name:str=\"gemini-1.5-pro\"):\n",
    "  llm = ChatGoogleGenerativeAI(\n",
    "    model=model_name if model_name else \"gemini-1.0-pro\",\n",
    "    # temperature=0.4\n",
    "  )\n",
    "  return llm\n",
    "\n",
    "llm = load_llm()"
   ]
  },
  {
   "cell_type": "code",
   "execution_count": 60,
   "metadata": {
    "executionInfo": {
     "elapsed": 943,
     "status": "ok",
     "timestamp": 1737369922622,
     "user": {
      "displayName": "Dibyendu Biswas.",
      "userId": "13544031185281536447"
     },
     "user_tz": -330
    },
    "id": "OVX63x1WULke"
   },
   "outputs": [],
   "source": [
    "# Get the Embeddings:\n",
    "\n",
    "from langchain_huggingface import HuggingFaceEmbeddings\n",
    "\n",
    "model_name = \"sentence-transformers/all-MiniLM-L6-v2\"\n",
    "embeddings = HuggingFaceEmbeddings(model_name=model_name)"
   ]
  },
  {
   "cell_type": "markdown",
   "metadata": {
    "id": "BKbXKv9LUF_P"
   },
   "source": [
    "### **Vector Store:**"
   ]
  },
  {
   "cell_type": "code",
   "execution_count": 61,
   "metadata": {
    "executionInfo": {
     "elapsed": 3818,
     "status": "ok",
     "timestamp": 1737369928798,
     "user": {
      "displayName": "Dibyendu Biswas.",
      "userId": "13544031185281536447"
     },
     "user_tz": -330
    },
    "id": "yCSBUQotS3Lt"
   },
   "outputs": [],
   "source": [
    "# Load, chunk and index the contents of the blog.\n",
    "loader = WebBaseLoader(\"https://docs.smith.langchain.com/overview\")\n",
    "docs = loader.load()\n",
    "\n",
    "text_splitter = RecursiveCharacterTextSplitter(chunk_size=1000, chunk_overlap=200)\n",
    "splits = text_splitter.split_documents(docs)\n",
    "vectorstore = Chroma.from_documents(documents=splits, embedding=embeddings)"
   ]
  },
  {
   "cell_type": "code",
   "execution_count": null,
   "metadata": {
    "id": "ipsc0B8YS3OL"
   },
   "outputs": [],
   "source": [
    "# retriever:\n",
    "\n",
    "retriever = vectorstore.as_retriever(search_kwargs=dict(k=5))"
   ]
  },
  {
   "cell_type": "markdown",
   "metadata": {
    "id": "d7BOvRpMUfzA"
   },
   "source": [
    "### **LangGraph Integration:**"
   ]
  },
  {
   "cell_type": "code",
   "execution_count": 62,
   "metadata": {
    "executionInfo": {
     "elapsed": 414,
     "status": "ok",
     "timestamp": 1737369998598,
     "user": {
      "displayName": "Dibyendu Biswas.",
      "userId": "13544031185281536447"
     },
     "user_tz": -330
    },
    "id": "PRU2xc2_S3Qi"
   },
   "outputs": [],
   "source": [
    "from typing import TypedDict, Annotated, Sequence\n",
    "import operator\n",
    "from langchain_core.messages import BaseMessage"
   ]
  },
  {
   "cell_type": "code",
   "execution_count": 63,
   "metadata": {
    "executionInfo": {
     "elapsed": 5,
     "status": "ok",
     "timestamp": 1737369999272,
     "user": {
      "displayName": "Dibyendu Biswas.",
      "userId": "13544031185281536447"
     },
     "user_tz": -330
    },
    "id": "MO9R2P3CUiWs"
   },
   "outputs": [],
   "source": [
    "class AgentState(TypedDict):\n",
    "    messages: Annotated[Sequence[BaseMessage], operator.add]"
   ]
  },
  {
   "cell_type": "code",
   "execution_count": 66,
   "metadata": {
    "colab": {
     "base_uri": "https://localhost:8080/"
    },
    "executionInfo": {
     "elapsed": 364,
     "status": "ok",
     "timestamp": 1737370030478,
     "user": {
      "displayName": "Dibyendu Biswas.",
      "userId": "13544031185281536447"
     },
     "user_tz": -330
    },
    "id": "h_-TzlSKUiY6",
    "outputId": "0a6653f3-aeb7-47c5-ae31-4f496519a2aa"
   },
   "outputs": [
    {
     "data": {
      "text/plain": [
       "PydanticOutputParser(pydantic_object=<class '__main__.TopicSelectionParser'>)"
      ]
     },
     "execution_count": 66,
     "metadata": {},
     "output_type": "execute_result"
    }
   ],
   "source": [
    "from langchain.output_parsers import PydanticOutputParser\n",
    "from pydantic import BaseModel , Field\n",
    "\n",
    "\n",
    "\n",
    "class TopicSelectionParser(BaseModel):\n",
    "    Topic: str = Field(description='Selected Topic')\n",
    "    #Reasoning: str = Field(description='Reasoning behind topic selection')\n",
    "\n",
    "parser = PydanticOutputParser(pydantic_object=TopicSelectionParser)\n",
    "parser"
   ]
  },
  {
   "cell_type": "code",
   "execution_count": 67,
   "metadata": {
    "colab": {
     "base_uri": "https://localhost:8080/",
     "height": 87
    },
    "executionInfo": {
     "elapsed": 7,
     "status": "ok",
     "timestamp": 1737370030887,
     "user": {
      "displayName": "Dibyendu Biswas.",
      "userId": "13544031185281536447"
     },
     "user_tz": -330
    },
    "id": "Qk3dE6hFUibS",
    "outputId": "cfe0bef8-a969-44dc-994e-7357181f3173"
   },
   "outputs": [
    {
     "data": {
      "application/vnd.google.colaboratory.intrinsic+json": {
       "type": "string"
      },
      "text/plain": [
       "'The output should be formatted as a JSON instance that conforms to the JSON schema below.\\n\\nAs an example, for the schema {\"properties\": {\"foo\": {\"title\": \"Foo\", \"description\": \"a list of strings\", \"type\": \"array\", \"items\": {\"type\": \"string\"}}}, \"required\": [\"foo\"]}\\nthe object {\"foo\": [\"bar\", \"baz\"]} is a well-formatted instance of the schema. The object {\"properties\": {\"foo\": [\"bar\", \"baz\"]}} is not well-formatted.\\n\\nHere is the output schema:\\n```\\n{\"properties\": {\"Topic\": {\"description\": \"Selected Topic\", \"title\": \"Topic\", \"type\": \"string\"}}, \"required\": [\"Topic\"]}\\n```'"
      ]
     },
     "execution_count": 67,
     "metadata": {},
     "output_type": "execute_result"
    }
   ],
   "source": [
    "parser.get_format_instructions()"
   ]
  },
  {
   "cell_type": "markdown",
   "metadata": {
    "id": "V332SzO-VDJX"
   },
   "source": [
    "#### **Create Conditional Agent Node:**"
   ]
  },
  {
   "cell_type": "code",
   "execution_count": 71,
   "metadata": {
    "colab": {
     "base_uri": "https://localhost:8080/"
    },
    "executionInfo": {
     "elapsed": 2051,
     "status": "ok",
     "timestamp": 1737370249337,
     "user": {
      "displayName": "Dibyendu Biswas.",
      "userId": "13544031185281536447"
     },
     "user_tz": -330
    },
    "id": "5nn6-LK5UnHF",
    "outputId": "46bb63dd-daf2-43ec-a087-fca18b5841aa"
   },
   "outputs": [
    {
     "data": {
      "text/plain": [
       "({'messages': ['Not Related']}, {'messages': ['LangChain']})"
      ]
     },
     "execution_count": 71,
     "metadata": {},
     "output_type": "execute_result"
    }
   ],
   "source": [
    "# A Conditional Agent Node:\n",
    "\n",
    "def function(state):\n",
    "    # print('-> Calling Conditional Agent ->')\n",
    "    messages = state['messages']\n",
    "    question = messages[-1]   ## Fetching the user question\n",
    "\n",
    "    templete = \"\"\" Your task is to provide only the topic based on the user query. \\\n",
    "    Only output the topic among: [LangChain, LLM, Agent, LangSmith, Not Related]. \\\n",
    "    Don't include reasoning. \\\n",
    "    Following is the user query:  {question} \\\n",
    "    {format_instructions} \"\"\"\n",
    "    prompt = PromptTemplate(template=templete,\n",
    "                                    input_variables=[question],\n",
    "                                    partial_variables={\n",
    "                                        \"format_instructions\" : parser.get_format_instructions()                                    }\n",
    "                                    )\n",
    "    chain = prompt | llm | parser\n",
    "\n",
    "    response = chain.invoke({\"question\":question,\"format_instructions\" : parser.get_format_instructions() })\n",
    "\n",
    "    # print(response)\n",
    "\n",
    "    return {\"messages\": [response.Topic]}\n",
    "\n",
    "\n",
    "\n",
    "# Invoke\n",
    "function({\"messages\": [\"Tell me Something About India\"]}), function({\"messages\": [\"Tell me Something About LangChain, LangSmith, LLM, etc.\"]})"
   ]
  },
  {
   "cell_type": "markdown",
   "metadata": {
    "id": "pvdggAbpXIRY"
   },
   "source": [
    "#### **Create Nodes:**"
   ]
  },
  {
   "cell_type": "code",
   "execution_count": 82,
   "metadata": {
    "colab": {
     "base_uri": "https://localhost:8080/"
    },
    "executionInfo": {
     "elapsed": 7637,
     "status": "ok",
     "timestamp": 1737371386860,
     "user": {
      "displayName": "Dibyendu Biswas.",
      "userId": "13544031185281536447"
     },
     "user_tz": -330
    },
    "id": "Mo789T_1UnJV",
    "outputId": "b66fd716-3e3e-43a7-c00a-c338748154ed"
   },
   "outputs": [
    {
     "data": {
      "text/plain": [
       "{'messages': [\"India is a vast and diverse country located in South Asia. It's the world's second-most populous country and the seventh-largest by land area.  Known for its rich history, vibrant culture, and diverse landscapes, India offers something for everyone.  Here are a few key points:\\n\\n* **Ancient Civilization:**  India is home to one of the world's oldest civilizations, the Indus Valley Civilization.  Its history is filled with powerful empires, religious movements, and significant contributions to art, science, and mathematics.\\n* **Cultural Hub:** India is incredibly diverse, with 28 states and 8 union territories, each with its own unique language, customs, and traditions.  This cultural richness is reflected in its music, dance, literature, and cuisine.\\n* **Religious Diversity:**  India is a secular nation with a variety of religions practiced, including Hinduism, Islam, Sikhism, Christianity, Buddhism, Jainism, and Zoroastrianism.  This religious diversity has shaped the country's social fabric and contributed to its rich spiritual heritage.\\n* **Economic Powerhouse:**  India is a rapidly growing economy and a major player in the global market.  It's known for its IT industry, manufacturing sector, and growing middle class.\\n* **Land of Contrasts:** From the snow-capped Himalayas in the north to the tropical beaches in the south, India boasts a wide range of geographical features.  This diversity extends to its wildlife, with a variety of species found across the country.\\n\\n\\nThis is just a glimpse into the fascinating tapestry of India.  If you have any specific aspects you'd like to know more about, feel free to ask!\"]}"
      ]
     },
     "execution_count": 82,
     "metadata": {},
     "output_type": "execute_result"
    }
   ],
   "source": [
    "# Create Node: LLM_CALL, that call only llm to get response.\n",
    "\n",
    "def function_1(state):\n",
    "    # print('-> Calling LLM ->')\n",
    "\n",
    "    messages = state['messages']\n",
    "    question = messages[0] ## Fetching the user question\n",
    "\n",
    "    # Normal LLM call\n",
    "    complete_query = \"Anwer the follow question with you knowledge of the real world. Following is the user question: \" + question\n",
    "    response = llm.invoke(complete_query)\n",
    "    return {\"messages\": [response.content]}\n",
    "\n",
    "\n",
    "function_1({\"messages\": [\"Tell me something about India\"]})"
   ]
  },
  {
   "cell_type": "code",
   "execution_count": 73,
   "metadata": {
    "executionInfo": {
     "elapsed": 394,
     "status": "ok",
     "timestamp": 1737370430243,
     "user": {
      "displayName": "Dibyendu Biswas.",
      "userId": "13544031185281536447"
     },
     "user_tz": -330
    },
    "id": "Vo1aPnxbUnLo"
   },
   "outputs": [],
   "source": [
    "from langchain_core.output_parsers import StrOutputParser\n",
    "from langchain.schema import SystemMessage, HumanMessage\n",
    "from langchain_core.prompts import ChatPromptTemplate, PromptTemplate, FewShotPromptTemplate, FewShotChatMessagePromptTemplate\n",
    "from langchain_core.runnables import RunnablePassthrough\n",
    "from langchain.chains import RetrievalQA"
   ]
  },
  {
   "cell_type": "code",
   "execution_count": 74,
   "metadata": {
    "colab": {
     "base_uri": "https://localhost:8080/"
    },
    "executionInfo": {
     "elapsed": 1828,
     "status": "ok",
     "timestamp": 1737370684001,
     "user": {
      "displayName": "Dibyendu Biswas.",
      "userId": "13544031185281536447"
     },
     "user_tz": -330
    },
    "id": "4qxjcJLOWOcH",
    "outputId": "18295a7e-a7bc-4ed5-d7c0-381cd15e66ab"
   },
   "outputs": [
    {
     "data": {
      "text/plain": [
       "{'messages': ['LangSmith is a platform for building and improving production-grade LLM applications.  It allows you to observe, evaluate, and debug your LLM apps.  It integrates seamlessly with LangChain.']}"
      ]
     },
     "execution_count": 74,
     "metadata": {},
     "output_type": "execute_result"
    }
   ],
   "source": [
    "# Create Node: RAG_Tool, that call the knowledgebase for generating response.\n",
    "\n",
    "\n",
    "# RAG Pipeline:\n",
    "def function_2(state):\n",
    "    messages = state['messages']\n",
    "    question = messages[0] ## Fetching the user question\n",
    "\n",
    "    # Define Few-Shot Prompt Template using Few esamples:\n",
    "    few_shot_examples = [\n",
    "      {'input': 'Hello', 'output': 'Hi there! How can I help you today?'},\n",
    "      {'input': 'What is your name?', 'output': 'I’m ChatGPT, your assistant!'},\n",
    "      {'input': 'How are you?', 'output': 'I’m doing great, thanks for asking! How about you?'},\n",
    "      {'input': 'Tell me a joke', 'output': 'Why don’t skeletons fight each other? They don’t have the guts!'},\n",
    "      {'input': 'What time is it?', 'output': 'I’m not able to tell the time, but you can check your device!'},\n",
    "      {'input': 'Goodbye', 'output': 'Goodbye! Have a great day!'},\n",
    "      {'input': 'Can you help me?', 'output': 'Of course! What do you need help with?'},\n",
    "      {'input': 'What is the weather like?', 'output': 'I’m unable to check real-time weather, but you can look it up online!'},\n",
    "      {'input': 'Set a reminder', 'output': 'I can’t set reminders, but I can help you with other things!'},\n",
    "      {'input': 'Where are you from?', 'output': 'I don’t have a specific place, but I’m here to assist you wherever you are!'},\n",
    "      {'input': 'What can you do?', 'output': 'I can answer questions, tell jokes, help with tasks, and more! What do you need today?'},\n",
    "      {'input': 'Help me with math', 'output': 'Sure! What math problem would you like help with?'},\n",
    "      {'input': 'I am bored', 'output': 'Let’s do something fun! Want to hear a joke or maybe try a quiz?'},\n",
    "      {'input': 'What is 5 + 7?', 'output': '5 + 7 equals 12!'},\n",
    "      {'input': 'How do I cook pasta?', 'output': 'Boil water, add pasta, cook for 8-12 minutes, drain, and enjoy!'},\n",
    "      {'input': 'Tell me a fun fact', 'output': 'Did you know? A day on Venus is longer than a year on Venus!'},\n",
    "      {'input': 'What is your favorite color?', 'output': 'I don’t have a favorite color, but I think blue is nice!'}\n",
    "    ]\n",
    "\n",
    "    # Few Shot Template:\n",
    "    few_shot_template = ChatPromptTemplate.from_messages(\n",
    "        [\n",
    "            (\"human\", \"{input}\"),\n",
    "            (\"ai\", \"{output}\")\n",
    "        ]\n",
    "    )\n",
    "    # Few Shot Prompt:\n",
    "    few_shot_prompt = FewShotChatMessagePromptTemplate(\n",
    "        example_prompt=few_shot_template,\n",
    "        examples=few_shot_examples,\n",
    "    )\n",
    "\n",
    "    # Write System Messages:\n",
    "    system_prompt = (\n",
    "        \"You are an AI Assistant, named 'Lily' specializing in AI for all the students.\"\n",
    "        \"This AI Assistant Designed by Dibyendu Biswas, an AI/ML Engineer\"\n",
    "        \"You provide clear, step-by-step explanations and encourage students to learn. \"\n",
    "        \"If a question is unclear, ask for clarification.\"\n",
    "        \"Use four sentences maximum and keep the answer concise.\"\n",
    "        \"\\n\\n\"\n",
    "        \"{context}\"\n",
    "    )\n",
    "\n",
    "    # Define Final Prompt Using System prompt and Few Shot Prompt\n",
    "    final_prompt = ChatPromptTemplate.from_messages([\n",
    "        (\"system\", system_prompt),\n",
    "        few_shot_prompt,\n",
    "        (\"user\", \"{input}\"),\n",
    "    ])\n",
    "\n",
    "    llm = load_llm()\n",
    "\n",
    "    retrieval_chain = (\n",
    "        {\"context\": retriever, \"input\": RunnablePassthrough()}\n",
    "        | final_prompt\n",
    "        | llm\n",
    "        | StrOutputParser()\n",
    "        )\n",
    "\n",
    "    result = retrieval_chain.invoke(question)\n",
    "    return {\"messages\": [result]}\n",
    "\n",
    "\n",
    "function_2({\"messages\": [\"What is LangSmith?\"]})"
   ]
  },
  {
   "cell_type": "markdown",
   "metadata": {
    "id": "eczTpVOdXXg2"
   },
   "source": [
    "#### **Create Router: that either call LLM or RAG Tool:**\n",
    "\n",
    "* Either **LLM_CALL** or **RAG_TOOL**."
   ]
  },
  {
   "cell_type": "code",
   "execution_count": 83,
   "metadata": {
    "executionInfo": {
     "elapsed": 414,
     "status": "ok",
     "timestamp": 1737371434581,
     "user": {
      "displayName": "Dibyendu Biswas.",
      "userId": "13544031185281536447"
     },
     "user_tz": -330
    },
    "id": "X53g6g2kXNh8"
   },
   "outputs": [],
   "source": [
    "# Create a Router Function which route the Component/Function call in the Acyclic Graph:\n",
    "\n",
    "def router(state):\n",
    "    # print('-> Router ->')\n",
    "\n",
    "    messages = state[\"messages\"]\n",
    "    last_message = messages[-1]\n",
    "    print(last_message)\n",
    "    if 'LangChain' in last_message or 'LLM' in last_message or 'Agent' in last_message  or 'LangSmith' in last_message:\n",
    "        return 'RAG_Call'\n",
    "    else:\n",
    "        return 'LLM_Call'"
   ]
  },
  {
   "cell_type": "markdown",
   "metadata": {
    "id": "SlYl9i91X4D_"
   },
   "source": [
    "#### **Create WorkFlow:**"
   ]
  },
  {
   "cell_type": "code",
   "execution_count": 76,
   "metadata": {
    "executionInfo": {
     "elapsed": 393,
     "status": "ok",
     "timestamp": 1737370874046,
     "user": {
      "displayName": "Dibyendu Biswas.",
      "userId": "13544031185281536447"
     },
     "user_tz": -330
    },
    "id": "yq8u7jf0XNkw"
   },
   "outputs": [],
   "source": [
    "from langgraph.graph import StateGraph, END"
   ]
  },
  {
   "cell_type": "code",
   "execution_count": 84,
   "metadata": {
    "colab": {
     "base_uri": "https://localhost:8080/",
     "height": 350
    },
    "executionInfo": {
     "elapsed": 451,
     "status": "ok",
     "timestamp": 1737371472752,
     "user": {
      "displayName": "Dibyendu Biswas.",
      "userId": "13544031185281536447"
     },
     "user_tz": -330
    },
    "id": "sn9SUqBUXNp4",
    "outputId": "a59a29f5-bbc5-488e-d5dd-61a3816e4b10"
   },
   "outputs": [
    {
     "data": {
      "image/png": "[encoded data removed]",
      "text/plain": [
       "<langgraph.graph.state.CompiledStateGraph object at 0x78666df822d0>"
      ]
     },
     "execution_count": 84,
     "metadata": {},
     "output_type": "execute_result"
    }
   ],
   "source": [
    "workflow = StateGraph(AgentState) ### StateGraph with AgentState\n",
    "\n",
    "# Add Nodes:\n",
    "workflow.add_node(\"Conditional_Agent\", function)\n",
    "workflow.add_node(\"LLM_Call\", function_1)\n",
    "workflow.add_node(\"RAG_Call\", function_2)\n",
    "\n",
    "\n",
    "# Set an Entry Point:\n",
    "workflow.set_entry_point(\"Conditional_Agent\")\n",
    "\n",
    "\n",
    "\n",
    "# Define Conditional Edges, that is controlled by router:\n",
    "workflow.add_conditional_edges(\n",
    "    \"Conditional_Agent\", # Where Graph Start\n",
    "    router, # router function to determine which node is called\n",
    "    {\n",
    "        \"LLM_Call\": \"LLM_Call\",\n",
    "        \"RAG_Call\": \"RAG_Call\"\n",
    "    }\n",
    ")\n",
    "\n",
    "\n",
    "\n",
    "# Add Edges: LLM_CALL -> END & RAG_CALL -> END:\n",
    "workflow.add_edge(\"LLM_Call\", END)\n",
    "workflow.add_edge(\"RAG_Call\", END)\n",
    "\n",
    "\n",
    "\n",
    "# Compile the WorkFlow:\n",
    "app = workflow.compile()\n",
    "app"
   ]
  },
  {
   "cell_type": "code",
   "execution_count": 80,
   "metadata": {
    "colab": {
     "base_uri": "https://localhost:8080/"
    },
    "executionInfo": {
     "elapsed": 2492,
     "status": "ok",
     "timestamp": 1737371295190,
     "user": {
      "displayName": "Dibyendu Biswas.",
      "userId": "13544031185281536447"
     },
     "user_tz": -330
    },
    "id": "wQCdLBYHXNs3",
    "outputId": "3508834f-fe7b-4b64-f3da-951e2fdbdf38"
   },
   "outputs": [
    {
     "name": "stdout",
     "output_type": "stream",
     "text": [
      "LangSmith\n"
     ]
    },
    {
     "data": {
      "text/plain": [
       "{'messages': ['Tell me about LangSmith',\n",
       "  'LangSmith',\n",
       "  'LangSmith is a platform for building and managing production-grade LLM applications.  It helps you monitor, evaluate, and improve your LLM apps.  This allows you to ship faster and with more confidence.']}"
      ]
     },
     "execution_count": 80,
     "metadata": {},
     "output_type": "execute_result"
    }
   ],
   "source": [
    "app.invoke({\"messages\": [\"Tell me about LangSmith\"]})"
   ]
  },
  {
   "cell_type": "code",
   "execution_count": 85,
   "metadata": {
    "colab": {
     "base_uri": "https://localhost:8080/"
    },
    "executionInfo": {
     "elapsed": 14711,
     "status": "ok",
     "timestamp": 1737371491178,
     "user": {
      "displayName": "Dibyendu Biswas.",
      "userId": "13544031185281536447"
     },
     "user_tz": -330
    },
    "id": "SUTd9KoJZaED",
    "outputId": "31018431-809d-40e8-a54b-0994ded7ca3d"
   },
   "outputs": [
    {
     "name": "stdout",
     "output_type": "stream",
     "text": [
      "Not Related\n"
     ]
    },
    {
     "data": {
      "text/plain": [
       "{'messages': ['Tell me about India',\n",
       "  'Not Related',\n",
       "  \"India is a vast and diverse country located in South Asia. It's the seventh-largest country by area and the second-most populous, with over 1.4 billion people.  Here's a glimpse into some key aspects:\\n\\n**Geography and Environment:**\\n\\n* **Himalayas:**  India is bordered by the towering Himalayas in the north, which include some of the world's highest peaks like Mount Everest (though its summit lies in Nepal).\\n* **Ganges River:** The Ganges, a sacred river for Hindus, flows through northern India and is vital for agriculture and spiritual practices.\\n* **Diverse Landscapes:** From the snowy Himalayas to the Thar Desert, coastal plains, and tropical forests, India boasts a wide range of landscapes and ecosystems.\\n* **Monsoon Season:**  India experiences a monsoon season, bringing heavy rainfall crucial for agriculture but also causing floods in some areas.\\n* **Environmental Challenges:**  Rapid industrialization and population growth have led to environmental challenges like air and water pollution, deforestation, and resource depletion.\\n\\n**Culture and Society:**\\n\\n* **Diversity of Languages and Religions:** India is incredibly diverse, with 22 officially recognized languages and numerous dialects.  Major religions include Hinduism, Islam, Christianity, Sikhism, Buddhism, and Jainism.\\n* **Festivals:**  India is known for its vibrant festivals, celebrating religious occasions, harvests, and cultural traditions.  Diwali, Holi, and Eid are some of the most prominent.\\n* **Family-Oriented Society:** Family plays a central role in Indian culture, with strong emphasis on respect for elders and community ties.\\n* **Traditional Arts and Crafts:**  India has a rich artistic heritage, including intricate textiles, pottery, painting, music, and dance forms like classical Bharatanatyam and Kathak.\\n* **Bollywood:** The Hindi film industry, based in Mumbai (formerly Bombay), is one of the largest in the world and enjoys immense popularity both within India and globally.\\n\\n**History and Politics:**\\n\\n* **Ancient Civilization:**  The Indus Valley Civilization, one of the world's oldest, flourished in what is now India and Pakistan.\\n* **British Rule:** India was under British colonial rule for nearly two centuries, gaining independence in 1947.\\n* **Democracy:** India is the world's largest democracy, with a parliamentary system of government.\\n* **Partition:** The partition of India and Pakistan in 1947 led to widespread displacement and violence.\\n* **Ongoing Territorial Disputes:**  India has ongoing territorial disputes with neighboring countries, including Pakistan and China.\\n\\n**Economy:**\\n\\n* **Rapid Economic Growth:** India has experienced significant economic growth in recent decades, becoming a major player in the global economy.\\n* **Information Technology:** The IT sector has been a key driver of growth, with India becoming a global hub for software development and outsourcing.\\n* **Agriculture:** Agriculture remains a significant part of the Indian economy, employing a large portion of the population.\\n* **Poverty and Inequality:** Despite economic progress, poverty and income inequality remain significant challenges.\\n\\n\\nThis is just a brief overview of India.  To understand its complexity and richness, further exploration is highly recommended.  Do you have any specific aspects of India you'd like to know more about?\"]}"
      ]
     },
     "execution_count": 85,
     "metadata": {},
     "output_type": "execute_result"
    }
   ],
   "source": [
    "app.invoke({\"messages\": [\"Tell me about India\"]})"
   ]
  },
  {
   "cell_type": "code",
   "execution_count": 86,
   "metadata": {
    "colab": {
     "base_uri": "https://localhost:8080/"
    },
    "executionInfo": {
     "elapsed": 1474,
     "status": "ok",
     "timestamp": 1737371513878,
     "user": {
      "displayName": "Dibyendu Biswas.",
      "userId": "13544031185281536447"
     },
     "user_tz": -330
    },
    "id": "znMDQJhJZsqT",
    "outputId": "fa501909-18a0-4f46-dc1a-b56be74d45c0"
   },
   "outputs": [
    {
     "name": "stdout",
     "output_type": "stream",
     "text": [
      "Not Related\n"
     ]
    },
    {
     "data": {
      "text/plain": [
       "{'messages': ['Hi.', 'Not Related', 'Hi. How can I help you?']}"
      ]
     },
     "execution_count": 86,
     "metadata": {},
     "output_type": "execute_result"
    }
   ],
   "source": [
    "app.invoke({\"messages\": [\"Hi.\"]})"
   ]
  },
  {
   "cell_type": "code",
   "execution_count": null,
   "metadata": {
    "id": "R9mkiyWUaWun"
   },
   "outputs": [],
   "source": []
  }
 ],
 "metadata": {
  "colab": {
   "authorship_tag": "ABX9TyPgk5wb61zb0WHYC/8jdvkK",
   "provenance": []
  },
  "kernelspec": {
   "display_name": "base",
   "language": "python",
   "name": "python3"
  },
  "language_info": {
   "name": "python",
   "version": "3.12.4"
  }
 },
 "nbformat": 4,
 "nbformat_minor": 0
}
