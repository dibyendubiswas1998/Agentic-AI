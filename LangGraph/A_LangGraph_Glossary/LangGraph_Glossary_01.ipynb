{
 "cells": [
  {
   "cell_type": "markdown",
   "metadata": {},
   "source": [
    "# **LangGraph 01:**\n",
    "\n",
    "1. **TypeDict**\n",
    "2. **BaseModel**"
   ]
  },
  {
   "cell_type": "markdown",
   "metadata": {},
   "source": [
    "## **1. TypeDict:**\n",
    "\n",
    "**TypedDict** is a feature introduced in Python PEP 589 to define the structure of dictionaries with **explicit type annotations** for their keys and values. It allows for more robust type-checking when working with dictionaries where the shape (keys and their value types) is known in advance. <br>\n",
    "\n",
    "**Key Features:**\n",
    "* Useful for **type annotations** in dictionaries.\n",
    "* Helps with **type-checking** at design time (with tools like mypy or pylance).\n",
    "* Provides better documentation and readability for developers."
   ]
  },
  {
   "cell_type": "markdown",
   "metadata": {},
   "source": [
    "### **Example 01:**"
   ]
  },
  {
   "cell_type": "code",
   "execution_count": 1,
   "metadata": {},
   "outputs": [
    {
     "data": {
      "text/plain": [
       "{'name': 'Alice', 'age': 30, 'email': 'alice@example.com'}"
      ]
     },
     "execution_count": 1,
     "metadata": {},
     "output_type": "execute_result"
    }
   ],
   "source": [
    "# Example 01:\n",
    "\n",
    "from typing import TypedDict\n",
    "\n",
    "class UserProfile(TypedDict):\n",
    "    name: str\n",
    "    age: int\n",
    "    email: str\n",
    "\n",
    "# Example dictionary adhering to the TypedDict\n",
    "user: UserProfile = {\n",
    "    \"name\": \"Alice\",\n",
    "    \"age\": 30,\n",
    "    \"email\": \"alice@example.com\"\n",
    "}\n",
    "\n",
    "user"
   ]
  },
  {
   "cell_type": "code",
   "execution_count": 2,
   "metadata": {},
   "outputs": [
    {
     "data": {
      "text/plain": [
       "typing._TypedDictMeta"
      ]
     },
     "execution_count": 2,
     "metadata": {},
     "output_type": "execute_result"
    }
   ],
   "source": [
    "type(UserProfile)"
   ]
  },
  {
   "cell_type": "code",
   "execution_count": 3,
   "metadata": {},
   "outputs": [
    {
     "data": {
      "text/plain": [
       "{'name': 'Alice', 'age': 30, 'email': 'alice@example.com'}"
      ]
     },
     "execution_count": 3,
     "metadata": {},
     "output_type": "execute_result"
    }
   ],
   "source": [
    "user = UserProfile()\n",
    "user = {\n",
    "    \"name\": \"Alice\",\n",
    "    \"age\": 30,\n",
    "    \"email\": \"alice@example.com\"\n",
    "}\n",
    "user"
   ]
  },
  {
   "cell_type": "code",
   "execution_count": 4,
   "metadata": {},
   "outputs": [
    {
     "data": {
      "text/plain": [
       "{'name': 'Bob', 'age': 'thirty11', 'email': 'bob@example.com'}"
      ]
     },
     "execution_count": 4,
     "metadata": {},
     "output_type": "execute_result"
    }
   ],
   "source": [
    "# \n",
    "\n",
    "user_with_error: UserProfile = {\n",
    "    \"name\": \"Bob\",\n",
    "    \"age\": \"thirty11\",\n",
    "    \"email\": \"bob@example.com\"\n",
    "}\n",
    "\n",
    "user_with_error"
   ]
  },
  {
   "cell_type": "markdown",
   "metadata": {},
   "source": [
    "### **Example 02:**"
   ]
  },
  {
   "cell_type": "code",
   "execution_count": 5,
   "metadata": {},
   "outputs": [
    {
     "data": {
      "text/plain": [
       "{'fname': 'John',\n",
       " 'lname': 'Doe',\n",
       " 'age': 30,\n",
       " 'city': 'New York',\n",
       " 'pincode': 10001}"
      ]
     },
     "execution_count": 5,
     "metadata": {},
     "output_type": "execute_result"
    }
   ],
   "source": [
    "from typing import TypedDict\n",
    "\n",
    "\n",
    "class UserInfo(TypedDict):\n",
    "    fname: str\n",
    "    lname: str\n",
    "    age: int\n",
    "    city: str\n",
    "    pincode: int\n",
    "\n",
    "\n",
    "def user_record(info: UserInfo) -> None:\n",
    "    return info\n",
    "\n",
    "user_record(info={\n",
    "    'fname': \"John\",\n",
    "    'lname': \"Doe\",\n",
    "    'age': 30,\n",
    "    'city': \"New York\",\n",
    "    'pincode': 10001\n",
    "})"
   ]
  },
  {
   "cell_type": "code",
   "execution_count": 8,
   "metadata": {},
   "outputs": [
    {
     "data": {
      "text/plain": [
       "{'fname': 'John',\n",
       " 'lname': 'Doe',\n",
       " 'age': 30,\n",
       " 'city': 'New York',\n",
       " 'pincode': '10001'}"
      ]
     },
     "execution_count": 8,
     "metadata": {},
     "output_type": "execute_result"
    }
   ],
   "source": [
    "from dataclasses import dataclass\n",
    "from typing import TypedDict\n",
    "\n",
    "\n",
    "\n",
    "class UserInfo(TypedDict):\n",
    "    fname: str\n",
    "    lname: str\n",
    "    age: int\n",
    "    city: str\n",
    "    pincode: int\n",
    "\n",
    "\n",
    "def user_record(info: UserInfo) -> None:\n",
    "    return info\n",
    "\n",
    "user_record(info={\n",
    "    'fname': \"John\",\n",
    "    'lname': \"Doe\",\n",
    "    'age': 30,\n",
    "    'city': \"New York\",\n",
    "    'pincode': \"10001\"\n",
    "})\n"
   ]
  },
  {
   "cell_type": "code",
   "execution_count": 21,
   "metadata": {},
   "outputs": [
    {
     "data": {
      "text/plain": [
       "{'fname': 'John',\n",
       " 'lname': 'Doe',\n",
       " 'age': 'thirty',\n",
       " 'city': 'New York',\n",
       " 'pincode': 10001}"
      ]
     },
     "execution_count": 21,
     "metadata": {},
     "output_type": "execute_result"
    }
   ],
   "source": [
    "user_record(info={\n",
    "    'fname': \"John\",\n",
    "    'lname': \"Doe\",\n",
    "    'age': \"thirty\",\n",
    "    'city': \"New York\",\n",
    "    'pincode': 10001\n",
    "})"
   ]
  },
  {
   "cell_type": "code",
   "execution_count": 12,
   "metadata": {},
   "outputs": [
    {
     "data": {
      "text/plain": [
       "{'name': 'John', 'age': '30', 'email': 'jhon@gmail.com'}"
      ]
     },
     "execution_count": 12,
     "metadata": {},
     "output_type": "execute_result"
    }
   ],
   "source": [
    "@dataclass(frozen=True)\n",
    "class User:\n",
    "    name: str\n",
    "    age: int\n",
    "    email: str\n",
    "\n",
    "\n",
    "def user_record(info: User) -> None:\n",
    "    return info\n",
    "\n",
    "\n",
    "user_record(\n",
    "    info={\n",
    "        'name': \"John\",\n",
    "        'age': '30',\n",
    "        'email': \"jhon@gmail.com\"\n",
    "    }\n",
    ")"
   ]
  },
  {
   "cell_type": "markdown",
   "metadata": {},
   "source": [
    "## **2. BaseModel:**\n",
    "\n",
    "Pydantic's BaseModel is a core feature for data validation and settings management. It allows defining Python classes with **data validation** and **type enforcement**, ensuring input data adheres to specified types and constraints. <br>\n",
    "\n",
    "**Key Features:**\n",
    "* Automatically validates data at runtime.\n",
    "* Supports default values, required fields, and complex data types.\n",
    "* Provides methods for serialization (e.g., .json()) and parsing (e.g., .parse_obj()).\n",
    "* Handles nested models and custom validators."
   ]
  },
  {
   "cell_type": "code",
   "execution_count": 23,
   "metadata": {},
   "outputs": [
    {
     "name": "stdout",
     "output_type": "stream",
     "text": [
      "{\"name\":\"Alice\",\"age\":30,\"email\":\"alice@example.com\"}\n"
     ]
    }
   ],
   "source": [
    "# Example  01:\n",
    "\n",
    "from pydantic import BaseModel, ValidationError\n",
    "\n",
    "class UserProfile(BaseModel):\n",
    "    name: str\n",
    "    age: int\n",
    "    email: str\n",
    "\n",
    "# Valid data\n",
    "try:\n",
    "    user = UserProfile(name=\"Alice\", age=30, email=\"alice@example.com\")\n",
    "    print(user.model_dump_json()) \n",
    "\n",
    "except ValidationError as e:\n",
    "    print(\"Validation Error:\", e)"
   ]
  },
  {
   "cell_type": "code",
   "execution_count": 24,
   "metadata": {},
   "outputs": [
    {
     "name": "stdout",
     "output_type": "stream",
     "text": [
      "Validation Error: 1 validation error for UserProfile\n",
      "age\n",
      "  Input should be a valid integer, unable to parse string as an integer [type=int_parsing, input_value='thirty', input_type=str]\n",
      "    For further information visit https://errors.pydantic.dev/2.10/v/int_parsing\n"
     ]
    }
   ],
   "source": [
    "# Invalid data: Age should be an integer\n",
    "\n",
    "\n",
    "try:\n",
    "    invalid_user = UserProfile(name=\"Bob\", age=\"thirty\", email=\"bob@example.com\")\n",
    "    print(invalid_user.model_dump_json())\n",
    "\n",
    "except ValidationError as e:\n",
    "    print(\"Validation Error:\", e)"
   ]
  },
  {
   "cell_type": "code",
   "execution_count": 25,
   "metadata": {},
   "outputs": [
    {
     "name": "stdout",
     "output_type": "stream",
     "text": [
      "{\"name\":\"Alice\",\"age\":30,\"email\":\"abcefg@gmail.com\"}\n"
     ]
    }
   ],
   "source": [
    "# Use Defalut data\n",
    "\n",
    "class UserProfile(BaseModel):\n",
    "    name: str = \"Alice\"\n",
    "    age: int = 30\n",
    "    email: str = \"alice@example.com\"\n",
    "\n",
    "\n",
    "try:\n",
    "    user = UserProfile(email=\"abcefg@gmail.com\")\n",
    "    print(user.model_dump_json()) \n",
    "\n",
    "except ValidationError as e:\n",
    "    print(\"Validation Error:\", e)"
   ]
  },
  {
   "cell_type": "markdown",
   "metadata": {},
   "source": [
    "## **Difference Between `TypeDict` & `BaseModel`:**\n",
    "\n",
    "| Feature               | TypedDict                          | BaseModel (Pydantic)                        |\n",
    "|-----------------------|------------------------------------|---------------------------------------------|\n",
    "| **Purpose**           | Define the structure and types of dictionaries. | Validate and enforce types at runtime for data. |\n",
    "| **Validation**        | Static (only checked by type-checking tools like mypy). | Dynamic (checked at runtime).                |\n",
    "| **Serialization**     | Not supported.                     | Built-in (e.g., `.json()`, `.dict()`).      |\n",
    "| **Default Values**    | Not supported.                     | Supported.                                  |\n",
    "| **Nested Models**     | Not supported.                     | Fully supported.                            |\n",
    "| **Error Handling**    | Type errors only reported by static analysis. | Validation errors reported at runtime.      |"
   ]
  },
  {
   "cell_type": "code",
   "execution_count": null,
   "metadata": {},
   "outputs": [],
   "source": []
  },
  {
   "cell_type": "markdown",
   "metadata": {},
   "source": [
    "## **When to Use Each:**\n",
    "\n",
    "1. **TypeDict:**\n",
    "    * Use for type annotations and static type-checking.\n",
    "    * Best for lightweight dictionary-based data structures.\n",
    "    * Example: APIs returning JSON-like objects.\n",
    "\n",
    "\n",
    "2. **BaseModel:**\n",
    "    * Use for data validation and runtime type enforcement.\n",
    "    * Ideal for validating external inputs (e.g., API payloads).\n",
    "    * Example: Validating user input in a web application."
   ]
  },
  {
   "cell_type": "code",
   "execution_count": 28,
   "metadata": {},
   "outputs": [
    {
     "name": "stdout",
     "output_type": "stream",
     "text": [
      "{'name': 'Alice', 'age': 30, 'email': 'alice@example.com'}\n"
     ]
    }
   ],
   "source": [
    "from typing import TypedDict\n",
    "from pydantic import BaseModel, ValidationError\n",
    "\n",
    "# Define the structure using TypedDict\n",
    "class UserProfileDict(TypedDict):\n",
    "    name: str\n",
    "    age: int\n",
    "    email: str\n",
    "\n",
    "# Define validation using BaseModel\n",
    "class UserProfileModel(BaseModel):\n",
    "    name: str\n",
    "    age: int\n",
    "    email: str\n",
    "\n",
    "\n",
    "# TypedDict for type hints\n",
    "def get_user_profile(data: UserProfileDict) -> UserProfileModel:\n",
    "    # Validate and parse data using BaseModel\n",
    "    try:\n",
    "        return UserProfileModel(**data)\n",
    "    except ValidationError as e:\n",
    "        print(\"Validation Error:\", e)\n",
    "\n",
    "\n",
    "\n",
    "# Example usage\n",
    "user_data: UserProfileDict = {\"name\": \"Alice\", \"age\": 30, \"email\": \"alice@example.com\"}\n",
    "user_profile = get_user_profile(user_data)\n",
    "print(user_profile.model_dump())\n"
   ]
  },
  {
   "cell_type": "code",
   "execution_count": null,
   "metadata": {},
   "outputs": [],
   "source": []
  },
  {
   "cell_type": "markdown",
   "metadata": {},
   "source": [
    "## **Conclusion:**\n",
    "\n",
    "* **TypedDict** is great for defining dictionary structures and performing static type-checking during development.\n",
    "\n",
    "\n",
    "* **BaseModel** is essential for dynamic runtime validation, making it a go-to choice for real-world applications where data integrity is critical. Both are powerful tools for improving code quality and reliability. 🚀"
   ]
  },
  {
   "cell_type": "markdown",
   "metadata": {},
   "source": []
  }
 ],
 "metadata": {
  "kernelspec": {
   "display_name": "agentic_ai",
   "language": "python",
   "name": "python3"
  },
  "language_info": {
   "codemirror_mode": {
    "name": "ipython",
    "version": 3
   },
   "file_extension": ".py",
   "mimetype": "text/x-python",
   "name": "python",
   "nbconvert_exporter": "python",
   "pygments_lexer": "ipython3",
   "version": "3.10.16"
  }
 },
 "nbformat": 4,
 "nbformat_minor": 2
}
