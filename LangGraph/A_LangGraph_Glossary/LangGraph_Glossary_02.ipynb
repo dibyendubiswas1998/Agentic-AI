{
 "cells": [
  {
   "cell_type": "markdown",
   "metadata": {},
   "source": [
    "# **LangGraph Glossary 02:**\n",
    "\n",
    "1. Concepts of State, Nodes and Edges.\n",
    "2. Message Passing Algorithm, Graph, StateGraph, and MessageGraph.\n",
    "3. Schema, Multiple Schemas, Reducers.\n",
    "4. Working with Messages in Graph State."
   ]
  },
  {
   "cell_type": "markdown",
   "metadata": {},
   "source": [
    "## **Concepts of State, Nodes and Edges:**\n",
    "\n",
    "**State:** <br>\n",
    "The State represents the **data/data structure** that flows through the graph during the execution of a workflow. It is a dynamic object that holds the current context or information as the workflow progresses. The state is updated as the workflow moves from one node to another.\n",
    "**Holds the data as it flows through the workflow.**\n",
    "\n",
    "* **The state can be a simple dictionary, a Pydantic model, or any other data structure that holds the necessary information.**\n",
    "* **Each node in the graph can read from and modify the state.**\n",
    "\n",
    "<br><br>\n",
    "\n",
    "**Nodes:** <br>\n",
    "Nodes are the <u>individual units of work or processing steps in the graph</u>. Each node performs a specific task or computation and can modify the state.\n",
    "\n",
    "* Nodes are functions or callable objects that take the current state as input, perform some operations, and return an updated state.\n",
    "* Nodes can represent tasks like data processing, API calls, or decision-making logic.\n",
    "\n",
    "<br><br>\n",
    "\n",
    "**Edges:** <br>\n",
    "Edges define the flow of control between nodes. They determine which node should be executed next based on the current state or the output of the previous node.\n",
    "\n",
    "* Edges can be conditional (e.g., based on a decision) or unconditional (always move to the next node).\n",
    "* They are used to create the structure of the workflow and define the order in which nodes are executed."
   ]
  },
  {
   "cell_type": "markdown",
   "metadata": {},
   "source": [
    "### **Example 01:**"
   ]
  },
  {
   "cell_type": "code",
   "execution_count": 1,
   "metadata": {},
   "outputs": [],
   "source": [
    "# Step 1: Define the State: The state will hold the user's name, age, and the final message.\n",
    "\n",
    "\n",
    "from typing import Dict, Any\n",
    "\n",
    "# Define the state as a dictionary\n",
    "State = Dict[str, Any]"
   ]
  },
  {
   "cell_type": "code",
   "execution_count": 2,
   "metadata": {},
   "outputs": [],
   "source": [
    "# Step 2: Define the Nodes: \n",
    "# Check Eligibility: Checks if the user is eligible to vote.\n",
    "# Generate Message: Generates a message based on the eligibility.\n",
    "\n",
    "\n",
    "def check_eligibility(state: State) -> State:\n",
    "    age = state[\"age\"]\n",
    "    state[\"is_eligible\"] = age >= 18\n",
    "    return state\n",
    "\n",
    "\n",
    "\n",
    "def generate_message(state: State) -> State:\n",
    "    if state[\"is_eligible\"]:\n",
    "        state[\"message\"] = f\"{state['name']}, you are eligible to vote!\"\n",
    "\n",
    "    else:\n",
    "        state[\"message\"] = f\"{state['name']}, you are not eligible to vote yet.\"\n",
    "        \n",
    "    return state"
   ]
  },
  {
   "cell_type": "code",
   "execution_count": 3,
   "metadata": {},
   "outputs": [
    {
     "data": {
      "text/plain": [
       "<langgraph.graph.graph.Graph at 0x1cc5c5c6470>"
      ]
     },
     "execution_count": 3,
     "metadata": {},
     "output_type": "execute_result"
    }
   ],
   "source": [
    "# Step 3: Define the Edges\n",
    "\n",
    "from langgraph.graph import Graph\n",
    "\n",
    "# Create a graph\n",
    "workflow = Graph()\n",
    "\n",
    "# Add nodes to the graph\n",
    "workflow.add_node(\"check_eligibility\", check_eligibility)\n",
    "workflow.add_node(\"generate_message\", generate_message)\n",
    "\n",
    "# Define edges\n",
    "workflow.add_edge(\"check_eligibility\", \"generate_message\")"
   ]
  },
  {
   "cell_type": "code",
   "execution_count": 4,
   "metadata": {},
   "outputs": [
    {
     "data": {
      "text/plain": [
       "<langgraph.graph.graph.Graph at 0x1cc5c5c6470>"
      ]
     },
     "execution_count": 4,
     "metadata": {},
     "output_type": "execute_result"
    }
   ],
   "source": [
    "# Step 4: Define the Entry Point and the Finish Point:\n",
    "workflow.set_entry_point(\"check_eligibility\")\n",
    "workflow.set_finish_point(\"generate_message\")"
   ]
  },
  {
   "cell_type": "code",
   "execution_count": 5,
   "metadata": {},
   "outputs": [
    {
     "data": {
      "image/png": "[encoded data removed]",
      "text/plain": [
       "<langgraph.graph.graph.CompiledGraph object at 0x000001CC5C5C7400>"
      ]
     },
     "execution_count": 5,
     "metadata": {},
     "output_type": "execute_result"
    }
   ],
   "source": [
    "# Step 5: Compile and Run the Workflow:\n",
    "\n",
    "app = workflow.compile()\n",
    "app"
   ]
  },
  {
   "cell_type": "code",
   "execution_count": 6,
   "metadata": {},
   "outputs": [
    {
     "data": {
      "text/plain": [
       "{'name': 'Alice',\n",
       " 'age': 20,\n",
       " 'is_eligible': True,\n",
       " 'message': 'Alice, you are eligible to vote!'}"
      ]
     },
     "execution_count": 6,
     "metadata": {},
     "output_type": "execute_result"
    }
   ],
   "source": [
    "# Step 6: Invoke:\n",
    "\n",
    "# Define the initial state\n",
    "initial_state = {\"name\": \"Alice\", \"age\": 20}\n",
    "\n",
    "# Run the workflow\n",
    "final_state = app.invoke(initial_state)\n",
    "final_state"
   ]
  },
  {
   "cell_type": "code",
   "execution_count": 7,
   "metadata": {},
   "outputs": [
    {
     "data": {
      "text/plain": [
       "'Alice, you are eligible to vote!'"
      ]
     },
     "execution_count": 7,
     "metadata": {},
     "output_type": "execute_result"
    }
   ],
   "source": [
    "# Final Output:\n",
    "\n",
    "final_state[\"message\"]"
   ]
  },
  {
   "cell_type": "code",
   "execution_count": null,
   "metadata": {},
   "outputs": [],
   "source": []
  },
  {
   "cell_type": "markdown",
   "metadata": {},
   "source": [
    "## **Message Passing Algorithm, Graph, StateGraph, and MessageGraph:**"
   ]
  },
  {
   "cell_type": "markdown",
   "metadata": {},
   "source": [
    "### **1. Message Passing Algorithm:**\n",
    "\n",
    "The **Message Passing Algorithm** is a mechanism for propagating information (messages) between nodes in a graph. Each node processes the incoming messages, performs computations, and sends updated messages to other nodes.\n",
    "\n",
    "* **How It Works:**\n",
    "    * Nodes in the graph exchange messages, which can be data, state updates, or any other information.\n",
    "    * Each node processes the messages it receives, updates its internal state (if any), and sends new messages to its neighboring nodes.\n",
    "    * This process continues until a termination condition is met (e.g., no more messages to process or a specific state is reached).\n",
    "\n",
    "* **Use Cases:**\n",
    "    * Message passing is commonly used in distributed systems, graph-based workflows, and machine learning algorithms (e.g., belief propagation in probabilistic graphical models)."
   ]
  },
  {
   "cell_type": "markdown",
   "metadata": {},
   "source": [
    "#### **Example 01:**"
   ]
  },
  {
   "cell_type": "code",
   "execution_count": 13,
   "metadata": {},
   "outputs": [
    {
     "data": {
      "text/plain": [
       "'Hello, Alice! Goodbye!'"
      ]
     },
     "execution_count": 13,
     "metadata": {},
     "output_type": "execute_result"
    }
   ],
   "source": [
    "from langgraph.graph import Graph\n",
    "from typing import Dict, Any\n",
    "\n",
    "\n",
    "# Define the state as a dictionary\n",
    "State = Dict[str, Any]\n",
    "\n",
    "# Define a simple graph with two nodes\n",
    "graph = Graph()\n",
    "\n",
    "# Node 1: Adds a greeting to the message\n",
    "def node_1(state: dict) -> dict:\n",
    "    state[\"message\"] = f\"Hello, {state['name']}!\"\n",
    "    return state\n",
    "\n",
    "# Node 2: Adds a farewell to the message\n",
    "def node_2(state: dict) -> dict:\n",
    "    state[\"message\"] += \" Goodbye!\"\n",
    "    return state\n",
    "\n",
    "# Add nodes to the graph\n",
    "graph.add_node(\"greet\", node_1)\n",
    "graph.add_node(\"farewell\", node_2)\n",
    "\n",
    "# Define edges: greet -> farewell\n",
    "graph.add_edge(\"greet\", \"farewell\")\n",
    "\n",
    "# Set the entry point\n",
    "graph.set_entry_point(\"greet\")\n",
    "\n",
    "# Set the finish point\n",
    "graph.set_finish_point(\"farewell\")\n",
    "\n",
    "# Compile the graph\n",
    "app = graph.compile()\n",
    "\n",
    "# Run the graph with an initial state\n",
    "initial_state = {\"name\": \"Alice\"}\n",
    "final_state = app.invoke(initial_state)\n",
    "final_state[\"message\"]\n"
   ]
  },
  {
   "cell_type": "code",
   "execution_count": 11,
   "metadata": {},
   "outputs": [],
   "source": []
  },
  {
   "cell_type": "markdown",
   "metadata": {},
   "source": [
    "### **2. Graph:**\n",
    "\n",
    "A **Graph** in LangGraph is a collection of **nodes** and **edges** that define a workflow. It represents the structure of the computation or process. \n",
    "\n",
    "* **Nodes:** Perform tasks or computations.\n",
    "* **Edges:** Define the flow of control between nodes."
   ]
  },
  {
   "cell_type": "markdown",
   "metadata": {},
   "source": [
    "#### **Example 01:**"
   ]
  },
  {
   "cell_type": "code",
   "execution_count": 14,
   "metadata": {},
   "outputs": [
    {
     "name": "stdout",
     "output_type": "stream",
     "text": [
      "Node A executed -> Node B executed\n"
     ]
    }
   ],
   "source": [
    "from langgraph.graph import Graph\n",
    "\n",
    "# Create a graph\n",
    "graph = Graph()\n",
    "\n",
    "# Define nodes\n",
    "def node_a(state: dict) -> dict:\n",
    "    state[\"output\"] = \"Node A executed\"\n",
    "    return state\n",
    "\n",
    "def node_b(state: dict) -> dict:\n",
    "    state[\"output\"] += \" -> Node B executed\"\n",
    "    return state\n",
    "\n",
    "# Add nodes to the graph\n",
    "graph.add_node(\"A\", node_a)\n",
    "graph.add_node(\"B\", node_b)\n",
    "\n",
    "# Define edges: A -> B\n",
    "graph.add_edge(\"A\", \"B\")\n",
    "\n",
    "# Set the entry point\n",
    "graph.set_entry_point(\"A\")\n",
    "\n",
    "# Set the finish point\n",
    "graph.set_finish_point(\"B\")\n",
    "\n",
    "# Compile the graph\n",
    "app = graph.compile()\n",
    "\n",
    "# Run the graph\n",
    "initial_state = {}\n",
    "final_state = app.invoke(initial_state)\n",
    "\n",
    "print(final_state[\"output\"])  # Output: Node A executed -> Node B executed"
   ]
  },
  {
   "cell_type": "code",
   "execution_count": null,
   "metadata": {},
   "outputs": [],
   "source": []
  },
  {
   "cell_type": "markdown",
   "metadata": {},
   "source": [
    "### **3. StateGraph:**\n",
    "\n",
    "<u>A **StateGraph** is a specialized type of graph where the workflow is driven by the **State** (State is data/data structure that flow the data through workflow).</u> The state is passed between nodes, and each node can modify it. \n",
    "\n",
    "* **Key Features:**\n",
    "\n",
    "    * The state is a dynamic object that holds the current context.\n",
    "    * Nodes read from and update the state.\n",
    "    * Edges determine the flow based on the state."
   ]
  },
  {
   "cell_type": "markdown",
   "metadata": {},
   "source": [
    "#### **Example 01:**"
   ]
  },
  {
   "cell_type": "code",
   "execution_count": 16,
   "metadata": {},
   "outputs": [
    {
     "name": "stdout",
     "output_type": "stream",
     "text": [
      "20\n"
     ]
    }
   ],
   "source": [
    "from langgraph.graph import StateGraph\n",
    "\n",
    "# Define the state as a dictionary\n",
    "State = dict\n",
    "\n",
    "# Create a StateGraph\n",
    "state_graph = StateGraph(State)\n",
    "\n",
    "# Define nodes\n",
    "def node_1(state: State) -> State:\n",
    "    state[\"value\"] = 10\n",
    "    return state\n",
    "\n",
    "def node_2(state: State) -> State:\n",
    "    state[\"value\"] *= 2\n",
    "    return state\n",
    "\n",
    "# Add nodes to the graph\n",
    "state_graph.add_node(\"start\", node_1)\n",
    "state_graph.add_node(\"process\", node_2)\n",
    "\n",
    "# Define edges: start -> process\n",
    "state_graph.add_edge(\"start\", \"process\")\n",
    "\n",
    "# Set the entry point\n",
    "state_graph.set_entry_point(\"start\")\n",
    "\n",
    "# Set the finish point\n",
    "state_graph.set_finish_point(\"process\")\n",
    "\n",
    "# Compile the graph\n",
    "app = state_graph.compile()\n",
    "\n",
    "# Run the graph\n",
    "initial_state = {}\n",
    "final_state = app.invoke(initial_state)\n",
    "\n",
    "print(final_state[\"value\"])"
   ]
  },
  {
   "cell_type": "code",
   "execution_count": null,
   "metadata": {},
   "outputs": [],
   "source": []
  },
  {
   "cell_type": "markdown",
   "metadata": {},
   "source": [
    "### **4. MessageGraph:**\n",
    "\n",
    "<u>A **MessageGraph** is a specialized graph where the workflow is driven by **messages** passed between nodes.</u> Each node processes incoming messages and sends new messages to other nodes.\n",
    "\n",
    "* **Key Features:**\n",
    "    * Messages are the primary means of communication between nodes.\n",
    "    * Nodes can send messages to one or more nodes.\n",
    "    * The workflow continues until no more messages are left to process."
   ]
  },
  {
   "cell_type": "markdown",
   "metadata": {},
   "source": [
    "#### **Example 01:**"
   ]
  },
  {
   "cell_type": "code",
   "execution_count": 19,
   "metadata": {},
   "outputs": [
    {
     "data": {
      "text/plain": [
       "[HumanMessage(content='Message 1', additional_kwargs={}, response_metadata={}, id='daa0ae40-74d6-460a-89d9-f19f89a45fda'),\n",
       " HumanMessage(content='Message 2', additional_kwargs={}, response_metadata={}, id='0e6a68eb-c36f-4f04-8255-06a4e21edd6d'),\n",
       " HumanMessage(content=\"Processed: content='Message 1' additional_kwargs={} response_metadata={} id='daa0ae40-74d6-460a-89d9-f19f89a45fda'\", additional_kwargs={}, response_metadata={}, id='63df6485-fe17-4790-89a5-cc2db15b7378'),\n",
       " HumanMessage(content=\"Processed: content='Message 2' additional_kwargs={} response_metadata={} id='0e6a68eb-c36f-4f04-8255-06a4e21edd6d'\", additional_kwargs={}, response_metadata={}, id='588f9ea1-7f49-4184-ae71-e28d6e51fafa'),\n",
       " HumanMessage(content=\"Final: content='Message 1' additional_kwargs={} response_metadata={} id='daa0ae40-74d6-460a-89d9-f19f89a45fda'\", additional_kwargs={}, response_metadata={}, id='73260599-90b1-4830-a8ca-c6088bb54922'),\n",
       " HumanMessage(content=\"Final: content='Message 2' additional_kwargs={} response_metadata={} id='0e6a68eb-c36f-4f04-8255-06a4e21edd6d'\", additional_kwargs={}, response_metadata={}, id='ffc7e1f4-4390-4beb-8b24-9ad3bbf0b812'),\n",
       " HumanMessage(content='Final: content=\"Processed: content=\\'Message 1\\' additional_kwargs={} response_metadata={} id=\\'daa0ae40-74d6-460a-89d9-f19f89a45fda\\'\" additional_kwargs={} response_metadata={} id=\\'63df6485-fe17-4790-89a5-cc2db15b7378\\'', additional_kwargs={}, response_metadata={}, id='8edb1f8f-e969-41f0-8c81-ee77c52eab02'),\n",
       " HumanMessage(content='Final: content=\"Processed: content=\\'Message 2\\' additional_kwargs={} response_metadata={} id=\\'0e6a68eb-c36f-4f04-8255-06a4e21edd6d\\'\" additional_kwargs={} response_metadata={} id=\\'588f9ea1-7f49-4184-ae71-e28d6e51fafa\\'', additional_kwargs={}, response_metadata={}, id='7c7a8a8e-f0d5-4bfd-a3e0-d80a0f0b4b76')]"
      ]
     },
     "execution_count": 19,
     "metadata": {},
     "output_type": "execute_result"
    }
   ],
   "source": [
    "from langgraph.graph import MessageGraph\n",
    "\n",
    "# Create a MessageGraph\n",
    "message_graph = MessageGraph()\n",
    "\n",
    "# Define nodes\n",
    "def node_1(messages: list) -> list:\n",
    "    return [f\"Processed: {msg}\" for msg in messages]\n",
    "\n",
    "def node_2(messages: list) -> list:\n",
    "    return [f\"Final: {msg}\" for msg in messages]\n",
    "\n",
    "# Add nodes to the graph\n",
    "message_graph.add_node(\"process\", node_1)\n",
    "message_graph.add_node(\"finalize\", node_2)\n",
    "\n",
    "# Define edges: process -> finalize\n",
    "message_graph.add_edge(\"process\", \"finalize\")\n",
    "\n",
    "# Set the entry point\n",
    "message_graph.set_entry_point(\"process\")\n",
    "\n",
    "# Set the finish point\n",
    "message_graph.set_finish_point(\"finalize\")\n",
    "\n",
    "\n",
    "# Compile the graph\n",
    "app = message_graph.compile()\n",
    "\n",
    "# Run the graph with initial messages\n",
    "initial_messages = [\"Message 1\", \"Message 2\"]\n",
    "final_messages = app.invoke(initial_messages)\n",
    "\n",
    "final_messages "
   ]
  },
  {
   "cell_type": "code",
   "execution_count": null,
   "metadata": {},
   "outputs": [],
   "source": []
  },
  {
   "cell_type": "markdown",
   "metadata": {},
   "source": [
    "## **3. Schema, Multiple Schemas and Reducers:**"
   ]
  },
  {
   "cell_type": "markdown",
   "metadata": {},
   "source": [
    "### **1. Schema:**\n",
    "\n",
    "<u>A **Schema** defines the structure and types of the data (state or messages) that flow through the graph.</u> It ensures that the data adheres to a specific format, making the workflow more robust and easier to debug.\n",
    "\n",
    "* **Purpose**:\n",
    "    * Provides a blueprint for the data.\n",
    "    * Enables validation and type checking.\n",
    "    * Improves readability and maintainability of the workflow.\n",
    "\n",
    "* **Example:**\n",
    "    * A schema can be defined using Pydantic models, dictionaries, or other data structures."
   ]
  },
  {
   "cell_type": "code",
   "execution_count": 22,
   "metadata": {},
   "outputs": [
    {
     "name": "stdout",
     "output_type": "stream",
     "text": [
      "name='Alice' age=25 is_eligible=False\n"
     ]
    }
   ],
   "source": [
    "# Example of Schema in LangGraph:\n",
    "\n",
    "from pydantic import BaseModel\n",
    "\n",
    "# Define a schema for the state using Pydantic\n",
    "class UserState(BaseModel):\n",
    "    name: str\n",
    "    age: int\n",
    "    is_eligible: bool = False\n",
    "\n",
    "# Example usage in a workflow\n",
    "state = UserState(name=\"Alice\", age=25)\n",
    "print(state)\n"
   ]
  },
  {
   "cell_type": "code",
   "execution_count": null,
   "metadata": {},
   "outputs": [],
   "source": []
  },
  {
   "cell_type": "markdown",
   "metadata": {},
   "source": [
    "### **2. Multiple Schemas:**\n",
    "\n",
    "In complex workflows, you may need to handle **multiple schemas** for different parts of the state or for different types of messages. This allows you to modularize and organize the data effectively. \n",
    "\n",
    "* **Purpose:**\n",
    "    * Separates concerns by defining different schemas for different parts of the workflow.\n",
    "    * Ensures that each part of the workflow operates on well-defined data.\n"
   ]
  },
  {
   "cell_type": "markdown",
   "metadata": {},
   "source": [
    "#### **Example 01:**"
   ]
  },
  {
   "cell_type": "code",
   "execution_count": 23,
   "metadata": {},
   "outputs": [
    {
     "name": "stdout",
     "output_type": "stream",
     "text": [
      "user=UserInfo(name='Alice', age=25) status=EligibilityStatus(is_eligible=True)\n"
     ]
    }
   ],
   "source": [
    "from pydantic import BaseModel\n",
    "\n",
    "# Schema for user information\n",
    "class UserInfo(BaseModel):\n",
    "    name: str\n",
    "    age: int\n",
    "\n",
    "# Schema for eligibility status\n",
    "class EligibilityStatus(BaseModel):\n",
    "    is_eligible: bool\n",
    "\n",
    "# Combined state\n",
    "class UserState(BaseModel):\n",
    "    user: UserInfo\n",
    "    status: EligibilityStatus\n",
    "\n",
    "# Example usage\n",
    "state = UserState(\n",
    "    user=UserInfo(name=\"Alice\", age=25),\n",
    "    status=EligibilityStatus(is_eligible=True)\n",
    ")\n",
    "print(state)\n",
    "# Output: user=UserInfo(name='Alice', age=25) status=EligibilityStatus(is_eligible=True)"
   ]
  },
  {
   "cell_type": "markdown",
   "metadata": {},
   "source": [
    "#### **Example 02:**"
   ]
  },
  {
   "cell_type": "code",
   "execution_count": 25,
   "metadata": {},
   "outputs": [],
   "source": [
    "# Define The Schemas:\n",
    "from typing import TypedDict\n",
    "\n",
    "\n",
    "\"\"\"\n",
    "    InputState:\n",
    "\n",
    "    Represents the initial input to the workflow.\n",
    "    Contains a single field: user_input (a string).\n",
    "\"\"\"\n",
    "class InputState(TypedDict):\n",
    "    user_input: str\n",
    "\n",
    "\n",
    "\"\"\"\n",
    "    OutputState:\n",
    "\n",
    "    Represents the final output of the workflow.\n",
    "    Contains a single field: graph_output (a string).\n",
    "\"\"\"\n",
    "class OutputState(TypedDict):\n",
    "    graph_output: str\n",
    "\n",
    "\n",
    "\"\"\"\n",
    "    OverallState:\n",
    "\n",
    "    Represents the shared state that is passed between nodes.\n",
    "    Contains three fields: foo, user_input, and graph_output (all strings).\n",
    "\"\"\"\n",
    "class OverallState(TypedDict):\n",
    "    foo: str\n",
    "    user_input: str\n",
    "    graph_output: str\n",
    "\n",
    "\n",
    "\"\"\"\n",
    "    PrivateState:\n",
    "\n",
    "    Represents a private state used internally by a specific node.\n",
    "    Contains a single field: bar (a string).\n",
    "\"\"\"\n",
    "class PrivateState(TypedDict):\n",
    "    bar: str"
   ]
  },
  {
   "cell_type": "code",
   "execution_count": 30,
   "metadata": {},
   "outputs": [
    {
     "data": {
      "text/plain": [
       "{'foo': 'My name'}"
      ]
     },
     "execution_count": 30,
     "metadata": {},
     "output_type": "execute_result"
    }
   ],
   "source": [
    "# Create a Node 1:\n",
    "\n",
    "# Takes InputState as input.\n",
    "# Writes to OverallState by adding \" name\" to the user_input.\n",
    "\n",
    "\n",
    "def node_1(state: InputState) -> OverallState:\n",
    "    # Write to OverallState\n",
    "    return {\"foo\": state[\"user_input\"] + \" name\"}\n",
    "\n",
    "node_1({\"user_input\": \"My\"})"
   ]
  },
  {
   "cell_type": "code",
   "execution_count": 31,
   "metadata": {},
   "outputs": [
    {
     "data": {
      "text/plain": [
       "{'bar': 'My name is'}"
      ]
     },
     "execution_count": 31,
     "metadata": {},
     "output_type": "execute_result"
    }
   ],
   "source": [
    "# Create Node 2:\n",
    "\n",
    "# Takes OverallState as input.\n",
    "# Writes to PrivateState by adding \" is\" to the foo field.\n",
    "\n",
    "\n",
    "def node_2(state: OverallState) -> PrivateState:\n",
    "    # Read from OverallState, write to PrivateState\n",
    "    return {\"bar\": state[\"foo\"] + \" is\"}\n",
    "\n",
    "\n",
    "node_2({\"foo\": \"My name\"})"
   ]
  },
  {
   "cell_type": "code",
   "execution_count": 33,
   "metadata": {},
   "outputs": [
    {
     "data": {
      "text/plain": [
       "{'graph_output': 'My name is Dibyendu'}"
      ]
     },
     "execution_count": 33,
     "metadata": {},
     "output_type": "execute_result"
    }
   ],
   "source": [
    "# Create Node 3:\n",
    "\n",
    "# Takes PrivateState as input.\n",
    "# Writes to OutputState by adding \" Dibyendu\" to the bar field.\n",
    "\n",
    "def node_3(state: PrivateState) -> OutputState:\n",
    "    # Read from PrivateState, write to OutputState\n",
    "    return {\"graph_output\": state[\"bar\"] + \" Dibyendu\"}\n",
    "\n",
    "\n",
    "node_3({\"bar\": \"My name is\"})"
   ]
  },
  {
   "cell_type": "markdown",
   "metadata": {},
   "source": [
    "The **StateGraph** is used to define the workflow. It specifies the **initial state** (**`InputState`**), the **shared state** (**`OverallState`**), and the **final output** (**`OutputState`**).\n"
   ]
  },
  {
   "cell_type": "code",
   "execution_count": 38,
   "metadata": {},
   "outputs": [
    {
     "data": {
      "image/png": "[encoded data removed]",
      "text/plain": [
       "<langgraph.graph.state.CompiledStateGraph object at 0x000001CC5E997100>"
      ]
     },
     "execution_count": 38,
     "metadata": {},
     "output_type": "execute_result"
    }
   ],
   "source": [
    "from langgraph.graph import StateGraph, START, END\n",
    "\n",
    "\n",
    "builder = StateGraph(state_schema=OverallState, input=InputState, output=OutputState)\n",
    "\n",
    "\n",
    "builder.add_node(\"node_1\", node_1)\n",
    "builder.add_node(\"node_2\", node_2)\n",
    "builder.add_node(\"node_3\", node_3)\n",
    "builder.add_edge(START, \"node_1\")\n",
    "builder.add_edge(\"node_1\", \"node_2\")\n",
    "builder.add_edge(\"node_2\", \"node_3\")\n",
    "builder.add_edge(\"node_3\", END)\n",
    "\n",
    "graph = builder.compile()\n",
    "graph"
   ]
  },
  {
   "cell_type": "code",
   "execution_count": 39,
   "metadata": {},
   "outputs": [
    {
     "data": {
      "text/plain": [
       "{'graph_output': 'My name is Dibyendu'}"
      ]
     },
     "execution_count": 39,
     "metadata": {},
     "output_type": "execute_result"
    }
   ],
   "source": [
    "graph.invoke({\"user_input\":\"My\"})"
   ]
  },
  {
   "cell_type": "markdown",
   "metadata": {},
   "source": [
    "**Workflow Execution Breakdown:** <br>\n",
    "\n",
    "1. **Initial Input:**\n",
    "    * The workflow starts with the input: `{\"user_input\": \"My\"}`.\n",
    "\n",
    "2. **Node 1:**\n",
    "    * Input: `{\"user_input\": \"My\"}`.\n",
    "    * Output: `{\"foo\": \"My name\"}`.\n",
    "    * The **`foo`** field is added to the **shared state** (**OverallState**).\n",
    "\n",
    "3. **Node 2:**\n",
    "    * Input: `{\"foo\": \"My name\"}`.\n",
    "    * Output: `{\"bar\": \"My name is\"}`.\n",
    "    * The **`bar`** field is added to the **`private state`** (**PrivateState**).\n",
    "\n",
    "4. **Node 3:**\n",
    "    * Input: `{\"bar\": \"My name is\"}`.\n",
    "    * Output: `{\"graph_output\": \"My name is Lance\"}`.\n",
    "    * The **`graph_output`** field is added to the **`output state`** (**OutputState**).\n",
    "\n",
    "5. **Final Output:**\n",
    "    * The workflow returns: `{\"graph_output\": \"My name is Lance\"}`."
   ]
  },
  {
   "cell_type": "code",
   "execution_count": null,
   "metadata": {},
   "outputs": [],
   "source": []
  },
  {
   "cell_type": "markdown",
   "metadata": {},
   "source": [
    "## **3. Reducers:**\n",
    "\n",
    "<u>**Reducers** are key to understanding how updates from nodes are applied to the **State**.</u> Each key in the State has its own independent reducer function. If no reducer function is explicitly specified then it is assumed that all updates to that key should override it. <br>\n",
    "\n",
    "**Reducers** are functions that combine or reduce multiple updates to the state into a single state. They are particularly useful when multiple nodes modify the state concurrently or when you need to aggregate changes.\n",
    "\n",
    "* **Purpose:**\n",
    "    * Ensures that the state is updated consistently.\n",
    "    * Aggregates partial updates from multiple nodes.\n",
    "    * Simplifies state management in complex workflows.\n",
    "\n",
    "\n",
    "* **Detailed Explanation of Reducers:**\n",
    "    1. **How Reducers Work:**\n",
    "        * Each node in the graph can modify the state.\n",
    "        * The reducer function takes the **current state** and the **new state** (from a node) as input and **combines them into a single state**.\n",
    "        * This ensures that the state is updated consistently, even when multiple nodes modify it.\n",
    "\n",
    "    2. **Use Cases:**\n",
    "        * When multiple nodes update different parts of the state, the reducer ensures that all updates are merged correctly.\n",
    "        * For example, in a workflow where one node updates user information and another node updates eligibility status, the reducer combines these updates into a single state."
   ]
  },
  {
   "cell_type": "markdown",
   "metadata": {},
   "source": [
    "#### **Example 01:**"
   ]
  },
  {
   "cell_type": "code",
   "execution_count": 42,
   "metadata": {},
   "outputs": [
    {
     "data": {
      "image/png": "[encoded data removed]",
      "text/plain": [
       "<langgraph.graph.state.CompiledStateGraph object at 0x000001CC5EB83400>"
      ]
     },
     "execution_count": 42,
     "metadata": {},
     "output_type": "execute_result"
    }
   ],
   "source": [
    "from typing import Dict, Any\n",
    "from langgraph.graph import StateGraph\n",
    "\n",
    "# Define the state as a dictionary\n",
    "State = Dict[str, Any]\n",
    "\n",
    "\n",
    "# Define nodes\n",
    "def node_1(state: State) -> State:\n",
    "    state[\"value\"] = 10\n",
    "    return state\n",
    "\n",
    "def node_2(state: State) -> State:\n",
    "    state[\"value\"] += 5\n",
    "    return state\n",
    "\n",
    "\n",
    "# Define a reducer to combine state updates\n",
    "def reducer(current_state: State, new_state: State) -> State:\n",
    "    return {**current_state, **new_state}\n",
    "\n",
    "\n",
    "# Create a StateGraph\n",
    "state_graph = StateGraph(State)\n",
    "\n",
    "# Add nodes to the graph\n",
    "state_graph.add_node(\"set_value\", node_1)\n",
    "state_graph.add_node(\"increment_value\", node_2)\n",
    "\n",
    "\n",
    "\n",
    "# Define edges: set_value -> increment_value\n",
    "state_graph.add_edge(\"set_value\", \"increment_value\")\n",
    "\n",
    "# Set the entry point\n",
    "state_graph.set_entry_point(\"set_value\")\n",
    "\n",
    "# Set the Finish Point\n",
    "state_graph.set_finish_point(\"increment_value\")\n",
    "\n",
    "# Compile the graph\n",
    "app = state_graph.compile()\n",
    "app"
   ]
  },
  {
   "cell_type": "code",
   "execution_count": 43,
   "metadata": {},
   "outputs": [
    {
     "name": "stdout",
     "output_type": "stream",
     "text": [
      "15\n"
     ]
    }
   ],
   "source": [
    "# Run the workflow\n",
    "initial_state = {}\n",
    "final_state = app.invoke(initial_state)\n",
    "\n",
    "print(final_state[\"value\"])  # Output: 15"
   ]
  },
  {
   "cell_type": "markdown",
   "metadata": {},
   "source": [
    "In this example, the reducer is implicitly handled by the **StateGraph**. Each node updates the state, and the graph ensures that the state is passed correctly between nodes."
   ]
  },
  {
   "cell_type": "markdown",
   "metadata": {},
   "source": [
    "#### **Exaple 02:**"
   ]
  },
  {
   "cell_type": "code",
   "execution_count": 45,
   "metadata": {},
   "outputs": [
    {
     "name": "stdout",
     "output_type": "stream",
     "text": [
      "user=UserInfo(name='Alice', age=25) status=EligibilityStatus(is_eligible=True)\n"
     ]
    }
   ],
   "source": [
    "from pydantic import BaseModel\n",
    "from langgraph.graph import StateGraph\n",
    "from typing import Dict, Any\n",
    "\n",
    "# Define schemas using Pydantic\n",
    "class UserInfo(BaseModel):\n",
    "    name: str\n",
    "    age: int\n",
    "\n",
    "class EligibilityStatus(BaseModel):\n",
    "    is_eligible: bool\n",
    "\n",
    "class UserState(BaseModel):\n",
    "    user: UserInfo\n",
    "    status: EligibilityStatus\n",
    "\n",
    "# Define the state as a dictionary\n",
    "State = Dict[str, Any]\n",
    "\n",
    "# Create a StateGraph\n",
    "state_graph = StateGraph(State)\n",
    "\n",
    "# Define nodes\n",
    "def set_user_info(state: State) -> State:\n",
    "    state[\"user\"] = {\"name\": \"Alice\", \"age\": 25}\n",
    "    return state\n",
    "\n",
    "def check_eligibility(state: State) -> State:\n",
    "    age = state[\"user\"][\"age\"]\n",
    "    state[\"status\"] = {\"is_eligible\": age >= 18}\n",
    "    return state\n",
    "\n",
    "# Add nodes to the graph\n",
    "state_graph.add_node(\"set_user_info\", set_user_info)\n",
    "state_graph.add_node(\"check_eligibility\", check_eligibility)\n",
    "\n",
    "# Define edges: set_user_info -> check_eligibility\n",
    "state_graph.add_edge(\"set_user_info\", \"check_eligibility\")\n",
    "\n",
    "# Set the entry point\n",
    "state_graph.set_entry_point(\"set_user_info\")\n",
    "\n",
    "# Set the Finish Point\n",
    "state_graph.set_finish_point(\"check_eligibility\")\n",
    "\n",
    "# Compile the graph\n",
    "app = state_graph.compile()\n",
    "\n",
    "# Run the graph\n",
    "initial_state = {}\n",
    "final_state = app.invoke(initial_state)\n",
    "\n",
    "# Convert the final state to the UserState schema\n",
    "user_state = UserState(**final_state)\n",
    "print(user_state)\n",
    "# Output: user=UserInfo(name='Alice', age=25) status=EligibilityStatus(is_eligible=True)"
   ]
  },
  {
   "cell_type": "code",
   "execution_count": null,
   "metadata": {},
   "outputs": [],
   "source": []
  },
  {
   "cell_type": "markdown",
   "metadata": {},
   "source": [
    "## **4. Working with Messages in Graph State:**"
   ]
  },
  {
   "cell_type": "markdown",
   "metadata": {},
   "source": [
    "### **4.1. Why use Messages:**\n",
    "\n",
    "Most modern LLM providers have a chat model interface that accepts a list of messages as input. LangChain's ChatModel in particular accepts a list of Message objects as inputs. These messages come in a variety of forms such as **HumanMessage** `(user input)` or **AIMessage** `(LLM response)`. <br>\n",
    "\n",
    "Messages are used to pass structured data between nodes in a workflow. **They are particularly useful in scenarios where:**\n",
    "\n",
    "* **Modularity:** Each node in the graph can operate independently by processing incoming messages and producing outgoing messages.\n",
    "* **Integration with LLMs:** Messages can be used to send prompts to LLMs and receive their responses.\n",
    "* **Asynchronous Workflows:** Messages enable asynchronous communication between nodes, making it easier to handle complex workflows.\n",
    "* **State Management:** Messages can be used to update the state of the graph incrementally.\n",
    "\n",
    "<br>\n",
    "\n",
    "\n",
    "**Example Use Case:** <br>\n",
    "**Imagine a chatbot workflow where:** <br>\n",
    "\n",
    "1. A user sends a message.\n",
    "2. The message is processed by an LLM to generate a response.\n",
    "3. The response is sent back to the user.\n",
    "\n",
    "\n",
    "Messages are used to pass the user input, LLM response, and other metadata between nodes."
   ]
  },
  {
   "cell_type": "markdown",
   "metadata": {},
   "source": [
    "### **4.2 Working with Messages in Graph State:**\n",
    "\n",
    "In **LangGraph**, the Graph State can include messages as part of its structure. Messages are typically stored in a list or dictionary within the state, allowing nodes to read, modify, or add new messages. <br>\n",
    "\n",
    "\n",
    "**When integrating LLMs, messages are used to:**\n",
    "* Send prompts to the LLM.\n",
    "* Store the LLM’s responses.\n",
    "* Pass additional metadata (e.g., conversation history, context).\n",
    "\n",
    "<br>\n",
    "\n",
    "**Example: Working with Messages** <br>\n",
    "**Let’s create a workflow where:**\n",
    "\n",
    "1. A user sends a message.\n",
    "2. The message is passed to an LLM to generate a response.\n",
    "3. The LLM’s response is added to the conversation history."
   ]
  },
  {
   "cell_type": "code",
   "execution_count": null,
   "metadata": {},
   "outputs": [
    {
     "name": "stdout",
     "output_type": "stream",
     "text": [
      "[{'role': 'user', 'content': 'Hello, how are you?'}, {'role': 'assistant', 'content': AIMessage(content='I am doing well, thank you for asking. How are you today?', additional_kwargs={}, response_metadata={'prompt_feedback': {'block_reason': 0, 'safety_ratings': []}, 'finish_reason': 'STOP', 'safety_ratings': []}, id='run-d93dc0b2-3bc6-46e9-818e-31d6ace14047-0', usage_metadata={'input_tokens': 7, 'output_tokens': 16, 'total_tokens': 23, 'input_token_details': {'cache_read': 0}})}]\n"
     ]
    }
   ],
   "source": [
    "from langgraph.graph import StateGraph\n",
    "from typing import Dict, List, Any\n",
    "from dotenv import load_dotenv\n",
    "import os\n",
    "\n",
    "\n",
    "\n",
    "load_dotenv()\n",
    "GOOGLE_API_KEY = os.getenv(\"GOOGLE_API_KEY\")\n",
    "\n",
    "\n",
    "\n",
    "# Define the state with a list of messages\n",
    "State = Dict[str, Any]\n",
    "\n",
    "# Create a StateGraph\n",
    "state_graph = StateGraph(State)\n",
    "\n",
    "# Node 1: Add a user message to the state\n",
    "def add_user_message(state: State) -> State:\n",
    "    user_message = {\"role\": \"user\", \"content\": \"Hello, how are you?\"}\n",
    "    state[\"messages\"] = [user_message]\n",
    "    return state\n",
    "\n",
    "# Node 2: Send the user message to an LLM and get a response\n",
    "def call_llm(state: State) -> State:\n",
    "    from langchain_google_genai import ChatGoogleGenerativeAI\n",
    "    \n",
    "    # Initialize the LLM\n",
    "    llm = ChatGoogleGenerativeAI(model=\"gemini-1.5-pro\")\n",
    "\n",
    "    # Get the user message\n",
    "    user_message = state[\"messages\"][-1][\"content\"]\n",
    "\n",
    "    # Generate a response using the LLM\n",
    "    llm_response = llm.invoke(user_message)\n",
    "\n",
    "    # Add the LLM response to the messages\n",
    "    state[\"messages\"].append({\"role\": \"assistant\", \"content\": llm_response})\n",
    "    return state\n",
    "\n",
    "# Add nodes to the graph\n",
    "state_graph.add_node(\"add_user_message\", add_user_message)\n",
    "state_graph.add_node(\"call_llm\", call_llm)\n",
    "\n",
    "# Define edges: add_user_message -> call_llm\n",
    "state_graph.add_edge(\"add_user_message\", \"call_llm\")\n",
    "\n",
    "# Set the entry point\n",
    "state_graph.set_entry_point(\"add_user_message\")\n",
    "\n",
    "# Compile the graph\n",
    "app = state_graph.compile()\n",
    "\n",
    "# Run the graph\n",
    "initial_state = {}\n",
    "final_state = app.invoke(initial_state)\n",
    "\n",
    "# Print the final state\n",
    "print(final_state[\"messages\"])"
   ]
  },
  {
   "cell_type": "code",
   "execution_count": 48,
   "metadata": {},
   "outputs": [
    {
     "data": {
      "text/plain": [
       "[HumanMessage(content='Message 1', additional_kwargs={}, response_metadata={}, id='daa0ae40-74d6-460a-89d9-f19f89a45fda'),\n",
       " HumanMessage(content='Message 2', additional_kwargs={}, response_metadata={}, id='0e6a68eb-c36f-4f04-8255-06a4e21edd6d'),\n",
       " HumanMessage(content=\"Processed: content='Message 1' additional_kwargs={} response_metadata={} id='daa0ae40-74d6-460a-89d9-f19f89a45fda'\", additional_kwargs={}, response_metadata={}, id='63df6485-fe17-4790-89a5-cc2db15b7378'),\n",
       " HumanMessage(content=\"Processed: content='Message 2' additional_kwargs={} response_metadata={} id='0e6a68eb-c36f-4f04-8255-06a4e21edd6d'\", additional_kwargs={}, response_metadata={}, id='588f9ea1-7f49-4184-ae71-e28d6e51fafa'),\n",
       " HumanMessage(content=\"Final: content='Message 1' additional_kwargs={} response_metadata={} id='daa0ae40-74d6-460a-89d9-f19f89a45fda'\", additional_kwargs={}, response_metadata={}, id='73260599-90b1-4830-a8ca-c6088bb54922'),\n",
       " HumanMessage(content=\"Final: content='Message 2' additional_kwargs={} response_metadata={} id='0e6a68eb-c36f-4f04-8255-06a4e21edd6d'\", additional_kwargs={}, response_metadata={}, id='ffc7e1f4-4390-4beb-8b24-9ad3bbf0b812'),\n",
       " HumanMessage(content='Final: content=\"Processed: content=\\'Message 1\\' additional_kwargs={} response_metadata={} id=\\'daa0ae40-74d6-460a-89d9-f19f89a45fda\\'\" additional_kwargs={} response_metadata={} id=\\'63df6485-fe17-4790-89a5-cc2db15b7378\\'', additional_kwargs={}, response_metadata={}, id='8edb1f8f-e969-41f0-8c81-ee77c52eab02'),\n",
       " HumanMessage(content='Final: content=\"Processed: content=\\'Message 2\\' additional_kwargs={} response_metadata={} id=\\'0e6a68eb-c36f-4f04-8255-06a4e21edd6d\\'\" additional_kwargs={} response_metadata={} id=\\'588f9ea1-7f49-4184-ae71-e28d6e51fafa\\'', additional_kwargs={}, response_metadata={}, id='7c7a8a8e-f0d5-4bfd-a3e0-d80a0f0b4b76')]"
      ]
     },
     "execution_count": 48,
     "metadata": {},
     "output_type": "execute_result"
    }
   ],
   "source": [
    "final_messages"
   ]
  },
  {
   "cell_type": "markdown",
   "metadata": {},
   "source": [
    "### **4.3 Serialization:**\n",
    "\n",
    "**Serialization** is the process of converting data (e.g., messages, state) into a format that can be stored or transmitted (e.g., JSON). In LangGraph, serialization is important for:\n",
    "\n",
    "* **Persistence:** Saving the state of the workflow to a database or file.\n",
    "* **Interoperability:** Exchanging data between different systems or services.\n",
    "* **Debugging:** Logging the state and messages for debugging purposes."
   ]
  },
  {
   "cell_type": "markdown",
   "metadata": {},
   "source": [
    "### **4.4 MessageState:**\n",
    "\n",
    "**MessageState** is a specialized state that focuses on managing messages in a workflow. It typically includes:\n",
    "\n",
    "* A list of messages (e.g., conversation history).\n",
    "* Metadata about the messages (e.g., roles, timestamps)."
   ]
  },
  {
   "cell_type": "markdown",
   "metadata": {},
   "source": [
    "#### **Example 01:**"
   ]
  },
  {
   "cell_type": "code",
   "execution_count": 50,
   "metadata": {},
   "outputs": [],
   "source": [
    "from pydantic import BaseModel\n",
    "from typing import List, Dict\n",
    "\n",
    "\n",
    "# Define a schema for messages\n",
    "class Message(BaseModel):\n",
    "    role: str  # e.g., \"user\", \"assistant\"\n",
    "    content: str\n",
    "\n",
    "\n",
    "# Define the MessageState, that holds a list of messages\n",
    "class MessageState(BaseModel):\n",
    "    messages: List[Message]"
   ]
  },
  {
   "cell_type": "code",
   "execution_count": 62,
   "metadata": {},
   "outputs": [],
   "source": [
    "# Create Nodes:\n",
    "\n",
    "# Node 1: Add a user message\n",
    "def add_user_message(state: MessageState) -> MessageState:\n",
    "    # Check if there are any existing messages\n",
    "    if not state.messages:\n",
    "        # Add a default user message if no messages exist\n",
    "        user_message = Message(role=\"user\", content=\"Hello, how are you?\")\n",
    "        state.messages.append(user_message)\n",
    "    return state\n",
    "\n",
    "\n",
    "\n",
    "# Node 2: Call an LLM and add its response\n",
    "def call_llm(state: MessageState) -> MessageState:\n",
    "    from langchain_google_genai import ChatGoogleGenerativeAI\n",
    "    \n",
    "    # Initialize the LLM\n",
    "    llm = ChatGoogleGenerativeAI(model=\"gemini-1.5-pro\")\n",
    "\n",
    "    # Get the user message\n",
    "    user_message = state.messages[-1].content\n",
    "\n",
    "    # Generate a response using the LLM\n",
    "    llm_response = llm.invoke(user_message)\n",
    "\n",
    "    # Extract the content from the AIMessage object\n",
    "    llm_content = llm_response.content\n",
    "\n",
    "    # Add the LLM response to the messages\n",
    "    state.messages.append(Message(role=\"assistant\", content=llm_content))\n",
    "    return state"
   ]
  },
  {
   "cell_type": "code",
   "execution_count": 63,
   "metadata": {},
   "outputs": [
    {
     "data": {
      "image/png": "[encoded data removed]",
      "text/plain": [
       "<langgraph.graph.state.CompiledStateGraph object at 0x000001CC62012E00>"
      ]
     },
     "execution_count": 63,
     "metadata": {},
     "output_type": "execute_result"
    }
   ],
   "source": [
    "# Create a StateGraph with MessageState:\n",
    "\n",
    "state_graph = StateGraph(MessageState)\n",
    "\n",
    "\n",
    "# Add nodes to the graph\n",
    "state_graph.add_node(\"add_user_message\", add_user_message)\n",
    "state_graph.add_node(\"call_llm\", call_llm)\n",
    "\n",
    "\n",
    "# Define edges: add_user_message -> call_llm\n",
    "state_graph.add_edge(\"add_user_message\", \"call_llm\")\n",
    "\n",
    "\n",
    "# Set the entry point:\n",
    "state_graph.set_entry_point(\"add_user_message\")\n",
    "\n",
    "# Set Finish Poing:\n",
    "state_graph.set_finish_point(\"call_llm\")\n",
    "\n",
    "\n",
    "# Compile the graph:\n",
    "app = state_graph.compile()\n",
    "app"
   ]
  },
  {
   "cell_type": "code",
   "execution_count": 64,
   "metadata": {},
   "outputs": [
    {
     "data": {
      "text/plain": [
       "{'messages': [Message(role='user', content='Hello, how are you?'),\n",
       "  Message(role='assistant', content='I am doing well, thank you for asking! How are you today?')]}"
      ]
     },
     "execution_count": 64,
     "metadata": {},
     "output_type": "execute_result"
    }
   ],
   "source": [
    "# Run the graph\n",
    "initial_state = MessageState(messages=[])\n",
    "final_state = app.invoke(initial_state)\n",
    "final_state"
   ]
  },
  {
   "cell_type": "code",
   "execution_count": 65,
   "metadata": {},
   "outputs": [
    {
     "data": {
      "text/plain": [
       "{'messages': [Message(role='user', content='Who are you?'),\n",
       "  Message(role='assistant', content='I am a large language model, trained by Google.')]}"
      ]
     },
     "execution_count": 65,
     "metadata": {},
     "output_type": "execute_result"
    }
   ],
   "source": [
    "initial_state = MessageState(messages=[Message(role='user', content='Who are you?')])\n",
    "final_state = app.invoke(initial_state)\n",
    "final_state"
   ]
  },
  {
   "cell_type": "code",
   "execution_count": null,
   "metadata": {},
   "outputs": [],
   "source": []
  }
 ],
 "metadata": {
  "kernelspec": {
   "display_name": "agentic_ai",
   "language": "python",
   "name": "python3"
  },
  "language_info": {
   "codemirror_mode": {
    "name": "ipython",
    "version": 3
   },
   "file_extension": ".py",
   "mimetype": "text/x-python",
   "name": "python",
   "nbconvert_exporter": "python",
   "pygments_lexer": "ipython3",
   "version": "3.10.16"
  }
 },
 "nbformat": 4,
 "nbformat_minor": 2
}
