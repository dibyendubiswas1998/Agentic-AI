{
 "cells": [
  {
   "cell_type": "markdown",
   "metadata": {},
   "source": [
    "# **LangGraph Glossary 03:**\n",
    "\n",
    "1. START Node & END Node.\n",
    "2. Edges:\n",
    "    1. Normal Edges,\n",
    "    2. Conditional Edges,\n",
    "    3. Entry Point,\n",
    "    4. Conditional Entry Point"
   ]
  },
  {
   "cell_type": "markdown",
   "metadata": {},
   "source": [
    "## **1. START & END Nodes:**\n",
    "\n",
    "**START Node:** \n",
    "* The **START Node** is a special node that represents the beginning of the workflow.\n",
    "* It is automatically added to the graph and does not require explicit definition.\n",
    "* When the workflow starts, execution begins at the **START Node**.\n",
    "\n",
    "<br>\n",
    "\n",
    "**END Node:**\n",
    "* The **END Node** is a special node that represents the termination of the workflow.\n",
    "* It is automatically added to the graph and does not require explicit definition.\n",
    "* When the workflow reaches the **END Node**, execution stops."
   ]
  },
  {
   "cell_type": "code",
   "execution_count": 2,
   "metadata": {},
   "outputs": [
    {
     "data": {
      "image/png": "[encoded data removed]",
      "text/plain": [
       "<langgraph.graph.state.CompiledStateGraph object at 0x00000203DC98E4A0>"
      ]
     },
     "execution_count": 2,
     "metadata": {},
     "output_type": "execute_result"
    }
   ],
   "source": [
    "from langgraph.graph import StateGraph, START, END\n",
    "from typing import Dict, Any\n",
    "\n",
    "# Define the state\n",
    "State = Dict[str, Any]\n",
    "\n",
    "# Create a StateGraph\n",
    "state_graph = StateGraph(State)\n",
    "\n",
    "# Define a node\n",
    "def node_1(state: State) -> State:\n",
    "    state[\"message\"] = \"Hello from Node 1\"\n",
    "    return state\n",
    "\n",
    "# Add the node to the graph\n",
    "state_graph.add_node(\"node_1\", node_1)\n",
    "\n",
    "# Define edges: START -> node_1 -> END\n",
    "state_graph.add_edge(START, \"node_1\")\n",
    "state_graph.add_edge(\"node_1\", END)\n",
    "\n",
    "# Set the entry point\n",
    "state_graph.set_entry_point(\"node_1\")\n",
    "\n",
    "# Compile the graph\n",
    "app = state_graph.compile()\n",
    "app"
   ]
  },
  {
   "cell_type": "code",
   "execution_count": 3,
   "metadata": {},
   "outputs": [
    {
     "name": "stdout",
     "output_type": "stream",
     "text": [
      "{'message': 'Hello from Node 1'}\n"
     ]
    }
   ],
   "source": [
    "# Run the graph\n",
    "\n",
    "initial_state = {}\n",
    "final_state = app.invoke(initial_state)\n",
    "\n",
    "print(final_state)  # Output: {'message': 'Hello from Node 1'}"
   ]
  },
  {
   "cell_type": "markdown",
   "metadata": {},
   "source": [
    "## **2. Edges: Normal Edges, Conditional Edges, Entry Point, Conditional Entry Point**"
   ]
  },
  {
   "cell_type": "markdown",
   "metadata": {},
   "source": [
    "### **2.1 Normal Edges:**\n",
    "\n",
    "* **Normal Edges** define a fixed flow of control between nodes.\n",
    "* They are **unconditional**, meaning the workflow always follows the edge from one node to the next."
   ]
  },
  {
   "cell_type": "code",
   "execution_count": 4,
   "metadata": {},
   "outputs": [
    {
     "name": "stdout",
     "output_type": "stream",
     "text": [
      "{'message': 'Hello from Node 1 -> Hello from Node 2'}\n"
     ]
    }
   ],
   "source": [
    "from langgraph.graph import StateGraph\n",
    "from typing import Dict, Any\n",
    "\n",
    "# Define the state\n",
    "State = Dict[str, Any]\n",
    "\n",
    "# Create a StateGraph\n",
    "state_graph = StateGraph(State)\n",
    "\n",
    "# Define nodes\n",
    "def node_1(state: State) -> State:\n",
    "    state[\"message\"] = \"Hello from Node 1\"\n",
    "    return state\n",
    "\n",
    "def node_2(state: State) -> State:\n",
    "    state[\"message\"] += \" -> Hello from Node 2\"\n",
    "    return state\n",
    "\n",
    "# Add nodes to the graph\n",
    "state_graph.add_node(\"node_1\", node_1)\n",
    "state_graph.add_node(\"node_2\", node_2)\n",
    "\n",
    "# Define normal edges: node_1 -> node_2\n",
    "state_graph.add_edge(\"node_1\", \"node_2\")\n",
    "\n",
    "# Set the entry point\n",
    "state_graph.set_entry_point(\"node_1\")\n",
    "\n",
    "# Compile the graph\n",
    "app = state_graph.compile()\n",
    "\n",
    "# Run the graph\n",
    "initial_state = {}\n",
    "final_state = app.invoke(initial_state)\n",
    "\n",
    "print(final_state)  # Output: {'message': 'Hello from Node 1 -> Hello from Node 2'}"
   ]
  },
  {
   "cell_type": "markdown",
   "metadata": {},
   "source": [
    "### **2.2 Conditional Edges:**\n",
    "\n",
    "* **Conditional Edges** allow the workflow to branch based on the current state or the output of a node.\n",
    "* A condition function determines which node to execute next."
   ]
  },
  {
   "cell_type": "markdown",
   "metadata": {},
   "source": [
    "#### **Example 01:**"
   ]
  },
  {
   "cell_type": "code",
   "execution_count": 43,
   "metadata": {},
   "outputs": [],
   "source": [
    "from langgraph.graph import StateGraph\n",
    "from typing import Dict, Any\n",
    "\n",
    "\n",
    "# Define the state\n",
    "State = Dict[str, Any]\n",
    "\n",
    "\n",
    "# Define nodes\n",
    "def conditional_node(state: State) -> State:\n",
    "    state[\"value\"] = state.get(\"value\", 0)  # Initialize value if not present\n",
    "    return state\n",
    "\n",
    "def node_2(state: State) -> State:\n",
    "    state[\"value\"] += 5\n",
    "    return state\n",
    "\n",
    "def node_3(state: State) -> State:\n",
    "    state[\"value\"] *= 2\n",
    "    return state"
   ]
  },
  {
   "cell_type": "code",
   "execution_count": 44,
   "metadata": {},
   "outputs": [
    {
     "data": {
      "text/plain": [
       "<langgraph.graph.state.StateGraph at 0x203dcc9de70>"
      ]
     },
     "execution_count": 44,
     "metadata": {},
     "output_type": "execute_result"
    }
   ],
   "source": [
    "# Create a StateGraph\n",
    "state_graph = StateGraph(State)\n",
    "\n",
    "\n",
    "# Add nodes to the graph\n",
    "state_graph.add_node(\"conditional_node\", conditional_node) # Entry Point\n",
    "state_graph.add_node(\"node_2\", node_2)\n",
    "state_graph.add_node(\"node_3\", node_3)\n"
   ]
  },
  {
   "cell_type": "code",
   "execution_count": 45,
   "metadata": {},
   "outputs": [
    {
     "data": {
      "image/png": "[encoded data removed]",
      "text/plain": [
       "<langgraph.graph.state.CompiledStateGraph object at 0x00000203DCB55060>"
      ]
     },
     "execution_count": 45,
     "metadata": {},
     "output_type": "execute_result"
    }
   ],
   "source": [
    "# Define conditional edges\n",
    "def router(state: State) -> str:\n",
    "    if state[\"value\"] >= 10:\n",
    "        return \"node_2\"\n",
    "    else:\n",
    "        return \"node_3\"\n",
    "    \n",
    "\n",
    "state_graph.add_conditional_edges(\n",
    "    \"conditional_node\", # where in graph to start\n",
    "    router # function to determine which node is called\n",
    ")\n",
    "\n",
    "state_graph.add_edge(\"node_2\", END)\n",
    "state_graph.add_edge(\"node_3\", END)\n",
    "\n",
    "\n",
    "# Entry Point:\n",
    "state_graph.set_entry_point(\"conditional_node\")\n",
    "\n",
    "\n",
    "\n",
    "app = state_graph.compile()\n",
    "app"
   ]
  },
  {
   "cell_type": "code",
   "execution_count": 46,
   "metadata": {},
   "outputs": [
    {
     "data": {
      "text/plain": [
       "{'value': 0}"
      ]
     },
     "execution_count": 46,
     "metadata": {},
     "output_type": "execute_result"
    }
   ],
   "source": [
    "# Run the graph\n",
    "initial_state = {}\n",
    "final_state = app.invoke(initial_state)\n",
    "final_state"
   ]
  },
  {
   "cell_type": "code",
   "execution_count": 47,
   "metadata": {},
   "outputs": [
    {
     "data": {
      "text/plain": [
       "{'value': 4}"
      ]
     },
     "execution_count": 47,
     "metadata": {},
     "output_type": "execute_result"
    }
   ],
   "source": [
    "initial_state = {\"value\": 2}\n",
    "final_state = app.invoke(initial_state)\n",
    "final_state"
   ]
  },
  {
   "cell_type": "code",
   "execution_count": 48,
   "metadata": {},
   "outputs": [
    {
     "data": {
      "text/plain": [
       "{'value': 15}"
      ]
     },
     "execution_count": 48,
     "metadata": {},
     "output_type": "execute_result"
    }
   ],
   "source": [
    "initial_state = {\"value\": 10}\n",
    "final_state = app.invoke(initial_state)\n",
    "final_state"
   ]
  },
  {
   "cell_type": "code",
   "execution_count": 50,
   "metadata": {},
   "outputs": [
    {
     "data": {
      "text/plain": [
       "{'value': 20}"
      ]
     },
     "execution_count": 50,
     "metadata": {},
     "output_type": "execute_result"
    }
   ],
   "source": [
    "initial_state = {\"value\": 15}\n",
    "final_state = app.invoke(initial_state)\n",
    "final_state"
   ]
  },
  {
   "cell_type": "markdown",
   "metadata": {},
   "source": [
    "### **2.3 Entry Point:**\n",
    "\n",
    "* The **Entry Point** is the node where the workflow begins execution.\n",
    "* It is set using the **`set_entry_point`** method."
   ]
  },
  {
   "cell_type": "code",
   "execution_count": 53,
   "metadata": {},
   "outputs": [
    {
     "data": {
      "image/png": "[encoded data removed]",
      "text/plain": [
       "<langgraph.graph.state.CompiledStateGraph object at 0x00000203DCC9EB90>"
      ]
     },
     "execution_count": 53,
     "metadata": {},
     "output_type": "execute_result"
    }
   ],
   "source": [
    "# Example:\n",
    "\n",
    "from langgraph.graph import StateGraph\n",
    "from typing import Dict, Any\n",
    "\n",
    "# Define the state\n",
    "State = Dict[str, Any]\n",
    "\n",
    "# Create a StateGraph\n",
    "state_graph = StateGraph(State)\n",
    "\n",
    "# Define a node\n",
    "def node_1(state: State) -> State:\n",
    "    state[\"message\"] = \"Hello from Node 1\"\n",
    "    return state\n",
    "\n",
    "# Add the node to the graph\n",
    "state_graph.add_node(\"node_1\", node_1)\n",
    "\n",
    "# Set the entry point\n",
    "state_graph.set_entry_point(\"node_1\")\n",
    "\n",
    "# Compile the graph\n",
    "app = state_graph.compile()\n",
    "app"
   ]
  },
  {
   "cell_type": "code",
   "execution_count": 54,
   "metadata": {},
   "outputs": [
    {
     "name": "stdout",
     "output_type": "stream",
     "text": [
      "{'message': 'Hello from Node 1'}\n"
     ]
    }
   ],
   "source": [
    "# Run the graph\n",
    "initial_state = {}\n",
    "final_state = app.invoke(initial_state)\n",
    "\n",
    "print(final_state)  # Output: {'message': 'Hello from Node 1'}"
   ]
  },
  {
   "cell_type": "markdown",
   "metadata": {},
   "source": [
    "### **2.4 Conditional Entry Point:**\n",
    "\n",
    "* A **Conditional Entry Point** allows the workflow to start at different nodes based on the initial state.\n",
    "* It is implemented using a condition function that determines the starting node."
   ]
  },
  {
   "cell_type": "markdown",
   "metadata": {},
   "source": [
    "#### **Example 01:**"
   ]
  },
  {
   "cell_type": "code",
   "execution_count": 68,
   "metadata": {},
   "outputs": [],
   "source": [
    "from langgraph.graph import StateGraph, START, END\n",
    "from typing import Dict, Any\n",
    "\n",
    "# Define the state\n",
    "State = Dict[str, Any]\n",
    "\n",
    "\n",
    "# Define nodes\n",
    "def node_1(state: State) -> State:\n",
    "    state[\"message\"] = \"Hello from Node 1\"\n",
    "    return state\n",
    "\n",
    "def node_2(state: State) -> State:\n",
    "    state[\"message\"] = \"Hello from Node 2\"\n",
    "    return state"
   ]
  },
  {
   "cell_type": "code",
   "execution_count": 69,
   "metadata": {},
   "outputs": [
    {
     "data": {
      "text/plain": [
       "<langgraph.graph.state.StateGraph at 0x203dce6f160>"
      ]
     },
     "execution_count": 69,
     "metadata": {},
     "output_type": "execute_result"
    }
   ],
   "source": [
    "# Create a StateGraph\n",
    "state_graph = StateGraph(State)\n",
    "\n",
    "# Add nodes to the graph\n",
    "state_graph.add_node(\"node_1\", node_1)\n",
    "state_graph.add_node(\"node_2\", node_2)\n",
    "\n",
    "# Define edges:\n",
    "state_graph.add_edge(\"node_1\", END)\n",
    "state_graph.add_edge(\"node_2\", END)"
   ]
  },
  {
   "cell_type": "code",
   "execution_count": 70,
   "metadata": {},
   "outputs": [
    {
     "data": {
      "image/png": "[encoded data removed]",
      "text/plain": [
       "<langgraph.graph.state.CompiledStateGraph object at 0x00000203DCE6FC70>"
      ]
     },
     "execution_count": 70,
     "metadata": {},
     "output_type": "execute_result"
    }
   ],
   "source": [
    "# Define conditional entry point\n",
    "def router(state: State) -> str:\n",
    "    if state.get(\"start_at_node_2\", False):\n",
    "        return \"node_2\"\n",
    "    else:\n",
    "        return \"node_1\"\n",
    "\n",
    "state_graph.set_conditional_entry_point(router)\n",
    "\n",
    "# Compile the graph\n",
    "app = state_graph.compile()\n",
    "app"
   ]
  },
  {
   "cell_type": "code",
   "execution_count": 71,
   "metadata": {},
   "outputs": [
    {
     "name": "stdout",
     "output_type": "stream",
     "text": [
      "{'message': 'Hello from Node 1'}\n"
     ]
    }
   ],
   "source": [
    "# Run the graph with different initial states\n",
    "initial_state_1 = {}\n",
    "final_state_1 = app.invoke(initial_state_1)\n",
    "print(final_state_1) # # Output: {'message': 'Hello from Node 1'}"
   ]
  },
  {
   "cell_type": "code",
   "execution_count": 72,
   "metadata": {},
   "outputs": [
    {
     "name": "stdout",
     "output_type": "stream",
     "text": [
      "{'start_at_node_2': True, 'message': 'Hello from Node 2'}\n"
     ]
    }
   ],
   "source": [
    "initial_state_2 = {\"start_at_node_2\": True}\n",
    "final_state_2 = app.invoke(initial_state_2)\n",
    "print(final_state_2)  # Output: {'message': 'Hello from Node 2'}"
   ]
  },
  {
   "cell_type": "code",
   "execution_count": null,
   "metadata": {},
   "outputs": [],
   "source": []
  }
 ],
 "metadata": {
  "kernelspec": {
   "display_name": "agentic_ai",
   "language": "python",
   "name": "python3"
  },
  "language_info": {
   "codemirror_mode": {
    "name": "ipython",
    "version": 3
   },
   "file_extension": ".py",
   "mimetype": "text/x-python",
   "name": "python",
   "nbconvert_exporter": "python",
   "pygments_lexer": "ipython3",
   "version": "3.10.16"
  }
 },
 "nbformat": 4,
 "nbformat_minor": 2
}
