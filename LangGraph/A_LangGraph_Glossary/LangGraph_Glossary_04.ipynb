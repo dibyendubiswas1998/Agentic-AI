{
 "cells": [
  {
   "cell_type": "markdown",
   "metadata": {},
   "source": [
    "# **LangGraph Glossary 04:**\n",
    "\n",
    "1. **Annotated**,\n",
    "2. **Literal**,\n",
    "3. **typing**\n"
   ]
  },
  {
   "cell_type": "markdown",
   "metadata": {},
   "source": [
    "## **1. Annotated:**\n",
    "\n",
    "* **Purpose:** `Annotated` is used to add metadata to type hints without changing the type itself. It is part of the `typing` module and is useful for providing additional context or constraints about a type.\n",
    "\n",
    "\n",
    "* **Syntax:** `Annotated[<type>, <metadata>]`\n",
    "\n",
    "* **Key Points:**\n",
    "    * Adds metadata to type hints without changing the type.\n",
    "    * Useful for providing additional context or constraints."
   ]
  },
  {
   "cell_type": "code",
   "execution_count": 1,
   "metadata": {},
   "outputs": [
    {
     "name": "stdout",
     "output_type": "stream",
     "text": [
      "Alice is 30 years old.\n"
     ]
    }
   ],
   "source": [
    "from typing import Annotated\n",
    "\n",
    "\n",
    "NAME = Annotated[str, \"Name of the person\"]\n",
    "AGE = Annotated[int, \"Age of the person\"]\n",
    "\n",
    "\n",
    "def info(name:NAME, age:AGE) -> str:\n",
    "    return f\"{name} is {age} years old.\"\n",
    "\n",
    "\n",
    "print(info(\"Alice\", 30))"
   ]
  },
  {
   "cell_type": "code",
   "execution_count": 2,
   "metadata": {},
   "outputs": [
    {
     "name": "stdout",
     "output_type": "stream",
     "text": [
      "Alice is 30 years old.\n"
     ]
    }
   ],
   "source": [
    "print(info(\"Alice\", '30'))"
   ]
  },
  {
   "cell_type": "code",
   "execution_count": null,
   "metadata": {},
   "outputs": [],
   "source": []
  },
  {
   "cell_type": "markdown",
   "metadata": {},
   "source": [
    "## **2. Literal:**\n",
    "\n",
    "* **Purpose:** Literal is used to specify that a variable can only take specific literal values. **It is useful for enforcing strict value constraints**.\n",
    "\n",
    "* **Syntax:** `Literal[<value1>, <value2>,...]`\n",
    "\n",
    "* **Key Points:**\n",
    "    * Restricts a variable to specific literal values.\n",
    "    * Useful for enforcing strict value constraints."
   ]
  },
  {
   "cell_type": "code",
   "execution_count": 12,
   "metadata": {},
   "outputs": [
    {
     "name": "stdout",
     "output_type": "stream",
     "text": [
      "Color set to red\n"
     ]
    }
   ],
   "source": [
    "from typing import Literal\n",
    "\n",
    "\n",
    "Color = Literal[\"red\", \"green\", \"blue\"]\n",
    "\n",
    "\n",
    "def set_color(color: Color) -> str:\n",
    "    return f\"Color set to {color}\"\n",
    "\n",
    "\n",
    "print(set_color(\"red\"))\n",
    "# print(set_color(\"black\")) # This would raise a type error"
   ]
  },
  {
   "cell_type": "code",
   "execution_count": null,
   "metadata": {},
   "outputs": [],
   "source": []
  },
  {
   "cell_type": "markdown",
   "metadata": {},
   "source": [
    "## **3. Field:**\n",
    "\n",
    "* **Purpose:** `Field` is used in `pydantic` models to provide additional metadata or constraints for model fields. It allows you to specify default values, descriptions, validation rules, and more.\n",
    "\n",
    "* **Syntax:** `Field(default=None, description=None, **kwargs)`\n",
    "\n",
    "* **Key Points:**\n",
    "    * Provides additional metadata and constraints for model fields.\n",
    "    * Useful for defining default values, descriptions, and validation rules in `pydantic` models."
   ]
  },
  {
   "cell_type": "code",
   "execution_count": 16,
   "metadata": {},
   "outputs": [
    {
     "name": "stdout",
     "output_type": "stream",
     "text": [
      "name='Alice' age=25 email='alice@example.com'\n"
     ]
    }
   ],
   "source": [
    "from pydantic import BaseModel, Field\n",
    "\n",
    "\n",
    "\n",
    "class User(BaseModel):\n",
    "    name: str = Field(..., description=\"Name of the user\")  # Required field\n",
    "    age: int = Field(default=18, ge=0, description=\"Age of the user\")  # Optional field with constraints\n",
    "    email: str = Field(default=None, pattern=r\"^[a-zA-Z0-9_.+-]+@[a-zA-Z0-9-]+\\.[a-zA-Z0-9-.]+$\")\n",
    "\n",
    "\n",
    "\n",
    "# Create an instance of the User model\n",
    "user = User(name=\"Alice\", age=25, email=\"alice@example.com\")\n",
    "print(user)"
   ]
  },
  {
   "cell_type": "code",
   "execution_count": 18,
   "metadata": {},
   "outputs": [
    {
     "data": {
      "text/plain": [
       "User(name='Alice', age=18, email=None)"
      ]
     },
     "execution_count": 18,
     "metadata": {},
     "output_type": "execute_result"
    }
   ],
   "source": [
    "user = User(name=\"Alice\")\n",
    "user"
   ]
  },
  {
   "cell_type": "markdown",
   "metadata": {},
   "source": [
    "**Explanation:**\n",
    "\n",
    "* **name:** A required field with a description.\n",
    "* **age:** An optional field with a default value of `18` and a constraint (`ge=0` ensures the value is greater than or equal to 0).\n",
    "* **email:** An optional field with a regex pattern for validation."
   ]
  },
  {
   "cell_type": "code",
   "execution_count": null,
   "metadata": {},
   "outputs": [],
   "source": []
  }
 ],
 "metadata": {
  "kernelspec": {
   "display_name": "agentic_ai",
   "language": "python",
   "name": "python3"
  },
  "language_info": {
   "codemirror_mode": {
    "name": "ipython",
    "version": 3
   },
   "file_extension": ".py",
   "mimetype": "text/x-python",
   "name": "python",
   "nbconvert_exporter": "python",
   "pygments_lexer": "ipython3",
   "version": "3.10.16"
  }
 },
 "nbformat": 4,
 "nbformat_minor": 2
}
