{
 "cells": [
  {
   "cell_type": "markdown",
   "metadata": {},
   "source": [
    "# **Structured Output Pattern with LangGraph Agents:**\n",
    "\n",
    "A Structured Output Agent in LangChain (or other LLM frameworks) refers to an agent that <u>**produces responses in a specific structured format, such as JSON, dictionaries, or other structured data types**</u>. <br>\n",
    "\n",
    "These agents are particularly useful when you want to ensure that your responses conform to a defined schema, making it easier to parse, validate, and utilize in downstream applications.\n",
    "\n",
    "<br>\n",
    "\n",
    "**Why Use a Structured Output?**\n",
    "\n",
    "* **Controlled Responses:** Ensures that the outputs follow a specific format, reducing ambiguity.\n",
    "* **Data Validation:** Useful when you want the model output to fit predefined structures, like for APIs or database entries.\n",
    "* **Automation:** Makes integration with systems like dashboards, ETL pipelines, or business workflows easier."
   ]
  },
  {
   "cell_type": "code",
   "execution_count": 2,
   "metadata": {},
   "outputs": [],
   "source": [
    "import os\n",
    "from dotenv import load_dotenv\n",
    "\n",
    "# Load environment variables from .env file\n",
    "load_dotenv()\n",
    "\n",
    "GOOGLE_API_KEY = os.getenv(\"GOOGLE_API_KEY\")\n",
    "GROQ_API_KEY = os.getenv(\"GROQ_API_KEY\")\n",
    "TAVILY_API_KEY = os.getenv(\"TAVILY_API_KEY\")"
   ]
  },
  {
   "cell_type": "markdown",
   "metadata": {},
   "source": [
    "## **Experiment 01:**"
   ]
  },
  {
   "cell_type": "markdown",
   "metadata": {},
   "source": [
    "### **Load LLM:**"
   ]
  },
  {
   "cell_type": "code",
   "execution_count": 4,
   "metadata": {},
   "outputs": [
    {
     "data": {
      "text/plain": [
       "AIMessage(content='Hi there! 👋 \\n\\nHow can I help you today?\\n', additional_kwargs={}, response_metadata={'token_usage': {'completion_tokens': 16, 'prompt_tokens': 11, 'total_tokens': 27, 'completion_time': 0.029090909, 'prompt_time': 0.001958696, 'queue_time': 0.018192602000000002, 'total_time': 0.031049605}, 'model_name': 'Gemma2-9b-It', 'system_fingerprint': 'fp_10c08bf97d', 'finish_reason': 'stop', 'logprobs': None}, id='run-17ed0c88-01d6-403d-a7f5-7159f3fcc293-0', usage_metadata={'input_tokens': 11, 'output_tokens': 16, 'total_tokens': 27})"
      ]
     },
     "execution_count": 4,
     "metadata": {},
     "output_type": "execute_result"
    }
   ],
   "source": [
    "from langchain_groq import ChatGroq\n",
    "\n",
    "\n",
    "# Initialize the model\n",
    "llm = ChatGroq(model_name=\"Gemma2-9b-It\")\n",
    "\n",
    "llm.invoke(\"Hi\")"
   ]
  },
  {
   "cell_type": "markdown",
   "metadata": {},
   "source": [
    "### **Load Tool:**\n",
    "\n",
    "* Load `Tavily Tool`,\n",
    "* Create Custom Tool using `Tavily Tool`,\n",
    "* Bind the custom tool with `llm`"
   ]
  },
  {
   "cell_type": "code",
   "execution_count": 5,
   "metadata": {},
   "outputs": [],
   "source": [
    "from langchain_community.tools.tavily_search import TavilySearchResults\n",
    "from langchain_core.tools import tool"
   ]
  },
  {
   "cell_type": "code",
   "execution_count": 6,
   "metadata": {},
   "outputs": [],
   "source": [
    "# Tavily Tool:\n",
    "\n",
    "tavily_tool = TavilySearchResults()"
   ]
  },
  {
   "cell_type": "code",
   "execution_count": 8,
   "metadata": {},
   "outputs": [
    {
     "data": {
      "text/plain": [
       "[{'url': 'https://www.110cities.com/blog/cities/siliguri/',\n",
       "  'content': 'Siliguri is a city in the West Bengal state of northern India. Siliguri sits at the intersection of several roads leading to the neighboring countries.'},\n",
       " {'url': 'https://en.wikipedia.org/wiki/Siliguri',\n",
       "  'content': 'The city spans areas of the Darjeeling and Jalpaiguri districts in the Indian state of West Bengal. Known as the \"Gateway of Northeast India\", Siliguri is'},\n",
       " {'url': 'https://www.britannica.com/place/Siliguri',\n",
       "  'content': 'Siliguri, city, northern West Bengal state, northeastern India. It lies just west of the Mahananda River. Siliguri is the terminus of the roads from'},\n",
       " {'url': 'https://www.siligurismc.in/history-of-siliguri.php',\n",
       "  'content': 'Siliguri is the largest and fastest growing city in North Bengal. The growth rate in decade 1971- 81 was 57.8 % . Considering the rapid growth of the city and'},\n",
       " {'url': 'https://www.siligurismc.in/',\n",
       "  'content': 'Siliguri, the gateway to North-East India, is the second largest agglomeration in West Bengal. Siliguri Municipality was established in 1949 which transformed'}]"
      ]
     },
     "execution_count": 8,
     "metadata": {},
     "output_type": "execute_result"
    }
   ],
   "source": [
    "# Build my custm tool using Talvily Tool:\n",
    "\n",
    "@tool\n",
    "def get_city_details(prompt):\n",
    "    \"Should do a web search to find the required city details\"\n",
    "    response = tavily_tool.invoke(prompt)\n",
    "    return response\n",
    "\n",
    "\n",
    "get_city_details(\"City of Siliguri\")"
   ]
  },
  {
   "cell_type": "code",
   "execution_count": 9,
   "metadata": {},
   "outputs": [],
   "source": [
    "# Bind The Tools with LLM:\n",
    "\n",
    "tools = [get_city_details]\n",
    "\n",
    "llm_with_tools = llm.bind_tools(tools)"
   ]
  },
  {
   "cell_type": "markdown",
   "metadata": {},
   "source": [
    "### **Define Structure format of My Response:**\n",
    "\n",
    "The **BaseModel** class is a core component of Pydantic, which is used extensively in Python applications for **data validation**, **type checking**, and **parsing**. It's particularly useful when working with APIs, web frameworks like FastAPI, and other scenarios where you need to enforce data structure and ensure data integrity."
   ]
  },
  {
   "cell_type": "code",
   "execution_count": 10,
   "metadata": {},
   "outputs": [],
   "source": [
    "from pydantic import BaseModel, Field\n",
    "from langgraph.graph import MessagesState, StateGraph, END\n",
    "from langgraph.prebuilt import ToolNode\n",
    "from langchain_core.messages import HumanMessage"
   ]
  },
  {
   "cell_type": "code",
   "execution_count": 11,
   "metadata": {},
   "outputs": [],
   "source": [
    "# Define the Structure format of my response.\n",
    "class CityDetails(BaseModel):\n",
    "    \"\"\"Respond to the user with this\"\"\"\n",
    "    state_name: str = Field(description=\"State name of the city\")\n",
    "    state_capital: str = Field(description=\"State capital of the city\")\n",
    "    country_name: str = Field(description=\"Country name of the city\")\n",
    "    country_capital: str = Field(description=\"Country capital of the city\")\n"
   ]
  },
  {
   "cell_type": "code",
   "execution_count": 12,
   "metadata": {},
   "outputs": [],
   "source": [
    "# Inherit 'messages' key from MessagesState, which is a list of chat messages\n",
    "class AgentState(MessagesState):\n",
    "    # Final structured response from the agent\n",
    "    final_response: CityDetails"
   ]
  },
  {
   "cell_type": "code",
   "execution_count": 13,
   "metadata": {},
   "outputs": [],
   "source": [
    "# Integrate llm with my Structure Response/Output:\n",
    "\n",
    "llm_with_structured_output = llm.with_structured_output(CityDetails)"
   ]
  },
  {
   "cell_type": "markdown",
   "metadata": {},
   "source": [
    "### **LangGraph Integration:**\n",
    "\n",
    "* **call_model:** directly invoke the **`llm_with_tools`**, and return response (Wheather it is simply llm call or tool calls).\n",
    "* **should_continue:** checks if the respose call the llm or tool.\n",
    "* **response:** invoke the **`llm_with_structured_output`** to generate the output in Structure format."
   ]
  },
  {
   "cell_type": "markdown",
   "metadata": {},
   "source": [
    "#### **Create Nodes:**"
   ]
  },
  {
   "cell_type": "code",
   "execution_count": 14,
   "metadata": {},
   "outputs": [],
   "source": [
    "# Create Node: call_model\n",
    "\n",
    "def call_model(state: AgentState):\n",
    "    print(f\" this is 01 input from call model {state}\")\n",
    "    response = llm_with_tools.invoke(state['messages'])\n",
    "\n",
    "    print(f\"this is 02 response from call model  {response}\")\n",
    "\n",
    "    # We return a list, because this will get added to the existing list\n",
    "    return {\"messages\": [response]}\n",
    "\n",
    "\n",
    "# Create Node: tool_node\n",
    "tool_node = ToolNode(tools)"
   ]
  },
  {
   "cell_type": "code",
   "execution_count": 15,
   "metadata": {},
   "outputs": [],
   "source": [
    "# Conditional Node: should_continue\n",
    "def should_continue(state: AgentState):\n",
    "    messages = state[\"messages\"]\n",
    "    last_message = messages[-1]\n",
    "\n",
    "    # If there is no function call, then we respond to the user\n",
    "    if not last_message.tool_calls:\n",
    "        return \"respond\"\n",
    "    # Otherwise if there is, we continue with the tool\n",
    "    else:\n",
    "        return \"continue\"\n",
    "    \n",
    "\n",
    "\n",
    "# Create Node: respond\n",
    "def respond(state: AgentState):\n",
    "    print(f\"here is 03 state from respond {state}\")\n",
    "    response = llm_with_structured_output.invoke([HumanMessage(content=state['messages'][-1].content)])\n",
    "    # We return the final answer\n",
    "    print(f\"this is 04 response from respond{response}\")\n",
    "    return {\"final_response\": response}"
   ]
  },
  {
   "cell_type": "markdown",
   "metadata": {},
   "source": [
    "#### **Create or Define LangGraph Workflow:**"
   ]
  },
  {
   "cell_type": "code",
   "execution_count": 16,
   "metadata": {},
   "outputs": [
    {
     "data": {
      "image/png": "[encoded data removed]",
      "text/plain": [
       "<langgraph.graph.state.CompiledStateGraph object at 0x000002C557462B90>"
      ]
     },
     "execution_count": 16,
     "metadata": {},
     "output_type": "execute_result"
    }
   ],
   "source": [
    "# Define a new graph\n",
    "workflow = StateGraph(AgentState)\n",
    "\n",
    "# Add Nodes into Workflow:\n",
    "workflow.add_node(\"llm\", call_model)\n",
    "workflow.add_node(\"tools\", tool_node)\n",
    "workflow.add_node(\"respond\", respond)\n",
    "\n",
    "# Set the entrypoint:\n",
    "workflow.set_entry_point(\"llm\")\n",
    "\n",
    "# This means that this node is the first one called\n",
    "workflow.add_conditional_edges(\n",
    "    \"llm\",\n",
    "    should_continue,\n",
    "    {\n",
    "        \"continue\": \"tools\",\n",
    "        \"respond\": \"respond\",\n",
    "    },\n",
    ")\n",
    "\n",
    "# Add Cyclic Node:\n",
    "workflow.add_edge(\"tools\", \"llm\")\n",
    "\n",
    "# Set the exitpoint or end point:\n",
    "workflow.add_edge(\"respond\", END)\n",
    "\n",
    "# Compile the Graph:\n",
    "app = workflow.compile()\n",
    "\n",
    "app"
   ]
  },
  {
   "cell_type": "markdown",
   "metadata": {},
   "source": [
    "#### **Invokeing:**"
   ]
  },
  {
   "cell_type": "code",
   "execution_count": 17,
   "metadata": {},
   "outputs": [
    {
     "name": "stdout",
     "output_type": "stream",
     "text": [
      " this is 01 input from call model {'messages': [HumanMessage(content='Tell me about the city details for Siligur?', additional_kwargs={}, response_metadata={}, id='7cfa913f-f67c-4036-97a8-af3ec9811a03')]}\n",
      "this is 02 response from call model  content='' additional_kwargs={'tool_calls': [{'id': 'call_ynjb', 'function': {'arguments': '{\"prompt\":\"Siligur\"}', 'name': 'get_city_details'}, 'type': 'function'}]} response_metadata={'token_usage': {'completion_tokens': 86, 'prompt_tokens': 946, 'total_tokens': 1032, 'completion_time': 0.156363636, 'prompt_time': 0.032967652, 'queue_time': 0.020062181999999998, 'total_time': 0.189331288}, 'model_name': 'Gemma2-9b-It', 'system_fingerprint': 'fp_10c08bf97d', 'finish_reason': 'tool_calls', 'logprobs': None} id='run-7158d30f-52dc-440b-81d9-9211b59b0b55-0' tool_calls=[{'name': 'get_city_details', 'args': {'prompt': 'Siligur'}, 'id': 'call_ynjb', 'type': 'tool_call'}] usage_metadata={'input_tokens': 946, 'output_tokens': 86, 'total_tokens': 1032}\n",
      " this is 01 input from call model {'messages': [HumanMessage(content='Tell me about the city details for Siligur?', additional_kwargs={}, response_metadata={}, id='7cfa913f-f67c-4036-97a8-af3ec9811a03'), AIMessage(content='', additional_kwargs={'tool_calls': [{'id': 'call_ynjb', 'function': {'arguments': '{\"prompt\":\"Siligur\"}', 'name': 'get_city_details'}, 'type': 'function'}]}, response_metadata={'token_usage': {'completion_tokens': 86, 'prompt_tokens': 946, 'total_tokens': 1032, 'completion_time': 0.156363636, 'prompt_time': 0.032967652, 'queue_time': 0.020062181999999998, 'total_time': 0.189331288}, 'model_name': 'Gemma2-9b-It', 'system_fingerprint': 'fp_10c08bf97d', 'finish_reason': 'tool_calls', 'logprobs': None}, id='run-7158d30f-52dc-440b-81d9-9211b59b0b55-0', tool_calls=[{'name': 'get_city_details', 'args': {'prompt': 'Siligur'}, 'id': 'call_ynjb', 'type': 'tool_call'}], usage_metadata={'input_tokens': 946, 'output_tokens': 86, 'total_tokens': 1032}), ToolMessage(content='[{\"url\": \"https://en.wikipedia.org/wiki/Siliguri\", \"content\": \"The city spans areas of the Darjeeling and Jalpaiguri districts in the Indian state of West Bengal. Known as the \\\\\"Gateway of Northeast India\\\\\", Siliguri is\"}, {\"url\": \"https://www.makemytrip.com/tripideas/places/siliguri\", \"content\": \"Siliguri West Bengal is a small town located in the lush foothills of the Eastern Himalayas. The city is often called the Gateway to the North East.\"}, {\"url\": \"https://www.britannica.com/place/Siliguri\", \"content\": \"Siliguri, city, northern West Bengal state, northeastern India. It lies just west of the Mahananda River. Siliguri is the terminus of the roads from\"}, {\"url\": \"https://www.siligurismc.in/history-of-siliguri.php\", \"content\": \"Siliguri is the largest and fastest growing city in North Bengal. The growth rate in decade 1971- 81 was 57.8 % . Considering the rapid growth of the\"}, {\"url\": \"https://www.incredibleindia.gov.in/en/west-bengal/siliguri\", \"content\": \"A dense forest for centuries, Siliguri is a small yet lively city today famous for its 3 Ts – tea, timber and tourism! With its prime location in the state of\"}]', name='get_city_details', id='47be426a-ced7-4272-88d0-108fdb4a279c', tool_call_id='call_ynjb')]}\n",
      "this is 02 response from call model  content='Siliguri is known as the \\\\\"Gateway to Northeast India\\\\\".  It is located in the Indian state of West Bengal. \\n' additional_kwargs={} response_metadata={'token_usage': {'completion_tokens': 30, 'prompt_tokens': 1330, 'total_tokens': 1360, 'completion_time': 0.054545455, 'prompt_time': 0.046170387, 'queue_time': 0.021140056999999997, 'total_time': 0.100715842}, 'model_name': 'Gemma2-9b-It', 'system_fingerprint': 'fp_10c08bf97d', 'finish_reason': 'stop', 'logprobs': None} id='run-f0fc421d-f4fe-43c2-9c08-5ded478130c8-0' usage_metadata={'input_tokens': 1330, 'output_tokens': 30, 'total_tokens': 1360}\n",
      "here is 03 state from respond {'messages': [HumanMessage(content='Tell me about the city details for Siligur?', additional_kwargs={}, response_metadata={}, id='7cfa913f-f67c-4036-97a8-af3ec9811a03'), AIMessage(content='', additional_kwargs={'tool_calls': [{'id': 'call_ynjb', 'function': {'arguments': '{\"prompt\":\"Siligur\"}', 'name': 'get_city_details'}, 'type': 'function'}]}, response_metadata={'token_usage': {'completion_tokens': 86, 'prompt_tokens': 946, 'total_tokens': 1032, 'completion_time': 0.156363636, 'prompt_time': 0.032967652, 'queue_time': 0.020062181999999998, 'total_time': 0.189331288}, 'model_name': 'Gemma2-9b-It', 'system_fingerprint': 'fp_10c08bf97d', 'finish_reason': 'tool_calls', 'logprobs': None}, id='run-7158d30f-52dc-440b-81d9-9211b59b0b55-0', tool_calls=[{'name': 'get_city_details', 'args': {'prompt': 'Siligur'}, 'id': 'call_ynjb', 'type': 'tool_call'}], usage_metadata={'input_tokens': 946, 'output_tokens': 86, 'total_tokens': 1032}), ToolMessage(content='[{\"url\": \"https://en.wikipedia.org/wiki/Siliguri\", \"content\": \"The city spans areas of the Darjeeling and Jalpaiguri districts in the Indian state of West Bengal. Known as the \\\\\"Gateway of Northeast India\\\\\", Siliguri is\"}, {\"url\": \"https://www.makemytrip.com/tripideas/places/siliguri\", \"content\": \"Siliguri West Bengal is a small town located in the lush foothills of the Eastern Himalayas. The city is often called the Gateway to the North East.\"}, {\"url\": \"https://www.britannica.com/place/Siliguri\", \"content\": \"Siliguri, city, northern West Bengal state, northeastern India. It lies just west of the Mahananda River. Siliguri is the terminus of the roads from\"}, {\"url\": \"https://www.siligurismc.in/history-of-siliguri.php\", \"content\": \"Siliguri is the largest and fastest growing city in North Bengal. The growth rate in decade 1971- 81 was 57.8 % . Considering the rapid growth of the\"}, {\"url\": \"https://www.incredibleindia.gov.in/en/west-bengal/siliguri\", \"content\": \"A dense forest for centuries, Siliguri is a small yet lively city today famous for its 3 Ts – tea, timber and tourism! With its prime location in the state of\"}]', name='get_city_details', id='47be426a-ced7-4272-88d0-108fdb4a279c', tool_call_id='call_ynjb'), AIMessage(content='Siliguri is known as the \\\\\"Gateway to Northeast India\\\\\".  It is located in the Indian state of West Bengal. \\n', additional_kwargs={}, response_metadata={'token_usage': {'completion_tokens': 30, 'prompt_tokens': 1330, 'total_tokens': 1360, 'completion_time': 0.054545455, 'prompt_time': 0.046170387, 'queue_time': 0.021140056999999997, 'total_time': 0.100715842}, 'model_name': 'Gemma2-9b-It', 'system_fingerprint': 'fp_10c08bf97d', 'finish_reason': 'stop', 'logprobs': None}, id='run-f0fc421d-f4fe-43c2-9c08-5ded478130c8-0', usage_metadata={'input_tokens': 1330, 'output_tokens': 30, 'total_tokens': 1360})]}\n",
      "this is 04 response from respondstate_name='West Bengal' state_capital='Kolkata' country_name='India' country_capital='New Delhi'\n"
     ]
    },
    {
     "data": {
      "text/plain": [
       "{'messages': [HumanMessage(content='Tell me about the city details for Siligur?', additional_kwargs={}, response_metadata={}, id='7cfa913f-f67c-4036-97a8-af3ec9811a03'),\n",
       "  AIMessage(content='', additional_kwargs={'tool_calls': [{'id': 'call_ynjb', 'function': {'arguments': '{\"prompt\":\"Siligur\"}', 'name': 'get_city_details'}, 'type': 'function'}]}, response_metadata={'token_usage': {'completion_tokens': 86, 'prompt_tokens': 946, 'total_tokens': 1032, 'completion_time': 0.156363636, 'prompt_time': 0.032967652, 'queue_time': 0.020062181999999998, 'total_time': 0.189331288}, 'model_name': 'Gemma2-9b-It', 'system_fingerprint': 'fp_10c08bf97d', 'finish_reason': 'tool_calls', 'logprobs': None}, id='run-7158d30f-52dc-440b-81d9-9211b59b0b55-0', tool_calls=[{'name': 'get_city_details', 'args': {'prompt': 'Siligur'}, 'id': 'call_ynjb', 'type': 'tool_call'}], usage_metadata={'input_tokens': 946, 'output_tokens': 86, 'total_tokens': 1032}),\n",
       "  ToolMessage(content='[{\"url\": \"https://en.wikipedia.org/wiki/Siliguri\", \"content\": \"The city spans areas of the Darjeeling and Jalpaiguri districts in the Indian state of West Bengal. Known as the \\\\\"Gateway of Northeast India\\\\\", Siliguri is\"}, {\"url\": \"https://www.makemytrip.com/tripideas/places/siliguri\", \"content\": \"Siliguri West Bengal is a small town located in the lush foothills of the Eastern Himalayas. The city is often called the Gateway to the North East.\"}, {\"url\": \"https://www.britannica.com/place/Siliguri\", \"content\": \"Siliguri, city, northern West Bengal state, northeastern India. It lies just west of the Mahananda River. Siliguri is the terminus of the roads from\"}, {\"url\": \"https://www.siligurismc.in/history-of-siliguri.php\", \"content\": \"Siliguri is the largest and fastest growing city in North Bengal. The growth rate in decade 1971- 81 was 57.8 % . Considering the rapid growth of the\"}, {\"url\": \"https://www.incredibleindia.gov.in/en/west-bengal/siliguri\", \"content\": \"A dense forest for centuries, Siliguri is a small yet lively city today famous for its 3 Ts – tea, timber and tourism! With its prime location in the state of\"}]', name='get_city_details', id='47be426a-ced7-4272-88d0-108fdb4a279c', tool_call_id='call_ynjb'),\n",
       "  AIMessage(content='Siliguri is known as the \\\\\"Gateway to Northeast India\\\\\".  It is located in the Indian state of West Bengal. \\n', additional_kwargs={}, response_metadata={'token_usage': {'completion_tokens': 30, 'prompt_tokens': 1330, 'total_tokens': 1360, 'completion_time': 0.054545455, 'prompt_time': 0.046170387, 'queue_time': 0.021140056999999997, 'total_time': 0.100715842}, 'model_name': 'Gemma2-9b-It', 'system_fingerprint': 'fp_10c08bf97d', 'finish_reason': 'stop', 'logprobs': None}, id='run-f0fc421d-f4fe-43c2-9c08-5ded478130c8-0', usage_metadata={'input_tokens': 1330, 'output_tokens': 30, 'total_tokens': 1360})],\n",
       " 'final_response': CityDetails(state_name='West Bengal', state_capital='Kolkata', country_name='India', country_capital='New Delhi')}"
      ]
     },
     "execution_count": 17,
     "metadata": {},
     "output_type": "execute_result"
    }
   ],
   "source": [
    "answer = app.invoke(input={\"messages\": [(\"human\", \"Tell me about the city details for Siligur?\")]})\n",
    "answer"
   ]
  },
  {
   "cell_type": "code",
   "execution_count": 18,
   "metadata": {},
   "outputs": [
    {
     "data": {
      "text/plain": [
       "CityDetails(state_name='West Bengal', state_capital='Kolkata', country_name='India', country_capital='New Delhi')"
      ]
     },
     "execution_count": 18,
     "metadata": {},
     "output_type": "execute_result"
    }
   ],
   "source": [
    "answer['final_response']"
   ]
  },
  {
   "cell_type": "code",
   "execution_count": 20,
   "metadata": {},
   "outputs": [
    {
     "data": {
      "text/plain": [
       "'West Bengal'"
      ]
     },
     "execution_count": 20,
     "metadata": {},
     "output_type": "execute_result"
    }
   ],
   "source": [
    "answer['final_response'].state_name"
   ]
  },
  {
   "cell_type": "code",
   "execution_count": null,
   "metadata": {},
   "outputs": [],
   "source": []
  },
  {
   "cell_type": "markdown",
   "metadata": {},
   "source": [
    "## **Experiment 02:**"
   ]
  },
  {
   "cell_type": "markdown",
   "metadata": {},
   "source": [
    "### **Load LLM:**"
   ]
  },
  {
   "cell_type": "code",
   "execution_count": 21,
   "metadata": {},
   "outputs": [
    {
     "data": {
      "text/plain": [
       "AIMessage(content='Hello! 👋 \\n\\nHow can I help you today? 😊\\n', additional_kwargs={}, response_metadata={'token_usage': {'completion_tokens': 16, 'prompt_tokens': 11, 'total_tokens': 27, 'completion_time': 0.029090909, 'prompt_time': 0.001911606, 'queue_time': 0.017858812, 'total_time': 0.031002515}, 'model_name': 'Gemma2-9b-It', 'system_fingerprint': 'fp_10c08bf97d', 'finish_reason': 'stop', 'logprobs': None}, id='run-48257a6c-06ff-4132-ae14-64ec68992c3f-0', usage_metadata={'input_tokens': 11, 'output_tokens': 16, 'total_tokens': 27})"
      ]
     },
     "execution_count": 21,
     "metadata": {},
     "output_type": "execute_result"
    }
   ],
   "source": [
    "# Load LLM:\n",
    "\n",
    "from langchain_groq import ChatGroq\n",
    "\n",
    "# Initialize the model\n",
    "llm = ChatGroq(model_name=\"Gemma2-9b-It\")\n",
    "\n",
    "llm.invoke(\"Hi\")"
   ]
  },
  {
   "cell_type": "markdown",
   "metadata": {},
   "source": [
    "### **Load Tools:**\n",
    "\n",
    "* Load Tavily Tool,\n",
    "* Create Custom Tool using Tavily Tool,\n",
    "* Bind the custom tool with llm"
   ]
  },
  {
   "cell_type": "code",
   "execution_count": 23,
   "metadata": {},
   "outputs": [],
   "source": [
    "# Load Tool:\n",
    "\n",
    "from langchain_community.tools.tavily_search import TavilySearchResults\n",
    "from langchain_core.tools import tool\n",
    "\n",
    "\n",
    "# Tavily Tool:\n",
    "tavily_tool = TavilySearchResults()"
   ]
  },
  {
   "cell_type": "code",
   "execution_count": 24,
   "metadata": {},
   "outputs": [],
   "source": [
    "# Build my custm tool using Talvily Tool:\n",
    "\n",
    "@tool\n",
    "def get_city_details(prompt):\n",
    "    \"Should do a web search to find the required city details\"\n",
    "    response = tavily_tool.invoke(prompt)\n",
    "    return response"
   ]
  },
  {
   "cell_type": "markdown",
   "metadata": {},
   "source": [
    "### **Define Structure format of My Response:**"
   ]
  },
  {
   "cell_type": "code",
   "execution_count": 25,
   "metadata": {},
   "outputs": [],
   "source": [
    "from pydantic import BaseModel, Field\n",
    "from langgraph.graph import MessagesState,StateGraph, END\n",
    "from langgraph.prebuilt import ToolNode\n",
    "from langchain_core.messages import HumanMessage"
   ]
  },
  {
   "cell_type": "code",
   "execution_count": 26,
   "metadata": {},
   "outputs": [],
   "source": [
    "# Define the Structure format of my response:\n",
    "\n",
    "class StructureInformation(BaseModel):\n",
    "    definition: str = Field(description=\"Definition of the question.\")\n",
    "    description: str = Field(description=\"Description of the question.\")\n",
    "    why: str = Field(description=\"Why required these?\")\n",
    "    where: str = Field(description=\"Where to use?\")\n",
    "    example: str = Field(description=\"Give me the Example\")\n",
    "    advantage: str = Field(description=\"Advantage of the question\")\n",
    "    disadvantage: str = Field(description=\"Disadvantage of the question\")"
   ]
  },
  {
   "cell_type": "code",
   "execution_count": null,
   "metadata": {},
   "outputs": [],
   "source": [
    "# Inherit 'messages' key from MessagesState, which is a list of chat messages\n",
    "class AgentState(MessagesState):\n",
    "    # Final structured response from the agent\n",
    "    final_response: StructureInformation"
   ]
  },
  {
   "cell_type": "code",
   "execution_count": 29,
   "metadata": {},
   "outputs": [],
   "source": [
    "# Integrate llm with my Structure Response/Output:\n",
    "\n",
    "llm_with_structured_output = llm.with_structured_output(StructureInformation)"
   ]
  },
  {
   "cell_type": "markdown",
   "metadata": {},
   "source": [
    "### **LangGraph Integration:**"
   ]
  },
  {
   "cell_type": "markdown",
   "metadata": {},
   "source": [
    "#### **Create Nodes:**\n",
    "\n",
    "\n",
    "* **call_model:** directly invoke the **llm_with_tools**, and return response (Wheather it is simply llm call or tool calls).\n",
    "* **should_continue:** checks if the respose call the llm or tool.\n",
    "* **response:** invoke the **llm_with_structured_output** to generate the output in Structure format."
   ]
  },
  {
   "cell_type": "code",
   "execution_count": 30,
   "metadata": {},
   "outputs": [],
   "source": [
    "# Create Node: call_model\n",
    "def call_model(state: AgentState):\n",
    "    response = llm_with_tools.invoke(state['messages'])\n",
    "    return {\"messages\": [response]}\n",
    "\n",
    "\n",
    "\n",
    "# Create Node: tool_node\n",
    "tool_node = ToolNode(tools)\n",
    "\n",
    "\n",
    "\n",
    "# Conditional Node: should_continue\n",
    "def should_continue(state: AgentState):\n",
    "    messages = state[\"messages\"]\n",
    "    last_message = messages[-1]\n",
    "\n",
    "    # If there is no function call, then we respond to the user\n",
    "    if not last_message.tool_calls:\n",
    "        return \"respond\"\n",
    "    # Otherwise if there is, we continue with the tool\n",
    "    else:\n",
    "        return \"continue\"\n",
    "    \n",
    "\n",
    "\n",
    "# Create Node: respond\n",
    "def respond(state: AgentState):\n",
    "    response = llm_with_structured_output.invoke([HumanMessage(content=state['messages'][-1].content)])\n",
    "    # We return the final answer\n",
    "    return {\"final_response\": response}"
   ]
  },
  {
   "cell_type": "markdown",
   "metadata": {},
   "source": [
    "#### **Create or Define LangGraph Workflow:**"
   ]
  },
  {
   "cell_type": "code",
   "execution_count": 31,
   "metadata": {},
   "outputs": [
    {
     "data": {
      "image/png": "[encoded data removed]",
      "text/plain": [
       "<langgraph.graph.state.CompiledStateGraph object at 0x000002C55B25A230>"
      ]
     },
     "execution_count": 31,
     "metadata": {},
     "output_type": "execute_result"
    }
   ],
   "source": [
    "# Define a new graph\n",
    "workflow = StateGraph(AgentState)\n",
    "\n",
    "# Add Nodes into Workflow:\n",
    "workflow.add_node(\"llm\", call_model)\n",
    "workflow.add_node(\"tools\", tool_node)\n",
    "workflow.add_node(\"respond\", respond)\n",
    "\n",
    "# Set the entrypoint:\n",
    "workflow.set_entry_point(\"llm\")\n",
    "\n",
    "# This means that this node is the first one called\n",
    "workflow.add_conditional_edges(\n",
    "    \"llm\",\n",
    "    should_continue,\n",
    "    {\n",
    "        \"continue\": \"tools\",\n",
    "        \"respond\": \"respond\",\n",
    "    },\n",
    ")\n",
    "\n",
    "# Add Cyclic Node:\n",
    "workflow.add_edge(\"tools\", \"llm\")\n",
    "\n",
    "# Set the exitpoint or end point:\n",
    "workflow.add_edge(\"respond\", END)\n",
    "\n",
    "# Compile the Graph:\n",
    "app = workflow.compile()\n",
    "\n",
    "\n",
    "app"
   ]
  },
  {
   "cell_type": "markdown",
   "metadata": {},
   "source": [
    "#### **Invoking:**"
   ]
  },
  {
   "cell_type": "code",
   "execution_count": 34,
   "metadata": {},
   "outputs": [
    {
     "data": {
      "text/plain": [
       "{'messages': [HumanMessage(content='Tell me about LLM?', additional_kwargs={}, response_metadata={}, id='0ae9e780-afb2-4349-a32b-6e65a12b9e6f'),\n",
       "  AIMessage(content='', additional_kwargs={'tool_calls': [{'id': 'call_f5p3', 'function': {'arguments': '{\"prompt\":\"Tell me about LLMs\"}', 'name': 'get_city_details'}, 'type': 'function'}]}, response_metadata={'token_usage': {'completion_tokens': 88, 'prompt_tokens': 941, 'total_tokens': 1029, 'completion_time': 0.16, 'prompt_time': 0.035938659, 'queue_time': 0.019845867000000003, 'total_time': 0.195938659}, 'model_name': 'Gemma2-9b-It', 'system_fingerprint': 'fp_10c08bf97d', 'finish_reason': 'tool_calls', 'logprobs': None}, id='run-265f90ed-72ec-4191-a77b-8965fe99d949-0', tool_calls=[{'name': 'get_city_details', 'args': {'prompt': 'Tell me about LLMs'}, 'id': 'call_f5p3', 'type': 'tool_call'}], usage_metadata={'input_tokens': 941, 'output_tokens': 88, 'total_tokens': 1029}),\n",
       "  ToolMessage(content='[{\"url\": \"https://www.cloudflare.com/learning/ai/what-is-large-language-model/\", \"content\": \"Large language models (LLMs) are machine learning models that can comprehend and generate human language text. A large language model (LLM) is a type of artificial intelligence (AI) program that can recognize and generate text, among other tasks. LLMs are trained on huge sets of data — hence the name \\\\\"large.\\\\\" LLMs are built on machine learning: specifically, a type of neural network called a transformer model. But the quality of the samples impacts how well LLMs will learn natural language, so an LLM\\'s programmers may use a more curated data set. LLMs use a type of machine learning called deep learning in order to understand how characters, words, and sentences function together. LLMs use a type of machine learning called deep learning.\"}, {\"url\": \"https://www.techtarget.com/whatis/definition/large-language-model-LLM\", \"content\": \"A large language model is a type of artificial intelligence algorithm that uses\\xa0deep learning\\xa0techniques and massively large data sets to understand, summarize, generate and predict new content. With a large number of parameters and the transformer model, LLMs are able to understand and generate accurate responses rapidly, which makes the AI technology broadly applicable across many different domains. There\\'s also a class of LLMs based on the concept known as\\xa0retrieval-augmented generation\\xa0-- including Google\\'s Realm, which is short for Retrieval-Augmented Language Model -- that will enable training and inference on a very specific corpus of data, much like how a user today can specifically search content on a single site.\"}, {\"url\": \"https://en.wikipedia.org/wiki/Large_language_model\", \"content\": \"A large language model (LLM) is a type of machine learning model designed for natural language processing tasks such as language generation. A smoothed n-gram model in 2001 trained on 0.3 billion words achieved state-of-the-art perplexity at the time.[4] In the 2000s, as Internet use became prevalent, some researchers constructed Internet-scale language datasets (\\\\\"web as corpus\\\\\"[5]), upon which they trained statistical language models.[6][7] In 2009, in most language processing tasks, statistical language models dominated over symbolic language models, as they can usefully ingest large datasets.[8]\"}, {\"url\": \"https://www.ibm.com/think/topics/large-language-models\", \"content\": \"Large language models (LLMs) are a category of foundation models trained on immense amounts of data making them capable of understanding and generating natural language and other types of content to perform a wide range of tasks. Explore the IBM library of foundation models on the watsonx platform to scale generative AI for your business with confidence. Read the report Ebook Unlock the Power of Generative AI + MLLearn how to incorporate generative AI, machine learning and foundation models into your business operations for improved performance. Explore the IBM library of foundation models on the IBM watsonx platform to scale generative AI for your business with confidence.\"}, {\"url\": \"https://developers.google.com/machine-learning/resources/intro-llms\", \"content\": \"[[[\\\\\"Easy to understand\\\\\",\\\\\"easyToUnderstand\\\\\",\\\\\"thumb-up\\\\\"],[\\\\\"Solved my problem\\\\\",\\\\\"solvedMyProblem\\\\\",\\\\\"thumb-up\\\\\"],[\\\\\"Other\\\\\",\\\\\"otherUp\\\\\",\\\\\"thumb-up\\\\\"]],[[\\\\\"Missing the information I need\\\\\",\\\\\"missingTheInformationINeed\\\\\",\\\\\"thumb-down\\\\\"],[\\\\\"Too complicated / too many steps\\\\\",\\\\\"tooComplicatedTooManySteps\\\\\",\\\\\"thumb-down\\\\\"],[\\\\\"Out of date\\\\\",\\\\\"outOfDate\\\\\",\\\\\"thumb-down\\\\\"],[\\\\\"Samples / code issue\\\\\",\\\\\"samplesCodeIssue\\\\\",\\\\\"thumb-down\\\\\"],[\\\\\"Other\\\\\",\\\\\"otherDown\\\\\",\\\\\"thumb-down\\\\\"]],[\\\\\"Last updated 2024-09-06 UTC.\\\\\"],[[[\\\\\"Language models predict and generate text by estimating the probability of a token or sequence of tokens occurring within a longer sequence, useful for tasks like text generation and translation.\\\\\"],[\\\\\"Large language models (LLMs) are advanced language models with vast parameters and datasets, enabling them to process longer text sequences and perform complex tasks like summarization and question answering.\\\\\"],[\\\\\"Transformers are a key architecture in LLMs, utilizing attention mechanisms to focus on important input parts and enhance processing efficiency.\\\\\"],[\\\\\"LLMs have various applications, including text generation, translation, sentiment analysis, and code generation, but also present considerations such as cost, bias, and ethical implications.\\\\\"]]],[]]\"}]', name='get_city_details', id='e85e5725-fa53-41e2-975c-d511fd90e6c8', tool_call_id='call_f5p3'),\n",
       "  AIMessage(content='', additional_kwargs={'tool_calls': [{'id': 'call_p4c3', 'function': {'arguments': '{\"prompt\":\"Tell me about LLMs\"}', 'name': 'get_city_details'}, 'type': 'function'}]}, response_metadata={'token_usage': {'completion_tokens': 50, 'prompt_tokens': 2000, 'total_tokens': 2050, 'completion_time': 0.090909091, 'prompt_time': 0.072541506, 'queue_time': 0.023534078, 'total_time': 0.163450597}, 'model_name': 'Gemma2-9b-It', 'system_fingerprint': 'fp_10c08bf97d', 'finish_reason': 'tool_calls', 'logprobs': None}, id='run-675f97aa-c7f2-4b9a-ad06-7fdc21dca6e0-0', tool_calls=[{'name': 'get_city_details', 'args': {'prompt': 'Tell me about LLMs'}, 'id': 'call_p4c3', 'type': 'tool_call'}], usage_metadata={'input_tokens': 2000, 'output_tokens': 50, 'total_tokens': 2050}),\n",
       "  ToolMessage(content='[{\"url\": \"https://www.cloudflare.com/learning/ai/what-is-large-language-model/\", \"content\": \"Large language models (LLMs) are machine learning models that can comprehend and generate human language text. A large language model (LLM) is a type of artificial intelligence (AI) program that can recognize and generate text, among other tasks. LLMs are trained on huge sets of data — hence the name \\\\\"large.\\\\\" LLMs are built on machine learning: specifically, a type of neural network called a transformer model. But the quality of the samples impacts how well LLMs will learn natural language, so an LLM\\'s programmers may use a more curated data set. LLMs use a type of machine learning called deep learning in order to understand how characters, words, and sentences function together. LLMs use a type of machine learning called deep learning.\"}, {\"url\": \"https://www.techtarget.com/whatis/definition/large-language-model-LLM\", \"content\": \"A large language model is a type of artificial intelligence algorithm that uses\\xa0deep learning\\xa0techniques and massively large data sets to understand, summarize, generate and predict new content. With a large number of parameters and the transformer model, LLMs are able to understand and generate accurate responses rapidly, which makes the AI technology broadly applicable across many different domains. There\\'s also a class of LLMs based on the concept known as\\xa0retrieval-augmented generation\\xa0-- including Google\\'s Realm, which is short for Retrieval-Augmented Language Model -- that will enable training and inference on a very specific corpus of data, much like how a user today can specifically search content on a single site.\"}, {\"url\": \"https://en.wikipedia.org/wiki/Large_language_model\", \"content\": \"A large language model (LLM) is a type of machine learning model designed for natural language processing tasks such as language generation. A smoothed n-gram model in 2001 trained on 0.3 billion words achieved state-of-the-art perplexity at the time.[4] In the 2000s, as Internet use became prevalent, some researchers constructed Internet-scale language datasets (\\\\\"web as corpus\\\\\"[5]), upon which they trained statistical language models.[6][7] In 2009, in most language processing tasks, statistical language models dominated over symbolic language models, as they can usefully ingest large datasets.[8]\"}, {\"url\": \"https://www.ibm.com/think/topics/large-language-models\", \"content\": \"Large language models (LLMs) are a category of foundation models trained on immense amounts of data making them capable of understanding and generating natural language and other types of content to perform a wide range of tasks. Explore the IBM library of foundation models on the watsonx platform to scale generative AI for your business with confidence. Read the report Ebook Unlock the Power of Generative AI + MLLearn how to incorporate generative AI, machine learning and foundation models into your business operations for improved performance. Explore the IBM library of foundation models on the IBM watsonx platform to scale generative AI for your business with confidence.\"}, {\"url\": \"https://developers.google.com/machine-learning/resources/intro-llms\", \"content\": \"[[[\\\\\"Easy to understand\\\\\",\\\\\"easyToUnderstand\\\\\",\\\\\"thumb-up\\\\\"],[\\\\\"Solved my problem\\\\\",\\\\\"solvedMyProblem\\\\\",\\\\\"thumb-up\\\\\"],[\\\\\"Other\\\\\",\\\\\"otherUp\\\\\",\\\\\"thumb-up\\\\\"]],[[\\\\\"Missing the information I need\\\\\",\\\\\"missingTheInformationINeed\\\\\",\\\\\"thumb-down\\\\\"],[\\\\\"Too complicated / too many steps\\\\\",\\\\\"tooComplicatedTooManySteps\\\\\",\\\\\"thumb-down\\\\\"],[\\\\\"Out of date\\\\\",\\\\\"outOfDate\\\\\",\\\\\"thumb-down\\\\\"],[\\\\\"Samples / code issue\\\\\",\\\\\"samplesCodeIssue\\\\\",\\\\\"thumb-down\\\\\"],[\\\\\"Other\\\\\",\\\\\"otherDown\\\\\",\\\\\"thumb-down\\\\\"]],[\\\\\"Last updated 2024-09-06 UTC.\\\\\"],[[[\\\\\"Language models predict and generate text by estimating the probability of a token or sequence of tokens occurring within a longer sequence, useful for tasks like text generation and translation.\\\\\"],[\\\\\"Large language models (LLMs) are advanced language models with vast parameters and datasets, enabling them to process longer text sequences and perform complex tasks like summarization and question answering.\\\\\"],[\\\\\"Transformers are a key architecture in LLMs, utilizing attention mechanisms to focus on important input parts and enhance processing efficiency.\\\\\"],[\\\\\"LLMs have various applications, including text generation, translation, sentiment analysis, and code generation, but also present considerations such as cost, bias, and ethical implications.\\\\\"]]],[]]\"}]', name='get_city_details', id='8d23796f-e643-4c44-ad23-e89fa8fa2b41', tool_call_id='call_p4c3'),\n",
       "  AIMessage(content='Large language models (LLMs) are advanced language models with vast parameters and datasets, enabling them to process longer text sequences and perform complex tasks like summarization and question answering. \\n', additional_kwargs={}, response_metadata={'token_usage': {'completion_tokens': 39, 'prompt_tokens': 3059, 'total_tokens': 3098, 'completion_time': 0.070909091, 'prompt_time': 0.129802482, 'queue_time': 0.023341079000000015, 'total_time': 0.200711573}, 'model_name': 'Gemma2-9b-It', 'system_fingerprint': 'fp_10c08bf97d', 'finish_reason': 'stop', 'logprobs': None}, id='run-ba7c54ef-743c-4fd5-944f-e07e2cf8e240-0', usage_metadata={'input_tokens': 3059, 'output_tokens': 39, 'total_tokens': 3098})],\n",
       " 'final_response': StructureInformation(definition='A large language model (LLM) is an advanced artificial intelligence system trained on massive text datasets.', description='LLMs are capable of understanding and generating human-like text, enabling them to perform a wide range of language-based tasks.', why='LLMs are important because they enable machines to understand and generate human language, opening up new possibilities for human-computer interaction and automation.', where='LLMs are used in various applications, including chatbots, virtual assistants, machine translation, text summarization, and content creation.', example='Generating different creative text formats,  like poems, code, scripts, musical pieces, email, letters, etc. I will try my best to fulfill all your requirements.', advantage='LLMs can process longer text sequences and perform complex tasks like summarization and question answering.', disadvantage='LLMs can sometimes generate inaccurate or biased information, as they learn from the data they are trained on.')}"
      ]
     },
     "execution_count": 34,
     "metadata": {},
     "output_type": "execute_result"
    }
   ],
   "source": [
    "answer = app.invoke(input={\"messages\": [(\"human\", \"Tell me about LLM?\")]})\n",
    "answer"
   ]
  },
  {
   "cell_type": "code",
   "execution_count": 37,
   "metadata": {},
   "outputs": [
    {
     "name": "stdout",
     "output_type": "stream",
     "text": [
      "A large language model (LLM) is an advanced artificial intelligence system trained on massive text datasets.\n",
      "\n",
      "LLMs are capable of understanding and generating human-like text, enabling them to perform a wide range of language-based tasks.\n",
      "\n",
      "LLMs are important because they enable machines to understand and generate human language, opening up new possibilities for human-computer interaction and automation.\n",
      "\n",
      "LLMs are used in various applications, including chatbots, virtual assistants, machine translation, text summarization, and content creation.\n",
      "\n",
      "Generating different creative text formats,  like poems, code, scripts, musical pieces, email, letters, etc. I will try my best to fulfill all your requirements.\n",
      "\n",
      "LLMs can process longer text sequences and perform complex tasks like summarization and question answering.\n",
      "\n",
      "LLMs can sometimes generate inaccurate or biased information, as they learn from the data they are trained on.\n"
     ]
    }
   ],
   "source": [
    "# Definition:\n",
    "print(answer['final_response'].definition)\n",
    "print()\n",
    "\n",
    "# Description:\n",
    "print(answer['final_response'].description)\n",
    "print()\n",
    "\n",
    "# Why required these?\n",
    "print(answer['final_response'].why)\n",
    "print()\n",
    "\n",
    "# Where to use?\n",
    "print(answer['final_response'].where)\n",
    "print()\n",
    "\n",
    "# Example:\n",
    "print(answer['final_response'].example)\n",
    "print()\n",
    "\n",
    "# Advantage:\n",
    "print(answer['final_response'].advantage)\n",
    "print()\n",
    "\n",
    "# Disadvantage:\n",
    "print(answer['final_response'].disadvantage)"
   ]
  },
  {
   "cell_type": "code",
   "execution_count": null,
   "metadata": {},
   "outputs": [],
   "source": []
  }
 ],
 "metadata": {
  "kernelspec": {
   "display_name": "agentic_ai",
   "language": "python",
   "name": "python3"
  },
  "language_info": {
   "codemirror_mode": {
    "name": "ipython",
    "version": 3
   },
   "file_extension": ".py",
   "mimetype": "text/x-python",
   "name": "python",
   "nbconvert_exporter": "python",
   "pygments_lexer": "ipython3",
   "version": "3.10.16"
  }
 },
 "nbformat": 4,
 "nbformat_minor": 2
}
