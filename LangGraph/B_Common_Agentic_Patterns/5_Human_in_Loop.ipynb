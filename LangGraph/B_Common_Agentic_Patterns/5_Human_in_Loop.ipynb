{
 "cells": [
  {
   "cell_type": "markdown",
   "metadata": {},
   "source": [
    "# **Human In The Loop:**\n",
    "\n",
    "\n",
    "**Human-in-the-Loop** (**HITL**) is an **agentic pattern** in LangGraph where a **human operator** is involved in the decision-making process or workflow execution of an LLM-powered agent. Instead of the system operating fully autonomously, humans can **intervene**, **validate**, or **modify** intermediate outputs to ensure accuracy, safety, or compliance. <br><br>\n",
    "\n",
    "\n",
    "**Why Use the Human-in-the-Loop Pattern?**\n",
    "\n",
    "1. **Ensuring Accuracy:** Humans validate intermediate steps to avoid errors or hallucinations in critical tasks.\n",
    "2. **Handling Ambiguity:** When the model generates uncertain or ambiguous results, human input resolves these issues.\n",
    "3. **Improving Safety:** Prevents incorrect or harmful decisions in high-stakes workflows (e.g., medical, legal).\n",
    "4. **Feedback for Fine-Tuning:** Human oversight provides data to iteratively improve the system.\n",
    "5. **Trust and Interpretability:** Including humans in the loop builds trust in AI outputs by adding a layer of oversight.\n",
    "\n",
    "<br> <br>\n",
    "\n",
    "\n",
    "**How HITL Works in LangGraph:**\n",
    "\n",
    "1. **Trigger Point:** A specific node in the workflow signals the need for human intervention (e.g., when confidence in model output is low).\n",
    "2. **Human Oversight:** The human operator reviews the output and either approves it or makes corrections.\n",
    "3. **Continuation:** Once validated, the workflow resumes and completes the task.\n",
    "\n",
    "<br><br>\n",
    "\n",
    "\n",
    "**When to Use HITL?**\n",
    "\n",
    "* Tasks with **high stakes** (e.g., legal, medical, or financial decisions).\n",
    "* **Ambiguous queries** where LLM confidence is low.\n",
    "* **Fine-tuning and debugging** workflows during development.\n",
    "* Situations requiring **ethical or contextual judgment**.\n",
    "\n",
    "<br><br>\n",
    "\n",
    "\n",
    "**Example: HITL for Legal Document Review.** <br>\n",
    "**Scenario:** A legal assistant agent reviews contracts to flag compliance issues. <br>\n",
    "\n",
    "1. **WorkFlow:**\n",
    "    * **Node 1:** LLM analyzes the contract for risky clauses.\n",
    "    * **Node 2:** Human reviews flagged clauses for accuracy.\n",
    "    * **Node 3:** LLM generates recommendations based on the validated input.\n",
    "\n",
    "2. **HITL Trigger:**\n",
    "    * If the agent flags a clause as \"ambiguous\" or \"high risk,\" it requires human confirmation before proceeding.\n",
    "\n",
    "3. **Human Role:**\n",
    "    * Validates flagged clauses and provides feedback to refine future performance.\n",
    "\n",
    "4. **Outcome:**\n",
    "    * Ensures only accurate and validated recommendations are sent to legal teams.\n",
    "\n",
    "\n",
    "<br><br>\n",
    "\n",
    "The **Human-in-the-Loop** (**HITL**) pattern in LangGraph ensures workflows are accurate, adaptable, and safe by involving human operators at critical decision points. It combines the scalability of automation with the reliability of human judgment, making it a powerful pattern for real-world, high-stakes applications.\n",
    "\n",
    "\n"
   ]
  },
  {
   "cell_type": "code",
   "execution_count": 1,
   "metadata": {},
   "outputs": [],
   "source": [
    "import os\n",
    "from dotenv import load_dotenv\n",
    "\n",
    "# Load environment variables from .env file\n",
    "load_dotenv()\n",
    "\n",
    "\n",
    "GOOGLE_API_KEY = os.getenv(\"GOOGLE_API_KEY\")\n",
    "GROQ_API_KEY = os.getenv(\"GROQ_API_KEY\")\n",
    "TAVILY_API_KEY = os.getenv(\"TAVILY_API_KEY\")"
   ]
  },
  {
   "cell_type": "markdown",
   "metadata": {},
   "source": [
    "## **Load LLM:**"
   ]
  },
  {
   "cell_type": "code",
   "execution_count": 2,
   "metadata": {},
   "outputs": [
    {
     "data": {
      "text/plain": [
       "'Hi! 👋\\n\\nWhat can I do for you today? 😊\\n'"
      ]
     },
     "execution_count": 2,
     "metadata": {},
     "output_type": "execute_result"
    }
   ],
   "source": [
    "from langchain_groq import ChatGroq\n",
    "\n",
    "llm = ChatGroq(model_name=\"Gemma2-9b-It\")\n",
    "llm.invoke(\"Hi\").content"
   ]
  },
  {
   "cell_type": "code",
   "execution_count": null,
   "metadata": {},
   "outputs": [],
   "source": [
    "from typing import Annotated\n",
    "import operator, json\n",
    "from typing import TypedDict, Annotated, Sequence\n",
    "from typing_extensions import TypedDict\n",
    "from langchain_core.messages import BaseMessage\n",
    "from langgraph.checkpoint.memory import MemorySaver\n",
    "from langgraph.graph import StateGraph, END, START\n",
    "from langgraph.graph.message import add_messages\n",
    "from langgraph.prebuilt import ToolNode, tools_condition\n",
    "from langchain_core.tools import tool\n",
    "from langchain_community.tools.tavily_search import TavilySearchResults"
   ]
  },
  {
   "cell_type": "markdown",
   "metadata": {},
   "source": [
    "## **Custom Logic Approach:**"
   ]
  },
  {
   "cell_type": "markdown",
   "metadata": {},
   "source": [
    "### **Create or Define Tools:**"
   ]
  },
  {
   "cell_type": "code",
   "execution_count": 5,
   "metadata": {},
   "outputs": [
    {
     "data": {
      "text/plain": [
       "240"
      ]
     },
     "execution_count": 5,
     "metadata": {},
     "output_type": "execute_result"
    }
   ],
   "source": [
    "# Custom Tool:\n",
    "\n",
    "@tool\n",
    "def multiply(first_number:int, second_number:int)->int:\n",
    "    \"\"\"multiply two integer number\"\"\"\n",
    "    \n",
    "    return first_number * second_number\n",
    "\n",
    "multiply({\"first_number\":24,\"second_number\":10})"
   ]
  },
  {
   "cell_type": "code",
   "execution_count": null,
   "metadata": {},
   "outputs": [],
   "source": [
    "# Another Tool, make it custom:\n",
    "\n",
    "@tool\n",
    "def search(query:str):\n",
    "    \"\"\"perform the web search on the user query\"\"\"\n",
    "    tavily=TavilySearchResults()\n",
    "    result=tavily.invoke(query)\n",
    "    \n",
    "    return result"
   ]
  },
  {
   "cell_type": "code",
   "execution_count": 8,
   "metadata": {},
   "outputs": [
    {
     "data": {
      "text/plain": [
       "[StructuredTool(name='search', description='perform the web search on the user query', args_schema=<class 'langchain_core.utils.pydantic.search'>, func=<function search at 0x0000022917EBA290>),\n",
       " StructuredTool(name='multiply', description='multiply two integer number', args_schema=<class 'langchain_core.utils.pydantic.multiply'>, func=<function multiply at 0x00000229191088B0>)]"
      ]
     },
     "execution_count": 8,
     "metadata": {},
     "output_type": "execute_result"
    }
   ],
   "source": [
    "# Toolkits:\n",
    "\n",
    "tools = [search, multiply]\n",
    "tools"
   ]
  },
  {
   "cell_type": "code",
   "execution_count": 9,
   "metadata": {},
   "outputs": [
    {
     "data": {
      "text/plain": [
       "{'search': StructuredTool(name='search', description='perform the web search on the user query', args_schema=<class 'langchain_core.utils.pydantic.search'>, func=<function search at 0x0000022917EBA290>),\n",
       " 'multiply': StructuredTool(name='multiply', description='multiply two integer number', args_schema=<class 'langchain_core.utils.pydantic.multiply'>, func=<function multiply at 0x00000229191088B0>)}"
      ]
     },
     "execution_count": 9,
     "metadata": {},
     "output_type": "execute_result"
    }
   ],
   "source": [
    "tool_mapping = {tool.name: tool for tool in tools}\n",
    "tool_mapping"
   ]
  },
  {
   "cell_type": "markdown",
   "metadata": {},
   "source": [
    "### **Bind Tool with LLM:**"
   ]
  },
  {
   "cell_type": "code",
   "execution_count": 10,
   "metadata": {},
   "outputs": [
    {
     "data": {
      "text/plain": [
       "RunnableBinding(bound=ChatGroq(client=<groq.resources.chat.completions.Completions object at 0x0000022917D0CE50>, async_client=<groq.resources.chat.completions.AsyncCompletions object at 0x0000022917D0E200>, model_name='Gemma2-9b-It', model_kwargs={}, groq_api_key=SecretStr('**********')), kwargs={'tools': [{'type': 'function', 'function': {'name': 'search', 'description': 'perform the web search on the user query', 'parameters': {'properties': {'query': {'type': 'string'}}, 'required': ['query'], 'type': 'object'}}}, {'type': 'function', 'function': {'name': 'multiply', 'description': 'multiply two integer number', 'parameters': {'properties': {'first_number': {'type': 'integer'}, 'second_number': {'type': 'integer'}}, 'required': ['first_number', 'second_number'], 'type': 'object'}}}]}, config={}, config_factories=[])"
      ]
     },
     "execution_count": 10,
     "metadata": {},
     "output_type": "execute_result"
    }
   ],
   "source": [
    "# bind tool with llm:\n",
    "\n",
    "llm_with_tools = llm.bind_tools(tools)\n",
    "llm_with_tools"
   ]
  },
  {
   "cell_type": "markdown",
   "metadata": {},
   "source": [
    "### **Insites from Tool Calling with llm:**"
   ]
  },
  {
   "cell_type": "code",
   "execution_count": 11,
   "metadata": {},
   "outputs": [
    {
     "data": {
      "text/plain": [
       "AIMessage(content='', additional_kwargs={'tool_calls': [{'id': 'call_kj9n', 'function': {'arguments': '{\"query\":\"who is the current president of USA\"}', 'name': 'search'}, 'type': 'function'}]}, response_metadata={'token_usage': {'completion_tokens': 86, 'prompt_tokens': 1076, 'total_tokens': 1162, 'completion_time': 0.156363636, 'prompt_time': 0.061370917, 'queue_time': 0.020640304999999998, 'total_time': 0.217734553}, 'model_name': 'Gemma2-9b-It', 'system_fingerprint': 'fp_10c08bf97d', 'finish_reason': 'tool_calls', 'logprobs': None}, id='run-af2e54de-a8ae-40ab-9b65-173fd0f64d97-0', tool_calls=[{'name': 'search', 'args': {'query': 'who is the current president of USA'}, 'id': 'call_kj9n', 'type': 'tool_call'}], usage_metadata={'input_tokens': 1076, 'output_tokens': 86, 'total_tokens': 1162})"
      ]
     },
     "execution_count": 11,
     "metadata": {},
     "output_type": "execute_result"
    }
   ],
   "source": [
    "response = llm_with_tools.invoke(\"who is a current president of USA?\")\n",
    "response"
   ]
  },
  {
   "cell_type": "code",
   "execution_count": 24,
   "metadata": {},
   "outputs": [
    {
     "data": {
      "text/plain": [
       "[{'id': 'call_kj9n',\n",
       "  'function': {'arguments': '{\"query\":\"who is the current president of USA\"}',\n",
       "   'name': 'search'},\n",
       "  'type': 'function'}]"
      ]
     },
     "execution_count": 24,
     "metadata": {},
     "output_type": "execute_result"
    }
   ],
   "source": [
    "# Check Which Tool is Calling:\n",
    "\n",
    "tool_details = response.additional_kwargs.get(\"tool_calls\")\n",
    "tool_details"
   ]
  },
  {
   "cell_type": "code",
   "execution_count": null,
   "metadata": {},
   "outputs": [
    {
     "data": {
      "text/plain": [
       "'search'"
      ]
     },
     "execution_count": 16,
     "metadata": {},
     "output_type": "execute_result"
    }
   ],
   "source": [
    "# Get the Tool Name:\n",
    "\n",
    "tool_details[0][\"function\"][\"name\"]"
   ]
  },
  {
   "cell_type": "code",
   "execution_count": 17,
   "metadata": {},
   "outputs": [
    {
     "data": {
      "text/plain": [
       "'{\"query\":\"who is the current president of USA\"}'"
      ]
     },
     "execution_count": 17,
     "metadata": {},
     "output_type": "execute_result"
    }
   ],
   "source": [
    "# Get the Query that user asking:\n",
    "\n",
    "\n",
    "tool_details[0][\"function\"][\"arguments\"]"
   ]
  },
  {
   "cell_type": "code",
   "execution_count": null,
   "metadata": {},
   "outputs": [
    {
     "data": {
      "text/plain": [
       "[{'url': 'https://www.usa.gov/presidents',\n",
       "  'content': 'Presidents, vice presidents, and first ladies | USAGov An official website of the United States government A .gov website belongs to an official government organization in the United States. Learn about the duties of president, vice president, and first lady of the United States. President of the United States The president of the United States is the: Former U.S. presidents The United States has had 46 former U.S. presidents. Vice president of the United States The vice president of the United States presides over the U.S. Senate and takes over the role of president of the United States if the president is unable to perform their duties. The 50th and current vice president of the United States is James David (JD) Vance.'},\n",
       " {'url': 'https://www.whitehouse.gov/',\n",
       "  'content': 'The White House Administration The White House President Donald J. Trump Search Administration Search for:  Press Enter to Search America Is Back This will truly be the golden age of America. The Administration Trump President of the United States VICE PRESIDENT OF THE UNITED STATES Melania Trump First Lady OF THE UNITED STATES Of the 47th Administration President Trump is committed to lowering costs for all Americans, securing our borders, unleashing American energy dominance, restoring peace through strength, and making all Americans safe and secure once again. Get direct updates from The White House in your inbox. The White house THE WHITE HOUSE Administration The White House 1600 Pennsylvania Ave NW'},\n",
       " {'url': 'https://www.whitehouse.gov/administration/',\n",
       "  'content': 'The Trump Administration Search Search for:  Press Enter to Search Trump 45th & 47th President of the United States After a landslide election victory in 2024, President Donald J. Vice President of the United States In 2024, President Donald J. JD looks forward to serving with President Trump over the next four years as they work diligently to Make America Great Again. Melania Trump FIRST Lady of the United States First Lady Melania Trump is the wife of the 45th and 47th President, Donald J. SECOND Lady of the United States Second Lady Usha Vance is the proud wife of Vice President JD Vance and the mother of their three beautiful children, Ewan, Vivek, and Mirabel. President Trump’s Team'},\n",
       " {'url': 'https://usun.usmission.gov/our-leaders/the-president-of-the-united-states/',\n",
       "  'content': 'President of the United States - United States Mission to the United Nations United States Mission to the United Nations U.S. Mission Leaders President of the United States Vice President of the United States Sections Executive Section Economic and Social Section Legal Section Management Section Political Section Remarks and Highlights President of the United States Home Home | Our Leaders | President of the United States Trump serves as the 47th President of the United States. U.S. MISSION TO THE UN United States Mission to the United Nations This is the official website of the U.S. Mission to the United Nations. External links to other Internet sites should not be construed as an endorsement of the views or privacy policies contained therein.'},\n",
       " {'url': 'https://www.instagram.com/potus/?hl=en',\n",
       "  'content': '16M Followers, 3 Following, 82 Posts - President Donald J. Trump (@potus) on Instagram: \"45th & 47th President of the United States.'}]"
      ]
     },
     "execution_count": 22,
     "metadata": {},
     "output_type": "execute_result"
    }
   ],
   "source": [
    "# Invoke the tool (which is binded with llm):\n",
    "\n",
    "tool_mapping[tool_details[0][\"function\"][\"name\"]].invoke(json.loads(tool_details[0][\"function\"][\"arguments\"]))"
   ]
  },
  {
   "cell_type": "markdown",
   "metadata": {},
   "source": [
    "### **LangGraph Integration:**"
   ]
  },
  {
   "cell_type": "markdown",
   "metadata": {},
   "source": [
    "#### **Create Nodes:**"
   ]
  },
  {
   "cell_type": "code",
   "execution_count": 25,
   "metadata": {},
   "outputs": [],
   "source": [
    "# Define the Basic Structured Output:\n",
    "\n",
    "\n",
    "class AgentState(TypedDict):\n",
    "    messages: Annotated[Sequence[BaseMessage], operator.add]"
   ]
  },
  {
   "cell_type": "code",
   "execution_count": 31,
   "metadata": {},
   "outputs": [],
   "source": [
    "# Create Node: Invoke Model:\n",
    "\n",
    "def invoke_model(state:AgentState):\n",
    "    messages = state['messages']\n",
    "    question = messages[-1]   ## Fetching the user latest question\n",
    "\n",
    "    return {\"messages\":[llm_with_tools.invoke(question)]}"
   ]
  },
  {
   "cell_type": "code",
   "execution_count": 27,
   "metadata": {},
   "outputs": [],
   "source": [
    "# Conditional Flow, i.e., Human in Loop\n",
    "\n",
    "def invoke_tool(state:AgentState):\n",
    "    tool_details= state['messages'][-1].additional_kwargs.get(\"tool_calls\", [])[0]\n",
    "\n",
    "    if tool_details is None:\n",
    "        # raise Exception(\"no tool call found\")\n",
    "        return \"no tool call found\"\n",
    "\n",
    "    print(f'Selected tool: {tool_details.get(\"function\").get(\"name\")}')\n",
    "\n",
    "    if tool_details.get(\"function\").get(\"name\")==\"search\":\n",
    "        response = input(prompt=f\"[y/n] continue with expensive web search?\")\n",
    "        if response == \"n\":\n",
    "            # raise Exception(\"web search discard\")\n",
    "            return \"web search discard\"\n",
    "\n",
    "    response = tool_mapping[tool_details['function']['name']].invoke(json.loads(tool_details.get(\"function\").get(\"arguments\")))\n",
    "    return {\"messages\" : [response]}"
   ]
  },
  {
   "cell_type": "code",
   "execution_count": 29,
   "metadata": {},
   "outputs": [],
   "source": [
    "# Router:\n",
    "\n",
    "def router(state):\n",
    "    tool_calls = state['messages'][-1].additional_kwargs.get(\"tool_calls\", [])\n",
    "    \n",
    "    if len(tool_calls):\n",
    "        return \"tool\"\n",
    "    \n",
    "    else:\n",
    "        return \"end\""
   ]
  },
  {
   "cell_type": "markdown",
   "metadata": {},
   "source": [
    "#### **Create Graph:**"
   ]
  },
  {
   "cell_type": "code",
   "execution_count": 35,
   "metadata": {},
   "outputs": [
    {
     "data": {
      "image/png": "[encoded data removed]",
      "text/plain": [
       "<langgraph.graph.state.CompiledStateGraph object at 0x00000229199CAD40>"
      ]
     },
     "execution_count": 35,
     "metadata": {},
     "output_type": "execute_result"
    }
   ],
   "source": [
    "### StateGraph with AgentState\n",
    "graph = StateGraph(AgentState)\n",
    "\n",
    "# Add Nodes:\n",
    "graph.add_node(\"ai_assistant\", invoke_model)\n",
    "graph.add_node(\"tool\", invoke_tool)\n",
    "\n",
    "# Define Conditional FLow:\n",
    "graph.add_conditional_edges(\n",
    "    \"ai_assistant\",\n",
    "    router,\n",
    "    {\n",
    "        \"tool\": \"tool\",\n",
    "        \"end\": END\n",
    "    }\n",
    ")\n",
    "\n",
    "# Add Edge Flow:\n",
    "graph.add_edge(\"tool\", END)\n",
    "\n",
    "\n",
    "# graph.add_edge(\"tool\", \"ai_assistant\")\n",
    "\n",
    "\n",
    "# Set Entry Point:\n",
    "graph.set_entry_point(\"ai_assistant\")\n",
    "\n",
    "\n",
    "app = graph.compile()\n",
    "\n",
    "app"
   ]
  },
  {
   "cell_type": "markdown",
   "metadata": {},
   "source": [
    "#### **Invoking:**"
   ]
  },
  {
   "cell_type": "code",
   "execution_count": 37,
   "metadata": {},
   "outputs": [
    {
     "name": "stdout",
     "output_type": "stream",
     "text": [
      "Selected tool: search\n"
     ]
    },
    {
     "data": {
      "text/plain": [
       "{'messages': ['who is upcoming president of USA?',\n",
       "  AIMessage(content='', additional_kwargs={'tool_calls': [{'id': 'call_s08z', 'function': {'arguments': '{\"query\":\"upcoming president of USA\"}', 'name': 'search'}, 'type': 'function'}]}, response_metadata={'token_usage': {'completion_tokens': 83, 'prompt_tokens': 1075, 'total_tokens': 1158, 'completion_time': 0.150909091, 'prompt_time': 0.046343157, 'queue_time': 0.016361407, 'total_time': 0.197252248}, 'model_name': 'Gemma2-9b-It', 'system_fingerprint': 'fp_10c08bf97d', 'finish_reason': 'tool_calls', 'logprobs': None}, id='run-922a5f9c-9739-47ee-8c74-7686f9f8c1f4-0', tool_calls=[{'name': 'search', 'args': {'query': 'upcoming president of USA'}, 'id': 'call_s08z', 'type': 'tool_call'}], usage_metadata={'input_tokens': 1075, 'output_tokens': 83, 'total_tokens': 1158}),\n",
       "  [{'url': 'https://www.britannica.com/event/United-States-presidential-election-of-2024',\n",
       "    'content': 'United States presidential election of 2024 | Background, Candidates, Donald Trump, Joe Biden, Indictments, & Facts | Britannica Ask the Chatbot Games & Quizzes History & Society Science & Tech Biographies Animals & Nature Geography & Travel Arts & Culture ProCon Money Videos United States presidential election of 2024, American election, held on November 5, 2024, in which former Republican president Donald Trump (2017–21) defeated the Democratic nominee, Vice Pres. In January 2024 the federal criminal case concerning Trump’s efforts to overturn the 2020 election, whose trial date had been scheduled for March 4, was indefinitely delayed after Trump appealed the district court’s ruling rejecting his contention that he should be immune from prosecution for acts he committed while serving as president.'},\n",
       "   {'url': 'https://indianexpress.com/article/trending/trending-globally/us-election-results-2024-a-complete-list-of-the-us-presidents-to-date-9655665/',\n",
       "    'content': 'My Express .Opens in new window India .Opens in new window News Full List of US Presidents Till Date: Donald Trump secured a landslide victory in the 2024 US Presidential Elections, becoming 47th President. List Of The United States Presidents Till Now (1789-2022): Republican presidential nominee Donald Trump secures victory in three of the seven battleground states—North Carolina, Pennsylvania and Georgia_—United States House Speaker Johnson announced him as the new president-elect, news agency\\xa0_Reuters reported. The 2024 United States presidential elections have witnessed a fierce contest between former President Donald Trump and Vice President Kamala Harris, with all eyes now on the results announced today. Trump announced as the 47th President of the United States; Check the complete list of US Presidents to date, from latest to oldest.'},\n",
       "   {'url': 'https://en.wikipedia.org/wiki/2024_United_States_elections',\n",
       "    'content': 'In November 2022, former President Donald Trump announced his candidacy in the 2024 presidential election.[61] Other candidates who entered the 2024 Republican Party presidential primaries include former South Carolina governor and former U.S. Ambassador to the U.N. Nikki Haley and Governor Ron DeSantis of Florida, who later suspended their campaigns and endorsed Trump.[62] The first Republican presidential debate was held on August 23, 2023, and the first primary contest was the 2024 Iowa Republican presidential caucuses, which was held on January 15, 2024.[63] Trump won the nomination easily; he was formally nominated at the Republican Convention on July 15, his third consecutive presidential nomination.[64]'},\n",
       "   {'url': 'https://www.nytimes.com/interactive/2023/us/politics/presidential-candidates-2024.html',\n",
       "    'content': 'Mr. Trump dispatched with a large group of Republican challengers, most of whom ended their campaigns before a single vote was cast, and Mr. Biden faced only nominal opposition. Vice President Kamala Harris sought the nomination in the president’s place, and the Democratic Party immediately consolidated around her. Vice President Harris, a former prosecutor and senator of California, has at times struggled to define her role at Mr. Biden’s side. Jill Stein, a physician who ran for president on the Green Party ticket in 2012 and 2016, is seeking the party’s nomination for a third time. See more on: 2024 Elections: News, Polls and Analysis, Donald Trump, President Joe Biden, Nikki Haley, Vivek Ramaswamy, U.S. Politics'},\n",
       "   {'url': 'https://www.nbcnews.com/politics/2024-election/trump-wins-election-president-harris-defeat-2024-race-rcna176107',\n",
       "    'content': 'Donald Trump defeats Kamala Harris to become the next U.S. president, NBC News projects Donald Trump defeats Kamala Harris to become the next U.S. president, NBC News projects NBC News projected the Trump victory over Harris, who was the first woman of color to win a major-party nomination for president, early Wednesday. On Wednesday, Harris called Trump to concede, a senior aide told NBC News. President-elect Donald Trump addressed elated supporters at a rally in West Palm Beach, Fla., on Wednesday morning.Sydney Walsh for NBC News A Trump supporter gives a thumbs-up at an election watch party at the Stafford American Bar in London on Wednesday morning.Vianney Le Caer for NBC News'}]]}"
      ]
     },
     "execution_count": 37,
     "metadata": {},
     "output_type": "execute_result"
    }
   ],
   "source": [
    "response = app.invoke({\"messages\": [\"who is upcoming president of USA?\"]})\n",
    "response"
   ]
  },
  {
   "cell_type": "code",
   "execution_count": 38,
   "metadata": {},
   "outputs": [
    {
     "name": "stdout",
     "output_type": "stream",
     "text": [
      "{'messages': [AIMessage(content='', additional_kwargs={'tool_calls': [{'id': 'call_p1xa', 'function': {'arguments': '{\"first_number\":23,\"second_number\":46}', 'name': 'multiply'}, 'type': 'function'}]}, response_metadata={'token_usage': {'completion_tokens': 93, 'prompt_tokens': 1080, 'total_tokens': 1173, 'completion_time': 0.169090909, 'prompt_time': 0.037743008, 'queue_time': 0.019340167999999998, 'total_time': 0.206833917}, 'model_name': 'Gemma2-9b-It', 'system_fingerprint': 'fp_10c08bf97d', 'finish_reason': 'tool_calls', 'logprobs': None}, id='run-f9a10566-464d-4ce5-a579-6506c313fba4-0', tool_calls=[{'name': 'multiply', 'args': {'first_number': 23, 'second_number': 46}, 'id': 'call_p1xa', 'type': 'tool_call'}], usage_metadata={'input_tokens': 1080, 'output_tokens': 93, 'total_tokens': 1173})]}\n",
      "----\n",
      "Selected tool: multiply\n",
      "{'messages': [1058]}\n",
      "----\n"
     ]
    }
   ],
   "source": [
    "for s in app.stream({\"messages\": [\"what is multiplication of 23 and 46?\"]}):\n",
    "    print(list(s.values())[0])\n",
    "    print(\"----\")"
   ]
  },
  {
   "cell_type": "code",
   "execution_count": 40,
   "metadata": {},
   "outputs": [
    {
     "name": "stdout",
     "output_type": "stream",
     "text": [
      "{'messages': [AIMessage(content='', additional_kwargs={'tool_calls': [{'id': 'call_e3c7', 'function': {'arguments': '{\"query\":\"what is the total amount of money exist over the earth\"}', 'name': 'search'}, 'type': 'function'}]}, response_metadata={'token_usage': {'completion_tokens': 90, 'prompt_tokens': 1080, 'total_tokens': 1170, 'completion_time': 0.163636364, 'prompt_time': 0.046446627, 'queue_time': 0.019508005000000002, 'total_time': 0.210082991}, 'model_name': 'Gemma2-9b-It', 'system_fingerprint': 'fp_10c08bf97d', 'finish_reason': 'tool_calls', 'logprobs': None}, id='run-ba5f5265-eee0-4918-aefc-d352ffa9b103-0', tool_calls=[{'name': 'search', 'args': {'query': 'what is the total amount of money exist over the earth'}, 'id': 'call_e3c7', 'type': 'tool_call'}], usage_metadata={'input_tokens': 1080, 'output_tokens': 90, 'total_tokens': 1170})]}\n",
      "----\n",
      "Selected tool: search\n"
     ]
    },
    {
     "ename": "InvalidUpdateError",
     "evalue": "Expected dict, got web search discard\nFor troubleshooting, visit: https://python.langchain.com/docs/troubleshooting/errors/INVALID_GRAPH_NODE_RETURN_VALUE",
     "output_type": "error",
     "traceback": [
      "\u001b[1;31m---------------------------------------------------------------------------\u001b[0m",
      "\u001b[1;31mInvalidUpdateError\u001b[0m                        Traceback (most recent call last)",
      "Cell \u001b[1;32mIn[40], line 1\u001b[0m\n\u001b[1;32m----> 1\u001b[0m \u001b[38;5;28;01mfor\u001b[39;00m s \u001b[38;5;129;01min\u001b[39;00m app\u001b[38;5;241m.\u001b[39mstream({\u001b[38;5;124m\"\u001b[39m\u001b[38;5;124mmessages\u001b[39m\u001b[38;5;124m\"\u001b[39m: [\u001b[38;5;124m\"\u001b[39m\u001b[38;5;124mwhat is the total amount of money exist over the earth?\u001b[39m\u001b[38;5;124m\"\u001b[39m]}):\n\u001b[0;32m      2\u001b[0m     \u001b[38;5;28mprint\u001b[39m(\u001b[38;5;28mlist\u001b[39m(s\u001b[38;5;241m.\u001b[39mvalues())[\u001b[38;5;241m0\u001b[39m])\n\u001b[0;32m      3\u001b[0m     \u001b[38;5;28mprint\u001b[39m(\u001b[38;5;124m\"\u001b[39m\u001b[38;5;124m----\u001b[39m\u001b[38;5;124m\"\u001b[39m)\n",
      "File \u001b[1;32mc:\\Users\\dibye\\Anaconda3\\envs\\agentic_ai\\lib\\site-packages\\langgraph\\pregel\\__init__.py:1670\u001b[0m, in \u001b[0;36mPregel.stream\u001b[1;34m(self, input, config, stream_mode, output_keys, interrupt_before, interrupt_after, debug, subgraphs)\u001b[0m\n\u001b[0;32m   1664\u001b[0m     \u001b[38;5;66;03m# Similarly to Bulk Synchronous Parallel / Pregel model\u001b[39;00m\n\u001b[0;32m   1665\u001b[0m     \u001b[38;5;66;03m# computation proceeds in steps, while there are channel updates.\u001b[39;00m\n\u001b[0;32m   1666\u001b[0m     \u001b[38;5;66;03m# Channel updates from step N are only visible in step N+1\u001b[39;00m\n\u001b[0;32m   1667\u001b[0m     \u001b[38;5;66;03m# channels are guaranteed to be immutable for the duration of the step,\u001b[39;00m\n\u001b[0;32m   1668\u001b[0m     \u001b[38;5;66;03m# with channel updates applied only at the transition between steps.\u001b[39;00m\n\u001b[0;32m   1669\u001b[0m     \u001b[38;5;28;01mwhile\u001b[39;00m loop\u001b[38;5;241m.\u001b[39mtick(input_keys\u001b[38;5;241m=\u001b[39m\u001b[38;5;28mself\u001b[39m\u001b[38;5;241m.\u001b[39minput_channels):\n\u001b[1;32m-> 1670\u001b[0m         \u001b[38;5;28;01mfor\u001b[39;00m _ \u001b[38;5;129;01min\u001b[39;00m runner\u001b[38;5;241m.\u001b[39mtick(\n\u001b[0;32m   1671\u001b[0m             loop\u001b[38;5;241m.\u001b[39mtasks\u001b[38;5;241m.\u001b[39mvalues(),\n\u001b[0;32m   1672\u001b[0m             timeout\u001b[38;5;241m=\u001b[39m\u001b[38;5;28mself\u001b[39m\u001b[38;5;241m.\u001b[39mstep_timeout,\n\u001b[0;32m   1673\u001b[0m             retry_policy\u001b[38;5;241m=\u001b[39m\u001b[38;5;28mself\u001b[39m\u001b[38;5;241m.\u001b[39mretry_policy,\n\u001b[0;32m   1674\u001b[0m             get_waiter\u001b[38;5;241m=\u001b[39mget_waiter,\n\u001b[0;32m   1675\u001b[0m         ):\n\u001b[0;32m   1676\u001b[0m             \u001b[38;5;66;03m# emit output\u001b[39;00m\n\u001b[0;32m   1677\u001b[0m             \u001b[38;5;28;01myield from\u001b[39;00m output()\n\u001b[0;32m   1678\u001b[0m \u001b[38;5;66;03m# emit output\u001b[39;00m\n",
      "File \u001b[1;32mc:\\Users\\dibye\\Anaconda3\\envs\\agentic_ai\\lib\\site-packages\\langgraph\\pregel\\runner.py:230\u001b[0m, in \u001b[0;36mPregelRunner.tick\u001b[1;34m(self, tasks, reraise, timeout, retry_policy, get_waiter)\u001b[0m\n\u001b[0;32m    228\u001b[0m t \u001b[38;5;241m=\u001b[39m tasks[\u001b[38;5;241m0\u001b[39m]\n\u001b[0;32m    229\u001b[0m \u001b[38;5;28;01mtry\u001b[39;00m:\n\u001b[1;32m--> 230\u001b[0m     \u001b[43mrun_with_retry\u001b[49m\u001b[43m(\u001b[49m\n\u001b[0;32m    231\u001b[0m \u001b[43m        \u001b[49m\u001b[43mt\u001b[49m\u001b[43m,\u001b[49m\n\u001b[0;32m    232\u001b[0m \u001b[43m        \u001b[49m\u001b[43mretry_policy\u001b[49m\u001b[43m,\u001b[49m\n\u001b[0;32m    233\u001b[0m \u001b[43m        \u001b[49m\u001b[43mconfigurable\u001b[49m\u001b[38;5;241;43m=\u001b[39;49m\u001b[43m{\u001b[49m\n\u001b[0;32m    234\u001b[0m \u001b[43m            \u001b[49m\u001b[43mCONFIG_KEY_SEND\u001b[49m\u001b[43m:\u001b[49m\u001b[43m \u001b[49m\u001b[43mpartial\u001b[49m\u001b[43m(\u001b[49m\u001b[43mwriter\u001b[49m\u001b[43m,\u001b[49m\u001b[43m \u001b[49m\u001b[43mt\u001b[49m\u001b[43m)\u001b[49m\u001b[43m,\u001b[49m\n\u001b[0;32m    235\u001b[0m \u001b[43m            \u001b[49m\u001b[43mCONFIG_KEY_CALL\u001b[49m\u001b[43m:\u001b[49m\u001b[43m \u001b[49m\u001b[43mpartial\u001b[49m\u001b[43m(\u001b[49m\u001b[43mcall\u001b[49m\u001b[43m,\u001b[49m\u001b[43m \u001b[49m\u001b[43mt\u001b[49m\u001b[43m)\u001b[49m\u001b[43m,\u001b[49m\n\u001b[0;32m    236\u001b[0m \u001b[43m        \u001b[49m\u001b[43m}\u001b[49m\u001b[43m,\u001b[49m\n\u001b[0;32m    237\u001b[0m \u001b[43m    \u001b[49m\u001b[43m)\u001b[49m\n\u001b[0;32m    238\u001b[0m     \u001b[38;5;28mself\u001b[39m\u001b[38;5;241m.\u001b[39mcommit(t, \u001b[38;5;28;01mNone\u001b[39;00m)\n\u001b[0;32m    239\u001b[0m \u001b[38;5;28;01mexcept\u001b[39;00m \u001b[38;5;167;01mException\u001b[39;00m \u001b[38;5;28;01mas\u001b[39;00m exc:\n",
      "File \u001b[1;32mc:\\Users\\dibye\\Anaconda3\\envs\\agentic_ai\\lib\\site-packages\\langgraph\\pregel\\retry.py:40\u001b[0m, in \u001b[0;36mrun_with_retry\u001b[1;34m(task, retry_policy, configurable)\u001b[0m\n\u001b[0;32m     38\u001b[0m     task\u001b[38;5;241m.\u001b[39mwrites\u001b[38;5;241m.\u001b[39mclear()\n\u001b[0;32m     39\u001b[0m     \u001b[38;5;66;03m# run the task\u001b[39;00m\n\u001b[1;32m---> 40\u001b[0m     \u001b[38;5;28;01mreturn\u001b[39;00m \u001b[43mtask\u001b[49m\u001b[38;5;241;43m.\u001b[39;49m\u001b[43mproc\u001b[49m\u001b[38;5;241;43m.\u001b[39;49m\u001b[43minvoke\u001b[49m\u001b[43m(\u001b[49m\u001b[43mtask\u001b[49m\u001b[38;5;241;43m.\u001b[39;49m\u001b[43minput\u001b[49m\u001b[43m,\u001b[49m\u001b[43m \u001b[49m\u001b[43mconfig\u001b[49m\u001b[43m)\u001b[49m\n\u001b[0;32m     41\u001b[0m \u001b[38;5;28;01mexcept\u001b[39;00m ParentCommand \u001b[38;5;28;01mas\u001b[39;00m exc:\n\u001b[0;32m     42\u001b[0m     ns: \u001b[38;5;28mstr\u001b[39m \u001b[38;5;241m=\u001b[39m config[CONF][CONFIG_KEY_CHECKPOINT_NS]\n",
      "File \u001b[1;32mc:\\Users\\dibye\\Anaconda3\\envs\\agentic_ai\\lib\\site-packages\\langgraph\\utils\\runnable.py:464\u001b[0m, in \u001b[0;36mRunnableSeq.invoke\u001b[1;34m(self, input, config, **kwargs)\u001b[0m\n\u001b[0;32m    462\u001b[0m             \u001b[38;5;28minput\u001b[39m \u001b[38;5;241m=\u001b[39m step\u001b[38;5;241m.\u001b[39minvoke(\u001b[38;5;28minput\u001b[39m, config, \u001b[38;5;241m*\u001b[39m\u001b[38;5;241m*\u001b[39mkwargs)\n\u001b[0;32m    463\u001b[0m         \u001b[38;5;28;01melse\u001b[39;00m:\n\u001b[1;32m--> 464\u001b[0m             \u001b[38;5;28minput\u001b[39m \u001b[38;5;241m=\u001b[39m \u001b[43mstep\u001b[49m\u001b[38;5;241;43m.\u001b[39;49m\u001b[43minvoke\u001b[49m\u001b[43m(\u001b[49m\u001b[38;5;28;43minput\u001b[39;49m\u001b[43m,\u001b[49m\u001b[43m \u001b[49m\u001b[43mconfig\u001b[49m\u001b[43m)\u001b[49m\n\u001b[0;32m    465\u001b[0m \u001b[38;5;66;03m# finish the root run\u001b[39;00m\n\u001b[0;32m    466\u001b[0m \u001b[38;5;28;01mexcept\u001b[39;00m \u001b[38;5;167;01mBaseException\u001b[39;00m \u001b[38;5;28;01mas\u001b[39;00m e:\n",
      "File \u001b[1;32mc:\\Users\\dibye\\Anaconda3\\envs\\agentic_ai\\lib\\site-packages\\langgraph\\utils\\runnable.py:218\u001b[0m, in \u001b[0;36mRunnableCallable.invoke\u001b[1;34m(self, input, config, **kwargs)\u001b[0m\n\u001b[0;32m    216\u001b[0m     context \u001b[38;5;241m=\u001b[39m copy_context()\n\u001b[0;32m    217\u001b[0m     context\u001b[38;5;241m.\u001b[39mrun(_set_config_context, child_config)\n\u001b[1;32m--> 218\u001b[0m     ret \u001b[38;5;241m=\u001b[39m context\u001b[38;5;241m.\u001b[39mrun(\u001b[38;5;28mself\u001b[39m\u001b[38;5;241m.\u001b[39mfunc, \u001b[38;5;241m*\u001b[39margs, \u001b[38;5;241m*\u001b[39m\u001b[38;5;241m*\u001b[39mkwargs)\n\u001b[0;32m    219\u001b[0m \u001b[38;5;28;01mexcept\u001b[39;00m \u001b[38;5;167;01mBaseException\u001b[39;00m \u001b[38;5;28;01mas\u001b[39;00m e:\n\u001b[0;32m    220\u001b[0m     run_manager\u001b[38;5;241m.\u001b[39mon_chain_error(e)\n",
      "File \u001b[1;32mc:\\Users\\dibye\\Anaconda3\\envs\\agentic_ai\\lib\\site-packages\\langgraph\\pregel\\write.py:96\u001b[0m, in \u001b[0;36mChannelWrite._write\u001b[1;34m(self, input, config)\u001b[0m\n\u001b[0;32m     87\u001b[0m \u001b[38;5;28;01mdef\u001b[39;00m\u001b[38;5;250m \u001b[39m\u001b[38;5;21m_write\u001b[39m(\u001b[38;5;28mself\u001b[39m, \u001b[38;5;28minput\u001b[39m: Any, config: RunnableConfig) \u001b[38;5;241m-\u001b[39m\u001b[38;5;241m>\u001b[39m \u001b[38;5;28;01mNone\u001b[39;00m:\n\u001b[0;32m     88\u001b[0m     writes \u001b[38;5;241m=\u001b[39m [\n\u001b[0;32m     89\u001b[0m         ChannelWriteEntry(write\u001b[38;5;241m.\u001b[39mchannel, \u001b[38;5;28minput\u001b[39m, write\u001b[38;5;241m.\u001b[39mskip_none, write\u001b[38;5;241m.\u001b[39mmapper)\n\u001b[0;32m     90\u001b[0m         \u001b[38;5;28;01mif\u001b[39;00m \u001b[38;5;28misinstance\u001b[39m(write, ChannelWriteEntry) \u001b[38;5;129;01mand\u001b[39;00m write\u001b[38;5;241m.\u001b[39mvalue \u001b[38;5;129;01mis\u001b[39;00m PASSTHROUGH\n\u001b[1;32m   (...)\u001b[0m\n\u001b[0;32m     94\u001b[0m         \u001b[38;5;28;01mfor\u001b[39;00m write \u001b[38;5;129;01min\u001b[39;00m \u001b[38;5;28mself\u001b[39m\u001b[38;5;241m.\u001b[39mwrites\n\u001b[0;32m     95\u001b[0m     ]\n\u001b[1;32m---> 96\u001b[0m     \u001b[38;5;28;43mself\u001b[39;49m\u001b[38;5;241;43m.\u001b[39;49m\u001b[43mdo_write\u001b[49m\u001b[43m(\u001b[49m\n\u001b[0;32m     97\u001b[0m \u001b[43m        \u001b[49m\u001b[43mconfig\u001b[49m\u001b[43m,\u001b[49m\n\u001b[0;32m     98\u001b[0m \u001b[43m        \u001b[49m\u001b[43mwrites\u001b[49m\u001b[43m,\u001b[49m\n\u001b[0;32m     99\u001b[0m \u001b[43m        \u001b[49m\u001b[38;5;28;43mself\u001b[39;49m\u001b[38;5;241;43m.\u001b[39;49m\u001b[43mrequire_at_least_one_of\u001b[49m\u001b[43m \u001b[49m\u001b[38;5;28;43;01mif\u001b[39;49;00m\u001b[43m \u001b[49m\u001b[38;5;28;43minput\u001b[39;49m\u001b[43m \u001b[49m\u001b[38;5;129;43;01mis\u001b[39;49;00m\u001b[43m \u001b[49m\u001b[38;5;129;43;01mnot\u001b[39;49;00m\u001b[43m \u001b[49m\u001b[38;5;28;43;01mNone\u001b[39;49;00m\u001b[43m \u001b[49m\u001b[38;5;28;43;01melse\u001b[39;49;00m\u001b[43m \u001b[49m\u001b[38;5;28;43;01mNone\u001b[39;49;00m\u001b[43m,\u001b[49m\n\u001b[0;32m    100\u001b[0m \u001b[43m    \u001b[49m\u001b[43m)\u001b[49m\n\u001b[0;32m    101\u001b[0m     \u001b[38;5;28;01mreturn\u001b[39;00m \u001b[38;5;28minput\u001b[39m\n",
      "File \u001b[1;32mc:\\Users\\dibye\\Anaconda3\\envs\\agentic_ai\\lib\\site-packages\\langgraph\\pregel\\write.py:143\u001b[0m, in \u001b[0;36mChannelWrite.do_write\u001b[1;34m(config, writes, require_at_least_one_of)\u001b[0m\n\u001b[0;32m    141\u001b[0m     tuples\u001b[38;5;241m.\u001b[39mappend((TASKS, w))\n\u001b[0;32m    142\u001b[0m \u001b[38;5;28;01melif\u001b[39;00m \u001b[38;5;28misinstance\u001b[39m(w, ChannelWriteTupleEntry):\n\u001b[1;32m--> 143\u001b[0m     \u001b[38;5;28;01mif\u001b[39;00m ww \u001b[38;5;241m:=\u001b[39m \u001b[43mw\u001b[49m\u001b[38;5;241;43m.\u001b[39;49m\u001b[43mmapper\u001b[49m\u001b[43m(\u001b[49m\u001b[43mw\u001b[49m\u001b[38;5;241;43m.\u001b[39;49m\u001b[43mvalue\u001b[49m\u001b[43m)\u001b[49m:\n\u001b[0;32m    144\u001b[0m         tuples\u001b[38;5;241m.\u001b[39mextend(ww)\n\u001b[0;32m    145\u001b[0m \u001b[38;5;28;01melif\u001b[39;00m \u001b[38;5;28misinstance\u001b[39m(w, ChannelWriteEntry):\n",
      "File \u001b[1;32mc:\\Users\\dibye\\Anaconda3\\envs\\agentic_ai\\lib\\site-packages\\langgraph\\graph\\state.py:692\u001b[0m, in \u001b[0;36mCompiledStateGraph.attach_node.<locals>._get_updates\u001b[1;34m(input)\u001b[0m\n\u001b[0;32m    687\u001b[0m \u001b[38;5;28;01melse\u001b[39;00m:\n\u001b[0;32m    688\u001b[0m     msg \u001b[38;5;241m=\u001b[39m create_error_message(\n\u001b[0;32m    689\u001b[0m         message\u001b[38;5;241m=\u001b[39m\u001b[38;5;124mf\u001b[39m\u001b[38;5;124m\"\u001b[39m\u001b[38;5;124mExpected dict, got \u001b[39m\u001b[38;5;132;01m{\u001b[39;00m\u001b[38;5;28minput\u001b[39m\u001b[38;5;132;01m}\u001b[39;00m\u001b[38;5;124m\"\u001b[39m,\n\u001b[0;32m    690\u001b[0m         error_code\u001b[38;5;241m=\u001b[39mErrorCode\u001b[38;5;241m.\u001b[39mINVALID_GRAPH_NODE_RETURN_VALUE,\n\u001b[0;32m    691\u001b[0m     )\n\u001b[1;32m--> 692\u001b[0m     \u001b[38;5;28;01mraise\u001b[39;00m InvalidUpdateError(msg)\n",
      "\u001b[1;31mInvalidUpdateError\u001b[0m: Expected dict, got web search discard\nFor troubleshooting, visit: https://python.langchain.com/docs/troubleshooting/errors/INVALID_GRAPH_NODE_RETURN_VALUE"
     ]
    }
   ],
   "source": [
    "for s in app.stream({\"messages\": [\"what is the total amount of money exist over the earth?\"]}):\n",
    "    print(list(s.values())[0])\n",
    "    print(\"----\")\n",
    "\n",
    "# Select no"
   ]
  },
  {
   "cell_type": "code",
   "execution_count": null,
   "metadata": {},
   "outputs": [],
   "source": []
  },
  {
   "cell_type": "markdown",
   "metadata": {},
   "source": [
    "## **In-Build Logic of LangGraph:**"
   ]
  },
  {
   "cell_type": "code",
   "execution_count": 41,
   "metadata": {},
   "outputs": [],
   "source": [
    "from typing import Annotated\n",
    "import operator, json\n",
    "from typing import TypedDict, Annotated, Sequence\n",
    "from typing_extensions import TypedDict\n",
    "from langchain_core.messages import BaseMessage\n",
    "from langgraph.checkpoint.memory import MemorySaver\n",
    "from langgraph.graph import StateGraph, END, START\n",
    "from langgraph.graph.message import add_messages\n",
    "from langgraph.prebuilt import ToolNode, tools_condition\n",
    "from langchain_core.tools import tool\n",
    "from langchain_community.tools.tavily_search import TavilySearchResults"
   ]
  },
  {
   "cell_type": "markdown",
   "metadata": {},
   "source": [
    "### **Define or Create Custom Tool:**"
   ]
  },
  {
   "cell_type": "code",
   "execution_count": 42,
   "metadata": {},
   "outputs": [
    {
     "data": {
      "text/plain": [
       "240"
      ]
     },
     "execution_count": 42,
     "metadata": {},
     "output_type": "execute_result"
    }
   ],
   "source": [
    "# Custom Tool:\n",
    "\n",
    "@tool\n",
    "def multiply(first_number:int, second_number:int)->int:\n",
    "    \"\"\"multiply two integer number\"\"\"\n",
    "    return first_number * second_number\n",
    "\n",
    "multiply({\"first_number\":24,\"second_number\":10})"
   ]
  },
  {
   "cell_type": "code",
   "execution_count": 43,
   "metadata": {},
   "outputs": [],
   "source": [
    "# Another Tool, make it custom:\n",
    "\n",
    "@tool\n",
    "def search(query:str):\n",
    "    \"\"\"perform the web search on the user query\"\"\"\n",
    "    tavily=TavilySearchResults()\n",
    "\n",
    "    result=tavily.invoke(query)\n",
    "    \n",
    "    return result"
   ]
  },
  {
   "cell_type": "code",
   "execution_count": 44,
   "metadata": {},
   "outputs": [],
   "source": [
    "# Toolkits:\n",
    "\n",
    "tools = [search, multiply]"
   ]
  },
  {
   "cell_type": "markdown",
   "metadata": {},
   "source": [
    "### **Bind Tool with LLM:**"
   ]
  },
  {
   "cell_type": "code",
   "execution_count": 45,
   "metadata": {},
   "outputs": [],
   "source": [
    "# bind tool with llm:\n",
    "\n",
    "llm_with_tools = llm.bind_tools(tools)"
   ]
  },
  {
   "cell_type": "markdown",
   "metadata": {},
   "source": [
    "### **Create Node:**"
   ]
  },
  {
   "cell_type": "code",
   "execution_count": 46,
   "metadata": {},
   "outputs": [],
   "source": [
    "# Define Structure Format:\n",
    "\n",
    "\n",
    "class AgentState(TypedDict):\n",
    "    messages: Annotated[list, add_messages]"
   ]
  },
  {
   "cell_type": "code",
   "execution_count": 47,
   "metadata": {},
   "outputs": [],
   "source": [
    "# Define a Node, called ai_assistant:\n",
    "\n",
    "\n",
    "def ai_assistant(state: AgentState):\n",
    "    return {\"messages\": [llm_with_tools.invoke(state[\"messages\"])]}"
   ]
  },
  {
   "cell_type": "code",
   "execution_count": 48,
   "metadata": {},
   "outputs": [],
   "source": [
    "# Create Tool Node:\n",
    "\n",
    "tool_node = ToolNode(tools=tools)"
   ]
  },
  {
   "cell_type": "markdown",
   "metadata": {},
   "source": [
    "### **Define Memory:**"
   ]
  },
  {
   "cell_type": "code",
   "execution_count": 50,
   "metadata": {},
   "outputs": [
    {
     "data": {
      "text/plain": [
       "<langgraph.checkpoint.memory.MemorySaver at 0x2291a6715a0>"
      ]
     },
     "execution_count": 50,
     "metadata": {},
     "output_type": "execute_result"
    }
   ],
   "source": [
    "# memory:\n",
    "\n",
    "memory = MemorySaver()\n",
    "memory"
   ]
  },
  {
   "cell_type": "markdown",
   "metadata": {},
   "source": [
    "### **LangGraph Integration:**"
   ]
  },
  {
   "cell_type": "code",
   "execution_count": 51,
   "metadata": {},
   "outputs": [],
   "source": [
    "from langgraph.prebuilt import ToolNode, tools_condition"
   ]
  },
  {
   "cell_type": "code",
   "execution_count": 52,
   "metadata": {},
   "outputs": [
    {
     "data": {
      "image/png": "[encoded data removed]",
      "text/plain": [
       "<langgraph.graph.state.CompiledStateGraph object at 0x000002291A65B4F0>"
      ]
     },
     "execution_count": 52,
     "metadata": {},
     "output_type": "execute_result"
    }
   ],
   "source": [
    "# Define StateGraph:\n",
    "graph_builder = StateGraph(AgentState)\n",
    "\n",
    "# Add Node into Graph:\n",
    "graph_builder.add_node(\"ai_assistant\", ai_assistant)\n",
    "graph_builder.add_node(\"tools\", tool_node)\n",
    "\n",
    "# Add Edge Flow:\n",
    "graph_builder.add_edge(START, \"ai_assistant\")\n",
    "\n",
    "# Add Conditional Flow:\n",
    "graph_builder.add_conditional_edges(\n",
    "    \"ai_assistant\",\n",
    "    tools_condition,\n",
    ")\n",
    "\n",
    "# Add Edges:\n",
    "graph_builder.add_edge(\"tools\", \"ai_assistant\")\n",
    "\n",
    "# Compile Graph: Using 'interrupt_before'\n",
    "app2 = graph_builder.compile(\n",
    "    checkpointer=memory,\n",
    "    # This is new!\n",
    "    interrupt_before=[\"tools\"],\n",
    "    # Note: can also interrupt __after__ tools, if desired.\n",
    "    # interrupt_after=[\"tools\"]\n",
    ")\n",
    "\n",
    "\n",
    "app2"
   ]
  },
  {
   "cell_type": "markdown",
   "metadata": {},
   "source": [
    "#### **Invoking (not use tool):**"
   ]
  },
  {
   "cell_type": "code",
   "execution_count": 53,
   "metadata": {},
   "outputs": [
    {
     "name": "stdout",
     "output_type": "stream",
     "text": [
      "================================\u001b[1m Human Message \u001b[0m=================================\n",
      "\n",
      "what is current a capital of india?\n",
      "==================================\u001b[1m Ai Message \u001b[0m==================================\n",
      "Tool Calls:\n",
      "  search (call_mpvj)\n",
      " Call ID: call_mpvj\n",
      "  Args:\n",
      "    query: what is the capital of india\n"
     ]
    }
   ],
   "source": [
    "user_input = \"what is current a capital of india?\"\n",
    "config = {\"configurable\": {\"thread_id\": \"1\"}}\n",
    "\n",
    "# The config is the **second positional argument** to stream() or invoke()!\n",
    "events = app2.stream(\n",
    "    {\"messages\": [(\"user\", user_input)]}, config, stream_mode=\"values\"\n",
    ")\n",
    "\n",
    "for event in events:\n",
    "    if \"messages\" in event:\n",
    "        event[\"messages\"][-1].pretty_print()"
   ]
  },
  {
   "cell_type": "markdown",
   "metadata": {},
   "source": [
    "#### **Invoking (use tool):**\n",
    "\n",
    "- by mention `None`"
   ]
  },
  {
   "cell_type": "code",
   "execution_count": 57,
   "metadata": {},
   "outputs": [
    {
     "name": "stdout",
     "output_type": "stream",
     "text": [
      "==================================\u001b[1m Ai Message \u001b[0m==================================\n",
      "Tool Calls:\n",
      "  search (call_cacs)\n",
      " Call ID: call_cacs\n",
      "  Args:\n",
      "    query: what is the capital of india\n",
      "=================================\u001b[1m Tool Message \u001b[0m=================================\n",
      "Name: search\n",
      "\n",
      "[{\"url\": \"https://www.usatoday.com/story/news/world/2023/05/24/what-is-the-capital-of-india/70195720007/\", \"content\": \"About 1.4 billion people live in India, and the country is predicted to top China as the world’s most populous country by mid-2023, the United Nations reports. The capital of India is New Delhi, located in the north-central part of the country to the west of the Yamuna River. India is home to 28 states, each with its own capital and run by a Governor who represents the President: New Delhi is part of one of India’s union territories, the National Capital Territory of Dehli. 10Best USAT Wine Club Shopping Best-selling Booklist Southern Kitchen Jobs Sports Betting Sports Weekly Studio Gannett Classifieds Home Internet Blueprint Auto Insurance Pet Insurance Travel Insurance Credit Cards Banking Personal Loans LLC Formation Payroll Software\"}, {\"url\": \"https://www.countryreports.org/country/India/capital-city.htm\", \"content\": \"India - Capital City What is the Capital of India? Capital City    New Delhi Capital - history   the city's name is associated with various myths and legends; the original name for the city may have been Dhilli or Dhillika; alternatively, the name could be a corruption of the Hindustani words \\\"dehleez\\\" or \\\"dehali\\\" - both terms meaning \\\"threshold\\\" or \\\"gateway\\\" - and indicative of the city as a gateway to the Gangetic Plain; after the British decided to move the capital of their Indian Empire from Calcutta to Delhi in 1911, they created a new governmental district south of the latter designated as New Delhi; the new capital was not formally inaugurated until 1931. Capital City Map of India Weather in India Back to India Government\"}, {\"url\": \"https://www.youtube.com/watch?v=qELzANfST38\", \"content\": \"The Capital of India | Know Your Country | National Geographic\\nNational Geographic India\\n3810000 subscribers\\n1031 likes\\n35993 views\\n11 Aug 2022\\nFrom the land of Pandavas, Indraprastha to now the capital region of the largest democracy, India, Delhi has been the face to many kingdoms and governments. Lived through the kaleidoscope of Indian history, every nook and cranny of this city sings the stories of the same. Watch the history of the India’s Capital with Know Your Country.\\n\\nSubscribe to Nat Geo India: http://bit.ly/NatGeoIndiaSubscribe\\n\\n► Connect with National Geographic India for more:\\n◼ Instagram: http://bit.ly/NatGeoIndiaInstagram\\n◼ Facebook: http://bit.ly/NatGeoIndiaFB\\n◼ Twitter: http://bit.ly/NatGeoIndiaTwitter\\n\\n#NatGeoIndia\\n24 comments\\n\"}, {\"url\": \"https://unacademy.com/content/railway-exam/study-material/geography/new-delhi-the-capital-city/\", \"content\": \"New Delhi: The Capital City Railway Exam » Railway Exam Study Materials » Geography » New Delhi: The Capital City New Delhi: The Capital City In this article, we will learn about New Delhi, the capital city of India, in detail. New Delhi is the capital of India. New Delhi New Delhi is the most popular, civilized and modernized city in India. New Delhi is the capital of India. New Delhi weather Let’s learn about the new Delhi weather. Ans. New Delhi is the most popularized, civilized and modernized city in India. Ans. New Delhi is the capital of India. Ans. New Delhi is the most popularized, civilized and modernized city in India. Ans. New Delhi is the capital of India.\"}, {\"url\": \"https://en.wikipedia.org/wiki/List_of_capitals_of_India\", \"content\": \"Jump to content Personal tools Toggle the table of contents List of capitals of India Tools Find sources: \\\"List of capitals of India\\\" – news · newspapers · books · scholar · JSTOR (September 2012) (Learn how and when to remove this message) Vijayanagara: Capital of Vijayanagara Empire from early 14th Century until 1585, when it was abandoned, ostensibly due to lack of water. Pune: In 1730, Pune became the capital of the Marathas of the Maratha Empire.At this time Maratha Empire was at its peak, and became the only non-mughal capital. Retrieved 22 July 2020. Retrieved 21 March 2014. Categories: Lists of cities in IndiaCapitals by countryIndia history-related listsLists of capitals By using this site, you agree to the Terms of Use and Privacy Policy.\"}]\n",
      "==================================\u001b[1m Ai Message \u001b[0m==================================\n",
      "\n",
      "New Delhi\n"
     ]
    }
   ],
   "source": [
    "user_input = \"what is current a capital of india?\"\n",
    "config = {\"configurable\": {\"thread_id\": \"1\"}}\n",
    "\n",
    "# `None` will append nothing new to the current state, letting it resume as if it had never been interrupted\n",
    "events = app2.stream(None, config, stream_mode=\"values\")\n",
    "\n",
    "for event in events:\n",
    "    if \"messages\" in event:\n",
    "        event[\"messages\"][-1].pretty_print()"
   ]
  },
  {
   "cell_type": "code",
   "execution_count": null,
   "metadata": {},
   "outputs": [
    {
     "name": "stdout",
     "output_type": "stream",
     "text": [
      "================================\u001b[1m Human Message \u001b[0m=================================\n",
      "\n",
      "what is a weather there?\n",
      "==================================\u001b[1m Ai Message \u001b[0m==================================\n",
      "Tool Calls:\n",
      "  search (call_6qhg)\n",
      " Call ID: call_6qhg\n",
      "  Args:\n",
      "    query: weather in New Delhi\n"
     ]
    }
   ],
   "source": [
    "# Second:\n",
    "\n",
    "user_input = \"what is a weather there?\"\n",
    "config = {\"configurable\": {\"thread_id\": \"1\"}}\n",
    "\n",
    "events = app2.stream(input={\"messages\": [(\"user\", user_input)]}, config=config, stream_mode=\"values\")\n",
    "\n",
    "for event in events:\n",
    "    if \"messages\" in event:\n",
    "        event[\"messages\"][-1].pretty_print()"
   ]
  },
  {
   "cell_type": "code",
   "execution_count": 59,
   "metadata": {},
   "outputs": [
    {
     "name": "stdout",
     "output_type": "stream",
     "text": [
      "==================================\u001b[1m Ai Message \u001b[0m==================================\n",
      "Tool Calls:\n",
      "  search (call_6qhg)\n",
      " Call ID: call_6qhg\n",
      "  Args:\n",
      "    query: weather in New Delhi\n",
      "=================================\u001b[1m Tool Message \u001b[0m=================================\n",
      "Name: search\n",
      "\n",
      "[{\"url\": \"https://www.weatherapi.com/\", \"content\": \"{'location': {'name': 'New Delhi', 'region': 'Delhi', 'country': 'India', 'lat': 28.6, 'lon': 77.2, 'tz_id': 'Asia/Kolkata', 'localtime_epoch': 1740831786, 'localtime': '2025-03-01 17:53'}, 'current': {'last_updated_epoch': 1740831300, 'last_updated': '2025-03-01 17:45', 'temp_c': 25.2, 'temp_f': 77.4, 'is_day': 1, 'condition': {'text': 'Mist', 'icon': '//cdn.weatherapi.com/weather/64x64/day/143.png', 'code': 1030}, 'wind_mph': 2.2, 'wind_kph': 3.6, 'wind_degree': 357, 'wind_dir': 'N', 'pressure_mb': 1012.0, 'pressure_in': 29.88, 'precip_mm': 0.0, 'precip_in': 0.0, 'humidity': 54, 'cloud': 50, 'feelslike_c': 25.3, 'feelslike_f': 77.6, 'windchill_c': 26.1, 'windchill_f': 79.0, 'heatindex_c': 26.0, 'heatindex_f': 78.8, 'dewpoint_c': 10.5, 'dewpoint_f': 50.9, 'vis_km': 4.0, 'vis_miles': 2.0, 'uv': 0.1, 'gust_mph': 3.0, 'gust_kph': 4.8}}\"}, {\"url\": \"https://world-weather.info/forecast/india/delhi/march-2025/\", \"content\": \"Weather in Delhi in March 2025 (Union Territory of Delhi) - Detailed Weather Forecast for a Month Weather World Weather in Delhi Weather in Delhi in March 2025 Delhi Weather Forecast for March 2025 is based on long term prognosis and previous years' statistical data. 1 +93°+84° 2 +93°+84° 3 +95°+86° 4 +79°+84° +79°+63° +81°+63° +81°+64° +81°+64° +81°+64° +81°+64° +82°+66° +81°+66° +82°+66° +82°+66° +84°+68° +86°+68° +86°+68° +88°+70° +88°+70° +90°+72° +88°+70° +90°+72° +90°+73° +90°+72° +90°+72° +91°+73° +91°+72° +93°+73° +93°+75° +93°+75° +93°+77° Extended weather forecast in Delhi HourlyWeek10-Day14-Day30-DayYear Weather in large and nearby cities Weather in New Delhi+82° Panipat+84° Muzaffarnagar+84° Karnāl+84° Aligarh+84° Alwar+82° Mathura+86° Sahāranpur+82° Morādābād+86° Rohtak+84° Meerut+84° Okhla Industrial Development Area+81° Nāngloi Jāt+81° Ghaziabad+82° Noida+82° Faridabad+81° Gurgaon+81° Sonīpat+84° world's temperature today day day\"}, {\"url\": \"https://www.hindustantimes.com/cities/delhi-news/delhi-weather-today-aqi-and-rain-forecast-updates-march-1-2025-101740792604134.html\", \"content\": \"Delhi Weather and AQI Today: Warm start at 16.75 °C, check weather forecast for March 1, 2025 | Latest News Delhi - Hindustan Times Delhi News Delhi News Delhi Weather and AQI Today: Warm start at 16.75 °C, check weather forecast for March 1, 2025 News / Cities / Delhi / Delhi Weather and AQI Today: Warm start at 16.75 °C, check weather forecast for March 1, 2025 India News Delhi News World News Live US News Live Cricket News Live Lifestyle News Live India News Live Entertainment News Live Trending News Live Pune Weather and AQI Today: Warm start at 23.76 °C, check weather forecast for March 1, 2025 India News US News india news More from HT\"}, {\"url\": \"https://www.weather2travel.com/india/new-delhi/march/\", \"content\": \"New Delhi weather in March 2025 | India: How hot? Holidays New Delhi weather in March 2025 Expect 30°C daytime maximum temperatures in the shade with on average 8 hours of sunshine per day in New Delhi in March. Check more long-term weather averages for New Delhi in March before you book your next holiday to India in 2025/2026. TUI discount code: up to £300 off 2025/2026 holidays There are usually 2 days with some rain in New Delhi in March and the average monthly rainfall is 15mm. More holidays January sales Handpicked travel deals & holiday discounts We help you find the best travel deals for your holiday in the sun by sharing tips on when and where to go, before providing you with top discounts. Holidays\"}, {\"url\": \"https://www.weather25.com/asia/india/delhi?page=month&month=March\", \"content\": \"Delhi weather in March 2025 | Delhi 14 day weather Delhi  Delhi Delhi weather in March 2025 The weather in Delhi in March is hot. You can expect a few rainy days in Delhi during March, but usually the weather is comfortable in March. | Delhi in March | | Delhi in May | Temperatures in Delhi in March Weather in Delhi in March - FAQ What is the average temperature in Delhi in March? The average temperature in Delhi in March is 20/33° C. On average, there are 2 rainy days in Delhi during March. The weather in Delhi in March is good. On average, there are 0 snowy days in Delhi in March. More about the weather in Delhi\"}]\n",
      "==================================\u001b[1m Ai Message \u001b[0m==================================\n",
      "\n",
      "The weather in New Delhi in March is hot, with an average temperature of 20/33° C. There are usually 2 rainy days in Delhi during March.  The weather in Delhi in March is good.\n"
     ]
    }
   ],
   "source": [
    "# `None` will append nothing new to the current state, letting it resume as if it had never been interrupted\n",
    "events = app2.stream(None, config, stream_mode=\"values\")\n",
    "\n",
    "for event in events:\n",
    "    if \"messages\" in event:\n",
    "        event[\"messages\"][-1].pretty_print()"
   ]
  },
  {
   "cell_type": "markdown",
   "metadata": {},
   "source": [
    "**Note:** Custom Logic suitable for application building."
   ]
  },
  {
   "cell_type": "markdown",
   "metadata": {},
   "source": []
  }
 ],
 "metadata": {
  "kernelspec": {
   "display_name": "base",
   "language": "python",
   "name": "python3"
  },
  "language_info": {
   "codemirror_mode": {
    "name": "ipython",
    "version": 3
   },
   "file_extension": ".py",
   "mimetype": "text/x-python",
   "name": "python",
   "nbconvert_exporter": "python",
   "pygments_lexer": "ipython3",
   "version": "3.12.4"
  }
 },
 "nbformat": 4,
 "nbformat_minor": 2
}
