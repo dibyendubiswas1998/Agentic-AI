{
 "cells": [
  {
   "cell_type": "markdown",
   "id": "9e2c0b3b",
   "metadata": {},
   "source": [
    "# **Network Multi Agent:**\n",
    "\n",
    "\n",
    "A **Multi-Network Agent System** is a **decentralized** architecture where **multiple agents interact directly with each other** (peer-to-peer) instead of depending on a single controller. <br>\n",
    "\n",
    "* Each agent has its **own responsibility** (like reasoning, memory, planning, coding, etc.).\n",
    "* They **communicate, collaborate, and negotiate** through a **shared network**.\n",
    "* **There’s no master agent** — the system is **dynamic**, **parallel**, and often **fault-tolerant**.\n",
    "* Agents decide **when, how, and with whom** to interact based on the task’s current needs.\n",
    "\n",
    "<br>\n",
    "\n",
    "This model fits **complex workflows** where the task needs a **combination of skills** and **real-time interaction** between different expert agents.\n",
    "\n",
    "\n",
    "<br><br>\n",
    "\n",
    "**✨ Example (Given in LangGraph):** <br>\n",
    "\n",
    "Imagine you're building a **Research Assistant** using LangGraph, and you have 3 agents: <br>\n",
    "\n",
    "| **Agent**               | **Responsibility**                          |\n",
    "| :------------------ | :-------------------------------------- |\n",
    "| 🧠 Researcher Agent | Gathers relevant documents and facts.   |\n",
    "| 🛠️ Coder Agent     | Writes code snippets for data analysis. |\n",
    "| 📝 Writer Agent     | Summarizes findings into readable text. |\n",
    "\n",
    "\n",
    "<br><br>\n",
    "\n",
    "👉 **Flow**:\n",
    "\n",
    "* User asks: *\"Give me a report on COVID-19 statistics analysis.\"*\n",
    "* **Researcher Agent** first searches for recent COVID-19 datasets.\n",
    "* Then, **Researcher** sends the data to the **Coder Agent**.\n",
    "* **Coder Agent** writes Python code to analyze the data.\n",
    "* Once done, **Coder** sends results to the **Writer Agent**.\n",
    "* **Writer Agent** composes the final report.\n",
    "\n",
    "<br>\n",
    "\n",
    "➡️ **Agents talk to each other** directly, without waiting for a boss agent to tell them. <br>\n",
    "➡️ **Each agent knows** when to take over based on the task context.\n",
    "\n",
    "<br><br>\n",
    "\n",
    "**Collaborative & Network:** <br>\n",
    "**🤝 What is a **Collaborative Agent**?** <br>\n",
    "\n",
    "* A **Collaborative Agent** is an agent that **works together with other agents** to solve problems or achieve goals.\n",
    "* It **shares information**, **helps other agents**, and **coordinates** its actions so that the **team as a whole** succeeds.\n",
    "* The agent is **goal-driven** but **team-aware** — meaning, it doesn't only care about itself; it also adjusts its behavior to support the collective success.\n",
    "\n",
    "<br>\n",
    "\n",
    "> 📌 **In short**: *A collaborative agent \"thinks about others\" and cooperates to achieve a shared goal.*\n",
    "\n",
    "<br><br>\n",
    "\n",
    "**🌐 What is a **Network Agent**?**\n",
    "\n",
    "* A **Network Agent** refers to an agent that is **connected** to other agents through a **communication network** (like a graph or peer-to-peer links).\n",
    "* It **exchanges messages**, **requests help**, **offers services**, or **shares data** with other agents **through the network**.\n",
    "* There is **no central boss**; all agents **independently** act and interact within the network.\n",
    "\n",
    "<br>\n",
    "\n",
    "> 📌 **In short**: *A network agent \"lives inside a web\" of other agents and communicates freely to perform tasks.*\n",
    "\n",
    "<br><br>\n",
    "\n",
    "**🔥 Relationship between Collaborative and Network Agents:** <br>\n",
    "\n",
    "* In a **multi-network agent system**, agents are often **collaborative** — they **communicate and cooperate** *through the network*.\n",
    "* **Collaboration** is about **intent** (working together), while **networking** is about **communication structure** (how they talk).\n",
    "\n",
    "<br><br>\n",
    "\n",
    "**⚡ Tiny Example:**\n",
    "\n",
    "| **Collaborative Agent**                                                  | **Network Agent**                                                                         |\n",
    "| :------------------------------------------------------------------- | :------------------------------------------------------------------------------------ |\n",
    "| A shopping bot asks a payment bot for help in completing a purchase. | The shopping bot sends a message across the agent network to find available services. |\n",
    "\n",
    "\n"
   ]
  },
  {
   "cell_type": "markdown",
   "id": "3c6fa29f",
   "metadata": {},
   "source": [
    "# **Example 01:**"
   ]
  },
  {
   "cell_type": "code",
   "execution_count": 1,
   "id": "14c6f9e8",
   "metadata": {},
   "outputs": [],
   "source": [
    "# %pip install -U langchain_community langchain_anthropic langchain_experimental matplotlib langgraph"
   ]
  },
  {
   "cell_type": "code",
   "execution_count": 17,
   "id": "7dec7636",
   "metadata": {},
   "outputs": [],
   "source": [
    "from typing_extensions import Literal\n",
    "from langchain_core.tools import tool\n",
    "from langgraph.graph import MessagesState, StateGraph,START,END\n",
    "from langgraph.types import Command\n",
    "from dotenv import load_dotenv\n",
    "from IPython.display import Image, display\n",
    "from langchain_openai import ChatOpenAI\n",
    "from langchain_core.messages import BaseMessage, HumanMessage\n",
    "from langgraph.prebuilt import create_react_agent\n",
    "from typing import Annotated\n",
    "from langchain_experimental.utilities import PythonREPL\n",
    "from langchain_community.tools import DuckDuckGoSearchRun\n",
    "from IPython.display import display, Markdown\n",
    "import os\n",
    "\n",
    "\n",
    "# Load environment variables from a .env file\n",
    "load_dotenv()\n",
    "\n",
    "# Example: Access an environment variable\n",
    "OPENAI_API_KEY = os.getenv(\"OPENAI_API_KEY\")"
   ]
  },
  {
   "cell_type": "markdown",
   "id": "76190106",
   "metadata": {},
   "source": [
    "## **Load LLM:**"
   ]
  },
  {
   "cell_type": "code",
   "execution_count": 4,
   "id": "60de0880",
   "metadata": {},
   "outputs": [
    {
     "data": {
      "text/plain": [
       "'Hello! How can I assist you today?'"
      ]
     },
     "execution_count": 4,
     "metadata": {},
     "output_type": "execute_result"
    }
   ],
   "source": [
    "from langchain_openai import ChatOpenAI\n",
    "\n",
    "def load_llm(model_name:str):\n",
    "    return ChatOpenAI(model_name=model_name, temperature=0.7)\n",
    "\n",
    "llm = load_llm(model_name='gpt-4o')\n",
    "\n",
    "llm.invoke(\"Hi\").content"
   ]
  },
  {
   "cell_type": "markdown",
   "id": "c3b3cd16",
   "metadata": {},
   "source": [
    "## **Create Nodes:**\n",
    "\n",
    "* **Research Node:** This node is responsible for conducting research and gathering information on various topics related to the project or user query.\n",
    "* **Chart Node:** This node is responsible for creating charts and visualizations based on the data gathered by the Research Node."
   ]
  },
  {
   "cell_type": "code",
   "execution_count": 18,
   "id": "1d68e629",
   "metadata": {},
   "outputs": [
    {
     "data": {
      "text/markdown": [
       "You are a helpful AI assistant, collaborating with other assistants. Use the provided tools to progress towards answering the question. If you are unable to fully answer, that's OK, another assistant with different tools  will help where you left off. Execute what you can to make progress. If you or any of the other assistants have the final answer or deliverable, prefix your response with FINAL ANSWER so the team knows to stop.\n",
       "You can only do research. You are working with a chart generator colleague."
      ],
      "text/plain": [
       "<IPython.core.display.Markdown object>"
      ]
     },
     "metadata": {},
     "output_type": "display_data"
    }
   ],
   "source": [
    "# System Promt for Each Agent during collaboration:\n",
    "\n",
    "def make_system_prompt(suffix: str) -> str:\n",
    "    return (\n",
    "        \"You are a helpful AI assistant, collaborating with other assistants.\"\n",
    "        \" Use the provided tools to progress towards answering the question.\"\n",
    "        \" If you are unable to fully answer, that's OK, another assistant with different tools \"\n",
    "        \" will help where you left off. Execute what you can to make progress.\"\n",
    "        \" If you or any of the other assistants have the final answer or deliverable,\"\n",
    "        \" prefix your response with FINAL ANSWER so the team knows to stop.\"\n",
    "        f\"\\n{suffix}\"\n",
    "    )\n",
    "\n",
    "\n",
    "rs = make_system_prompt(\n",
    "        \"You can only do research. You are working with a chart generator colleague.\"\n",
    "    )\n",
    "\n",
    "display(Markdown(rs))"
   ]
  },
  {
   "cell_type": "markdown",
   "id": "6b38ae26",
   "metadata": {},
   "source": [
    "### **Research Node:**\n",
    "\n",
    "* **Steps:**\n",
    "    * **Step 1:** Define the tool,\n",
    "    * **Step 2:** Create an `Research Agent` by using the tool, llm, prompts, and etc."
   ]
  },
  {
   "cell_type": "markdown",
   "id": "20ab668c",
   "metadata": {},
   "source": [
    "#### **Step 1:** Define the tool:"
   ]
  },
  {
   "cell_type": "code",
   "execution_count": null,
   "id": "af0ad077",
   "metadata": {},
   "outputs": [],
   "source": [
    "from typing import Annotated\n",
    "\n",
    "from langchain_community.tools.tavily_search import TavilySearchResults\n",
    "from langchain_core.tools import tool\n",
    "\n",
    "\n",
    "tavily_tool = TavilySearchResults(max_results=5)"
   ]
  },
  {
   "cell_type": "code",
   "execution_count": 7,
   "id": "0f245d26",
   "metadata": {},
   "outputs": [
    {
     "data": {
      "text/plain": [
       "[{'title': \"GDP Of India: Current And Historical Growth Rate, India's Rank In ...\",\n",
       "  'url': 'https://www.forbesindia.com/article/explainers/gdp-india/85337/1',\n",
       "  'content': \"per the IMF:India's Current GDP (FY24): $3.9 trillionIndia's GDP Growth Rate (FY24): 8.2%Also Read: Unemployment rate in India (2008 to 2023): Current rate, historical trends and moreWhat is GDP growth rateGDP growth rate refers to the pace at which a country's Gross Domestic Product (GDP) expands or increases over a specific period, usually measured annually or quarterly. Gross Domestic Product (GDP) is the market worth of all final services and products produced within its boundaries over a [...] rationalisation that better private consumption, especially in rural India, has led to a rise in the growth outlook. So now, as per the IMF:India's Current GDP (FY24): $3.9 trillionIndia's GDP Growth Rate (FY24): 8.2%Also Read: Unemployment rate in India (2008 to 2023): Current rate, historical trends and moreWhat is GDP growth rateGDP growth rate refers to the pace at which a country's Gross Domestic Product (GDP) expands or increases over a specific period, usually measured annually or [...] rationalisation that better private consumption, especially in rural India, has led to a rise in the growth outlook. So now, as per the IMF:India's Current GDP (FY24): $3.9 trillionIndia's GDP Growth Rate (FY24): 8.2%Also Read: Unemployment rate in India (2008 to 2023): Current rate, historical trends and moreWhat is GDP growth rateGDP growth rate refers to the pace at which a country's Gross Domestic Product (GDP) expands or increases over a specific period, usually measured annually or\",\n",
       "  'score': 0.9119436},\n",
       " {'title': 'India GDP - Trading Economics',\n",
       "  'url': 'https://tradingeconomics.com/india/gdp',\n",
       "  'content': 'Members\\n\\n\\n\\nIndia GDP\\n\\nThe Gross Domestic Product (GDP) in India was worth 3567.55 billion US dollars in 2023, according to official data from the World Bank. The GDP value of India represents 3.38 percent of the world economy. source: World Bank [...] GDP in India averaged 785.41 USD Billion from 1960 until 2023, reaching an all time high of 3567.55 USD Billion in 2023 and a record low of 37.03 USD Billion in 1960. This page provides the latest reported value for - India GDP - plus previous releases, historical high and low, short-term forecast and long-term prediction, economic calendar, survey consensus and news. India GDP - values, historical data and charts - was last updated on  May of 2025. [...] GDP in India is expected to reach 3792.00 USD Billion by the end of 2025, according to Trading Economics global macro models and analysts expectations. In the long-term, the India GDP is projected to trend around 4043.00 USD Billion in 2026 and 4281.00 USD Billion in 2027, according to our econometric models.',\n",
       "  'score': 0.8755427},\n",
       " {'title': 'Economy of India - Wikipedia',\n",
       "  'url': 'https://en.wikipedia.org/wiki/Economy_of_India',\n",
       "  'content': 'Mumbai, thefinancial centreof India[1][2]\\nCurrency | Indian rupee(INR, ₹)\\nFiscal year | 1 April – 31 March\\nTrade organisations | WTO,WCO,SAFTA,BIMSTEC,WFTU,BRICS,G-20,BIS,AIIB,ADBand others\\nCountry group | Developing[3]Lower-middle income economy[4]Newly industrialized country\\nStatistics\\nPopulation | 1,428,627,663 (1st; 2024 est.)[5]\\nGDP | $4.19 trillion (nominal; 2025 est.)[6]$17.65 trillion (PPP; 2025 est.)[6]\\nGDP rank | 4th (nominal; 2025)3rd (PPP; 2025)',\n",
       "  'score': 0.8467682},\n",
       " {'title': 'India GDP - Worldometer',\n",
       "  'url': 'https://www.worldometers.info/gdp/india-gdp/',\n",
       "  'content': 'Year | GDP Nominal(Current USD) | GDP Real(Inflation adj.) | GDPChange | GDP percapita | Pop.Change | Population\\n2023 | $3,567,550,000,000 | $3,215,970,000,000 | 8.15% | $2,236 | 0.89% | 1,438,069,596\\n2022 | $3,353,470,000,000 | $2,973,540,000,000 | 6.99% | $2,086 | 0.79% | 1,425,423,212\\n2021 | $3,167,270,000,000 | $2,779,350,000,000 | 9.69% | $1,965 | 0.83% | 1,414,203,896\\n2020 | $2,674,850,000,000 | $2,533,830,000,000 | −5.78% | $1,807 | 0.98% | 1,402,617,695 [...] 2019 | $2,835,610,000,000 | $2,689,210,000,000 | 3.87% | $1,936 | 1.05% | 1,389,030,312\\n2018 | $2,702,930,000,000 | $2,588,970,000,000 | 6.45% | $1,883 | 1.1% | 1,374,659,064\\n2017 | $2,651,470,000,000 | $2,432,020,000,000 | 6.8% | $1,789 | 1.17% | 1,359,657,400\\n2016 | $2,294,800,000,000 | $2,277,270,000,000 | 8.26% | $1,694 | 1.2% | 1,343,944,296\\n2015 | $2,103,590,000,000 | $2,103,590,000,000 | 8% | $1,584 | 1.2% | 1,328,024,498',\n",
       "  'score': 0.82994765},\n",
       " {'title': 'World GDP Ranking 2025 List - ClearTax',\n",
       "  'url': 'https://cleartax.in/s/world-gdp-ranking-list',\n",
       "  'content': \"India is currently ranked as the 5th largest economy globally in 2025, but it is projected to surpass Japan and secure the 4th position among the world's top 10 largest economies, with a nominal GDP of $4.270 trillion in 2025. Moreover, the IMF forecasts that by 2027, India will overtake Germany to become the 3rd largest economy worldwide\",\n",
       "  'score': 0.8232293}]"
      ]
     },
     "execution_count": 7,
     "metadata": {},
     "output_type": "execute_result"
    }
   ],
   "source": [
    "tavily_tool.invoke(\"What is current GDP of INDIA\")"
   ]
  },
  {
   "cell_type": "markdown",
   "id": "91edf8e4",
   "metadata": {},
   "source": [
    "#### **Step 2: Create an `Research Agent`** \n",
    "Create an `Research Agent` by using the tool, llm, prompts, and etc."
   ]
  },
  {
   "cell_type": "code",
   "execution_count": 9,
   "id": "34c6f919",
   "metadata": {},
   "outputs": [],
   "source": [
    "# Research Agent:\n",
    "from langgraph.prebuilt import create_react_agent\n",
    "\n",
    "\n",
    "\n",
    "research_agent = create_react_agent(\n",
    "    llm,\n",
    "    tools=[tavily_tool],\n",
    "    prompt=make_system_prompt(\n",
    "        \"You can only do research. You are working with a chart generator colleague.\"\n",
    "    ),\n",
    ")"
   ]
  },
  {
   "cell_type": "markdown",
   "id": "fc199d91",
   "metadata": {},
   "source": [
    "#### **Step 3: Researcher Node:**"
   ]
  },
  {
   "cell_type": "code",
   "execution_count": 14,
   "id": "c8b62665",
   "metadata": {},
   "outputs": [],
   "source": [
    "from typing import Literal\n",
    "from langgraph.types import Command\n",
    "from langgraph.graph import MessagesState, END\n",
    "from langchain_core.messages import BaseMessage, HumanMessage\n",
    "\n",
    "\n",
    "\n",
    "def get_next_node(last_message: BaseMessage, goto: str):\n",
    "    if \"FINAL ANSWER\" in last_message.content:\n",
    "        # Any agent decided the work is done\n",
    "        return END\n",
    "    return goto\n",
    "\n",
    "\n",
    "def research_node(state: MessagesState) -> Command[Literal[\"chart_generator\", END]]:\n",
    "    result = research_agent.invoke(state)\n",
    "    goto = get_next_node(result[\"messages\"][-1], \"chart_generator\")\n",
    "    \n",
    "    # wrap in a human message, as not all providers allow\n",
    "    # AI message at the last position of the input messages list\n",
    "    \n",
    "    result[\"messages\"][-1] = HumanMessage(\n",
    "        content=result[\"messages\"][-1].content, name=\"researcher\"\n",
    "    )\n",
    "    \n",
    "    return Command(\n",
    "        update={\n",
    "            # share internal message history of research agent with other agents\n",
    "            \"messages\": result[\"messages\"],\n",
    "        },\n",
    "        goto=goto,\n",
    "    )"
   ]
  },
  {
   "cell_type": "markdown",
   "id": "d20e4008",
   "metadata": {},
   "source": [
    "### **Chart Node:**\n",
    "\n",
    "* **Step 1:** Load the Tools,\n",
    "* **Step 2:** Create `Chart Node` by using the tools."
   ]
  },
  {
   "cell_type": "markdown",
   "id": "9f070a17",
   "metadata": {},
   "source": [
    "#### **Step 1:**\n",
    "\n",
    "Load/Create the `PythonREPL()` tool."
   ]
  },
  {
   "cell_type": "code",
   "execution_count": 19,
   "id": "e6346256",
   "metadata": {},
   "outputs": [
    {
     "name": "stderr",
     "output_type": "stream",
     "text": [
      "Python REPL can execute arbitrary code. Use with caution.\n"
     ]
    },
    {
     "data": {
      "text/plain": [
       "'10\\n'"
      ]
     },
     "execution_count": 19,
     "metadata": {},
     "output_type": "execute_result"
    }
   ],
   "source": [
    "repl = PythonREPL()\n",
    "\n",
    "code = \"\"\"\n",
    "x = 5\n",
    "y = x * 2\n",
    "print(y)\n",
    "\"\"\"\n",
    "\n",
    "repl.run(code)"
   ]
  },
  {
   "cell_type": "code",
   "execution_count": null,
   "id": "954e38ae",
   "metadata": {},
   "outputs": [],
   "source": [
    "# Create Tool:\n",
    "\n",
    "@tool\n",
    "def python_repl_tool(code: Annotated[str, \"The python code to execute to generate your chart.\"],):\n",
    "    \"\"\"\n",
    "        Use this to execute python code. If you want to see the output of a value,\n",
    "        you should print it out with `print(...)`. This is visible to the user.\n",
    "    \"\"\"\n",
    "    \n",
    "    try:\n",
    "        result = repl.run(code)\n",
    "\n",
    "    except BaseException as e:\n",
    "        return f\"Failed to execute. Error: {repr(e)}\"\n",
    "    \n",
    "    result_str = f\"Successfully executed:\\n\\`\\`\\`python\\n{code}\\n\\`\\`\\`\\nStdout: {result}\"\n",
    "    \n",
    "    return (\n",
    "        result_str + \"\\n\\nIf you have completed all tasks, respond with FINAL ANSWER.\"\n",
    "    )"
   ]
  },
  {
   "cell_type": "markdown",
   "id": "dfe6afc3",
   "metadata": {},
   "source": [
    "#### **Step 2:** Create Chart-Agent"
   ]
  },
  {
   "cell_type": "code",
   "execution_count": null,
   "id": "4d225c03",
   "metadata": {},
   "outputs": [],
   "source": [
    "chart_agent = create_react_agent(\n",
    "    llm,\n",
    "    [python_repl_tool],\n",
    "    prompt=make_system_prompt(\n",
    "        \"You can only generate charts. You are working with a researcher colleague.\"\n",
    "    ),\n",
    ")"
   ]
  },
  {
   "cell_type": "markdown",
   "id": "a007c852",
   "metadata": {},
   "source": [
    "#### **Step 3:** Create Chart-Node:"
   ]
  },
  {
   "cell_type": "code",
   "execution_count": 23,
   "id": "ef97b7f8",
   "metadata": {},
   "outputs": [],
   "source": [
    "def chart_node(state:MessagesState)-> Command[Literal[\"researcher\", END]]:\n",
    "    \n",
    "    result = chart_agent.invoke(state)\n",
    "    \n",
    "    goto = get_next_node(result[\"messages\"][-1], \"researcher\")\n",
    "    \n",
    "    result[\"messages\"][-1] = HumanMessage(content=result[\"messages\"][-1].content, name=\"chart_generator\")\n",
    "    \n",
    "    return Command(update={\"messages\": result[\"messages\"]}, goto=goto)"
   ]
  },
  {
   "cell_type": "markdown",
   "id": "c21828f3",
   "metadata": {},
   "source": [
    "## **Build The Graph:**"
   ]
  },
  {
   "cell_type": "code",
   "execution_count": 24,
   "id": "adf86deb",
   "metadata": {},
   "outputs": [
    {
     "data": {
      "image/png": "[encoded data removed]",
      "text/plain": [
       "<langgraph.graph.state.CompiledStateGraph object at 0x0000023CC7FF9F70>"
      ]
     },
     "execution_count": 24,
     "metadata": {},
     "output_type": "execute_result"
    }
   ],
   "source": [
    "from langgraph.graph import StateGraph, START\n",
    "\n",
    "workflow = StateGraph(MessagesState)\n",
    "\n",
    "workflow.add_node(\"researcher\", research_node)\n",
    "workflow.add_node(\"chart_generator\", chart_node)\n",
    "\n",
    "workflow.add_edge(START, \"researcher\")\n",
    "\n",
    "\n",
    "app = workflow.compile()\n",
    "app"
   ]
  },
  {
   "cell_type": "code",
   "execution_count": null,
   "id": "57089dda",
   "metadata": {},
   "outputs": [],
   "source": [
    "app.invoke({\"messages\": [(\"user\",\"get the INDIA's GDP over the past 3 years, then make a line chart of it. Once you make the chart, finish.\")],})\n"
   ]
  },
  {
   "cell_type": "code",
   "execution_count": 27,
   "id": "4c4ffb8f",
   "metadata": {},
   "outputs": [
    {
     "data": {
      "text/plain": [
       "{'messages': [HumanMessage(content=\"Explain the last 2 years India's GDP growth\", additional_kwargs={}, response_metadata={}, id='a204228f-fd6c-425e-8cee-6c3c91ecd90d'),\n",
       "  AIMessage(content='', additional_kwargs={'tool_calls': [{'id': 'call_Vix6c9M1n8vglkw25SrM2mER', 'function': {'arguments': '{\"query\":\"India GDP growth 2022-2023\"}', 'name': 'tavily_search_results_json'}, 'type': 'function'}], 'refusal': None}, response_metadata={'token_usage': {'completion_tokens': 27, 'prompt_tokens': 188, 'total_tokens': 215, 'completion_tokens_details': {'accepted_prediction_tokens': 0, 'audio_tokens': 0, 'reasoning_tokens': 0, 'rejected_prediction_tokens': 0}, 'prompt_tokens_details': {'audio_tokens': 0, 'cached_tokens': 0}}, 'model_name': 'gpt-4o-2024-08-06', 'system_fingerprint': 'fp_f5bdcc3276', 'id': 'chatcmpl-BVyMjvailupFoAuaErlgbU9HAIGFj', 'service_tier': 'default', 'finish_reason': 'tool_calls', 'logprobs': None}, id='run--37469e66-badf-4770-bfdf-fdb1daed4802-0', tool_calls=[{'name': 'tavily_search_results_json', 'args': {'query': 'India GDP growth 2022-2023'}, 'id': 'call_Vix6c9M1n8vglkw25SrM2mER', 'type': 'tool_call'}], usage_metadata={'input_tokens': 188, 'output_tokens': 27, 'total_tokens': 215, 'input_token_details': {'audio': 0, 'cache_read': 0}, 'output_token_details': {'audio': 0, 'reasoning': 0}}),\n",
       "  ToolMessage(content='[{\"title\": \"second advance estimates of annual gross domestic product ... - PIB\", \"url\": \"https://pib.gov.in/PressReleasePage.aspx?PRID=2106921\", \"content\": \"3.\\xa0\\xa0\\xa0\\xa0\\xa0\\xa0\\xa0\\xa0 The salient features of the revised estimates at aggregate level are given in the paras as follows.\\\\nGross Domestic Product\\\\n4.\\xa0\\xa0\\xa0\\xa0\\xa0\\xa0\\xa0\\xa0 Real GDP or GDP at constant (2011-12) prices for the years 2023-24 and 2022-23 stands at ₹176.51 lakh crore and ₹161.65 lakh crore, respectively, showing a growth of 9.2 per cent during 2023-24 as compared to growth of 7.6 per cent during 2022-23. [...] 5.\\xa0\\xa0\\xa0\\xa0\\xa0\\xa0\\xa0\\xa0 Nominal GDP or GDP at current prices for the year 2023-24 is estimated at ₹301.23 lakh crore, against ₹268.90 lakh crore for the year 2022-23, showing a growth of 12.0 per cent during 2023-24 as compared to growth of 14.0 per cent during 2022-23.\\\\nGVA and its Industry-wise Analysis [...] additional data from State/UT Directorates of Economics and Statistics (DES).3.\\xa0\\xa0\\xa0\\xa0\\xa0\\xa0\\xa0\\xa0 The salient features of the revised estimates at aggregate level are given in the paras as follows.Gross Domestic Product4.\\xa0\\xa0\\xa0\\xa0\\xa0\\xa0\\xa0\\xa0 Real GDP or GDP at constant (2011-12) prices for the years 2023-24 and 2022-23 stands at ₹176.51 lakh crore and ₹161.65 lakh crore, respectively, showing a growth of 9.2 per cent during 2023-24 as compared to growth of 7.6 per cent during 2022-23.5.\\xa0\\xa0\\xa0\\xa0\\xa0\\xa0\\xa0\\xa0 Nominal GDP or GDP at\", \"score\": 0.90810597}, {\"title\": \"GDP Of India: Current And Historical Growth Rate, India\\'s Rank In ...\", \"url\": \"https://www.forbesindia.com/article/explainers/gdp-india/85337/1\", \"content\": \"MOSPI recorded that the Gross Value Added (GVA) grew by 7.2 percent in FY24 over 6.7 percent in 2022-23. In a press release, the government noted that the GVA growth was caused by 9.9 percent growth in the manufacturing sector and 7.1 percent growth in the mining sector in 2023-24.\\\\nRead More\\\\nReal GVA and GDP growth in Q4 have been estimated at 6.3 percent and 7.8 percent, respectively. [...] GDP Statistics\\\\n| Financial Year | GDP | GDP Per Capita (Nominal) | Real GDP (% Change |\\\\n| --- | --- | --- | --- |\\\\n| 2024\\\\n | $3,940.00B* | $2,730 | 7% (Projected)\\\\n |\\\\n| 2023\\\\n | $3,737.00B | $2,610 | 7.2% |\\\\n| 2022 | $3,385.09B | $2,389 | 7.00% |\\\\n| 2021 | $3,150.31B | $2,238 | 9.05% |\\\\n| 2020 | $2,671.60B | $1,913 | -5.83% |\\\\n| 2019 | $2,835.61B | $2,050 | 3.87% |\\\\n| 2018 | $2,702.93B | $1,974 | 6.45% |\\\\n| 2017 | $2,651.47B | $1,958 | 6.80% |\\\\n| 2016 | $2,294.80B | $1,714 | 8.26% |\", \"score\": 0.90039873}, {\"title\": \"Economy of India - Wikipedia\", \"url\": \"https://en.wikipedia.org/wiki/Economy_of_India\", \"content\": \"| 2022 | 13,048.1 | 9,207.2 | 3,389.7 | 2,391.9 | 7.6% | 6.7% | 4.8% | 81.0% |\\\\n| 2023 | 14,619.8 | 10,233.4 | 3,567.5 | 2,497.2 | 9.2% | 5.5% | 4.7% | 81.9% |\\\\n| 2024 | 16,020.0 | 11,111.7 | 3,889.1 | 2,697.6 | 7.0% | 4.6% | n/a | 83.0% |\\\\n| 2025 | 17,364.8 | 11,937.8 | 4,271.9 | 2,936.8 | 6.5% | 4.1% | n/a | 82.6% |\\\\n| 2026 | 18,831.4 | 12,834.6 | 4,710.4 | 3,210.4 | 6.5% | 4.1% | n/a | 81.8% |\\\\n| 2027 | 20,420.1 | 13,801.3 | 5,193.5 | 3,510.1 | 6.5% | 4.0% | n/a | 80.7% | [...] 2022–2023, the Indian economy grew by 13.5%.[182] [...] (2022, IHDI 118th)[14]Corruption Perceptions Index 38 out of 100 points (2024)[15] (rank 96th)Labour force 586 million (2023)[16]49.8% employment rate (2022)[17]Labour force by occupationInfrastructure: 13%[18][19][20]Agriculture: 44%[21]Industry: 28%[22]Services: 34%[23](2023)Unemployment 7.6% (March 2024)[24][25]Final consumption expenditure 70.7% of GDP (2023)[26]Gross capital formation 31% of GDP (2023)[27]Gross savings31.781% of GDP (2023)[28]Yield curve10-year bond 7.190% (Jan\", \"score\": 0.8991304}, {\"title\": \"GDP growth (annual %) - India - World Bank Data\", \"url\": \"https://data.worldbank.org/indicator/NY.GDP.MKTP.KD.ZG?locations=IN\", \"content\": \"Sub-Saharan Africa (excluding high income)\\\\n2023\\\\n2.8\\\\nHigh income\\\\n2023\\\\n1.8\\\\nLow & middle income\\\\n2023\\\\n4.6\\\\nLow income\\\\n2023\\\\n2.2\\\\nLower middle income\\\\n2023\\\\n5.5\\\\nMiddle income\\\\n2023\\\\n4.6\\\\nUpper middle income\\\\n2023\\\\n4.4\\\\nHelp us improve this siteHelp / Feedback [...] Download\\\\nCSVXMLEXCEL\\\\n#### DataBank Explore Our DataBank\\\\n#### WDI Tables Thematic data tables from WDI\\\\nSelected Countries and Economies\\\\nCountry\\\\nMost Recent Year\\\\nMost Recent Value\\\\nIndia\\\\n2023\\\\n8.2\\\\nAll Countries and Economies\\\\nCountry\\\\nMost Recent Year\\\\nMost Recent Value\\\\nAfghanistan\\\\n2023\\\\n2.7\\\\nAlbania\\\\n2023\\\\n3.9\\\\nAlgeria\\\\n2023\\\\n4.1\\\\nAmerican Samoa\\\\n2022\\\\n1.7\\\\nAndorra\\\\n2023\\\\n2.6\\\\nAngola\\\\n2023\\\\n1.0\\\\nAntigua and Barbuda\\\\n2023\\\\n3.9\\\\nArgentina\\\\n2023\\\\n-1.6\\\\nArmenia\\\\n2023\\\\n8.3\\\\nAruba\\\\n2023\\\\n4.3\\\\nAustralia\\\\n2023\\\\n3.4\\\\nAustria\\\\n2023\\\\n-1.0\", \"score\": 0.81133276}, {\"title\": \"India GDP - Worldometer\", \"url\": \"https://www.worldometers.info/gdp/india-gdp/\", \"content\": \"Year | GDP Nominal(Current USD) | GDP Real(Inflation adj.) | GDPChange | GDP percapita | Pop.Change | Population\\\\n2023 | $3,567,550,000,000 | $3,215,970,000,000 | 8.15% | $2,236 | 0.89% | 1,438,069,596\\\\n2022 | $3,353,470,000,000 | $2,973,540,000,000 | 6.99% | $2,086 | 0.79% | 1,425,423,212\\\\n2021 | $3,167,270,000,000 | $2,779,350,000,000 | 9.69% | $1,965 | 0.83% | 1,414,203,896\\\\n2020 | $2,674,850,000,000 | $2,533,830,000,000 | −5.78% | $1,807 | 0.98% | 1,402,617,695\", \"score\": 0.76490957}]', name='tavily_search_results_json', id='ababdbab-c540-4922-802c-fc506cc73a5f', tool_call_id='call_Vix6c9M1n8vglkw25SrM2mER', artifact={'query': 'India GDP growth 2022-2023', 'follow_up_questions': None, 'answer': None, 'images': [], 'results': [{'url': 'https://pib.gov.in/PressReleasePage.aspx?PRID=2106921', 'title': 'second advance estimates of annual gross domestic product ... - PIB', 'content': '3.\\xa0\\xa0\\xa0\\xa0\\xa0\\xa0\\xa0\\xa0 The salient features of the revised estimates at aggregate level are given in the paras as follows.\\nGross Domestic Product\\n4.\\xa0\\xa0\\xa0\\xa0\\xa0\\xa0\\xa0\\xa0 Real GDP or GDP at constant (2011-12) prices for the years 2023-24 and 2022-23 stands at ₹176.51 lakh crore and ₹161.65 lakh crore, respectively, showing a growth of 9.2 per cent during 2023-24 as compared to growth of 7.6 per cent during 2022-23. [...] 5.\\xa0\\xa0\\xa0\\xa0\\xa0\\xa0\\xa0\\xa0 Nominal GDP or GDP at current prices for the year 2023-24 is estimated at ₹301.23 lakh crore, against ₹268.90 lakh crore for the year 2022-23, showing a growth of 12.0 per cent during 2023-24 as compared to growth of 14.0 per cent during 2022-23.\\nGVA and its Industry-wise Analysis [...] additional data from State/UT Directorates of Economics and Statistics (DES).3.\\xa0\\xa0\\xa0\\xa0\\xa0\\xa0\\xa0\\xa0 The salient features of the revised estimates at aggregate level are given in the paras as follows.Gross Domestic Product4.\\xa0\\xa0\\xa0\\xa0\\xa0\\xa0\\xa0\\xa0 Real GDP or GDP at constant (2011-12) prices for the years 2023-24 and 2022-23 stands at ₹176.51 lakh crore and ₹161.65 lakh crore, respectively, showing a growth of 9.2 per cent during 2023-24 as compared to growth of 7.6 per cent during 2022-23.5.\\xa0\\xa0\\xa0\\xa0\\xa0\\xa0\\xa0\\xa0 Nominal GDP or GDP at', 'score': 0.90810597, 'raw_content': None}, {'url': 'https://www.forbesindia.com/article/explainers/gdp-india/85337/1', 'title': \"GDP Of India: Current And Historical Growth Rate, India's Rank In ...\", 'content': 'MOSPI recorded that the Gross Value Added (GVA) grew by 7.2 percent in FY24 over 6.7 percent in 2022-23. In a press release, the government noted that the GVA growth was caused by 9.9 percent growth in the manufacturing sector and 7.1 percent growth in the mining sector in 2023-24.\\nRead More\\nReal GVA and GDP growth in Q4 have been estimated at 6.3 percent and 7.8 percent, respectively. [...] GDP Statistics\\n| Financial Year | GDP | GDP Per Capita (Nominal) | Real GDP (% Change |\\n| --- | --- | --- | --- |\\n| 2024\\n | $3,940.00B* | $2,730 | 7% (Projected)\\n |\\n| 2023\\n | $3,737.00B | $2,610 | 7.2% |\\n| 2022 | $3,385.09B | $2,389 | 7.00% |\\n| 2021 | $3,150.31B | $2,238 | 9.05% |\\n| 2020 | $2,671.60B | $1,913 | -5.83% |\\n| 2019 | $2,835.61B | $2,050 | 3.87% |\\n| 2018 | $2,702.93B | $1,974 | 6.45% |\\n| 2017 | $2,651.47B | $1,958 | 6.80% |\\n| 2016 | $2,294.80B | $1,714 | 8.26% |', 'score': 0.90039873, 'raw_content': None}, {'url': 'https://en.wikipedia.org/wiki/Economy_of_India', 'title': 'Economy of India - Wikipedia', 'content': '| 2022 | 13,048.1 | 9,207.2 | 3,389.7 | 2,391.9 | 7.6% | 6.7% | 4.8% | 81.0% |\\n| 2023 | 14,619.8 | 10,233.4 | 3,567.5 | 2,497.2 | 9.2% | 5.5% | 4.7% | 81.9% |\\n| 2024 | 16,020.0 | 11,111.7 | 3,889.1 | 2,697.6 | 7.0% | 4.6% | n/a | 83.0% |\\n| 2025 | 17,364.8 | 11,937.8 | 4,271.9 | 2,936.8 | 6.5% | 4.1% | n/a | 82.6% |\\n| 2026 | 18,831.4 | 12,834.6 | 4,710.4 | 3,210.4 | 6.5% | 4.1% | n/a | 81.8% |\\n| 2027 | 20,420.1 | 13,801.3 | 5,193.5 | 3,510.1 | 6.5% | 4.0% | n/a | 80.7% | [...] 2022–2023, the Indian economy grew by 13.5%.[182] [...] (2022, IHDI 118th)[14]Corruption Perceptions Index 38 out of 100 points (2024)[15] (rank 96th)Labour force 586 million (2023)[16]49.8% employment rate (2022)[17]Labour force by occupationInfrastructure: 13%[18][19][20]Agriculture: 44%[21]Industry: 28%[22]Services: 34%[23](2023)Unemployment 7.6% (March 2024)[24][25]Final consumption expenditure 70.7% of GDP (2023)[26]Gross capital formation 31% of GDP (2023)[27]Gross savings31.781% of GDP (2023)[28]Yield curve10-year bond 7.190% (Jan', 'score': 0.8991304, 'raw_content': None}, {'url': 'https://data.worldbank.org/indicator/NY.GDP.MKTP.KD.ZG?locations=IN', 'title': 'GDP growth (annual %) - India - World Bank Data', 'content': 'Sub-Saharan Africa (excluding high income)\\n2023\\n2.8\\nHigh income\\n2023\\n1.8\\nLow & middle income\\n2023\\n4.6\\nLow income\\n2023\\n2.2\\nLower middle income\\n2023\\n5.5\\nMiddle income\\n2023\\n4.6\\nUpper middle income\\n2023\\n4.4\\nHelp us improve this siteHelp / Feedback [...] Download\\nCSVXMLEXCEL\\n#### DataBank Explore Our DataBank\\n#### WDI Tables Thematic data tables from WDI\\nSelected Countries and Economies\\nCountry\\nMost Recent Year\\nMost Recent Value\\nIndia\\n2023\\n8.2\\nAll Countries and Economies\\nCountry\\nMost Recent Year\\nMost Recent Value\\nAfghanistan\\n2023\\n2.7\\nAlbania\\n2023\\n3.9\\nAlgeria\\n2023\\n4.1\\nAmerican Samoa\\n2022\\n1.7\\nAndorra\\n2023\\n2.6\\nAngola\\n2023\\n1.0\\nAntigua and Barbuda\\n2023\\n3.9\\nArgentina\\n2023\\n-1.6\\nArmenia\\n2023\\n8.3\\nAruba\\n2023\\n4.3\\nAustralia\\n2023\\n3.4\\nAustria\\n2023\\n-1.0', 'score': 0.81133276, 'raw_content': None}, {'url': 'https://www.worldometers.info/gdp/india-gdp/', 'title': 'India GDP - Worldometer', 'content': 'Year | GDP Nominal(Current USD) | GDP Real(Inflation adj.) | GDPChange | GDP percapita | Pop.Change | Population\\n2023 | $3,567,550,000,000 | $3,215,970,000,000 | 8.15% | $2,236 | 0.89% | 1,438,069,596\\n2022 | $3,353,470,000,000 | $2,973,540,000,000 | 6.99% | $2,086 | 0.79% | 1,425,423,212\\n2021 | $3,167,270,000,000 | $2,779,350,000,000 | 9.69% | $1,965 | 0.83% | 1,414,203,896\\n2020 | $2,674,850,000,000 | $2,533,830,000,000 | −5.78% | $1,807 | 0.98% | 1,402,617,695', 'score': 0.76490957, 'raw_content': None}], 'response_time': 1.65}),\n",
       "  HumanMessage(content=\"Over the last two years, India's GDP growth has shown a positive trend:\\n\\n1. **2022-2023**: India's real GDP grew by 7.6% during this period. The nominal GDP for the year 2022-23 was estimated at ₹268.90 lakh crore, showing a growth of 14.0%.\\n\\n2. **2023-2024**: The real GDP is projected to grow by 9.2% for 2023-24. The nominal GDP is estimated at ₹301.23 lakh crore, reflecting a growth rate of 12.0%.\\n\\nThese figures demonstrate a robust recovery and growth in the Indian economy over these two years. The growth has been supported by strong performances in various sectors, including manufacturing and mining.\", additional_kwargs={}, response_metadata={}, name='researcher', id='fb718242-2c24-4285-b882-1dd3ef505ceb'),\n",
       "  HumanMessage(content=\"The detailed information about India's GDP growth over the last two years has been provided. If you need a visual representation or further analysis, please let me know!\", additional_kwargs={}, response_metadata={}, name='chart_generator', id='bb7ce387-9cfa-42be-88e7-f0a50fff05d2'),\n",
       "  HumanMessage(content=\"FINAL ANSWER: Over the last two years, India's GDP growth has been robust:\\n\\n- For the fiscal year 2022-2023, India's real GDP grew by 7.6%, with the nominal GDP estimated at ₹268.90 lakh crore, reflecting a 14.0% growth.\\n- For 2023-2024, the real GDP is projected to grow by 9.2%, and the nominal GDP is estimated at ₹301.23 lakh crore, with a growth rate of 12.0%.\\n\\nThis indicates a strong economic recovery and growth in various sectors, including manufacturing and mining. If you need a visual representation or further analysis, feel free to ask!\", additional_kwargs={}, response_metadata={}, name='researcher', id='ecb6106a-1701-46ea-8368-f1750b1f2fa5')]}"
      ]
     },
     "execution_count": 27,
     "metadata": {},
     "output_type": "execute_result"
    }
   ],
   "source": [
    "app.invoke({\"messages\": [(\"user\",\"Explain the last 2 years India's GDP growth\")],})\n"
   ]
  },
  {
   "cell_type": "code",
   "execution_count": null,
   "id": "fd3812b3",
   "metadata": {},
   "outputs": [],
   "source": []
  }
 ],
 "metadata": {
  "kernelspec": {
   "display_name": "Agentic-AI",
   "language": "python",
   "name": "python3"
  },
  "language_info": {
   "codemirror_mode": {
    "name": "ipython",
    "version": 3
   },
   "file_extension": ".py",
   "mimetype": "text/x-python",
   "name": "python",
   "nbconvert_exporter": "python",
   "pygments_lexer": "ipython3",
   "version": "3.12.4"
  }
 },
 "nbformat": 4,
 "nbformat_minor": 5
}
