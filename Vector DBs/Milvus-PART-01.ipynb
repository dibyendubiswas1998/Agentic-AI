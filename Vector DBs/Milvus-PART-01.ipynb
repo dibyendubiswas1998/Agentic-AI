{
 "cells": [
  {
   "cell_type": "markdown",
   "id": "3d1e7a19",
   "metadata": {},
   "source": [
    "# **Milvus Vector Database:**"
   ]
  },
  {
   "cell_type": "markdown",
   "id": "3bae3caa",
   "metadata": {},
   "source": [
    "## **Documentation:**\n",
    "\n",
    "\n",
    "### **What Is Milvus?**\n",
    "\n",
    "Milvus is an **open-source vector database** designed for efficient **`storage`**, **`management`**, and **`similarity search`** of high-dimensional embeddings, such as those generated from text, images, or audio. It's widely used in modern AI applications like **`RAG (Retrieval-Augmented Generation)`**, recommendation systems, and semantic search.\n",
    "\n",
    "\n",
    "#### **Core Features & Advantages**\n",
    "\n",
    "* **High Performance & Scalability**:\n",
    "  Milvus supports billions of vectors with real-time performance, thanks to a distributed, cloud-native architecture with compute–storage separation.\n",
    "\n",
    "* **Diverse Index Types**:\n",
    "  Offers a variety of indexing options — like HNSW, IVFFlat, DiskANN, and GPU-accelerated indexes — to balance speed, accuracy, and storage needs.\n",
    "\n",
    "* **Hybrid Search & Metadata Filtering**:\n",
    "  Enables semantic (vector-based) and keyword or metadata filtering in the same query — essential for precise, context-rich retrieval in systems like RAG.\n",
    "\n",
    "* **Flexible Deployment Options**:\n",
    "\n",
    "  * **`Milvus Lite`**: Lightweight, embedded version, ideal for prototyping within a Python environment (**create simple file/db to store all data**).\n",
    "  * **`Standalone`**: Self-hosted single-node setup for testing or small-scale workloads (**single/self-host docker container**).\n",
    "    * **URI:** http://127.0.0.1:9091/webui/\n",
    "  * **`Distributed`**: Full-scale, cloud-native deployment for enterprise use (**docker container with k8s**).\n",
    "  * **`Managed Service (Zilliz Cloud)`**: Fully managed with autoscaling and simplified operations.\n",
    "\n",
    "* **Rich Language & Tool Integration**:\n",
    "  Official SDKs for Python, Java, Go, and community support for .NET enable seamless integration. Milvus also works well with frameworks like **LangChain**, **Haystack**, and **OpenAI**.\n",
    "\n",
    "\n",
    "#### **Get Started with Milvus Lite (Python)**\n",
    "\n",
    "Here's a compact guide to running Milvus in minutes using its lightweight version:\n",
    "\n",
    "```python\n",
    "    from pymilvus import MilvusClient\n",
    "\n",
    "    # 1. Create a local Milvus database\n",
    "    client = MilvusClient(\"milvus_demo.db\")\n",
    "\n",
    "    # 2. Create a collection (like a table) for vectors of dimension 768\n",
    "    client.create_collection(collection_name=\"demo_collection\", dimension=768)\n",
    "\n",
    "    # 3. Insert vector data (e.g., embeddings of text or images)\n",
    "    data = [\n",
    "        {\"id\": 1, \"vector\": [0.1, 0.2, ..., 0.768], \"metadata\": {\"text\": \"Hello World\"}},\n",
    "        # Add more records...\n",
    "    ]\n",
    "    client.insert(collection_name=\"demo_collection\", data=data)\n",
    "\n",
    "    # 4. Perform similarity search\n",
    "    query_vectors = [[...]]  # Query embeddings\n",
    "    results = client.search(\n",
    "        collection_name=\"demo_collection\",\n",
    "        data=query_vectors,\n",
    "        limit=5,\n",
    "        output_fields=[\"vector\", \"metadata\"]\n",
    "    )\n",
    "    print(results)\n",
    "```\n",
    "\n",
    "By following these steps, you can **quickly prototype Milvus** in Jupyter notebooks or Python applications.\n",
    "\n",
    "\n",
    "\n",
    "#### **Why Choose Milvus?**\n",
    "\n",
    "* Designed for **real-world AI workloads** that require vector similarity search at scale.\n",
    "* Exists across a continuum — from **local prototyping** to **distributed production**.\n",
    "* Equipped with **multiple index types and hybrid search**, supporting complex, nuanced queries.\n",
    "* Embraced by a **strong open-source community**, with ongoing enhancements and support.\n",
    "\n",
    "\n",
    "\n",
    "**In short**: Milvus is a robust, scalable, and flexible vector database, perfect for powering the next generation of AI applications — from smart chatbots to personalized recommendations.\n",
    "\n",
    "\n",
    "### **Difference between Milvus and other vector databases:**\n",
    "\n",
    "#### **1. Milvus**\n",
    "\n",
    "* **Type**: Open-source, maintained by Zilliz (with cloud option).\n",
    "* **Strengths**:\n",
    "\n",
    "  * Highly **scalable** (handles billions of vectors).\n",
    "  * Flexible — supports multiple index types (IVF, HNSW, DiskANN, etc.).\n",
    "  * Can be self-hosted or used with **Zilliz Cloud**.\n",
    "  * Integrates well with data lakes and big data pipelines.\n",
    "* **Use case**: Large-scale enterprise RAG, AI search, multimodal embeddings storage.\n",
    "\n",
    "\n",
    "\n",
    "#### **2. Pinecone**\n",
    "\n",
    "* **Type**: Fully managed SaaS.\n",
    "* **Strengths**:\n",
    "\n",
    "  * No infra management (serverless).\n",
    "  * Low-latency search (production-grade).\n",
    "  * Handles automatic scaling.\n",
    "  * Has metadata filtering (filter embeddings by tags, user, domain).\n",
    "* **Limitations**:\n",
    "\n",
    "  * Closed-source (not self-hostable).\n",
    "  * Pricing increases with scale.\n",
    "* **Use case**: Startups/companies that want to quickly build RAG/search **without DevOps hassle**.\n",
    "\n",
    "\n",
    "\n",
    "####  **3. Weaviate**\n",
    "\n",
    "* **Type**: Open-source + SaaS.\n",
    "* **Strengths**:\n",
    "\n",
    "  * Schema-based database (you can define object types).\n",
    "  * Has built-in **hybrid search** (keyword + vector).\n",
    "  * Integrates with Hugging Face / OpenAI to auto-generate embeddings.\n",
    "  * Strong metadata filtering.\n",
    "* **Limitations**:\n",
    "\n",
    "  * More complex schema management.\n",
    "* **Use case**: Semantic + hybrid search (good if you need structured + unstructured search together).\n",
    "\n",
    "\n",
    "\n",
    "#### **4. Chroma**\n",
    "\n",
    "* **Type**: Open-source, lightweight.\n",
    "* **Strengths**:\n",
    "\n",
    "  * Simple Python-first design.\n",
    "  * Easy to integrate with LangChain.\n",
    "* **Limitations**:\n",
    "\n",
    "  * Not designed for **very large scale** (more dev/prototyping).\n",
    "* **Use case**: Quick prototyping RAG apps.\n",
    "\n",
    "\n",
    "\n",
    "#### **5. Qdrant**\n",
    "\n",
    "* **Type**: Open-source + SaaS.\n",
    "* **Strengths**:\n",
    "\n",
    "  * High-performance ANN (Approximate Nearest Neighbor).\n",
    "  * Great support for **filters + metadata**.\n",
    "  * Good distributed support.\n",
    "* **Use case**: Production-grade RAG with filtering, self-hosted or cloud.\n",
    "\n",
    "\n",
    "\n",
    "#### **Comparison Table**\n",
    "\n",
    "| Feature / DB      | Milvus                  | Pinecone             | Weaviate                 | Chroma             | Qdrant                  |\n",
    "| ----------------- | ----------------------- | -------------------- | ------------------------ | ------------------ | ----------------------- |\n",
    "| **Type**          | Open-source + Cloud     | Fully Managed SaaS   | Open-source + SaaS       | Open-source        | Open-source + SaaS      |\n",
    "| **Scale**         | Billions                | Millions to billions | Millions to billions     | Small-medium scale | Millions to billions    |\n",
    "| **Index Options** | IVF, HNSW, DiskANN      | Proprietary ANN      | HNSW                     | HNSW               | HNSW, IVF               |\n",
    "| **Ease of Use**   | Medium (infra needed)   | High (serverless)    | Medium (schema-heavy)    | High (Pythonic)    | Medium                  |\n",
    "| **Best for**      | Enterprises, data-heavy | Quick production use | Semantic + hybrid search | Prototyping        | Production with filters |\n",
    "\n",
    "\n",
    "\n",
    "**In short**:\n",
    "\n",
    "* Use **Pinecone** if you want managed, plug-and-play RAG.\n",
    "* Use **Milvus** if you need **scalable + open-source** with full control.\n",
    "* Use **Weaviate** if you want **hybrid search (text + keyword + filters)**.\n",
    "* Use **Chroma** for **small projects/prototypes**.\n",
    "* Use **Qdrant** for a **balanced open-source + production ready** setup.\n"
   ]
  },
  {
   "cell_type": "code",
   "execution_count": null,
   "id": "e546cf7e",
   "metadata": {},
   "outputs": [],
   "source": []
  },
  {
   "cell_type": "markdown",
   "id": "a69baf76",
   "metadata": {},
   "source": [
    "## **PART 01:**\n",
    "Use LangChain to create a vector database using Milvus Lite/Server\n",
    "\n",
    "\n",
    "* Install Milvus Lite/Server (Use Langchain)\n",
    "* Set up Vector Database\n",
    "* Create Collection\n",
    "* Prepare Data\n",
    "* Insert Data\n",
    "* Upsert Data\n",
    "* Delete Data\n",
    "* Semantic Search\n",
    "* Vector Search with Metadata Filtering\n",
    "* Delete Entities\n",
    "* Load Existing Data\n",
    "* Drop the Collection\n",
    "* Delete Vector Database"
   ]
  },
  {
   "cell_type": "code",
   "execution_count": null,
   "id": "d765907e",
   "metadata": {},
   "outputs": [],
   "source": [
    "# Install necessary Libaries:\n",
    "\n",
    "%pip install -qU langchain-milvus"
   ]
  },
  {
   "cell_type": "markdown",
   "id": "5327f3d1",
   "metadata": {},
   "source": [
    "### **Load LLM & Embedding Model From AZURE-OpenAI:**"
   ]
  },
  {
   "cell_type": "code",
   "execution_count": 6,
   "id": "ec62c344",
   "metadata": {},
   "outputs": [],
   "source": [
    "from langchain_openai import AzureChatOpenAI, AzureOpenAIEmbeddings\n",
    "from dotenv import load_dotenv\n",
    "import os\n",
    "\n",
    "load_dotenv()\n",
    "os.environ['AZURE_OPENAI_ENDPOINT'] = os.getenv(\"AZURE_OPENAI_ENDPOINT\")\n",
    "\n",
    "\n",
    "llm = AzureChatOpenAI(\n",
    "    api_key=os.getenv(\"AZURE_OPENAI_API_KEY\"),\n",
    "    api_version=os.getenv(\"AZURE_API_VERSION\"),\n",
    "    azure_deployment=\"gpt-4o\",\n",
    "    temperature=0.7\n",
    ")\n",
    "\n",
    "embeddings = AzureOpenAIEmbeddings(\n",
    "    api_key=os.getenv(\"AZURE_OPENAI_API_KEY\"),\n",
    "    api_version=os.getenv(\"AZURE_API_VERSION\"),\n",
    "    model=\"text-embedding-3-small\"\n",
    ")"
   ]
  },
  {
   "cell_type": "code",
   "execution_count": 9,
   "id": "d1f98a9d",
   "metadata": {},
   "outputs": [
    {
     "data": {
      "text/plain": [
       "'Hello! 😊 How can I assist you today?'"
      ]
     },
     "execution_count": 9,
     "metadata": {},
     "output_type": "execute_result"
    }
   ],
   "source": [
    "llm.invoke(\"Hi\").content"
   ]
  },
  {
   "cell_type": "code",
   "execution_count": 8,
   "id": "33e460bc",
   "metadata": {},
   "outputs": [
    {
     "data": {
      "text/plain": [
       "1536"
      ]
     },
     "execution_count": 8,
     "metadata": {},
     "output_type": "execute_result"
    }
   ],
   "source": [
    "len(embeddings.embed_query(\"Hi\"))"
   ]
  },
  {
   "cell_type": "code",
   "execution_count": null,
   "id": "59fe6273",
   "metadata": {},
   "outputs": [],
   "source": []
  },
  {
   "cell_type": "markdown",
   "id": "ffefe67a",
   "metadata": {},
   "source": [
    "### **Milvus Server:**\n",
    "\n",
    "When we have a large amount of data (e.g., more than a million vectors), recommend setting up a more performant Milvus server on Docker or Kubernetes. <br>\n",
    "\n",
    "The Milvus server offers support for a **variety of indexes**. Leveraging these different indexes can significantly enhance the retrieval capabilities and expedite the retrieval process, tailored to your specific requirements."
   ]
  },
  {
   "cell_type": "code",
   "execution_count": 10,
   "id": "86574f67",
   "metadata": {},
   "outputs": [],
   "source": [
    "from pymilvus import Collection, MilvusException, connections, db, utility"
   ]
  },
  {
   "cell_type": "code",
   "execution_count": 12,
   "id": "efb7c7c5",
   "metadata": {},
   "outputs": [],
   "source": [
    "# Define the connection parameters for Milvus:\n",
    "\n",
    "conn = connections.connect(host=\"127.0.0.1\", port=19530)"
   ]
  },
  {
   "cell_type": "code",
   "execution_count": 13,
   "id": "d75690b6",
   "metadata": {},
   "outputs": [
    {
     "data": {
      "text/plain": [
       "['default']"
      ]
     },
     "execution_count": 13,
     "metadata": {},
     "output_type": "execute_result"
    }
   ],
   "source": [
    "# Check list of database exists in Milvus:\n",
    "\n",
    "existing_databases = db.list_database()\n",
    "existing_databases"
   ]
  },
  {
   "cell_type": "markdown",
   "id": "8fc159e2",
   "metadata": {},
   "source": [
    "### **Create Milvus Database:**"
   ]
  },
  {
   "cell_type": "code",
   "execution_count": 14,
   "id": "b045943e",
   "metadata": {},
   "outputs": [
    {
     "name": "stdout",
     "output_type": "stream",
     "text": [
      "Database 'milvus_demo' does not exist.\n",
      "Database 'milvus_demo' created successfully.\n"
     ]
    }
   ],
   "source": [
    "from pymilvus import Collection, MilvusException, connections, db, utility\n",
    "\n",
    "conn = connections.connect(host=\"127.0.0.1\", port=19530)\n",
    "\n",
    "# Check if the database exists\n",
    "db_name = \"milvus_demo\"\n",
    "\n",
    "try:\n",
    "    existing_databases = db.list_database()\n",
    "    if db_name in existing_databases:\n",
    "        print(f\"Database '{db_name}' already exists.\")\n",
    "\n",
    "        # Use the database context\n",
    "        db.using_database(db_name)\n",
    "\n",
    "        # Drop all collections in the database\n",
    "        collections = utility.list_collections()\n",
    "        for collection_name in collections:\n",
    "            collection = Collection(name=collection_name)\n",
    "            collection.drop()\n",
    "            print(f\"Collection '{collection_name}' has been dropped.\")\n",
    "\n",
    "        db.drop_database(db_name)\n",
    "        print(f\"Database '{db_name}' has been deleted.\")\n",
    "    \n",
    "    else:\n",
    "        print(f\"Database '{db_name}' does not exist.\")\n",
    "        database = db.create_database(db_name)\n",
    "        print(f\"Database '{db_name}' created successfully.\")\n",
    "        \n",
    "except MilvusException as e:\n",
    "    print(f\"An error occurred: {e}\")"
   ]
  },
  {
   "cell_type": "markdown",
   "id": "c3017c56",
   "metadata": {},
   "source": [
    "### **Create Vector Store instance with the `Milvus` database:**"
   ]
  },
  {
   "cell_type": "code",
   "execution_count": 15,
   "id": "1dccbedc",
   "metadata": {},
   "outputs": [
    {
     "data": {
      "text/plain": [
       "<langchain_milvus.vectorstores.milvus.Milvus at 0x29b2671d010>"
      ]
     },
     "execution_count": 15,
     "metadata": {},
     "output_type": "execute_result"
    }
   ],
   "source": [
    "from langchain_milvus import BM25BuiltInFunction, Milvus\n",
    "\n",
    "URI = \"http://localhost:19530\"\n",
    "db_name = \"milvus_demo\"\n",
    "\n",
    "vectorstore = Milvus(\n",
    "    embedding_function=embeddings,\n",
    "    connection_args={\"uri\": URI, \"token\": \"root:Milvus\", \"db_name\": db_name},\n",
    "    index_params={\"index_type\": \"FLAT\", \"metric_type\": \"L2\"},\n",
    "    consistency_level=\"Strong\",\n",
    "    drop_old=False,  # set to True if seeking to drop the collection with that name if it exists\n",
    ")\n",
    "\n",
    "vectorstore"
   ]
  },
  {
   "cell_type": "markdown",
   "id": "1e5845a2",
   "metadata": {},
   "source": [
    "### **Store unrelated documents in different collections within the same Milvus instance:**"
   ]
  },
  {
   "cell_type": "code",
   "execution_count": 40,
   "id": "d79b6032",
   "metadata": {},
   "outputs": [
    {
     "data": {
      "text/plain": [
       "<langchain_milvus.vectorstores.milvus.Milvus at 0x29b45926d50>"
      ]
     },
     "execution_count": 40,
     "metadata": {},
     "output_type": "execute_result"
    }
   ],
   "source": [
    "from langchain_core.documents import Document\n",
    "\n",
    "\n",
    "documents = Document(\n",
    "    metadata={\n",
    "        'source': 'raw/k8_science.pdf',\n",
    "        'file_path': 'raw/k8_science.pdf',\n",
    "        'page': 10,\n",
    "        'total_pages': 182,\n",
    "        'Title': 'Chapter-1.pmd',\n",
    "        'Author': 'NCERT',\n",
    "        'Creator': 'PageMaker 7.0',\n",
    "        'CreationDate': 'D:20171130101551',\n",
    "        'ModDate': 'D:20240623043247Z'\n",
    "    },\n",
    "    page_content=\"\"\"from the chaff. This process is called\\nHarvest Festivals\\nthreshing. This is carried out with the\\nAfter three or four months of hard\\nhelp of a machine called ‘combine’ which\\nwork there comes the day of the\\nis in fact a harvester as well as a thresher\\nharvest. The sight of golden fields\\n(Fig. 1.8).\\nof standing crop, laden with grain,\\nfills the hearts of farmers with joy\\nand a sense of well-being. The\\nefforts of the past season have\\nborne fruit and it is time to relax\\nand enjoy a little. The period of\\nharvest is, thus, of great joy and\\nhappiness in all parts of India.\\nMen and women celebrate it with\\ngreat enthusiasm. Special\\nfestivals associated with the\\nharvest season are Pongal,\\nBaisakhi, Holi, Diwali, Nabanya\\nand Bihu.\\nFig. 1.8 : Combine\\n1.9Storage\\nAfter harvesting, sometimes\\nStorage of produce is an important task.\\nstubs are left in the field, which\\nIf the harvested grains are to be kept\\nare burnt by farmers. Paheli is\\nfor longer time, they should be safe\\nworried. She knows that it\\ncauses pollution. It may also from moisture, insects, rats and\\ncatch fire and damage the crops microorganisms. Harvested grains have\\nlying in the fields. more moisture. If freshly harvested\\ngrains (seeds) are stored without drying,\\nFarmers with small holdings of land\\nthey may get spoilt or attacked by\\ndo the separation of grain and chaff by\\norganisms, making them unfit for use\\nwinnowing (Fig. 1.9). You have already\\nor for germination. Hence, before\\nstudied this in Class VI.\\nstoring them, the grains are properly\\ndried in the sun to reduce the moisture\\nin them. This prevents the attack by\\ninsect pests, bacteria and fungi.\\nI saw my mother putting\\nsome dried neem leaves\\nin an iron drum\\ncontaining wheat.\\nI wonder why?\\nFig. 1.9 : Winnowing machine\\nCROP PRODUCTION AND MANAGEMENT 11\\n2024-25\\n\"\"\"\n",
    ")\n",
    "\n",
    "\n",
    "\n",
    "vector_store = Milvus.from_documents(\n",
    "    documents=[documents],\n",
    "    embedding=embeddings,\n",
    "    connection_args={\"uri\": URI, \"token\": \"root:Milvus\", \"db_name\": \"milvus_demo\"},\n",
    "    index_params={\"index_type\": \"FLAT\", \"metric_type\": \"L2\"},\n",
    "    consistency_level=\"Strong\",\n",
    "    drop_old=False,\n",
    ")\n",
    "\n",
    "vector_store"
   ]
  },
  {
   "cell_type": "markdown",
   "id": "6d5dbffe",
   "metadata": {},
   "source": [
    "Here, I created the vectorstore, now we can interact with it by adding and deleting different items."
   ]
  },
  {
   "cell_type": "markdown",
   "id": "5ca27725",
   "metadata": {},
   "source": [
    "### **Add items to vector store:**"
   ]
  },
  {
   "cell_type": "code",
   "execution_count": 41,
   "id": "0aad54b4",
   "metadata": {},
   "outputs": [],
   "source": [
    "from uuid import uuid4\n",
    "from langchain_core.documents import Document"
   ]
  },
  {
   "cell_type": "code",
   "execution_count": 44,
   "id": "9b4abc4c",
   "metadata": {},
   "outputs": [],
   "source": [
    "# Get the Documents:\n",
    "\n",
    "document_1 = Document(\n",
    "    page_content=\"I had chocolate chip pancakes and scrambled eggs for breakfast this morning.\",\n",
    "    metadata={\n",
    "        'source': 'raw/k8_science.pdf',\n",
    "        'file_path': 'raw/k8_science.pdf',\n",
    "        'page': 10,\n",
    "        'total_pages': 182,\n",
    "        'Title': 'Chapter-1.pmd',\n",
    "        'Author': 'NCERT',\n",
    "        'Creator': 'PageMaker 7.0',\n",
    "        'CreationDate': 'D:20171130101551',\n",
    "        'ModDate': 'D:20240623043247Z'\n",
    "    },\n",
    ")\n",
    "\n",
    "document_2 = Document(\n",
    "    page_content=\"The weather forecast for tomorrow is cloudy and overcast, with a high of 62 degrees.\",\n",
    "    metadata={\n",
    "        'source': 'raw/k8_science.pdf',\n",
    "        'file_path': 'raw/k8_science.pdf',\n",
    "        'page': 10,\n",
    "        'total_pages': 182,\n",
    "        'Title': 'Chapter-1.pmd',\n",
    "        'Author': 'NCERT',\n",
    "        'Creator': 'PageMaker 7.0',\n",
    "        'CreationDate': 'D:20171130101551',\n",
    "        'ModDate': 'D:20240623043247Z'\n",
    "    },\n",
    ")\n",
    "\n",
    "document_3 = Document(\n",
    "    page_content=\"Building an exciting new project with LangChain - come check it out!\",\n",
    "    metadata={\n",
    "        'source': 'raw/k8_science.pdf',\n",
    "        'file_path': 'raw/k8_science.pdf',\n",
    "        'page': 10,\n",
    "        'total_pages': 182,\n",
    "        'Title': 'Chapter-1.pmd',\n",
    "        'Author': 'NCERT',\n",
    "        'Creator': 'PageMaker 7.0',\n",
    "        'CreationDate': 'D:20171130101551',\n",
    "        'ModDate': 'D:20240623043247Z'\n",
    "    },\n",
    ")\n",
    "\n",
    "document_4 = Document(\n",
    "    page_content=\"Robbers broke into the city bank and stole $1 million in cash.\",\n",
    "    metadata={\n",
    "        'source': 'raw/k8_science.pdf',\n",
    "        'file_path': 'raw/k8_science.pdf',\n",
    "        'page': 10,\n",
    "        'total_pages': 182,\n",
    "        'Title': 'Chapter-1.pmd',\n",
    "        'Author': 'NCERT',\n",
    "        'Creator': 'PageMaker 7.0',\n",
    "        'CreationDate': 'D:20171130101551',\n",
    "        'ModDate': 'D:20240623043247Z'\n",
    "    },\n",
    ")\n",
    "\n",
    "document_5 = Document(\n",
    "    page_content=\"Wow! That was an amazing movie. I can't wait to see it again.\",\n",
    "    metadata={\n",
    "        'source': 'raw/k8_science.pdf',\n",
    "        'file_path': 'raw/k8_science.pdf',\n",
    "        'page': 10,\n",
    "        'total_pages': 182,\n",
    "        'Title': 'Chapter-1.pmd',\n",
    "        'Author': 'NCERT',\n",
    "        'Creator': 'PageMaker 7.0',\n",
    "        'CreationDate': 'D:20171130101551',\n",
    "        'ModDate': 'D:20240623043247Z'\n",
    "    },\n",
    ")\n",
    "\n",
    "document_6 = Document(\n",
    "    page_content=\"Is the new iPhone worth the price? Read this review to find out.\",\n",
    "    metadata={\n",
    "        'source': 'raw/k8_science.pdf',\n",
    "        'file_path': 'raw/k8_science.pdf',\n",
    "        'page': 10,\n",
    "        'total_pages': 182,\n",
    "        'Title': 'Chapter-1.pmd',\n",
    "        'Author': 'NCERT',\n",
    "        'Creator': 'PageMaker 7.0',\n",
    "        'CreationDate': 'D:20171130101551',\n",
    "        'ModDate': 'D:20240623043247Z'\n",
    "    },\n",
    ")\n",
    "\n",
    "document_7 = Document(\n",
    "    page_content=\"The top 10 soccer players in the world right now.\",\n",
    "    metadata={\n",
    "        'source': 'raw/k8_science.pdf',\n",
    "        'file_path': 'raw/k8_science.pdf',\n",
    "        'page': 10,\n",
    "        'total_pages': 182,\n",
    "        'Title': 'Chapter-1.pmd',\n",
    "        'Author': 'NCERT',\n",
    "        'Creator': 'PageMaker 7.0',\n",
    "        'CreationDate': 'D:20171130101551',\n",
    "        'ModDate': 'D:20240623043247Z'\n",
    "    },\n",
    ")\n",
    "\n",
    "document_8 = Document(\n",
    "    page_content=\"LangGraph is the best framework for building stateful, agentic applications!\",\n",
    "    metadata={\n",
    "        'source': 'raw/k8_science.pdf',\n",
    "        'file_path': 'raw/k8_science.pdf',\n",
    "        'page': 10,\n",
    "        'total_pages': 182,\n",
    "        'Title': 'Chapter-1.pmd',\n",
    "        'Author': 'NCERT',\n",
    "        'Creator': 'PageMaker 7.0',\n",
    "        'CreationDate': 'D:20171130101551',\n",
    "        'ModDate': 'D:20240623043247Z'\n",
    "    },\n",
    ")\n",
    "\n",
    "document_9 = Document(\n",
    "    page_content=\"The stock market is down 500 points today due to fears of a recession.\",\n",
    "    metadata={\n",
    "        'source': 'raw/k8_science.pdf',\n",
    "        'file_path': 'raw/k8_science.pdf',\n",
    "        'page': 10,\n",
    "        'total_pages': 182,\n",
    "        'Title': 'Chapter-1.pmd',\n",
    "        'Author': 'NCERT',\n",
    "        'Creator': 'PageMaker 7.0',\n",
    "        'CreationDate': 'D:20171130101551',\n",
    "        'ModDate': 'D:20240623043247Z'\n",
    "    },\n",
    ")\n",
    "\n",
    "document_10 = Document(\n",
    "    page_content=\"I have a bad feeling I am going to get deleted :(\",\n",
    "    metadata={\n",
    "        'source': 'raw/k8_science.pdf',\n",
    "        'file_path': 'raw/k8_science.pdf',\n",
    "        'page': 10,\n",
    "        'total_pages': 182,\n",
    "        'Title': 'Chapter-1.pmd',\n",
    "        'Author': 'NCERT',\n",
    "        'Creator': 'PageMaker 7.0',\n",
    "        'CreationDate': 'D:20171130101551',\n",
    "        'ModDate': 'D:20240623043247Z'\n",
    "    },\n",
    ")"
   ]
  },
  {
   "cell_type": "code",
   "execution_count": 45,
   "id": "b1f0c762",
   "metadata": {},
   "outputs": [
    {
     "name": "stderr",
     "output_type": "stream",
     "text": [
      "The ids parameter is ignored when auto_id is True. The ids will be generated automatically.\n"
     ]
    },
    {
     "data": {
      "text/plain": [
       "[460242899926532017,\n",
       " 460242899926532018,\n",
       " 460242899926532019,\n",
       " 460242899926532020,\n",
       " 460242899926532021,\n",
       " 460242899926532022,\n",
       " 460242899926532023,\n",
       " 460242899926532024,\n",
       " 460242899926532025,\n",
       " 460242899926532026]"
      ]
     },
     "execution_count": 45,
     "metadata": {},
     "output_type": "execute_result"
    }
   ],
   "source": [
    "# Add Documents:\n",
    "\n",
    "documents = [\n",
    "    document_1,\n",
    "    document_2,\n",
    "    document_3,\n",
    "    document_4,\n",
    "    document_5,\n",
    "    document_6,\n",
    "    document_7,\n",
    "    document_8,\n",
    "    document_9,\n",
    "    document_10,\n",
    "]\n",
    "uuids = [str(uuid4()) for _ in range(len(documents))]\n",
    "\n",
    "vector_store.add_documents(documents=documents, ids=uuids)"
   ]
  },
  {
   "cell_type": "markdown",
   "id": "ba7f0c29",
   "metadata": {},
   "source": [
    "### **Delete items from vector store:**"
   ]
  },
  {
   "cell_type": "code",
   "execution_count": 48,
   "id": "5c34e97b",
   "metadata": {},
   "outputs": [
    {
     "data": {
      "text/plain": [
       "True"
      ]
     },
     "execution_count": 48,
     "metadata": {},
     "output_type": "execute_result"
    }
   ],
   "source": [
    "vector_store.delete(ids=[101])"
   ]
  },
  {
   "cell_type": "markdown",
   "id": "e313f4d1",
   "metadata": {},
   "source": [
    "### **Query vector store:**"
   ]
  },
  {
   "cell_type": "code",
   "execution_count": 49,
   "id": "1b50c829",
   "metadata": {},
   "outputs": [
    {
     "data": {
      "text/plain": [
       "[Document(metadata={'file_path': 'raw/k8_science.pdf', 'Title': 'Chapter-1.pmd', 'Creator': 'PageMaker 7.0', 'total_pages': 182, 'source': 'raw/k8_science.pdf', 'CreationDate': 'D:20171130101551', 'ModDate': 'D:20240623043247Z', 'page': 10, 'Author': 'NCERT', 'pk': 460242899926532019}, page_content='Building an exciting new project with LangChain - come check it out!'),\n",
       " Document(metadata={'file_path': 'raw/k8_science.pdf', 'Title': 'Chapter-1.pmd', 'Creator': 'PageMaker 7.0', 'total_pages': 182, 'source': 'raw/k8_science.pdf', 'CreationDate': 'D:20171130101551', 'ModDate': 'D:20240623043247Z', 'page': 10, 'Author': 'NCERT', 'pk': 460242899926532024}, page_content='LangGraph is the best framework for building stateful, agentic applications!')]"
      ]
     },
     "execution_count": 49,
     "metadata": {},
     "output_type": "execute_result"
    }
   ],
   "source": [
    "# Similarity search:\n",
    "\n",
    "results = vector_store.similarity_search(\n",
    "    \"LangChain provides abstractions to make working with LLMs easy\",\n",
    "    k=2\n",
    ")\n",
    "\n",
    "results"
   ]
  },
  {
   "cell_type": "code",
   "execution_count": 52,
   "id": "d57b2928",
   "metadata": {},
   "outputs": [
    {
     "data": {
      "text/plain": [
       "[]"
      ]
     },
     "execution_count": 52,
     "metadata": {},
     "output_type": "execute_result"
    }
   ],
   "source": [
    "# Similarity search by metadata filter:\n",
    "\n",
    "results = vector_store.similarity_search(\n",
    "    \"LangChain provides abstractions to make working with LLMs easy\",\n",
    "    k=2,\n",
    "    expr='Title == \"LangChain\"'\n",
    ")\n",
    "\n",
    "results"
   ]
  },
  {
   "cell_type": "code",
   "execution_count": 53,
   "id": "90290bb6",
   "metadata": {},
   "outputs": [
    {
     "data": {
      "text/plain": [
       "[Document(metadata={'Creator': 'PageMaker 7.0', 'Author': 'NCERT', 'source': 'raw/k8_science.pdf', 'CreationDate': 'D:20171130101551', 'file_path': 'raw/k8_science.pdf', 'page': 10, 'ModDate': 'D:20240623043247Z', 'total_pages': 182, 'Title': 'Chapter-1.pmd', 'pk': 460242899926532019}, page_content='Building an exciting new project with LangChain - come check it out!'),\n",
       " Document(metadata={'Creator': 'PageMaker 7.0', 'Author': 'NCERT', 'source': 'raw/k8_science.pdf', 'CreationDate': 'D:20171130101551', 'file_path': 'raw/k8_science.pdf', 'page': 10, 'ModDate': 'D:20240623043247Z', 'total_pages': 182, 'Title': 'Chapter-1.pmd', 'pk': 460242899926532024}, page_content='LangGraph is the best framework for building stateful, agentic applications!')]"
      ]
     },
     "execution_count": 53,
     "metadata": {},
     "output_type": "execute_result"
    }
   ],
   "source": [
    "# Similarity search by metadata filter:\n",
    "\n",
    "results = vector_store.similarity_search(\n",
    "    \"LangChain provides abstractions to make working with LLMs easy\",\n",
    "    k=2,\n",
    "    expr='Title == \"Chapter-1.pmd\"'\n",
    ")\n",
    "\n",
    "results"
   ]
  },
  {
   "cell_type": "code",
   "execution_count": 54,
   "id": "468872d3",
   "metadata": {},
   "outputs": [
    {
     "data": {
      "text/plain": [
       "[(Document(metadata={'page': 10, 'source': 'raw/k8_science.pdf', 'Author': 'NCERT', 'file_path': 'raw/k8_science.pdf', 'total_pages': 182, 'Creator': 'PageMaker 7.0', 'CreationDate': 'D:20171130101551', 'ModDate': 'D:20240623043247Z', 'Title': 'Chapter-1.pmd', 'pk': 460242899926532019}, page_content='Building an exciting new project with LangChain - come check it out!'),\n",
       "  1.143980860710144)]"
      ]
     },
     "execution_count": 54,
     "metadata": {},
     "output_type": "execute_result"
    }
   ],
   "source": [
    "# Similarity search with score:\n",
    "\n",
    "results = vector_store.similarity_search_with_score(\n",
    "    \"LangChain provides abstractions to make working with LLMs easy\",\n",
    "    k=1,\n",
    "    expr='Title == \"Chapter-1.pmd\"'\n",
    ")\n",
    "\n",
    "results"
   ]
  },
  {
   "cell_type": "markdown",
   "id": "d8ad98ba",
   "metadata": {},
   "source": [
    "### **Query by turning into retriever:**"
   ]
  },
  {
   "cell_type": "code",
   "execution_count": 58,
   "id": "7e7325cb",
   "metadata": {},
   "outputs": [
    {
     "data": {
      "text/plain": [
       "[Document(metadata={'total_pages': 182, 'file_path': 'raw/k8_science.pdf', 'Author': 'NCERT', 'CreationDate': 'D:20171130101551', 'source': 'raw/k8_science.pdf', 'Creator': 'PageMaker 7.0', 'ModDate': 'D:20240623043247Z', 'Title': 'Chapter-1.pmd', 'page': 10, 'pk': 460242899926532020}, page_content='Robbers broke into the city bank and stole $1 million in cash.')]"
      ]
     },
     "execution_count": 58,
     "metadata": {},
     "output_type": "execute_result"
    }
   ],
   "source": [
    "retriever = vector_store.as_retriever(search_type=\"mmr\", search_kwargs={\"k\": 1})\n",
    "\n",
    "retriever.invoke(\"Stealing from the bank is a crime\")"
   ]
  },
  {
   "cell_type": "code",
   "execution_count": 61,
   "id": "e40ca3c2",
   "metadata": {},
   "outputs": [
    {
     "data": {
      "text/plain": [
       "[Document(metadata={'Title': 'Chapter-1.pmd', 'CreationDate': 'D:20171130101551', 'page': 10, 'file_path': 'raw/k8_science.pdf', 'ModDate': 'D:20240623043247Z', 'source': 'raw/k8_science.pdf', 'total_pages': 182, 'Author': 'NCERT', 'Creator': 'PageMaker 7.0', 'pk': 460242899926532020}, page_content='Robbers broke into the city bank and stole $1 million in cash.')]"
      ]
     },
     "execution_count": 61,
     "metadata": {},
     "output_type": "execute_result"
    }
   ],
   "source": [
    "# by metadata filter:\n",
    "\n",
    "retriever = vector_store.as_retriever(\n",
    "    search_type=\"mmr\",\n",
    "    search_kwargs={\n",
    "        \"k\": 1,\n",
    "        \"expr\": 'Title == \"Chapter-1.pmd\"'   # use expr here\n",
    "    }\n",
    ")\n",
    "\n",
    "results = retriever.invoke(\"Stealing from the bank is a crime\")\n",
    "results"
   ]
  },
  {
   "cell_type": "code",
   "execution_count": null,
   "id": "9592ab6f",
   "metadata": {},
   "outputs": [],
   "source": []
  },
  {
   "cell_type": "markdown",
   "id": "3db3fc94",
   "metadata": {},
   "source": [
    "### **Hybrid Search:**\n",
    "\n",
    "The most common hybrid search scenario is the **`dense`** + **`sparse hybrid search`**, where candidates are retrieved using both semantic vector similarity and precise keyword matching. Results from these methods are **`merged`**, **`reranked`**, and **`passed to an LLM`** to generate the final answer. This approach balances precision and semantic understanding, making it highly effective for diverse query scenarios."
   ]
  },
  {
   "cell_type": "code",
   "execution_count": 62,
   "id": "5e86983b",
   "metadata": {},
   "outputs": [],
   "source": [
    "from langchain_milvus import BM25BuiltInFunction, Milvus"
   ]
  },
  {
   "cell_type": "code",
   "execution_count": 63,
   "id": "0bc03c1a",
   "metadata": {},
   "outputs": [
    {
     "data": {
      "text/plain": [
       "<langchain_milvus.vectorstores.milvus.Milvus at 0x29b57d40910>"
      ]
     },
     "execution_count": 63,
     "metadata": {},
     "output_type": "execute_result"
    }
   ],
   "source": [
    "hybrid_vector_store = Milvus.from_documents(\n",
    "    documents=documents,\n",
    "    embedding=embeddings,\n",
    "    builtin_function=BM25BuiltInFunction(),\n",
    "    # `dense` is for OpenAI embeddings, `sparse` is the output field of BM25 function\n",
    "    vector_field=[\"dense\", \"sparse\"],\n",
    "    connection_args={\n",
    "        \"uri\": URI,\n",
    "    },\n",
    "    collection_name='my_collection',\n",
    "    consistency_level=\"Strong\",\n",
    "    drop_old=False,\n",
    ")\n",
    "\n",
    "hybrid_vector_store"
   ]
  },
  {
   "cell_type": "code",
   "execution_count": 64,
   "id": "36a4fbef",
   "metadata": {},
   "outputs": [
    {
     "data": {
      "text/plain": [
       "[Document(metadata={'file_path': 'raw/k8_science.pdf', 'source': 'raw/k8_science.pdf', 'total_pages': 182, 'Author': 'NCERT', 'Creator': 'PageMaker 7.0', 'page': 10, 'CreationDate': 'D:20171130101551', 'ModDate': 'D:20240623043247Z', 'Title': 'Chapter-1.pmd', 'pk': 460242899926532030}, page_content='Building an exciting new project with LangChain - come check it out!'),\n",
       " Document(metadata={'file_path': 'raw/k8_science.pdf', 'source': 'raw/k8_science.pdf', 'total_pages': 182, 'Author': 'NCERT', 'Creator': 'PageMaker 7.0', 'page': 10, 'CreationDate': 'D:20171130101551', 'ModDate': 'D:20240623043247Z', 'Title': 'Chapter-1.pmd', 'pk': 460242899926532033}, page_content='Is the new iPhone worth the price? Read this review to find out.'),\n",
       " Document(metadata={'file_path': 'raw/k8_science.pdf', 'source': 'raw/k8_science.pdf', 'total_pages': 182, 'Author': 'NCERT', 'Creator': 'PageMaker 7.0', 'page': 10, 'CreationDate': 'D:20171130101551', 'ModDate': 'D:20240623043247Z', 'Title': 'Chapter-1.pmd', 'pk': 460242899926532035}, page_content='LangGraph is the best framework for building stateful, agentic applications!')]"
      ]
     },
     "execution_count": 64,
     "metadata": {},
     "output_type": "execute_result"
    }
   ],
   "source": [
    "# Rerank:\n",
    "\n",
    "query = \"What is LangChain?\"\n",
    "\n",
    "result = hybrid_vector_store.similarity_search(\n",
    "    query=query,\n",
    "    k=3,\n",
    "    ranker_type=\"weighted\", \n",
    "    ranker_params={\"weights\": [0.6, 0.4]}\n",
    ")\n",
    "\n",
    "result"
   ]
  },
  {
   "cell_type": "code",
   "execution_count": 66,
   "id": "8a8764fb",
   "metadata": {},
   "outputs": [
    {
     "data": {
      "text/plain": [
       "{'file_path': 'raw/k8_science.pdf',\n",
       " 'source': 'raw/k8_science.pdf',\n",
       " 'total_pages': 182,\n",
       " 'Author': 'NCERT',\n",
       " 'Creator': 'PageMaker 7.0',\n",
       " 'page': 10,\n",
       " 'CreationDate': 'D:20171130101551',\n",
       " 'ModDate': 'D:20240623043247Z',\n",
       " 'Title': 'Chapter-1.pmd',\n",
       " 'pk': 460242899926532030}"
      ]
     },
     "execution_count": 66,
     "metadata": {},
     "output_type": "execute_result"
    }
   ],
   "source": [
    "result[0].metadata"
   ]
  },
  {
   "cell_type": "code",
   "execution_count": null,
   "id": "d33438c2",
   "metadata": {},
   "outputs": [],
   "source": []
  },
  {
   "cell_type": "code",
   "execution_count": null,
   "id": "58d9cfbe",
   "metadata": {},
   "outputs": [],
   "source": []
  }
 ],
 "metadata": {
  "kernelspec": {
   "display_name": "be-askeagle",
   "language": "python",
   "name": "python3"
  },
  "language_info": {
   "codemirror_mode": {
    "name": "ipython",
    "version": 3
   },
   "file_extension": ".py",
   "mimetype": "text/x-python",
   "name": "python",
   "nbconvert_exporter": "python",
   "pygments_lexer": "ipython3",
   "version": "3.13.3"
  }
 },
 "nbformat": 4,
 "nbformat_minor": 5
}
